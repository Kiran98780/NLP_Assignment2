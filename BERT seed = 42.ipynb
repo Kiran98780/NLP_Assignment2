{
  "nbformat": 4,
  "nbformat_minor": 0,
  "metadata": {
    "colab": {
      "name": "Seed = 42 BERT - Sorted Replies_Test Predictions(New)",
      "provenance": [],
      "collapsed_sections": []
    },
    "kernelspec": {
      "name": "python3",
      "display_name": "Python 3"
    },
    "accelerator": "GPU"
  },
  "cells": [
    {
      "cell_type": "markdown",
      "metadata": {
        "id": "MstNuBjkCGsG"
      },
      "source": [
        "# Step 1 - Mount drive\n",
        "Mount your google drive which has the training, test and dev jsonlfiles and labels"
      ]
    },
    {
      "cell_type": "code",
      "metadata": {
        "colab": {
          "base_uri": "https://localhost:8080/"
        },
        "id": "ouuno_uYZkxa",
        "outputId": "d4d2abdc-320a-4f77-a402-938dd35e0f0d"
      },
      "source": [
        "from google.colab import drive\n",
        "drive.mount('/content/drive')"
      ],
      "execution_count": null,
      "outputs": [
        {
          "output_type": "stream",
          "text": [
            "Drive already mounted at /content/drive; to attempt to forcibly remount, call drive.mount(\"/content/drive\", force_remount=True).\n"
          ],
          "name": "stdout"
        }
      ]
    },
    {
      "cell_type": "code",
      "metadata": {
        "colab": {
          "base_uri": "https://localhost:8080/"
        },
        "id": "LHZ0vJLqZwKH",
        "outputId": "8aa318b4-ca39-4137-b9d8-f803d5c8abb7"
      },
      "source": [
        "%cd /content/drive/My Drive/NLP_data"
      ],
      "execution_count": null,
      "outputs": [
        {
          "output_type": "stream",
          "text": [
            "/content/drive/My Drive/NLP_data\n"
          ],
          "name": "stdout"
        }
      ]
    },
    {
      "cell_type": "code",
      "metadata": {
        "colab": {
          "base_uri": "https://localhost:8080/"
        },
        "id": "WxMCKPVZZ2Gp",
        "outputId": "64ab0edb-b3b2-471d-9076-9e1aa52d14f5"
      },
      "source": [
        "%ls"
      ],
      "execution_count": null,
      "outputs": [
        {
          "output_type": "stream",
          "text": [
            "couchdb_local.json\n",
            "dev.baseline1.json\n",
            "dev.baseline_bert2.json\n",
            "dev.baseline_bert6.json\n",
            "dev.baseline_bertF11.json\n",
            "dev.baseline_bertF1.json\n",
            "dev.data.jsonl\n",
            "dev.label.json\n",
            "finetuned_BERT_epoch_0_seed42_new.model\n",
            "finetuned_BERT_epoch_1_seed42_new.model\n",
            "finetuned_BERT_epoch_2_seed42_new.model\n",
            "firstthree.jsonl\n",
            "sstcls_0.dat\n",
            "sstcls_3.dat\n",
            "sstcls_6.dat\n",
            "test.baseline_bertF1.json\n",
            "test.data.jsonl\n",
            "train.data.jsonl\n",
            "train.label.json\n"
          ],
          "name": "stdout"
        }
      ]
    },
    {
      "cell_type": "markdown",
      "metadata": {
        "id": "slO_rmYgwmmE"
      },
      "source": [
        "# Step 2 - Setup"
      ]
    },
    {
      "cell_type": "markdown",
      "metadata": {
        "id": "31OW0dhozvli"
      },
      "source": [
        "## 1. Load Essential Libraries"
      ]
    },
    {
      "cell_type": "code",
      "metadata": {
        "id": "_lTXsMK3sNYr"
      },
      "source": [
        "import os\n",
        "import re\n",
        "from tqdm import tqdm\n",
        "import numpy as np\n",
        "import pandas as pd\n",
        "import matplotlib.pyplot as plt\n",
        "from datetime import datetime\n",
        "import time\n",
        "import collections\n",
        "import json\n",
        "from sklearn import preprocessing\n",
        "\n",
        "%matplotlib inline"
      ],
      "execution_count": null,
      "outputs": []
    },
    {
      "cell_type": "markdown",
      "metadata": {
        "id": "u07WRKnxsX96"
      },
      "source": [
        "# 2. Load Dataset"
      ]
    },
    {
      "cell_type": "code",
      "metadata": {
        "id": "QK07OJ21IS9Y"
      },
      "source": [
        "#function to return the replies as a list for a source tweet \n",
        "def get_replies(df):\n",
        "    dict_time = {}\n",
        "    # rows = df.loc[\"Utah Jazz\"]\n",
        "    for index, row in df.iterrows():\n",
        "        #check if the in_reply_to_status_id_str string matches a number\n",
        "        x = re.search(r'\\d+', str(row['in_reply_to_status_id_str']))  \n",
        "        if x:\n",
        "            \n",
        "            #append the reply tweets in a big_list and return the list\n",
        "            big_list.append(row[\"tweet\"]) \n",
        "            #if the tweets are created at the same time - append it to existing list\n",
        "            if (row[\"created_at\"] in dict_time):\n",
        "                # print(\"True\")\n",
        "                value = dict_time.get(row[\"created_at\"])\n",
        "                value.append(row[\"tweet\"])\n",
        "                dict_time[row[\"created_at\"]] = value\n",
        "                # print(replyTw_list)\n",
        "            else:\n",
        "                replyTw_list = []\n",
        "                replyTw_list.append(row[\"tweet\"])\n",
        "                # print(replyTw_list) \n",
        "                dict_time[row[\"created_at\"]] = replyTw_list\n",
        "            # print(dict_time)\n",
        "        else:\n",
        "            big_list = []\n",
        "    #returns the list of replies for a source tweet, length of the reply list and dict of {created_at_Time:reply_tweet}\n",
        "    # print(big_list, dict_time)\n",
        "    return big_list,len(big_list),dict_time \n",
        "#function to return the list of reply tweets sorted by time for all source tweets\n",
        "#takes the list of dictionaries as a parameter of the form [{created_At_time1:[tweet1, tweet2]},{created_At_time2:[tweet3]}]\n",
        "def get_sorted_by_time(dict_replies_list):\n",
        "    sorted_list = []\n",
        "    for i in range(len(dict_replies_list)):\n",
        "        # dtime = 'Mon Dec 15 21:50:30 +0000 2014'\n",
        "        newkeys_list = []\n",
        "        for k, v in dict_replies_list[i].items():  \n",
        "            new_datetime = datetime.strftime(datetime.strptime(k,'%a %b %d %H:%M:%S +0000 %Y'), '%Y-%m-%d %H:%M:%S') \n",
        "            date_to_float = datetime.fromisoformat(new_datetime).timestamp()#1420646211.0\n",
        "            newkeys_list.append(date_to_float) #list of keys for the new dictionary \n",
        "            vals = list(dict_replies_list[i].values()) #list of values for the new dictionary \n",
        "        newdictionary = {k: v for k, v in zip(newkeys_list, vals)} #zip the keys and values to form a new dictionary \n",
        "        od = collections.OrderedDict(sorted(newdictionary.items()))\n",
        "#         print(\"DICT KEYS AFTER SORtiNG:\\n\", od.keys(), len(od))\n",
        "#         print(\"DICT KEYS AFTER SORtiNG:\\n\", newdictionary.keys(), len(newdictionary),\"\\n Values:\\n\",newdictionary.values())\n",
        "        sorted_list.append(od)\n",
        "    # print(\"The length of sorted list is = \", len(sorted_list))\n",
        "    return sorted_list"
      ],
      "execution_count": null,
      "outputs": []
    },
    {
      "cell_type": "code",
      "metadata": {
        "id": "sPNSwVPdrtZv"
      },
      "source": [
        "pd.set_option('display.width', 1000)\n",
        "pd.set_option('display.max_columns', 500)\n",
        "pd.set_option('display.min_rows', 100)\n",
        "pd.set_option('display.max_rows', 500)\n",
        "with open(\"train.data.jsonl\", 'r', encoding='utf-8') as train_data_file:\n",
        "  list_of_rlists = []\n",
        "  chunks = [] #list of all the dataframes for all source and reply tweets\n",
        "  num_replies = [] #list of number of replies for every source tweet \n",
        "  dict_replies= {} #dict of {created_At_time:[reply tweet]} for every source tweet\n",
        "  list_replies = []\n",
        "  dict_replies_list = []\n",
        "  for line in train_data_file:\n",
        "    train_Data_list = json.loads(line)\n",
        "    df = pd.DataFrame.from_dict(train_Data_list)\n",
        "    df = df[[\"id_str\",\"in_reply_to_status_id_str\",\"text\", \"user\",\"favorited\",\"in_reply_to_user_id_str\",\"created_at\"]]\n",
        "    df.rename(columns={'id_str': 'id'}, inplace=True)\n",
        "    df.rename(columns={'text': 'tweet'}, inplace=True)\n",
        "\n",
        "    replies_list,len_reply_list,dict_replies = get_replies(df) #reply list for a single source tweet\n",
        "    replies_list_2d = list(dict_replies.values()) #get all the replies for a single source tweet\n",
        "    # print(len(replies_list_2d))\n",
        "    replies_list_1d = [j for sub in replies_list_2d for j in sub]\n",
        "    # print(len(replies_list_1d))\n",
        "    reply_length = len(replies_list_1d)\n",
        "    list_replies.append(reply_length) \n",
        "    dict_replies_list.append(dict_replies)\n",
        "\n",
        "    chunks.append(df)\n",
        "    list_of_rlists.append(replies_list)\n",
        "    num_replies.append(len_reply_list)\n",
        "    # print(\"The output of list_of_rlists in every iteration=\",list_of_rlists,\"\\n\",len(list_of_rlists))\n",
        "  dfs1 = pd.concat(chunks)\n",
        "train_data_file.close()\n",
        "#print(dfs1)\n",
        "# print(\"The len of list of list of replies=\", len(list_of_rlists))\n",
        "\n",
        "\n",
        "with open(\"train.label.json\") as train_label_file:\n",
        "    train_label_json_file = json.load(train_label_file)\n",
        "    df_train_label = pd.DataFrame(list(train_label_json_file.items()),columns = ['id', 'label'])\n",
        "train_label_file.close()\n",
        "\n",
        "#check for class imbalance\n",
        "print(df_train_label)\n",
        "print(df_train_label.groupby('label').size())\n",
        "# non - rumour\n",
        "# 3058\n",
        "# rumour\n",
        "# 1583a\n",
        "\n",
        "#check the id and if it is present in rumours/non-rumours labels, then add it to the row of that dataframe (check from the labels dataframe)\n",
        "df_final1 = pd.merge(dfs1, df_train_label, how='left', left_on='id', right_on='id')\n",
        "df_final2 = pd.merge(dfs1, df_train_label, how='inner', left_on='id', right_on='id')\n",
        "\n",
        "# print(df_final1)\n",
        "print(df_final1.shape) #(81120, 7)\n",
        "\n",
        "# print(df_final2)\n",
        "print(df_final2.shape) #(4641, 7)\n",
        "\n",
        "\n",
        "#only text and label - drop columns from old one and store in new one \n",
        "Corpus = df_final2.drop([\"in_reply_to_status_id_str\",\"user\",\"favorited\",\"in_reply_to_user_id_str\"], axis=1)\n",
        "le = preprocessing.LabelEncoder()\n",
        "\n",
        "reply_dict_list = get_sorted_by_time(dict_replies_list) #list of dicts \n",
        "sorted_replies = []\n",
        "for i in range(len(reply_dict_list)):\n",
        "  values_2d = reply_dict_list[i].values()\n",
        "  values_list_1d = [j for sub in values_2d for j in sub ]\n",
        "  sorted_replies.append(values_list_1d)\n",
        "\n",
        "Corpus['label'] = le.fit_transform(Corpus['label'])\n",
        "Corpus[\"all_replies\"] = list_of_rlists #has a list of replies \n",
        "Corpus[\"num_replies\"] = num_replies\n",
        "Corpus[\"dict_replies\"] = list_replies\n",
        "Corpus[\"all_replies_by_time\"] = sorted_replies\n",
        "print(Corpus.head(10))\n",
        "print(Corpus.dtypes)\n",
        "print(Corpus.shape)\n",
        "\n"
      ],
      "execution_count": null,
      "outputs": []
    },
    {
      "cell_type": "markdown",
      "metadata": {
        "id": "NVkXcFzrtREn"
      },
      "source": [
        "### 2.1. Load Train Data\n",
        "The train.data.jsonl has about 4k source tweets and about 81k source + reply tweets.\n",
        "\n",
        "The label files ([train,dev].label.json), are standard JSON files:\n",
        "{\n",
        "\"552800070199148544\": \"non-rumour\",\n",
        "\"544388259359387648\": \"non-rumour\",\n",
        "\"552805970536333314\": \"non-rumour\",\n",
        "\"525071376084791297\": \"rumour\"\n",
        "} \n",
        "\n",
        "All data files ([train,dev,test,covid].data.jsonl) are JSONL files, where each line is a JSON string. For these files, each line is an event: a list of tweets where the first tweet is a source tweet and the rest are reply tweets.\n",
        "\n",
        "Here the train data is loaded and merged with the labels and the resulting columns are \"id_str\",\"in_reply_to_status_id_str\",\"text\", \"user\",\"favorited\",\"in_reply_to_user_id_str\",\"created_at\", \"label\"]."
      ]
    },
    {
      "cell_type": "code",
      "metadata": {
        "id": "d7Ia_lRgsitT"
      },
      "source": [
        "with open(\"dev.data.jsonl\", 'r', encoding='utf-8') as dev_data_file:\n",
        "  list_of_rlists = []\n",
        "  chunks = []\n",
        "  num_replies = []\n",
        "  dict_replies= {}\n",
        "  list_replies = []\n",
        "  dict_replies_list = []\n",
        "  for line in dev_data_file:\n",
        "    dev_Data_list = json.loads(line)\n",
        "    df = pd.DataFrame.from_dict(dev_Data_list)\n",
        "    df = df[[\"id_str\",\"in_reply_to_status_id_str\",\"text\", \"user\",\"favorited\",\"in_reply_to_user_id_str\",\"created_at\"]]\n",
        "    df.rename(columns={'id_str': 'id'}, inplace=True)\n",
        "    df.rename(columns={'text': 'tweet'}, inplace=True)\n",
        "\n",
        "    # replies_list,len_reply_list = get_replies(df)\n",
        "    replies_list,len_reply_list,dict_replies = get_replies(df) #reply list for a single source tweet\n",
        "    replies_list_2d = list(dict_replies.values()) #get all the replies for a single source tweet\n",
        "    # print(len(replies_list_2d))\n",
        "    replies_list_1d = [j for sub in replies_list_2d for j in sub]\n",
        "    # print(len(replies_list_1d))\n",
        "    reply_length = len(replies_list_1d)\n",
        "    list_replies.append(reply_length) \n",
        "    dict_replies_list.append(dict_replies)\n",
        "\n",
        "    chunks.append(df)\n",
        "    num_replies.append(len_reply_list)\n",
        "    list_of_rlists.append(replies_list)\n",
        "  dfs_dev = pd.concat(chunks)\n",
        "dev_data_file.close()\n",
        "#print(dfs_dev)\n",
        "\n",
        "with open(\"dev.label.json\") as dev_label_file:\n",
        "    dev_label_json_file = json.load(dev_label_file)\n",
        "    df_dev_label = pd.DataFrame(list(dev_label_json_file.items()),columns = ['id', 'label'])\n",
        "dev_label_file.close()\n",
        "\n",
        "#print(df_train_label)\n",
        "#print(df_train_label.groupby('label').size())\n",
        "# non - rumour\n",
        "# 3058\n",
        "# rumour\n",
        "# 1583\n",
        "\n",
        "#check the id and if it is present in rumours/non-rumours labels, then add it to the row of that dataframe (check from the labels dataframe)\n",
        "df_final1_dev = pd.merge(dfs_dev, df_dev_label, how='left', left_on='id', right_on='id')\n",
        "df_final2_dev = pd.merge(dfs_dev, df_dev_label, how='inner', left_on='id', right_on='id')\n",
        "\n",
        "# print(df_final1_dev)\n",
        "print(df_final1_dev.shape)\n",
        "# print(df_final2_dev)\n",
        "print(df_final2_dev.shape)\n",
        "\n",
        "reply_dict_list = get_sorted_by_time(dict_replies_list) #list of dicts \n",
        "sorted_replies = []\n",
        "for i in range(len(reply_dict_list)):\n",
        "  values_2d = reply_dict_list[i].values()\n",
        "  values_list_1d = [j for sub in values_2d for j in sub ]\n",
        "  sorted_replies.append(values_list_1d)\n",
        "\n",
        "#only text and label - drop columns from old one and store in new one \n",
        "Corpus_dev = df_final2_dev.drop([\"in_reply_to_status_id_str\",\"user\",\"favorited\",\"in_reply_to_user_id_str\"], axis=1)\n",
        "le = preprocessing.LabelEncoder()\n",
        "Corpus_dev['label'] = le.fit_transform(Corpus_dev['label'])\n",
        "Corpus_dev[\"all_replies\"] = list_of_rlists #has a list of replies \n",
        "Corpus_dev[\"num_replies\"] = num_replies\n",
        "Corpus_dev[\"all_replies_by_time\"] = sorted_replies\n",
        "Corpus_dev[\"dict_replies\"] = list_replies\n",
        "\n",
        "print(Corpus_dev.head(10))\n",
        "print(Corpus_dev.shape)\n",
        "print(Corpus_dev.dtypes)\n"
      ],
      "execution_count": null,
      "outputs": []
    },
    {
      "cell_type": "code",
      "metadata": {
        "id": "AawqTchYsiga"
      },
      "source": [
        "with open(\"test.data.jsonl\", 'r', encoding='utf-8') as test_data_file:\n",
        "  list_of_rlists = []\n",
        "  chunks = []\n",
        "  num_replies = []\n",
        "  dict_replies= {}\n",
        "  list_replies = []\n",
        "  dict_replies_list = []\n",
        "\n",
        "  for line in test_data_file:\n",
        "    train_Data_list = json.loads(line)\n",
        "    df = pd.DataFrame.from_dict(train_Data_list)\n",
        "    df = df[[\"id_str\",\"in_reply_to_status_id_str\",\"text\", \"user\",\"favorited\",\"in_reply_to_user_id_str\",\"created_at\"]]\n",
        "    df.rename(columns={'id_str': 'id'}, inplace=True)\n",
        "    df.rename(columns={'text': 'tweet'}, inplace=True)\n",
        "    # replies_list,len_reply_list = get_replies(df)\n",
        "    \n",
        "    replies_list,len_reply_list,dict_replies = get_replies(df) #reply list for a single source tweet\n",
        "    replies_list_2d = list(dict_replies.values()) #get all the replies for a single source tweet\n",
        "    # print(len(replies_list_2d))\n",
        "    replies_list_1d = [j for sub in replies_list_2d for j in sub]\n",
        "    # print(len(replies_list_1d))\n",
        "    reply_length = len(replies_list_1d)\n",
        "    list_replies.append(reply_length) \n",
        "    dict_replies_list.append(dict_replies)\n",
        "\n",
        "    chunks.append(df)\n",
        "    num_replies.append(len_reply_list)\n",
        "    list_of_rlists.append(replies_list)\n",
        "  dfs1 = pd.concat(chunks)\n",
        "test_data_file.close()\n",
        "#print(dfs1)\n",
        "finalll = dfs1[dfs1['in_reply_to_status_id_str'].isna()] #source tweets\n",
        "# print(finalll)\n",
        "\n",
        "reply_dict_list = get_sorted_by_time(dict_replies_list) #list of dicts \n",
        "sorted_replies = []\n",
        "for i in range(len(reply_dict_list)):\n",
        "  values_2d = reply_dict_list[i].values()\n",
        "  values_list_1d = [j for sub in values_2d for j in sub ]\n",
        "  sorted_replies.append(values_list_1d)\n",
        "\n",
        "#only text - drop columns from old one and store in new one \n",
        "Corpus_test = finalll.drop([\"in_reply_to_status_id_str\",\"user\",\"favorited\",\"in_reply_to_user_id_str\"], axis=1)\n",
        "Corpus_test[\"all_replies\"] = list_of_rlists #has a list of replies \n",
        "Corpus_test[\"num_replies\"] = num_replies\n",
        "Corpus_test[\"dict_replies\"] = list_replies\n",
        "Corpus_test[\"all_replies_by_time\"] = sorted_replies\n",
        "\n",
        "print(Corpus_test.head(10))\n",
        "print(Corpus_test.shape)\n",
        "print(Corpus_test.dtypes)"
      ],
      "execution_count": null,
      "outputs": []
    },
    {
      "cell_type": "code",
      "metadata": {
        "id": "2Wig_23XBzp3"
      },
      "source": [
        "diff =Corpus_test[Corpus_test.num_replies != Corpus_test.dict_replies]\n",
        "print(Corpus_test.iloc[0][\"tweet\"])\n",
        "print(Corpus_test.iloc[0][\"all_replies_by_time\"])\n",
        "print(Corpus_dev.iloc[0][\"tweet\"])\n",
        "print(Corpus_dev.iloc[0][\"all_replies_by_time\"])\n",
        "print(len(diff))\n",
        "diff\n",
        "print(diff)"
      ],
      "execution_count": null,
      "outputs": []
    },
    {
      "cell_type": "code",
      "metadata": {
        "id": "X4HKAFTbvMwI"
      },
      "source": [
        "replies_train = [' [SEP] '.join([str(tweet) for tweet in all_replies]) for all_replies in Corpus.all_replies_by_time.values]\n",
        "replies_dev = [' [SEP] '.join([str(tweet) for tweet in all_replies]) for all_replies in Corpus_dev.all_replies_by_time.values]\n",
        "replies_test = [' [SEP] '.join([str(tweet) for tweet in all_replies]) for all_replies in Corpus_test.all_replies_by_time.values]\n",
        "X = Corpus.tweet.values + replies_train\n",
        "y = Corpus.label.values\n",
        "X_train = list(zip(Corpus.tweet.values, replies_train))\n",
        "X_val = list(zip(Corpus_dev.tweet.values, replies_dev))\n",
        "y_train = Corpus.label.values\n",
        "y_val = Corpus_dev.label.values\n",
        "X_test = list(zip(Corpus_test.tweet.values, replies_test))\n",
        "print(len(X_train),len(X_val),len(X_test))\n",
        "print(type(X_train))\n",
        "for i in range(10):\n",
        "  print(X_val[i][0],\"\\n\")"
      ],
      "execution_count": null,
      "outputs": []
    },
    {
      "cell_type": "markdown",
      "metadata": {
        "id": "X79dYY3sxDCi"
      },
      "source": [
        "## 3. Set up GPU for training"
      ]
    },
    {
      "cell_type": "markdown",
      "metadata": {
        "id": "Zi1CoEOL1puh"
      },
      "source": [
        "Google Colab offers free GPUs and TPUs. Since we'll be training a large neural network it's best to utilize these features.\n",
        "\n",
        "A GPU can be added by going to the menu and selecting:\n",
        "\n",
        "`Runtime -> Change runtime type -> Hardware accelerator: GPU`\n",
        "\n",
        "Then we need to run the following cell to specify the GPU as the device."
      ]
    },
    {
      "cell_type": "code",
      "metadata": {
        "id": "K7hxtI4l0SUJ"
      },
      "source": [
        "import torch\n",
        "\n",
        "if torch.cuda.is_available():       \n",
        "    device = torch.device(\"cuda\")\n",
        "    print(f'There are {torch.cuda.device_count()} GPU(s) available.')\n",
        "    print('Device name:', torch.cuda.get_device_name(0))\n",
        "\n",
        "else:\n",
        "    print('No GPU available, using the CPU instead.')\n",
        "    device = torch.device(\"cpu\")"
      ],
      "execution_count": null,
      "outputs": []
    },
    {
      "cell_type": "code",
      "metadata": {
        "id": "qS2gb-9mJK2w"
      },
      "source": [
        "from sklearn.metrics import accuracy_score, roc_curve, auc\n",
        "\n",
        "def evaluate_roc(probs, y_true):\n",
        "    \"\"\"\n",
        "    - Print AUC and accuracy on the test set\n",
        "    - Plot ROC\n",
        "    @params    probs (np.array): an array of predicted probabilities with shape (len(y_true), 2)\n",
        "    @params    y_true (np.array): an array of the true values with shape (len(y_true),)\n",
        "    \"\"\"\n",
        "    preds = probs[:, 1]\n",
        "    # print(\"preds\", preds)\n",
        "    fpr, tpr, threshold = roc_curve(y_true, preds)\n",
        "    # print(fpr, tpr, threshold)\n",
        "    roc_auc = auc(fpr, tpr)\n",
        "    print(f'AUC: {roc_auc:.4f}')\n",
        "       \n",
        "    # Get accuracy over the test set\n",
        "    y_pred = np.where(preds >= 0.5, 1, 0)\n",
        "    accuracy = accuracy_score(y_true, y_pred)\n",
        "    print(f'Accuracy: {accuracy*100:.2f}%')\n",
        "    \n",
        "    # Plot ROC AUC\n",
        "    plt.title('Receiver Operating Characteristic')\n",
        "    plt.plot(fpr, tpr, 'b', label = 'AUC = %0.2f' % roc_auc)\n",
        "    plt.legend(loc = 'lower right')\n",
        "    plt.plot([0, 1], [0, 1],'r--')\n",
        "    plt.xlim([0, 1])\n",
        "    plt.ylim([0, 1])\n",
        "    plt.ylabel('True Positive Rate')\n",
        "    plt.xlabel('False Positive Rate')\n",
        "    plt.show()"
      ],
      "execution_count": null,
      "outputs": []
    },
    {
      "cell_type": "markdown",
      "metadata": {
        "id": "lEPPYHa62JXF"
      },
      "source": [
        "# D - Fine-tuning BERT"
      ]
    },
    {
      "cell_type": "markdown",
      "metadata": {
        "id": "bYJRzWI73eBJ"
      },
      "source": [
        "## 1. Install the Hugging Face Library"
      ]
    },
    {
      "cell_type": "markdown",
      "metadata": {
        "id": "Yxv-EJ2j31Iv"
      },
      "source": [
        "The transformer library of Hugging Face contains PyTorch implementation of state-of-the-art NLP models including BERT (from Google), GPT (from OpenAI) ... and pre-trained model weights."
      ]
    },
    {
      "cell_type": "code",
      "metadata": {
        "id": "uFiv8WGl4p40"
      },
      "source": [
        "!pip install transformers==2.8.0"
      ],
      "execution_count": null,
      "outputs": []
    },
    {
      "cell_type": "markdown",
      "metadata": {
        "id": "D4sXctSh4sq0"
      },
      "source": [
        "## 2. Tokenization and Input Formatting"
      ]
    },
    {
      "cell_type": "markdown",
      "metadata": {
        "id": "ygbZpK6qbIYE"
      },
      "source": [
        "Before tokenizing our text, we will perform some slight processing on our text including removing entity mentions (eg. @united) and some special character. The level of processing here is much less than in previous approachs because BERT was trained with the entire sentences."
      ]
    },
    {
      "cell_type": "code",
      "metadata": {
        "id": "4L_Rc7l4bgzJ"
      },
      "source": [
        "def text_preprocessing(text):\n",
        "    \"\"\"\n",
        "    - Remove entity mentions (eg. '@united')\n",
        "    - Correct errors (eg. '&amp;' to '&')\n",
        "    @param    text (str): a string to be processed.\n",
        "    @return   text (Str): the processed string.\n",
        "    \"\"\"\n",
        "    # Remove '@name'\n",
        "    text_ = [re.sub(r'(@.*?)[\\s]', ' ', i) for i in text]\n",
        "\n",
        "    # Replace '&amp;' with '&'\n",
        "    text_ = [re.sub(r'&amp;', '&', i) for i in text_]\n",
        "\n",
        "    # Remove trailing whitespace\n",
        "    text_ = [re.sub(r'\\s+', ' ', i).strip() for i in text_]\n",
        "    text_ = ' [CLS] ' + text_[0] + ' [SEP] ' + text_[1] + ' [SEP] '\n",
        "    return text_"
      ],
      "execution_count": null,
      "outputs": []
    },
    {
      "cell_type": "code",
      "metadata": {
        "id": "qyYmHR8McE0r"
      },
      "source": [
        "# Print sentence 0\n",
        "print('Original: ', X_train[1])\n",
        "# for i in range(10):\n",
        "#     print(X_train[i])\n",
        "print('Processed: ', text_preprocessing(X_train[0]))"
      ],
      "execution_count": null,
      "outputs": []
    },
    {
      "cell_type": "markdown",
      "metadata": {
        "id": "i3acv6s95YYr"
      },
      "source": [
        "### 2.1. BERT Tokenizer"
      ]
    },
    {
      "cell_type": "markdown",
      "metadata": {
        "id": "C1fRHtdU5dEn"
      },
      "source": [
        "In order to apply the pre-trained BERT, we must use the tokenizer provided by the library. This is because (1) the model has a specific, fixed vocabulary and (2) the BERT tokenizer has a particular way of handling out-of-vocabulary words.\n",
        "\n",
        "In addition, we are required to add special tokens to the start and end of each sentence, pad & truncate all sentences to a single constant length, and explicitly specify what are padding tokens with the \"attention mask\".\n",
        "\n",
        "The `encode_plus` method of BERT tokenizer will:\n",
        "\n",
        "(1) split our text into tokens,\n",
        "\n",
        "(2) add the special `[CLS]` and `[SEP]` tokens, and\n",
        "\n",
        "(3) convert these tokens into indexes of the tokenizer vocabulary,\n",
        "\n",
        "(4) pad or truncate sentences to max length, and\n",
        "\n",
        "(5) create attention mask.\n",
        "\n",
        "\n",
        "\n",
        "\n"
      ]
    },
    {
      "cell_type": "code",
      "metadata": {
        "id": "yDAfbCle59tP"
      },
      "source": [
        "from transformers import BertTokenizer\n",
        "\n",
        "# Load the BERT tokenizer\n",
        "tokenizer = BertTokenizer.from_pretrained('bert-base-uncased', do_lower_case=True)\n",
        "\n",
        "# Create a function to tokenize a set of texts\n",
        "def preprocessing_for_bert(data):\n",
        "    \"\"\"Perform required preprocessing steps for pretrained BERT.\n",
        "    @param    data (np.array): Array of texts to be processed.\n",
        "    @return   input_ids (torch.Tensor): Tensor of token ids to be fed to a model.\n",
        "    @return   attention_masks (torch.Tensor): Tensor of indices specifying which\n",
        "                  tokens should be attended to by the model.\n",
        "    \"\"\"\n",
        "    # Create empty lists to store outputs\n",
        "    input_ids = []\n",
        "    attention_masks = []\n",
        "\n",
        "    # For every sentence...\n",
        "    for sent in data:\n",
        "      \n",
        "        # `encode_plus` will:\n",
        "        #    (1) Tokenize the sentence\n",
        "        #    (2) Add the `[CLS]` and `[SEP]` token to the start and end\n",
        "        #    (3) Truncate/Pad sentence to max length\n",
        "        #    (4) Map tokens to their IDs\n",
        "        #    (5) Create attention mask\n",
        "        #    (6) Return a dictionary of outputs\n",
        "        encoded_sent = tokenizer.encode_plus(\n",
        "            text=text_preprocessing(sent),  # Preprocess sentence\n",
        "            add_special_tokens=True,        # Add `[CLS]` and `[SEP]`\n",
        "            max_length=MAX_LEN,                  # Max length to truncate/pad\n",
        "            pad_to_max_length=True,         # Pad sentence to max length\n",
        "            #return_tensors='pt',           # Return PyTorch tensor\n",
        "            return_attention_mask=True      # Return attention mask\n",
        "            )\n",
        "#         Set MAX_LEN = 512\n",
        "\n",
        "# Pad input_structure to MAX_LEN\n",
        "        # Add the outputs to the lists\n",
        "        input_ids.append(encoded_sent.get('input_ids'))\n",
        "        attention_masks.append(encoded_sent.get('attention_mask'))\n",
        "\n",
        "    # Convert lists to tensors\n",
        "    input_ids = torch.tensor(input_ids)\n",
        "    attention_masks = torch.tensor(attention_masks)\n",
        "\n",
        "    return input_ids, attention_masks"
      ],
      "execution_count": null,
      "outputs": []
    },
    {
      "cell_type": "markdown",
      "metadata": {
        "id": "TNE9oASMZ1bN"
      },
      "source": [
        "Before tokenizing, we need to specify the maximum length of our sentences.\n",
        "\n",
        "\n",
        "\n",
        "\n",
        "\n"
      ]
    },
    {
      "cell_type": "markdown",
      "metadata": {
        "id": "vpdjBB9fmbu2"
      },
      "source": [
        "Now let's tokenize our data."
      ]
    },
    {
      "cell_type": "code",
      "metadata": {
        "id": "QTlQzTzAfCy7"
      },
      "source": [
        "# Specify `MAX_LEN`\n",
        "# MAX_LEN = 64\n",
        "MAX_LEN = 512\n",
        "\n",
        "# Print sentence 0 and its encoded token ids\n",
        "# token_ids = list(preprocessing_for_bert([X[0]])[0].squeeze().numpy())\n",
        "# print('Original: ', X[0])\n",
        "# print('Token IDs: ', token_ids)\n",
        "\n",
        "# Run function `preprocessing_for_bert` on the train set and the validation set\n",
        "print('Tokenizing data...')\n",
        "# print(X_train, type(X_train), len(X_train))\n",
        "# print(X_val, type(X_val), len(X_val))\n",
        "\n",
        "train_inputs, train_masks = preprocessing_for_bert(X_train)\n",
        "val_inputs, val_masks = preprocessing_for_bert(X_val)\n",
        "test_inputs, test_masks = preprocessing_for_bert(X_test)\n",
        "\n",
        "print(train_inputs, train_masks, val_inputs, val_masks)\n"
      ],
      "execution_count": null,
      "outputs": []
    },
    {
      "cell_type": "markdown",
      "metadata": {
        "id": "aZU8t5VNfvhY"
      },
      "source": [
        "### 2.2. Create PyTorch DataLoader"
      ]
    },
    {
      "cell_type": "markdown",
      "metadata": {
        "id": "aoHdl3gFgMZY"
      },
      "source": [
        "We will create an iterator for our dataset using the torch DataLoader class. This will help save on memory during training and boost the training speed."
      ]
    },
    {
      "cell_type": "code",
      "metadata": {
        "id": "xHuYEc61gcGL"
      },
      "source": [
        "from torch.utils.data import TensorDataset, DataLoader, RandomSampler, SequentialSampler\n",
        "\n",
        "# Convert other data types to torch.Tensor\n",
        "train_labels = torch.tensor(y_train)\n",
        "\n",
        "Corpus_dev['label'] = le.fit_transform(Corpus_dev['label'])\n",
        "y_val=Corpus_dev.label.values\n",
        "val_labels = torch.tensor(y_val)\n",
        "\n",
        "# For fine-tuning BERT, the authors recommend a batch size of 16 or 32.\n",
        "batch_size = 10\n",
        "\n",
        "# Create the DataLoader for our training set\n",
        "train_data = TensorDataset(train_inputs, train_masks, train_labels)\n",
        "train_sampler = RandomSampler(train_data)\n",
        "train_dataloader = DataLoader(train_data, sampler=train_sampler, batch_size=batch_size)\n",
        "print(train_data,train_sampler,train_dataloader)\n",
        "# Create the DataLoader for our validation set\n",
        "\n",
        "val_data = TensorDataset(val_inputs, val_masks, val_labels)\n",
        "val_sampler = SequentialSampler(val_data)\n",
        "val_dataloader = DataLoader(val_data, sampler=val_sampler, batch_size=batch_size)\n",
        "\n",
        "test_data = TensorDataset(test_inputs, test_masks)\n",
        "test_sampler = SequentialSampler(test_data)\n",
        "test_dataloader = DataLoader(test_data, sampler=test_sampler, batch_size=batch_size)"
      ],
      "execution_count": null,
      "outputs": []
    },
    {
      "cell_type": "markdown",
      "metadata": {
        "id": "SSRAga-yj17q"
      },
      "source": [
        "## 3. Train Our Model"
      ]
    },
    {
      "cell_type": "markdown",
      "metadata": {
        "id": "KoOdsDgG8b_Z"
      },
      "source": [
        "### 3.1. Create BertClassifier"
      ]
    },
    {
      "cell_type": "markdown",
      "metadata": {
        "id": "zA_yESCl5nuK"
      },
      "source": [
        "BERT-base consists of 12 transformer layers, each transformer layer takes in a list of token embeddings, and produces the same number of embeddings with the same hidden size (or dimensions) on the output. The output of the final transformer layer of the `[CLS]` token is used as the features of the sequence to feed a classifier.\n",
        "\n",
        "The `transformers` library has the [`BertForSequenceClassification`](https://huggingface.co/transformers/v2.2.0/model_doc/bert.html#bertforsequenceclassification) class which is designed for classification tasks. However, we will create a new class so we can specify our own choice of classifiers.\n",
        "\n",
        "Below we will create a BertClassifier class with a BERT model to extract the last hidden layer of the `[CLS]` token and a single-hidden-layer feed-forward neural network as our classifier."
      ]
    },
    {
      "cell_type": "code",
      "metadata": {
        "id": "YK41aBFSj5jK"
      },
      "source": [
        "%%time\n",
        "import torch\n",
        "import torch.nn as nn\n",
        "from transformers import BertModel\n",
        "\n",
        "# Create the BertClassfier class\n",
        "class BertClassifier(nn.Module):\n",
        "    \"\"\"Bert Model for Classification Tasks.\n",
        "    \"\"\"\n",
        "    def __init__(self, freeze_bert=False):\n",
        "        \"\"\"\n",
        "        @param    bert: a BertModel object\n",
        "        @param    classifier: a torch.nn.Module classifier\n",
        "        @param    freeze_bert (bool): Set `False` to fine-tune the BERT model\n",
        "        \"\"\"\n",
        "        super(BertClassifier, self).__init__()\n",
        "        # Specify hidden size of BERT, hidden size of our classifier, and number of labels\n",
        "        D_in, H, D_out = 768, 50, 2\n",
        "\n",
        "        # Instantiate BERT model\n",
        "        self.bert = BertModel.from_pretrained('bert-base-uncased')\n",
        "\n",
        "        # Instantiate an one-layer feed-forward classifier\n",
        "        self.classifier = nn.Sequential(\n",
        "            nn.Linear(D_in, H),\n",
        "            nn.ReLU(),\n",
        "            #nn.Dropout(0.5),\n",
        "            nn.Linear(H, D_out)\n",
        "        )\n",
        "\n",
        "        # Freeze the BERT model\n",
        "        if freeze_bert:\n",
        "            for param in self.bert.parameters():\n",
        "                param.requires_grad = False\n",
        "        \n",
        "    def forward(self, input_ids, attention_mask):\n",
        "        \"\"\"\n",
        "        Feed input to BERT and the classifier to compute logits.\n",
        "        @param    input_ids (torch.Tensor): an input tensor with shape (batch_size,\n",
        "                      max_length)\n",
        "        @param    attention_mask (torch.Tensor): a tensor that hold attention mask\n",
        "                      information with shape (batch_size, max_length)\n",
        "        @return   logits (torch.Tensor): an output tensor with shape (batch_size,\n",
        "                      num_labels)\n",
        "        \"\"\"\n",
        "        # Feed input to BERT\n",
        "        outputs = self.bert(input_ids=input_ids,\n",
        "                            attention_mask=attention_mask)\n",
        "        \n",
        "        # Extract the last hidden state of the token `[CLS]` for classification task\n",
        "        last_hidden_state_cls = outputs[0][:, 0, :]\n",
        "\n",
        "        # Feed input to classifier to compute logits\n",
        "        logits = self.classifier(last_hidden_state_cls)\n",
        "\n",
        "        return logits"
      ],
      "execution_count": null,
      "outputs": []
    },
    {
      "cell_type": "markdown",
      "metadata": {
        "id": "LwNrCgPh-yR7"
      },
      "source": [
        "### 3.2. Optimizer & Learning Rate Scheduler"
      ]
    },
    {
      "cell_type": "markdown",
      "metadata": {
        "id": "V6iOXiN8-8gc"
      },
      "source": [
        "To fine-tune our Bert Classifier, we need to create an optimizer. The authors recommend following hyper-parameters:\n",
        "\n",
        "- Batch size: 16 or 32\n",
        "- Learning rate (Adam): 5e-5, 3e-5 or 2e-5\n",
        "- Number of epochs: 2, 3, 4\n",
        "\n",
        "Huggingface provided the [run_glue.py](https://github.com/huggingface/transformers/blob/5bfcd0485ece086ebcbed2d008813037968a9e58/examples/run_glue.py#L109) script, an examples of implementing the `transformers` library. In the script, the AdamW optimizer is used."
      ]
    },
    {
      "cell_type": "code",
      "metadata": {
        "id": "JX7su7Q_269U"
      },
      "source": [
        "from transformers import AdamW, get_linear_schedule_with_warmup\n",
        "\n",
        "def initialize_model(epochs=2):\n",
        "    \"\"\"Initialize the Bert Classifier, the optimizer and the learning rate scheduler.\n",
        "    \"\"\"\n",
        "    # Instantiate Bert Classifier\n",
        "    bert_classifier = BertClassifier(freeze_bert=False)\n",
        "\n",
        "    # Tell PyTorch to run the model on GPU\n",
        "    bert_classifier.to(device)\n",
        "\n",
        "    # Create the optimizer\n",
        "    optimizer = AdamW(bert_classifier.parameters(),\n",
        "                      lr=5e-5,    # Default learning rate\n",
        "                      eps=1e-8    # Default epsilon value\n",
        "                      )\n",
        "\n",
        "    # Total number of training steps\n",
        "    total_steps = len(train_dataloader) * epochs\n",
        "\n",
        "    # Set up the learning rate scheduler\n",
        "    scheduler = get_linear_schedule_with_warmup(optimizer,\n",
        "                                                num_warmup_steps=0, # Default value\n",
        "                                                num_training_steps=total_steps)\n",
        "    return bert_classifier, optimizer, scheduler"
      ],
      "execution_count": null,
      "outputs": []
    },
    {
      "cell_type": "markdown",
      "metadata": {
        "id": "41DRNjv4B0Ow"
      },
      "source": [
        "### 3.3. Training Loop"
      ]
    },
    {
      "cell_type": "markdown",
      "metadata": {
        "id": "VYU-GQRZG0y8"
      },
      "source": [
        "We will train our Bert Classifier for 4 epochs. In each epoch, we will train our model and evaluate its performance on the validation set. In more details, we will:\n",
        "\n",
        "Training:\n",
        "- Unpack our data from the dataloader and load the data onto the GPU\n",
        "- Zero out gradients calculated in the previous pass\n",
        "- Perform a forward pass to compute logits and loss\n",
        "- Perform a backward pass to compute gradients (`loss.backward()`)\n",
        "- Clip the norm of the gradients to 1.0 to prevent \"exploding gradients\"\n",
        "- Update the model's parameters (`optimizer.step()`)\n",
        "- Update the learning rate (`scheduler.step()`)\n",
        "\n",
        "Evaluation:\n",
        "- Unpack our data and load onto the GPU\n",
        "- Forward pass\n",
        "- Compute loss and accuracy rate over the validation set\n",
        "\n",
        "The script below is commented with the details of our training and evaluation loop. "
      ]
    },
    {
      "cell_type": "code",
      "metadata": {
        "id": "Xy4HkhyECibW"
      },
      "source": [
        "import random\n",
        "import time\n",
        "\n",
        "# Specify loss function\n",
        "loss_fn = nn.CrossEntropyLoss()\n",
        "\n",
        "def set_seed(seed_value=42):\n",
        "    \"\"\"Set seed for reproducibility.\n",
        "    \"\"\"\n",
        "    random.seed(seed_value)\n",
        "    np.random.seed(seed_value)\n",
        "    torch.manual_seed(seed_value)\n",
        "    torch.cuda.manual_seed_all(seed_value)\n",
        "\n",
        "def train(model, train_dataloader, val_dataloader=None, epochs=2, evaluation=False):\n",
        "    \"\"\"Train the BertClassifier model.\n",
        "    \"\"\"\n",
        "    # Start training loop\n",
        "    print(\"Start training...\\n\")\n",
        "    for epoch_i in range(epochs):\n",
        "        # =======================================\n",
        "        #               Training\n",
        "        # =======================================\n",
        "        # Print the header of the result table\n",
        "        print(f\"{'Epoch':^7} | {'Batch':^7} | {'Train Loss':^12} | {'Val Loss':^10} | {'Val Acc':^9} | {'Elapsed':^9}\")\n",
        "        print(\"-\"*70)\n",
        "\n",
        "        # Measure the elapsed time of each epoch\n",
        "        t0_epoch, t0_batch = time.time(), time.time()\n",
        "\n",
        "        # Reset tracking variables at the beginning of each epoch\n",
        "        total_loss, batch_loss, batch_counts = 0, 0, 0\n",
        "\n",
        "        # Put the model into the training mode\n",
        "        model.train()\n",
        "\n",
        "        # For each batch of training data...\n",
        "        for step, batch in enumerate(train_dataloader):\n",
        "            batch_counts +=1\n",
        "            # Load batch to GPU\n",
        "            b_input_ids, b_attn_mask, b_labels = tuple(t.to(device) for t in batch)\n",
        "\n",
        "            # Zero out any previously calculated gradients\n",
        "            model.zero_grad()\n",
        "\n",
        "            # Perform a forward pass. This will return logits.\n",
        "            logits = model(b_input_ids, b_attn_mask)\n",
        "\n",
        "            # Compute loss and accumulate the loss values\n",
        "            loss = loss_fn(logits, b_labels)\n",
        "            batch_loss += loss.item()\n",
        "            total_loss += loss.item()\n",
        "\n",
        "            # Perform a backward pass to calculate gradients\n",
        "            loss.backward()\n",
        "\n",
        "            # Clip the norm of the gradients to 1.0 to prevent \"exploding gradients\"\n",
        "            torch.nn.utils.clip_grad_norm_(model.parameters(), 1.0)\n",
        "\n",
        "            # Update parameters and the learning rate\n",
        "            optimizer.step()\n",
        "            scheduler.step()\n",
        "\n",
        "            # Print the loss values and time elapsed for every 20 batches\n",
        "            if (step % 20 == 0 and step != 0) or (step == len(train_dataloader) - 1):\n",
        "                # Calculate time elapsed for 20 batches\n",
        "                time_elapsed = time.time() - t0_batch\n",
        "\n",
        "                # Print training results\n",
        "                print(f\"{epoch_i + 1:^7} | {step:^7} | {batch_loss / batch_counts:^12.6f} | {'-':^10} | {'-':^9} | {time_elapsed:^9.2f}\")\n",
        "\n",
        "                # Reset batch tracking variables\n",
        "                batch_loss, batch_counts = 0, 0\n",
        "                t0_batch = time.time()\n",
        "                torch.save(model.state_dict(), f'/content/drive/MyDrive/NLP_data/finetuned_BERT_epoch_{epoch_i}_seed42_new.model')\n",
        "\n",
        "        # Calculate the average loss over the entire training data\n",
        "        avg_train_loss = total_loss / len(train_dataloader)\n",
        "    \n",
        "        print(\"-\"*70)\n",
        "        \n",
        "        torch.save(model.state_dict(), f'/content/drive/MyDrive/NLP_data/finetuned_BERT_epoch_{epochs}_seed42_new.model')\n",
        "\n",
        "        # =======================================\n",
        "        #               Evaluation\n",
        "        # =======================================\n",
        "        if evaluation == True:\n",
        "            # After the completion of each training epoch, measure the model's performance\n",
        "            # on our validation set.\n",
        "            val_loss, val_accuracy = evaluate(model, val_dataloader)\n",
        "\n",
        "            # Print performance over the entire training data\n",
        "            time_elapsed = time.time() - t0_epoch\n",
        "            \n",
        "            print(f\"{epoch_i + 1:^7} | {'-':^7} | {avg_train_loss:^12.6f} | {val_loss:^10.6f} | {val_accuracy:^9.2f} | {time_elapsed:^9.2f}\")\n",
        "            print(\"-\"*70)\n",
        "        print(\"\\n\")\n",
        "    \n",
        "    print(\"Training complete!\")\n",
        "\n",
        "\n",
        "def evaluate(model, val_dataloader):\n",
        "    \"\"\"After the completion of each training epoch, measure the model's performance\n",
        "    on our validation set.\n",
        "    \"\"\"\n",
        "    # Put the model into the evaluation mode. The dropout layers are disabled during\n",
        "    # the test time.\n",
        "    model.eval()\n",
        "\n",
        "    # Tracking variables\n",
        "    val_accuracy = []\n",
        "    val_loss = []\n",
        "\n",
        "    # For each batch in our validation set...\n",
        "    for batch in val_dataloader:\n",
        "        # Load batch to GPU\n",
        "        b_input_ids, b_attn_mask, b_labels = tuple(t.to(device) for t in batch)\n",
        "\n",
        "        # Compute logits\n",
        "        with torch.no_grad():\n",
        "            logits = model(b_input_ids, b_attn_mask)\n",
        "\n",
        "        # Compute loss\n",
        "        loss = loss_fn(logits, b_labels)\n",
        "        val_loss.append(loss.item())\n",
        "\n",
        "        # Get the predictions\n",
        "        preds = torch.argmax(logits, dim=1).flatten()\n",
        "\n",
        "        # Calculate the accuracy rate\n",
        "        accuracy = (preds == b_labels).cpu().numpy().mean() * 100\n",
        "        val_accuracy.append(accuracy)\n",
        "\n",
        "    # Compute the average accuracy and loss over the validation set.\n",
        "    val_loss = np.mean(val_loss)\n",
        "    val_accuracy = np.mean(val_accuracy)\n",
        "\n",
        "    return val_loss, val_accuracy"
      ],
      "execution_count": null,
      "outputs": []
    },
    {
      "cell_type": "code",
      "metadata": {
        "id": "AT0aR2wSoI-i"
      },
      "source": [
        "  import torch,gc \n",
        "  gc.collect()\n",
        "  torch.cuda.empty_cache()"
      ],
      "execution_count": null,
      "outputs": []
    },
    {
      "cell_type": "code",
      "metadata": {
        "id": "blpDWittofZ0"
      },
      "source": [
        "torch.cuda.memory_summary(device=None, abbreviated=False)"
      ],
      "execution_count": null,
      "outputs": []
    },
    {
      "cell_type": "markdown",
      "metadata": {
        "id": "BSfTy9LqiFD-"
      },
      "source": [
        "Now, let's start training our BertClassifier!"
      ]
    },
    {
      "cell_type": "code",
      "metadata": {
        "id": "wfYw7dJ0U0v6"
      },
      "source": [
        "set_seed(42)    # Set seed for reproducibility\n",
        "bert_classifier, optimizer, scheduler = initialize_model(epochs=2)\n",
        "train(bert_classifier, train_dataloader, val_dataloader, epochs=2, evaluation=True)"
      ],
      "execution_count": null,
      "outputs": []
    },
    {
      "cell_type": "code",
      "metadata": {
        "colab": {
          "base_uri": "https://localhost:8080/"
        },
        "id": "A1FL3ztWeQ4p",
        "outputId": "8b454581-3bf4-4c00-ed92-82d9e11c0ce8"
      },
      "source": [
        "from tensorflow.python.client import device_lib\n",
        "print(device_lib.list_local_devices())\n"
      ],
      "execution_count": null,
      "outputs": [
        {
          "output_type": "stream",
          "text": [
            "[name: \"/device:CPU:0\"\n",
            "device_type: \"CPU\"\n",
            "memory_limit: 268435456\n",
            "locality {\n",
            "}\n",
            "incarnation: 13772621252585404150\n",
            ", name: \"/device:GPU:0\"\n",
            "device_type: \"GPU\"\n",
            "memory_limit: 213712896\n",
            "locality {\n",
            "  bus_id: 1\n",
            "  links {\n",
            "  }\n",
            "}\n",
            "incarnation: 5064481124079147669\n",
            "physical_device_desc: \"device: 0, name: Tesla K80, pci bus id: 0000:00:04.0, compute capability: 3.7\"\n",
            "]\n"
          ],
          "name": "stdout"
        }
      ]
    },
    {
      "cell_type": "code",
      "metadata": {
        "id": "DhdYFJmTecW6"
      },
      "source": [
        ""
      ],
      "execution_count": null,
      "outputs": []
    },
    {
      "cell_type": "markdown",
      "metadata": {
        "id": "D5ostg9kPlra"
      },
      "source": [
        "### 3.4. Evaluation on Validation Set"
      ]
    },
    {
      "cell_type": "markdown",
      "metadata": {
        "id": "fIlSTDA7Z9DF"
      },
      "source": [
        "The prediction step is similar to the evaluation step that we did in the training loop, but simpler. We will perform a forward pass to compute logits and apply softmax to calculate probabilities."
      ]
    },
    {
      "cell_type": "code",
      "metadata": {
        "id": "V5_w4erqGzpe"
      },
      "source": [
        "import torch.nn.functional as F\n",
        "\n",
        "def bert_predict(model, test_dataloader):\n",
        "    \"\"\"Perform a forward pass on the trained BERT model to predict probabilities\n",
        "    on the test set.\n",
        "    \"\"\"\n",
        "    # Put the model into the evaluation mode. The dropout layers are disabled during\n",
        "    # the test time.\n",
        "    model.eval()\n",
        "\n",
        "    all_logits = []\n",
        "\n",
        "    # For each batch in our test set...\n",
        "    for batch in test_dataloader:\n",
        "        # Load batch to GPU\n",
        "        b_input_ids, b_attn_mask = tuple(t.to(device) for t in batch)[:2]\n",
        "\n",
        "        # Compute logits\n",
        "        with torch.no_grad():\n",
        "            logits = model(b_input_ids, b_attn_mask)\n",
        "        all_logits.append(logits)\n",
        "    \n",
        "    # Concatenate logits from each batch\n",
        "    all_logits = torch.cat(all_logits, dim=0)\n",
        "\n",
        "    # Apply softmax to calculate probabilities\n",
        "    probs = F.softmax(all_logits, dim=1).cpu().numpy()\n",
        "\n",
        "    return probs"
      ],
      "execution_count": null,
      "outputs": []
    },
    {
      "cell_type": "code",
      "metadata": {
        "id": "kcmj5s0eRMUh",
        "colab": {
          "base_uri": "https://localhost:8080/"
        },
        "outputId": "49fe3295-e0c7-42e0-a45e-32da637a0821"
      },
      "source": [
        "# Compute predicted probabilities on the test set\n",
        "probs = bert_predict(bert_classifier, val_dataloader)\n",
        "print(probs)\n",
        "# Evaluate the Bert classifier\n"
      ],
      "execution_count": null,
      "outputs": [
        {
          "output_type": "stream",
          "text": [
            "[[0.02835079 0.97164917]\n",
            " [0.98977214 0.01022787]\n",
            " [0.99254394 0.00745604]\n",
            " ...\n",
            " [0.13063562 0.8693644 ]\n",
            " [0.94522136 0.05477868]\n",
            " [0.98851275 0.01148731]]\n"
          ],
          "name": "stdout"
        }
      ]
    },
    {
      "cell_type": "code",
      "metadata": {
        "id": "exXiwAa1jq4d"
      },
      "source": [
        "def get_avg_preds(ensemble_predds, Temp):\n",
        "    ensemble_list = []\n",
        "    for pred in ensemble_predds:\n",
        "        pred_0_list = []\n",
        "        pred_1_list = []\n",
        "\n",
        "        # new_confidences = new_conficence_vals(pred, Temp)\n",
        "        # softmax_preds = get_softmax_preds(new_confidences)\n",
        "        \n",
        "        for i in pred:\n",
        "            pred_0_list.append(i[0])\n",
        "            pred_1_list.append(i[1])\n",
        "\n",
        "        pred_0_avg = sum(pred_0_list) / len(pred_0_list)\n",
        "        pred_1_avg = sum(pred_1_list) / len(pred_1_list)\n",
        "        \n",
        "        ensemble_list.append([pred_0_avg, pred_1_avg])\n",
        "\n",
        "    return ensemble_list"
      ],
      "execution_count": null,
      "outputs": []
    },
    {
      "cell_type": "code",
      "metadata": {
        "id": "j1anLyzfj18X"
      },
      "source": [
        "ensemble_predictions_zip = tuple(zip(model1_seed4_predictions[0], model2_seed8_predictions[0], model3_seed12_predictions[0], model4_seed16_predictions[0], model5_seed20_predictions[0]))\n"
      ],
      "execution_count": null,
      "outputs": []
    },
    {
      "cell_type": "code",
      "metadata": {
        "colab": {
          "base_uri": "https://localhost:8080/",
          "height": 331
        },
        "id": "x71ccKpuCrQY",
        "outputId": "49aa51d2-0510-4091-e30f-34d0946b28a1"
      },
      "source": [
        "evaluate_roc(probs, y_val)"
      ],
      "execution_count": null,
      "outputs": [
        {
          "output_type": "stream",
          "text": [
            "AUC: 0.9492\n",
            "Accuracy: 89.14%\n"
          ],
          "name": "stdout"
        },
        {
          "output_type": "display_data",
          "data": {
            "image/png": "[encoded data removed]",
            "text/plain": [
              "<Figure size 432x288 with 1 Axes>"
            ]
          },
          "metadata": {
            "tags": [],
            "needs_background": "light"
          }
        }
      ]
    },
    {
      "cell_type": "markdown",
      "metadata": {
        "id": "XekOuD6KbS2Q"
      },
      "source": [
        "The Bert Classifer achieves 0.95 AUC score and 88.89% accuracy rate on the validation set. This result is 10 points better than the baseline method. "
      ]
    },
    {
      "cell_type": "code",
      "metadata": {
        "id": "aS6C5yfSInyg"
      },
      "source": [
        "# Compute predicted probabilities on the test set\n",
        "probs = bert_predict(bert_classifier, val_dataloader)\n",
        "# print(probs)\n",
        "print(len(probs))\n",
        "# Get predictions from the probabilities\n",
        "threshold = 0.50\n",
        "preds = np.where(probs[:, 1] > threshold, 1, 0)\n",
        "print(preds)\n",
        "print(len(preds))\n",
        "\n",
        "# Number of tweets predicted non-negative\n",
        "print(\"Number of tweets predicted rumour: \", preds.sum())\n",
        "# label\n",
        "# non-rumour    393\n",
        "# rumour        187"
      ],
      "execution_count": null,
      "outputs": []
    },
    {
      "cell_type": "code",
      "metadata": {
        "id": "lB-tL1WP2d9T"
      },
      "source": [
        "unique, counts = np.unique(preds, return_counts=True)\n",
        "dict(zip(unique, counts))"
      ],
      "execution_count": null,
      "outputs": []
    },
    {
      "cell_type": "code",
      "metadata": {
        "id": "om6D0BajcpV7"
      },
      "source": [
        "Corpus_pred_bert = Corpus_dev\n",
        "print(Corpus_pred_bert.head())\n",
        "# y_predicted = nb_model.predict(X_test_tfidf)\n",
        "y_labels = [\"non-rumour\" if i==0 else \"rumour\" for i in preds]\n",
        "# print(y_predicted,y_predicted_labels)\n",
        "Corpus_pred_bert['label'] = y_labels\n",
        "print(Corpus_pred_bert.head())\n",
        "# Corpus_pred_bert.set_index('id',inplace=True)\n",
        "dictt_bert = Corpus_pred_bert.to_dict()['label']\n",
        "print(dictt_bert)\n",
        "print(len(dictt_bert))"
      ],
      "execution_count": null,
      "outputs": []
    },
    {
      "cell_type": "code",
      "metadata": {
        "id": "8MXw1Hk_2t5Q"
      },
      "source": [
        "with open(\"dev.baseline_bertF11.json\", \"w\") as outfile: \n",
        "    json.dump(dictt_bert, outfile)"
      ],
      "execution_count": null,
      "outputs": []
    },
    {
      "cell_type": "code",
      "metadata": {
        "id": "3QG7ebVW2SeI"
      },
      "source": [
        "# Compute predicted probabilities on the test set\n",
        "probs = bert_predict(bert_classifier, test_dataloader)\n",
        "# print(probs)\n",
        "print(len(probs))\n",
        "# Get predictions from the probabilities\n",
        "threshold = 0.55\n",
        "preds = np.where(probs[:, 1] > threshold, 1, 0)\n",
        "print(preds)\n",
        "print(len(preds))\n",
        "\n",
        "# Number of tweets predicted non-negative\n",
        "print(\"Number of tweets predicted rumour: \", preds.sum())\n",
        "# label\n",
        "# non-rumour    393\n",
        "# rumour        187"
      ],
      "execution_count": null,
      "outputs": []
    },
    {
      "cell_type": "code",
      "metadata": {
        "id": "-_KpA1mraMk7"
      },
      "source": [
        "unique, counts = np.unique(preds, return_counts=True)\n",
        "dict(zip(unique, counts))"
      ],
      "execution_count": null,
      "outputs": []
    },
    {
      "cell_type": "code",
      "metadata": {
        "id": "OPDg8bL42bSC"
      },
      "source": [
        "Corpus_pred_bert = Corpus_test\n",
        "print(Corpus_pred_bert.head())\n",
        "# y_predicted = nb_model.predict(X_test_tfidf)\n",
        "y_labels = [\"non-rumour\" if i==0 else \"rumour\" for i in preds]\n",
        "# print(y_predicted,y_predicted_labels)\n",
        "Corpus_pred_bert['label'] = y_labels\n",
        "print(Corpus_pred_bert.head())\n",
        "# Corpus_pred_bert.set_index('id',inplace=True)\n",
        "dictt_bert = Corpus_pred_bert.to_dict()['label']\n",
        "print(dictt_bert)\n",
        "print(len(dictt_bert))"
      ],
      "execution_count": null,
      "outputs": []
    },
    {
      "cell_type": "code",
      "metadata": {
        "id": "iUkUJ05wdhNz"
      },
      "source": [
        "with open(\"test.baseline_bertF1.json\", \"w\") as outfile: \n",
        "    json.dump(dictt_bert, outfile)"
      ],
      "execution_count": null,
      "outputs": []
    }
  ]
}