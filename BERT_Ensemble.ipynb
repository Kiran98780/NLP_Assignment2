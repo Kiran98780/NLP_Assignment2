{
  "nbformat": 4,
  "nbformat_minor": 0,
  "metadata": {
    "accelerator": "GPU",
    "colab": {
      "name": "BERT Ensemble",
      "provenance": [],
      "collapsed_sections": [
        "MstNuBjkCGsG",
        "slO_rmYgwmmE",
        "u07WRKnxsX96",
        "NVkXcFzrtREn",
        "Gse5DXa-iLEp",
        "pErITNxtyNpe",
        "Cp-vfxKZvl6M",
        "X79dYY3sxDCi",
        "lEPPYHa62JXF",
        "iUzFTvVruciZ",
        "oUPehrJzZKqI",
        "cOhME1UJDtgb",
        "8Ium_DgEC2Aa",
        "CfTkORPoa6kU",
        "6BXTe08fcqL3"
      ]
    },
    "kernelspec": {
      "display_name": "Python 3",
      "name": "python3"
    }
  },
  "cells": [
    {
      "cell_type": "markdown",
      "metadata": {
        "id": "MstNuBjkCGsG"
      },
      "source": [
        "# Step 1 - Mount drive\n",
        "Mount your google drive which has the training, test and dev jsonlfiles and labels"
      ]
    },
    {
      "cell_type": "code",
      "metadata": {
        "id": "Mir6Rrlv0b61"
      },
      "source": [
        "# from google.colab import drive\n",
        "# drive.flush_and_unmount()"
      ],
      "execution_count": 48,
      "outputs": []
    },
    {
      "cell_type": "code",
      "metadata": {
        "colab": {
          "base_uri": "https://localhost:8080/"
        },
        "id": "ouuno_uYZkxa",
        "outputId": "68ae7c78-636f-4a1d-c7d9-cfd36e10288a"
      },
      "source": [
        "from google.colab import drive\n",
        "drive.mount('/content/drive')"
      ],
      "execution_count": 49,
      "outputs": [
        {
          "output_type": "stream",
          "text": [
            "Drive already mounted at /content/drive; to attempt to forcibly remount, call drive.mount(\"/content/drive\", force_remount=True).\n"
          ],
          "name": "stdout"
        }
      ]
    },
    {
      "cell_type": "code",
      "metadata": {
        "id": "V1SQaQt50vlH"
      },
      "source": [
        "!apt-get install -y -qq software-properties-common python-software-properties module-init-tools\n",
        "!add-apt-repository -y ppa:alessandro-strada/ppa 2>&1 > /dev/null\n",
        "!apt-get update -qq 2>&1 > /dev/null\n",
        "!apt-get -y install -qq google-drive-ocamlfuse fuse\n",
        "from google.colab import auth\n",
        "auth.authenticate_user()\n",
        "from oauth2client.client import GoogleCredentials\n",
        "creds = GoogleCredentials.get_application_default()\n",
        "import getpass\n",
        "!google-drive-ocamlfuse -headless -id={creds.client_id} -secret={creds.client_secret} < /dev/null 2>&1 | grep URL\n",
        "vcode = getpass.getpass()\n",
        "!echo {vcode} | google-drive-ocamlfuse -headless -id={creds.client_id} -secret={creds.client_secret}\n",
        "!mkdir -p /content/drive2\n",
        "!google-drive-ocamlfuse /content/drive2"
      ],
      "execution_count": null,
      "outputs": []
    },
    {
      "cell_type": "code",
      "metadata": {
        "id": "LHZ0vJLqZwKH"
      },
      "source": [
        "%cd /content/drive2//NLP_data\n",
        "%ls"
      ],
      "execution_count": null,
      "outputs": []
    },
    {
      "cell_type": "markdown",
      "metadata": {
        "id": "slO_rmYgwmmE"
      },
      "source": [
        "# Step 2 - Setup"
      ]
    },
    {
      "cell_type": "markdown",
      "metadata": {
        "id": "31OW0dhozvli"
      },
      "source": [
        "##Load Essential Libraries"
      ]
    },
    {
      "cell_type": "code",
      "metadata": {
        "id": "l1ALrP-zZ28Z"
      },
      "source": [
        "!pip install spacy\n",
        "!pip install -U pip setuptools wheel\n",
        "!python -m spacy download en_core_web_sm\n",
        "!pip install pyLDAvis\n",
        "!python -m pip install wordcloud\n",
        "!pip install textblob\n",
        "# !pip install https://github.com/explosion/spacy-models/releases/download/en_core_web_sm-2.2.0/en_core_web_sm-2.2.0.tar.gz"
      ],
      "execution_count": null,
      "outputs": []
    },
    {
      "cell_type": "code",
      "metadata": {
        "id": "_lTXsMK3sNYr"
      },
      "source": [
        "import os\n",
        "import re\n",
        "import string\n",
        "from tqdm import tqdm\n",
        "import numpy as np\n",
        "import pandas as pd\n",
        "from datetime import datetime, time\n",
        "import time\n",
        "import collections\n",
        "import random\n",
        "import json\n",
        "import math\n",
        "from fractions import gcd\n",
        "from functools import reduce \n",
        "import operator\n",
        "import itertools\n",
        "import networkx as nx\n",
        "%matplotlib inline"
      ],
      "execution_count": null,
      "outputs": []
    },
    {
      "cell_type": "code",
      "metadata": {
        "id": "AlK_a0a_Zv7U"
      },
      "source": [
        "import nltk\n",
        "from nltk.tokenize import RegexpTokenizer\n",
        "from nltk.corpus import stopwords\n",
        "from nltk.stem.wordnet import WordNetLemmatizer\n",
        "from nltk.corpus import wordnet as wn\n",
        "from nltk import trigrams\n",
        "from nltk.corpus import stopwords\n",
        "from nltk import bigrams\n",
        "from nltk.util import ngrams\n",
        "\n",
        "import sklearn\n",
        "from sklearn import preprocessing\n",
        "from sklearn.linear_model import LogisticRegression\n",
        "from sklearn.metrics import accuracy_score, f1_score, precision_score, recall_score, classification_report, confusion_matrix\n",
        "from keras.preprocessing.text import Tokenizer\n",
        "import matplotlib.pyplot as plt\n",
        "import matplotlib.dates as mdates\n",
        "import matplotlib.pyplot as plt \n",
        "from sklearn.decomposition import LatentDirichletAllocation\n",
        "from sklearn.feature_extraction.text import CountVectorizer\n",
        "import seaborn as sns\n",
        "\n",
        "# import wordcloud\n",
        "from wordcloud import WordCloud\n",
        "from textblob import TextBlob\n",
        "import pyLDAvis\n",
        "import pyLDAvis.gensim_models as gensimvis\n",
        "from gensim import corpora\n",
        "import pickle\n",
        "import gensim\n",
        "\n",
        "import spacy\n",
        "spacy.load(\"en_core_web_sm\")\n",
        "from spacy.lang.en import English\n",
        "import spacy\n",
        "import en_core_web_sm"
      ],
      "execution_count": null,
      "outputs": []
    },
    {
      "cell_type": "code",
      "metadata": {
        "id": "mS7CXLgdZ2A2"
      },
      "source": [
        "nltk.download('wordnet')\n",
        "nltk.download('stopwords')\n",
        "en_stop = set(nltk.corpus.stopwords.words('english'))"
      ],
      "execution_count": null,
      "outputs": []
    },
    {
      "cell_type": "markdown",
      "metadata": {
        "id": "u07WRKnxsX96"
      },
      "source": [
        "## Load Dataset\n",
        "\n"
      ]
    },
    {
      "cell_type": "code",
      "metadata": {
        "id": "k0UrIK80lWfr"
      },
      "source": [
        "def user_details(tweets_final,tweets_df):\n",
        "    tweets_final[\"screen_name\"] = tweets_df[\"user\"].apply(lambda x: x[\"screen_name\"])\n",
        "    tweets_final[\"user_id\"] = tweets_df[\"user\"].apply(lambda x: x[\"id\"])\n",
        "    tweets_final[\"followers_count\"] = tweets_df[\"user\"].apply(lambda x: x[\"followers_count\"])\n",
        "    tweets_final[\"friends_count\"] = tweets_df[\"user\"].apply(lambda x: x[\"friends_count\"])\n",
        "    tweets_final[\"statuses_count\"] = tweets_df[\"user\"].apply(lambda x: x[\"statuses_count\"])\n",
        "    tweets_final[\"listed_count\"] = tweets_df[\"user\"].apply(lambda x: x[\"listed_count\"])\n",
        "    tweets_final[\"favourites_count\"] = tweets_df[\"user\"].apply(lambda x: x[\"favourites_count\"])\n",
        "    tweets_final[\"verified\"] = tweets_df[\"user\"].apply(lambda x: x[\"verified\"])\n",
        "    tweets_final[\"location\"] = tweets_df[\"user\"].apply(lambda x: x[\"location\"])\n",
        "    tweets_final[\"time_zone\"] = tweets_df[\"user\"].apply(lambda x: x[\"time_zone\"])\n",
        "    tweets_final[\"geo_enabled\"] = tweets_df[\"user\"].apply(lambda x: x[\"geo_enabled\"])\n",
        "    tweets_final[\"user_created_at\"] = tweets_df[\"user\"].apply(lambda x: x[\"created_at\"])\n",
        "    tweets_final[\"protected\"] = tweets_df[\"user\"].apply(lambda x: x[\"protected\"])\n",
        "    tweets_final[\"default_profile\"] = tweets_df[\"user\"].apply(lambda x: x[\"default_profile\"])\n",
        "\n",
        "    return tweets_final\n",
        "def get_basics(tweets_final,tweets_df):\n",
        "    # Just copy the 'in_reply' columns to the new dataframe\n",
        "    tweets_final[\"id\"]= tweets_df[\"id_str\"]\n",
        "    tweets_final[\"in_reply_to_status_id_str\"]= tweets_df[\"in_reply_to_status_id_str\"]\n",
        "    tweets_final[\"tweet\"]= tweets_df[\"tweet\"]\n",
        "    tweets_final[\"in_reply_to_user_id_str\"]= tweets_df[\"in_reply_to_user_id_str\"]\n",
        "    tweets_final[\"in_reply_to_screen_name\"] = tweets_df[\"in_reply_to_screen_name\"]\n",
        "    tweets_final[\"favorited\"] = tweets_df[\"favorited\"]\n",
        "    tweets_final[\"favorite_count\"]= tweets_df[\"favorite_count\"]\n",
        "    tweets_final[\"retweeted\"]= tweets_df[\"retweeted\"]\n",
        "    tweets_final[\"retweet_count\"]= tweets_df[\"retweet_count\"]\n",
        "    tweets_final[\"created_at\"]= tweets_df[\"created_at\"]\n",
        "\n",
        "    return tweets_final\n",
        "\n",
        "def fill_df(tweets_final,tweets_df):\n",
        "    user_details(tweets_final,tweets_df)\n",
        "    get_basics(tweets_final,tweets_df)\n",
        "    return tweets_final"
      ],
      "execution_count": null,
      "outputs": []
    },
    {
      "cell_type": "code",
      "metadata": {
        "id": "QK07OJ21IS9Y"
      },
      "source": [
        "#function to return the replies as a list for a source tweet \n",
        "def get_replies(df):\n",
        "    dict_time = {}\n",
        "    # rows = df.loc[\"Utah Jazz\"]\n",
        "    for index, row in df.iterrows():\n",
        "        #check if the in_reply_to_status_id_str string matches a number\n",
        "        x = re.search(r'\\d+', str(row['in_reply_to_status_id_str']))  \n",
        "        if x:\n",
        "            \n",
        "            #append the reply tweets in a big_list and return the list\n",
        "            big_list.append(row[\"tweet\"]) \n",
        "            #if the tweets are created at the same time - append it to existing list\n",
        "            if (row[\"created_at\"] in dict_time):\n",
        "                # print(\"True\")\n",
        "                value = dict_time.get(row[\"created_at\"])\n",
        "                value.append(row[\"tweet\"])\n",
        "                dict_time[row[\"created_at\"]] = value\n",
        "                # print(replyTw_list)\n",
        "            else:\n",
        "                replyTw_list = []\n",
        "                replyTw_list.append(row[\"tweet\"])\n",
        "                # print(replyTw_list) \n",
        "                dict_time[row[\"created_at\"]] = replyTw_list\n",
        "            # print(dict_time)\n",
        "        else:\n",
        "            big_list = []\n",
        "    #returns the list of replies for a source tweet, length of the reply list and dict of {created_at_Time:reply_tweet}\n",
        "    # print(big_list, dict_time)\n",
        "    return big_list,len(big_list),dict_time \n",
        "\n",
        "    \n",
        "#function to return the list of reply tweets sorted by time for all source tweets\n",
        "#takes the list of dictionaries as a parameter of the form [{created_At_time1:[tweet1, tweet2]},{created_At_time2:[tweet3]}]\n",
        "def get_sorted_by_time(dict_replies_list):\n",
        "    sorted_list = []\n",
        "    for i in range(len(dict_replies_list)):\n",
        "        # dtime = 'Mon Dec 15 21:50:30 +0000 2014'\n",
        "        newkeys_list = []\n",
        "        vals =[]\n",
        "        for k, v in dict_replies_list[i].items():  \n",
        "            new_datetime = datetime.strftime(datetime.strptime(k,'%a %b %d %H:%M:%S +0000 %Y'), '%Y-%m-%d %H:%M:%S') \n",
        "            date_to_float = datetime.fromisoformat(new_datetime).timestamp()#1420646211.0\n",
        "            newkeys_list.append(date_to_float) #list of keys for the new dictionary \n",
        "            vals = list(dict_replies_list[i].values()) #list of values for the new dictionary \n",
        "        newdictionary = {k: v for k, v in zip(newkeys_list, vals)} #zip the keys and values to form a new dictionary \n",
        "        od = collections.OrderedDict(sorted(newdictionary.items()))\n",
        "#         print(\"DICT KEYS AFTER SORtiNG:\\n\", od.keys(), len(od))\n",
        "#         print(\"DICT KEYS AFTER SORtiNG:\\n\", newdictionary.keys(), len(newdictionary),\"\\n Values:\\n\",newdictionary.values())\n",
        "        sorted_list.append(od)\n",
        "    # print(\"The length of sorted list is = \", len(sorted_list))\n",
        "    return sorted_list"
      ],
      "execution_count": null,
      "outputs": []
    },
    {
      "cell_type": "markdown",
      "metadata": {
        "id": "NVkXcFzrtREn"
      },
      "source": [
        "### 2.1. Load Train Data\n",
        "The train.data.jsonl has about 4k source tweets and about 81k source + reply tweets.\n",
        "\n",
        "The label files ([train,dev].label.json), are standard JSON files:\n",
        "{\n",
        "\"552800070199148544\": \"non-rumour\",\n",
        "\"544388259359387648\": \"non-rumour\",\n",
        "\"552805970536333314\": \"non-rumour\",\n",
        "\"525071376084791297\": \"rumour\"\n",
        "} \n",
        "\n",
        "All data files ([train,dev,test,covid].data.jsonl) are JSONL files, where each line is a JSON string. For these files, each line is an event: a list of tweets where the first tweet is a source tweet and the rest are reply tweets.\n",
        "\n",
        "Here the train data is loaded and merged with the labels and the resulting columns are \"id_str\",\"in_reply_to_status_id_str\",\"text\", \"user\",\"favorited\",\"in_reply_to_user_id_str\",\"created_at\", \"label\"]."
      ]
    },
    {
      "cell_type": "code",
      "metadata": {
        "id": "sPNSwVPdrtZv"
      },
      "source": [
        "pd.set_option('display.width', 1000)\n",
        "pd.set_option('display.max_columns', 500)\n",
        "pd.set_option('display.min_rows', 100)\n",
        "pd.set_option('display.max_rows', 500)\n",
        "with open(\"train.data.jsonl\", 'r', encoding='utf-8') as train_data_file:\n",
        "  list_of_rlists = []\n",
        "  chunks = [] #list of all the dataframes for all source and reply tweets\n",
        "  num_replies = [] #list of number of replies for every source tweet \n",
        "  dict_replies= {} #dict of {created_At_time:[reply tweet]} for every source tweet\n",
        "  list_replies = []\n",
        "  dict_replies_list = []\n",
        "  for line in train_data_file:\n",
        "    train_Data_list = json.loads(line)\n",
        "    df = pd.DataFrame.from_dict(train_Data_list)\n",
        "    # df = df[['screen_name', 'user_id', 'followers_count', 'friends_count', 'statuses_count', 'listed_count', 'favourites_count', 'verified', 'location', 'time_zone', 'geo_enabled', 'user_created_at', 'protected', 'default_profile', 'id', 'in_reply_to_status_id_str', 'text', 'in_reply_to_user_id_str', 'in_reply_to_screen_name', 'favorited', 'favorite_count', 'retweeted', 'retweet_count', 'created_at', 'label']]\n",
        "    # df.rename(columns={'id_str': 'id'}, inplace=True)\n",
        "    df.rename(columns={'text': 'tweet'}, inplace=True)\n",
        "    replies_list,len_reply_list,dict_replies = get_replies(df) #reply list for a single source tweet\n",
        "    replies_list_2d = list(dict_replies.values()) #get all the replies for a single source tweet\n",
        "    # print(len(replies_list_2d))\n",
        "    replies_list_1d = [j for sub in replies_list_2d for j in sub]\n",
        "    # print(len(replies_list_1d))\n",
        "    reply_length = len(replies_list_1d)\n",
        "    list_replies.append(reply_length) \n",
        "    dict_replies_list.append(dict_replies)\n",
        "\n",
        "    chunks.append(df)\n",
        "    list_of_rlists.append(replies_list)\n",
        "    num_replies.append(len_reply_list)\n",
        "    # print(\"The output of list_of_rlists in every iteration=\",list_of_rlists,\"\\n\",len(list_of_rlists))\n",
        "  dfs1 = pd.concat(chunks)\n",
        "train_data_file.close()\n",
        "#print(dfs1)\n",
        "# print(\"The len of list of list of replies=\", len(list_of_rlists))\n",
        "\n",
        "\n",
        "with open(\"train.label.json\") as train_label_file:\n",
        "    train_label_json_file = json.load(train_label_file)\n",
        "    df_train_label = pd.DataFrame(list(train_label_json_file.items()),columns = ['id', 'label'])\n",
        "train_label_file.close()\n",
        "\n",
        "#check for class imbalance\n",
        "# print(df_train_label)\n",
        "# print(df_train_label.groupby('label').size())\n",
        "# non - rumour\n",
        "# 3058\n",
        "# rumour\n",
        "# 1583a\n",
        "\n",
        "#check the id and if it is present in rumours/non-rumours labels, then add it to the row of that dataframe (check from the labels dataframe)\n",
        "df_final1 = pd.merge(dfs1, df_train_label, how='left', left_on='id_str', right_on='id')\n",
        "df_final2 = pd.merge(dfs1, df_train_label, how='inner', left_on='id_str', right_on='id')\n",
        "\n",
        "# print(df_final1)\n",
        "print(df_final1.shape) #(81120, 7) (81120, 29)\n",
        "\n",
        "# print(df_final2)\n",
        "print(df_final2.shape) #(4641, 7) (4641, 29)\n",
        "\n",
        "\n",
        "#only text and label - drop columns from old one and store in new one \n",
        "# Corpus = df_final2\n",
        "Corpus = df_final2[[\"id_str\",\"tweet\", \"label\"]]\n",
        "Corpus.rename(columns={'label': 'labels'}, inplace=True)\n",
        "Corpus.rename(columns={'id_str': 'id'}, inplace=True)\n",
        "le = preprocessing.LabelEncoder()\n",
        "\n",
        "reply_dict_list = get_sorted_by_time(dict_replies_list) #list of dicts \n",
        "sorted_replies = []\n",
        "for i in range(len(reply_dict_list)):\n",
        "  values_2d = reply_dict_list[i].values()\n",
        "  values_list_1d = [j for sub in values_2d for j in sub ]\n",
        "  sorted_replies.append(values_list_1d)\n",
        "\n",
        "Corpus['label'] = le.fit_transform(Corpus['labels'])\n",
        "Corpus[\"all_replies\"] = list_of_rlists #has a list of replies \n",
        "Corpus[\"num_replies\"] = num_replies\n",
        "Corpus[\"dict_replies\"] = list_replies\n",
        "Corpus[\"all_replies_by_time\"] = sorted_replies\n",
        "print(Corpus.head(10))\n",
        "print(Corpus.dtypes)\n",
        "print(Corpus.shape)\n",
        "\n",
        "source_train = pd.DataFrame()\n",
        "source_train = fill_df(source_train,df_final2)\n",
        "source_train[\"labels\"] = df_final2[\"label\"]\n",
        "source_train[\"all_replies\"] = Corpus[\"all_replies\"] #has a list of replies \n",
        "source_train[\"num_replies\"] = Corpus[\"num_replies\"]\n",
        "source_train[\"all_replies_by_time\"] = Corpus[\"dict_replies\"]\n",
        "source_train[\"dict_replies\"] = Corpus[\"all_replies_by_time\"]\n",
        "print(source_train.shape)\n",
        "print(source_train.columns)\n",
        "\n",
        "all_train = pd.DataFrame()\n",
        "all_train = fill_df(all_train,df_final1)\n",
        "all_train[\"labels\"] = df_final1[\"label\"]\n",
        "print(all_train.shape)\n",
        "print(all_train.columns)"
      ],
      "execution_count": null,
      "outputs": []
    },
    {
      "cell_type": "markdown",
      "metadata": {
        "id": "Gse5DXa-iLEp"
      },
      "source": [
        "### 2.2. Load Development/Validation Data\n",
        "The train.data.jsonl has about 4k source tweets and about 81k source + reply tweets.\n",
        "\n",
        "The label files ([train,dev].label.json), are standard JSON files:\n",
        "{\n",
        "\"552800070199148544\": \"non-rumour\",\n",
        "\"544388259359387648\": \"non-rumour\",\n",
        "\"552805970536333314\": \"non-rumour\",\n",
        "\"525071376084791297\": \"rumour\"\n",
        "} \n",
        "\n",
        "All data files ([train,dev,test,covid].data.jsonl) are JSONL files, where each line is a JSON string. For these files, each line is an event: a list of tweets where the first tweet is a source tweet and the rest are reply tweets.\n",
        "\n",
        "Here the train data is loaded and merged with the labels and the resulting columns are \"id_str\",\"in_reply_to_status_id_str\",\"text\", \"user\",\"favorited\",\"in_reply_to_user_id_str\",\"created_at\", \"label\"]."
      ]
    },
    {
      "cell_type": "code",
      "metadata": {
        "id": "d7Ia_lRgsitT"
      },
      "source": [
        "with open(\"dev.data.jsonl\", 'r', encoding='utf-8') as dev_data_file:\n",
        "  list_of_rlists = []\n",
        "  chunks = []\n",
        "  num_replies = []\n",
        "  dict_replies= {}\n",
        "  list_replies = []\n",
        "  dict_replies_list = []\n",
        "  for line in dev_data_file:\n",
        "    dev_Data_list = json.loads(line)\n",
        "    df = pd.DataFrame.from_dict(dev_Data_list)\n",
        "    # df = df[[\"id_str\",\"in_reply_to_status_id_str\",\"text\", \"user\",\"favorited\",\"in_reply_to_user_id_str\",\"created_at\"]]\n",
        "    # df.rename(columns={'id_str': 'id'}, inplace=True)\n",
        "    df.rename(columns={'text': 'tweet'}, inplace=True)\n",
        "\n",
        "    # replies_list,len_reply_list = get_replies(df)\n",
        "    replies_list,len_reply_list,dict_replies = get_replies(df) #reply list for a single source tweet\n",
        "    replies_list_2d = list(dict_replies.values()) #get all the replies for a single source tweet\n",
        "    # print(len(replies_list_2d))\n",
        "    replies_list_1d = [j for sub in replies_list_2d for j in sub]\n",
        "    # print(len(replies_list_1d))\n",
        "    reply_length = len(replies_list_1d)\n",
        "    list_replies.append(reply_length) \n",
        "    dict_replies_list.append(dict_replies)\n",
        "\n",
        "    chunks.append(df)\n",
        "    num_replies.append(len_reply_list)\n",
        "    list_of_rlists.append(replies_list)\n",
        "  dfs_dev = pd.concat(chunks)\n",
        "dev_data_file.close()\n",
        "#print(dfs_dev)\n",
        "\n",
        "with open(\"dev.label.json\") as dev_label_file:\n",
        "    dev_label_json_file = json.load(dev_label_file)\n",
        "    df_dev_label = pd.DataFrame(list(dev_label_json_file.items()),columns = ['id', 'label'])\n",
        "dev_label_file.close()\n",
        "\n",
        "#check the id and if it is present in rumours/non-rumours labels, then add it to the row of that dataframe (check from the labels dataframe)\n",
        "df_final1_dev = pd.merge(dfs_dev, df_dev_label, how='left', left_on='id_str', right_on='id')\n",
        "df_final2_dev = pd.merge(dfs_dev, df_dev_label, how='inner', left_on='id_str', right_on='id')\n",
        "\n",
        "print(df_final1_dev.shape)\n",
        "print(df_final2_dev.shape)\n",
        "\n",
        "reply_dict_list = get_sorted_by_time(dict_replies_list) #list of dicts \n",
        "sorted_replies = []\n",
        "for i in range(len(reply_dict_list)):\n",
        "  values_2d = reply_dict_list[i].values()\n",
        "  values_list_1d = [j for sub in values_2d for j in sub ]\n",
        "  sorted_replies.append(values_list_1d)\n",
        "\n",
        "#only text and label - drop columns from old one and store in new one \n",
        "Corpus_dev = df_final2_dev[[\"id_str\",\"tweet\", \"label\"]]\n",
        "Corpus_dev.rename(columns={'label': 'labels'}, inplace=True)\n",
        "Corpus_dev.rename(columns={'id_str': 'id'}, inplace=True)\n",
        "# Corpus_dev = df_final2_dev\n",
        "le = preprocessing.LabelEncoder()\n",
        "Corpus_dev['label'] = le.fit_transform(Corpus_dev['labels'])\n",
        "Corpus_dev[\"all_replies\"] = list_of_rlists #has a list of replies \n",
        "Corpus_dev[\"num_replies\"] = num_replies\n",
        "Corpus_dev[\"all_replies_by_time\"] = sorted_replies\n",
        "Corpus_dev[\"dict_replies\"] = list_replies\n",
        "\n",
        "print(Corpus_dev.head(10))\n",
        "print(Corpus_dev.shape)\n",
        "print(Corpus_dev.dtypes)\n",
        "\n",
        "source_dev = pd.DataFrame()\n",
        "source_dev = fill_df(source_dev,df_final2_dev)\n",
        "source_dev[\"labels\"] = df_final2_dev[\"label\"]\n",
        "source_dev[\"all_replies\"] = list_of_rlists #has a list of replies \n",
        "source_dev[\"num_replies\"] = num_replies\n",
        "source_dev[\"all_replies_by_time\"] = sorted_replies\n",
        "source_dev[\"dict_replies\"] = list_replies\n",
        "print(source_dev.shape)\n",
        "print(source_dev.columns)\n",
        "\n",
        "all_dev = pd.DataFrame()\n",
        "all_dev = fill_df(all_dev,df_final1_dev)\n",
        "all_dev[\"labels\"] = df_final1_dev[\"label\"]\n",
        "print(all_dev.shape)\n",
        "print(all_dev.columns)\n"
      ],
      "execution_count": null,
      "outputs": []
    },
    {
      "cell_type": "code",
      "metadata": {
        "id": "ddoujcQZBJZW"
      },
      "source": [
        "\n",
        "diff =Corpus_dev[Corpus_dev.num_replies != Corpus_dev.dict_replies]\n",
        "print(len(diff))\n",
        "diff\n",
        "print(diff)"
      ],
      "execution_count": null,
      "outputs": []
    },
    {
      "cell_type": "markdown",
      "metadata": {
        "id": "pErITNxtyNpe"
      },
      "source": [
        "### 2.3. Load Test Data\n",
        "The test data contains 4555 examples with no label. About 300 examples are non-complaining tweets. Our task is to identify their `id` and examine manually whether our results are correct."
      ]
    },
    {
      "cell_type": "code",
      "metadata": {
        "id": "AawqTchYsiga"
      },
      "source": [
        "with open(\"test.data.jsonl\", 'r', encoding='utf-8') as test_data_file:\n",
        "  list_of_rlists = []\n",
        "  chunks = []\n",
        "  num_replies = []\n",
        "  dict_replies= {}\n",
        "  list_replies = []\n",
        "  dict_replies_list = []\n",
        "\n",
        "  for line in test_data_file:\n",
        "    train_Data_list = json.loads(line)\n",
        "    df = pd.DataFrame.from_dict(train_Data_list)\n",
        "    # df = df[[\"id_str\",\"in_reply_to_status_id_str\",\"text\", \"user\",\"favorited\",\"in_reply_to_user_id_str\",\"created_at\"]]\n",
        "    # df.rename(columns={'id_str': 'id'}, inplace=True)\n",
        "    df.rename(columns={'text': 'tweet'}, inplace=True)\n",
        "    # replies_list,len_reply_list = get_replies(df)\n",
        "    \n",
        "    replies_list,len_reply_list,dict_replies = get_replies(df) #reply list for a single source tweet\n",
        "    replies_list_2d = list(dict_replies.values()) #get all the replies for a single source tweet\n",
        "    # print(len(replies_list_2d))\n",
        "    replies_list_1d = [j for sub in replies_list_2d for j in sub]\n",
        "    # print(len(replies_list_1d))\n",
        "    reply_length = len(replies_list_1d)\n",
        "    list_replies.append(reply_length) \n",
        "    dict_replies_list.append(dict_replies)\n",
        "\n",
        "    chunks.append(df)\n",
        "    num_replies.append(len_reply_list)\n",
        "    list_of_rlists.append(replies_list)\n",
        "  dfs1 = pd.concat(chunks)\n",
        "test_data_file.close()\n",
        "#print(dfs1)\n",
        "finalll = dfs1[dfs1['in_reply_to_status_id_str'].isna()] #source tweets\n",
        "# print(finalll)\n",
        "\n",
        "reply_dict_list = get_sorted_by_time(dict_replies_list) #list of dicts \n",
        "sorted_replies = []\n",
        "for i in range(len(reply_dict_list)):\n",
        "  values_2d = reply_dict_list[i].values()\n",
        "  values_list_1d = [j for sub in values_2d for j in sub ]\n",
        "  sorted_replies.append(values_list_1d)\n",
        "\n",
        "#only text - drop columns from old one and store in new one \n",
        "Corpus_test = finalll[[\"id_str\",\"tweet\"]]\n",
        "# Corpus_test = finalll\n",
        "Corpus_test.rename(columns={'id_str': 'id'}, inplace=True)\n",
        "Corpus_test[\"all_replies\"] = list_of_rlists #has a list of replies \n",
        "Corpus_test[\"num_replies\"] = num_replies\n",
        "Corpus_test[\"dict_replies\"] = list_replies\n",
        "Corpus_test[\"all_replies_by_time\"] = sorted_replies\n",
        "\n",
        "print(Corpus_test.head(10))\n",
        "print(Corpus_test.shape)\n",
        "print(Corpus_test.dtypes)\n",
        "\n",
        "source_test = pd.DataFrame()\n",
        "source_test = fill_df(source_test,finalll)\n",
        "source_test[\"all_replies\"] = list_of_rlists #has a list of replies \n",
        "source_test[\"num_replies\"] = num_replies\n",
        "source_test[\"dict_replies\"] = list_replies\n",
        "source_test[\"all_replies_by_time\"] = sorted_replies\n",
        "print(source_test.shape)\n",
        "print(source_test.columns)\n",
        "\n",
        "all_test = pd.DataFrame()\n",
        "all_test = fill_df(all_test,dfs1)\n",
        "print(all_test.shape)\n",
        "print(all_test.columns)"
      ],
      "execution_count": null,
      "outputs": []
    },
    {
      "cell_type": "code",
      "metadata": {
        "id": "2Wig_23XBzp3"
      },
      "source": [
        "diff =Corpus_test[Corpus_test.num_replies != Corpus_test.dict_replies]\n",
        "print(Corpus_test.iloc[0][\"tweet\"])\n",
        "print(Corpus_test.iloc[0][\"all_replies_by_time\"])\n",
        "print(Corpus_dev.iloc[0][\"tweet\"])\n",
        "print(Corpus_dev.iloc[0][\"all_replies_by_time\"])\n",
        "print(len(diff))\n",
        "diff\n",
        "print(diff)"
      ],
      "execution_count": null,
      "outputs": []
    },
    {
      "cell_type": "markdown",
      "metadata": {
        "id": "Cp-vfxKZvl6M"
      },
      "source": [
        "## Setting input format/sentence structure for BERT"
      ]
    },
    {
      "cell_type": "code",
      "metadata": {
        "id": "X4HKAFTbvMwI"
      },
      "source": [
        "replies_train = [' [SEP] '.join([str(tweet) for tweet in all_replies]) for all_replies in Corpus.all_replies_by_time.values]\n",
        "replies_dev = [' [SEP] '.join([str(tweet) for tweet in all_replies]) for all_replies in Corpus_dev.all_replies_by_time.values]\n",
        "replies_test = [' [SEP] '.join([str(tweet) for tweet in all_replies]) for all_replies in Corpus_test.all_replies_by_time.values]\n",
        "X_train = list(zip(Corpus.tweet.values, replies_train)) #concatenate all replies sorted by time to the source tweets\n",
        "X_val = list(zip(Corpus_dev.tweet.values, replies_dev))\n",
        "y_train = Corpus.label.values\n",
        "y_val = Corpus_dev.label.values\n",
        "X_test = list(zip(Corpus_test.tweet.values, replies_test))\n",
        "print(len(X_train),len(X_val),len(X_test))\n",
        "print(type(X_train))\n",
        "for i in range(10):\n",
        "  print(X_val[i])\n",
        "  print(X_val[i][0],\"\\n\") #printing only the source tweets "
      ],
      "execution_count": null,
      "outputs": []
    },
    {
      "cell_type": "markdown",
      "metadata": {
        "id": "X79dYY3sxDCi"
      },
      "source": [
        "## Set up GPU for training"
      ]
    },
    {
      "cell_type": "markdown",
      "metadata": {
        "id": "Zi1CoEOL1puh"
      },
      "source": [
        "Google Colab offers free GPUs and TPUs. Since we'll be training a large neural network it's best to utilize these features.\n",
        "\n",
        "A GPU can be added by going to the menu and selecting:\n",
        "\n",
        "`Runtime -> Change runtime type -> Hardware accelerator: GPU`\n",
        "\n",
        "Then we need to run the following cell to specify the GPU as the device."
      ]
    },
    {
      "cell_type": "code",
      "metadata": {
        "id": "K7hxtI4l0SUJ"
      },
      "source": [
        "import torch\n",
        "\n",
        "if torch.cuda.is_available():       \n",
        "    device = torch.device(\"cuda\")\n",
        "    print(f'There are {torch.cuda.device_count()} GPU(s) available.')\n",
        "    print('Device name:', torch.cuda.get_device_name(0))\n",
        "\n",
        "else:\n",
        "    print('No GPU available, using the CPU instead.')\n",
        "    device = torch.device(\"cpu\")"
      ],
      "execution_count": null,
      "outputs": []
    },
    {
      "cell_type": "code",
      "metadata": {
        "id": "qS2gb-9mJK2w"
      },
      "source": [
        "from sklearn.metrics import accuracy_score, roc_curve, auc\n",
        "\n",
        "def evaluate_roc(probs, y_true):\n",
        "    \"\"\"\n",
        "    - Print AUC and accuracy on the test set\n",
        "    - Plot ROC\n",
        "    @params    probs (np.array): an array of predicted probabilities with shape (len(y_true), 2)\n",
        "    @params    y_true (np.array): an array of the true values with shape (len(y_true),)\n",
        "    \"\"\"\n",
        "    preds = probs[:, 1]\n",
        "    # print(\"preds\", preds)\n",
        "    fpr, tpr, threshold = roc_curve(y_true, preds)\n",
        "    # print(fpr, tpr, threshold)\n",
        "    roc_auc = auc(fpr, tpr)\n",
        "    print(f'AUC: {roc_auc:.4f}')\n",
        "       \n",
        "    # Get accuracy over the test set\n",
        "    y_pred = np.where(preds >= 0.5, 1, 0)\n",
        "    accuracy = accuracy_score(y_true, y_pred)\n",
        "    print(f'Accuracy: {accuracy*100:.2f}%')\n",
        "    \n",
        "    # Plot ROC AUC\n",
        "    plt.title('Receiver Operating Characteristic')\n",
        "    plt.plot(fpr, tpr, 'b', label = 'AUC = %0.2f' % roc_auc)\n",
        "    plt.legend(loc = 'lower right')\n",
        "    plt.plot([0, 1], [0, 1],'r--')\n",
        "    plt.xlim([0, 1])\n",
        "    plt.ylim([0, 1])\n",
        "    plt.ylabel('True Positive Rate')\n",
        "    plt.xlabel('False Positive Rate')\n",
        "    plt.show()"
      ],
      "execution_count": null,
      "outputs": []
    },
    {
      "cell_type": "markdown",
      "metadata": {
        "id": "lEPPYHa62JXF"
      },
      "source": [
        "# Step 3 - Fine-tuning BERT"
      ]
    },
    {
      "cell_type": "markdown",
      "metadata": {
        "id": "bYJRzWI73eBJ"
      },
      "source": [
        "## 1. Install the Hugging Face Library"
      ]
    },
    {
      "cell_type": "markdown",
      "metadata": {
        "id": "Yxv-EJ2j31Iv"
      },
      "source": [
        "The transformer library of Hugging Face contains PyTorch implementation of state-of-the-art NLP models including BERT (from Google), GPT (from OpenAI) ... and pre-trained model weights."
      ]
    },
    {
      "cell_type": "code",
      "metadata": {
        "id": "uFiv8WGl4p40"
      },
      "source": [
        "!pip install transformers==2.8.0"
      ],
      "execution_count": null,
      "outputs": []
    },
    {
      "cell_type": "markdown",
      "metadata": {
        "id": "D4sXctSh4sq0"
      },
      "source": [
        "## 2. Tokenization and Input Formatting"
      ]
    },
    {
      "cell_type": "markdown",
      "metadata": {
        "id": "ygbZpK6qbIYE"
      },
      "source": [
        "Before tokenizing our text, we will perform some slight processing on our text including removing entity mentions (eg. @united) and some special character. The level of processing here is much less than in previous approachs because BERT was trained with the entire sentences."
      ]
    },
    {
      "cell_type": "code",
      "metadata": {
        "id": "4L_Rc7l4bgzJ"
      },
      "source": [
        "def text_preprocessing(text):\n",
        "    \"\"\"\n",
        "    - Remove entity mentions (eg. '@united')\n",
        "    - Correct errors (eg. '&amp;' to '&')\n",
        "    @param    text (str): a string to be processed.\n",
        "    @return   text (Str): the processed string.\n",
        "    \"\"\"\n",
        "    # Remove '@name'\n",
        "    text_ = [re.sub(r'(@.*?)[\\s]', ' ', i) for i in text]\n",
        "\n",
        "    # Replace '&amp;' with '&'\n",
        "    text_ = [re.sub(r'&amp;', '&', i) for i in text_]\n",
        "\n",
        "    # Remove trailing whitespace\n",
        "    text_ = [re.sub(r'\\s+', ' ', i).strip() for i in text_]\n",
        "    text_ = ' [CLS] ' + text_[0] + ' [SEP] ' + text_[1] + ' [SEP] '\n",
        "    return text_"
      ],
      "execution_count": null,
      "outputs": []
    },
    {
      "cell_type": "code",
      "metadata": {
        "id": "qyYmHR8McE0r"
      },
      "source": [
        "# Print sentence 0\n",
        "print('Original: ', X_train[1])\n",
        "# for i in range(10):\n",
        "#     print(X_train[i])\n",
        "print('Processed: ', text_preprocessing(X_train[0]))"
      ],
      "execution_count": null,
      "outputs": []
    },
    {
      "cell_type": "markdown",
      "metadata": {
        "id": "i3acv6s95YYr"
      },
      "source": [
        "### 2.1. BERT Tokenizer"
      ]
    },
    {
      "cell_type": "markdown",
      "metadata": {
        "id": "C1fRHtdU5dEn"
      },
      "source": [
        "In order to apply the pre-trained BERT, we must use the tokenizer provided by the library. This is because (1) the model has a specific, fixed vocabulary and (2) the BERT tokenizer has a particular way of handling out-of-vocabulary words.\n",
        "\n",
        "In addition, we are required to add special tokens to the start and end of each sentence, pad & truncate all sentences to a single constant length, and explicitly specify what are padding tokens with the \"attention mask\".\n",
        "\n",
        "The `encode_plus` method of BERT tokenizer will:\n",
        "\n",
        "(1) split our text into tokens,\n",
        "\n",
        "(2) add the special `[CLS]` and `[SEP]` tokens, and\n",
        "\n",
        "(3) convert these tokens into indexes of the tokenizer vocabulary,\n",
        "\n",
        "(4) pad or truncate sentences to max length, and\n",
        "\n",
        "(5) create attention mask.\n",
        "\n",
        "\n",
        "\n",
        "\n"
      ]
    },
    {
      "cell_type": "code",
      "metadata": {
        "id": "yDAfbCle59tP"
      },
      "source": [
        "from transformers import BertTokenizer\n",
        "\n",
        "# Load the BERT tokenizer\n",
        "tokenizer = BertTokenizer.from_pretrained('bert-base-uncased', do_lower_case=True)\n",
        "\n",
        "# Create a function to tokenize a set of texts\n",
        "def preprocessing_for_bert(data):\n",
        "    \"\"\"Perform required preprocessing steps for pretrained BERT.\n",
        "    @param    data (np.array): Array of texts to be processed.\n",
        "    @return   input_ids (torch.Tensor): Tensor of token ids to be fed to a model.\n",
        "    @return   attention_masks (torch.Tensor): Tensor of indices specifying which\n",
        "                  tokens should be attended to by the model.\n",
        "    \"\"\"\n",
        "    # Create empty lists to store outputs\n",
        "    input_ids = []\n",
        "    attention_masks = []\n",
        "\n",
        "    # For every sentence...\n",
        "    for sent in data:\n",
        "      \n",
        "        # `encode_plus` will:\n",
        "        #    (1) Tokenize the sentence\n",
        "        #    (2) Add the `[CLS]` and `[SEP]` token to the start and end\n",
        "        #    (3) Truncate/Pad sentence to max length\n",
        "        #    (4) Map tokens to their IDs\n",
        "        #    (5) Create attention mask\n",
        "        #    (6) Return a dictionary of outputs\n",
        "        encoded_sent = tokenizer.encode_plus(\n",
        "            text=text_preprocessing(sent),  # Preprocess sentence\n",
        "            add_special_tokens=True,        # Add `[CLS]` and `[SEP]`\n",
        "            max_length=MAX_LEN,                  # Max length to truncate/pad\n",
        "            pad_to_max_length=True,         # Pad sentence to max length\n",
        "            #return_tensors='pt',           # Return PyTorch tensor\n",
        "            return_attention_mask=True      # Return attention mask\n",
        "            )\n",
        "#         Set MAX_LEN = 512\n",
        "\n",
        "# Pad input_structure to MAX_LEN\n",
        "        # Add the outputs to the lists\n",
        "        input_ids.append(encoded_sent.get('input_ids'))\n",
        "        attention_masks.append(encoded_sent.get('attention_mask'))\n",
        "\n",
        "    # Convert lists to tensors\n",
        "    input_ids = torch.tensor(input_ids)\n",
        "    attention_masks = torch.tensor(attention_masks)\n",
        "\n",
        "    return input_ids, attention_masks"
      ],
      "execution_count": null,
      "outputs": []
    },
    {
      "cell_type": "markdown",
      "metadata": {
        "id": "TNE9oASMZ1bN"
      },
      "source": [
        "Before tokenizing, we need to specify the maximum length of our sentences.\n",
        "\n",
        "\n",
        "\n",
        "\n",
        "\n"
      ]
    },
    {
      "cell_type": "markdown",
      "metadata": {
        "id": "vpdjBB9fmbu2"
      },
      "source": [
        "Now let's tokenize our data."
      ]
    },
    {
      "cell_type": "code",
      "metadata": {
        "id": "QTlQzTzAfCy7"
      },
      "source": [
        "# Specify `MAX_LEN`\n",
        "# MAX_LEN = 64\n",
        "MAX_LEN = 512\n",
        "\n",
        "# Print sentence 0 and its encoded token ids\n",
        "# token_ids = list(preprocessing_for_bert([X[0]])[0].squeeze().numpy())\n",
        "# print('Original: ', X[0])\n",
        "# print('Token IDs: ', token_ids)\n",
        "\n",
        "# Run function `preprocessing_for_bert` on the train set and the validation set\n",
        "print('Tokenizing data...')\n",
        "# print(X_train, type(X_train), len(X_train))\n",
        "# print(X_val, type(X_val), len(X_val))\n",
        "\n",
        "train_inputs, train_masks = preprocessing_for_bert(X_train)\n",
        "val_inputs, val_masks = preprocessing_for_bert(X_val)\n",
        "test_inputs, test_masks = preprocessing_for_bert(X_test)\n",
        "\n",
        "print(train_inputs, train_masks, val_inputs, val_masks)\n"
      ],
      "execution_count": null,
      "outputs": []
    },
    {
      "cell_type": "markdown",
      "metadata": {
        "id": "aZU8t5VNfvhY"
      },
      "source": [
        "### 2.2. Create PyTorch DataLoader"
      ]
    },
    {
      "cell_type": "markdown",
      "metadata": {
        "id": "aoHdl3gFgMZY"
      },
      "source": [
        "We will create an iterator for our dataset using the torch DataLoader class. This will help save on memory during training and boost the training speed."
      ]
    },
    {
      "cell_type": "code",
      "metadata": {
        "id": "xHuYEc61gcGL"
      },
      "source": [
        "from torch.utils.data import TensorDataset, DataLoader, RandomSampler, SequentialSampler\n",
        "\n",
        "# Convert other data types to torch.Tensor\n",
        "train_labels = torch.tensor(y_train)\n",
        "\n",
        "Corpus_dev['label'] = le.fit_transform(Corpus_dev['label'])\n",
        "y_val=Corpus_dev.label.values\n",
        "# print(type(y_val))\n",
        "# print(y_val)\n",
        "# print(Corpus_dev.dtypes)\n",
        "# print(Corpus_dev.head())\n",
        "val_labels = torch.tensor(y_val)\n",
        "\n",
        "# For fine-tuning BERT, the authors recommend a batch size of 16 or 32.\n",
        "batch_size = 10\n",
        "\n",
        "# Create the DataLoader for our training set\n",
        "train_data = TensorDataset(train_inputs, train_masks, train_labels)\n",
        "train_sampler = RandomSampler(train_data)\n",
        "train_dataloader = DataLoader(train_data, sampler=train_sampler, batch_size=batch_size)\n",
        "print(train_data,train_sampler,train_dataloader)\n",
        "# Create the DataLoader for our validation set\n",
        "\n",
        "val_data = TensorDataset(val_inputs, val_masks, val_labels)\n",
        "val_sampler = SequentialSampler(val_data)\n",
        "val_dataloader = DataLoader(val_data, sampler=val_sampler, batch_size=batch_size)\n",
        "\n",
        "test_data = TensorDataset(test_inputs, test_masks)\n",
        "test_sampler = SequentialSampler(test_data)\n",
        "test_dataloader = DataLoader(test_data, sampler=test_sampler, batch_size=batch_size)"
      ],
      "execution_count": null,
      "outputs": []
    },
    {
      "cell_type": "markdown",
      "metadata": {
        "id": "SSRAga-yj17q"
      },
      "source": [
        "## 3. Train Our Model"
      ]
    },
    {
      "cell_type": "markdown",
      "metadata": {
        "id": "KoOdsDgG8b_Z"
      },
      "source": [
        "### 3.1. Create BertClassifier"
      ]
    },
    {
      "cell_type": "markdown",
      "metadata": {
        "id": "zA_yESCl5nuK"
      },
      "source": [
        "BERT-base consists of 12 transformer layers, each transformer layer takes in a list of token embeddings, and produces the same number of embeddings with the same hidden size (or dimensions) on the output. The output of the final transformer layer of the `[CLS]` token is used as the features of the sequence to feed a classifier.\n",
        "\n",
        "The `transformers` library has the [`BertForSequenceClassification`](https://huggingface.co/transformers/v2.2.0/model_doc/bert.html#bertforsequenceclassification) class which is designed for classification tasks. However, we will create a new class so we can specify our own choice of classifiers.\n",
        "\n",
        "Below we will create a BertClassifier class with a BERT model to extract the last hidden layer of the `[CLS]` token and a single-hidden-layer feed-forward neural network as our classifier."
      ]
    },
    {
      "cell_type": "code",
      "metadata": {
        "id": "YK41aBFSj5jK"
      },
      "source": [
        "%%time\n",
        "import torch\n",
        "import torch.nn as nn\n",
        "from transformers import BertModel\n",
        "\n",
        "# Create the BertClassfier class\n",
        "class BertClassifier(nn.Module):\n",
        "    \"\"\"Bert Model for Classification Tasks.\n",
        "    \"\"\"\n",
        "    def __init__(self, freeze_bert=False):\n",
        "        \"\"\"\n",
        "        @param    bert: a BertModel object\n",
        "        @param    classifier: a torch.nn.Module classifier\n",
        "        @param    freeze_bert (bool): Set `False` to fine-tune the BERT model\n",
        "        \"\"\"\n",
        "        super(BertClassifier, self).__init__()\n",
        "        # Specify hidden size of BERT, hidden size of our classifier, and number of labels\n",
        "        D_in, H, D_out = 768, 50, 2\n",
        "\n",
        "        # Instantiate BERT model\n",
        "        self.bert = BertModel.from_pretrained('bert-base-uncased')\n",
        "\n",
        "        # Instantiate an one-layer feed-forward classifier\n",
        "        self.classifier = nn.Sequential(\n",
        "            nn.Linear(D_in, H),\n",
        "            nn.ReLU(),\n",
        "            #nn.Dropout(0.5),\n",
        "            nn.Linear(H, D_out)\n",
        "        )\n",
        "\n",
        "        # Freeze the BERT model\n",
        "        if freeze_bert:\n",
        "            for param in self.bert.parameters():\n",
        "                param.requires_grad = False\n",
        "        \n",
        "    def forward(self, input_ids, attention_mask):\n",
        "        \"\"\"\n",
        "        Feed input to BERT and the classifier to compute logits.\n",
        "        @param    input_ids (torch.Tensor): an input tensor with shape (batch_size,\n",
        "                      max_length)\n",
        "        @param    attention_mask (torch.Tensor): a tensor that hold attention mask\n",
        "                      information with shape (batch_size, max_length)\n",
        "        @return   logits (torch.Tensor): an output tensor with shape (batch_size,\n",
        "                      num_labels)\n",
        "        \"\"\"\n",
        "        # Feed input to BERT\n",
        "        outputs = self.bert(input_ids=input_ids,\n",
        "                            attention_mask=attention_mask)\n",
        "        \n",
        "        # Extract the last hidden state of the token `[CLS]` for classification task\n",
        "        last_hidden_state_cls = outputs[0][:, 0, :]\n",
        "\n",
        "        # Feed input to classifier to compute logits\n",
        "        logits = self.classifier(last_hidden_state_cls)\n",
        "\n",
        "        return logits"
      ],
      "execution_count": null,
      "outputs": []
    },
    {
      "cell_type": "markdown",
      "metadata": {
        "id": "LwNrCgPh-yR7"
      },
      "source": [
        "### 3.2. Optimizer & Learning Rate Scheduler"
      ]
    },
    {
      "cell_type": "markdown",
      "metadata": {
        "id": "V6iOXiN8-8gc"
      },
      "source": [
        "To fine-tune our Bert Classifier, we need to create an optimizer. The authors recommend following hyper-parameters:\n",
        "\n",
        "- Batch size: 16 or 32\n",
        "- Learning rate (Adam): 5e-5, 3e-5 or 2e-5\n",
        "- Number of epochs: 2, 3, 4\n",
        "\n",
        "Huggingface provided the [run_glue.py](https://github.com/huggingface/transformers/blob/5bfcd0485ece086ebcbed2d008813037968a9e58/examples/run_glue.py#L109) script, an examples of implementing the `transformers` library. In the script, the AdamW optimizer is used."
      ]
    },
    {
      "cell_type": "code",
      "metadata": {
        "id": "JX7su7Q_269U"
      },
      "source": [
        "from transformers import AdamW, get_linear_schedule_with_warmup\n",
        "\n",
        "def initialize_model(epochs=2):\n",
        "    \"\"\"Initialize the Bert Classifier, the optimizer and the learning rate scheduler.\n",
        "    \"\"\"\n",
        "    # Instantiate Bert Classifier\n",
        "    bert_classifier = BertClassifier(freeze_bert=False)\n",
        "\n",
        "    # Tell PyTorch to run the model on GPU\n",
        "    bert_classifier.to(device)\n",
        "\n",
        "    # Create the optimizer\n",
        "    optimizer = AdamW(bert_classifier.parameters(),\n",
        "                      lr=5e-5,    # Default learning rate\n",
        "                      eps=1e-8    # Default epsilon value\n",
        "                      )\n",
        "\n",
        "    # Total number of training steps\n",
        "    total_steps = len(train_dataloader) * epochs\n",
        "\n",
        "    # Set up the learning rate scheduler\n",
        "    scheduler = get_linear_schedule_with_warmup(optimizer,\n",
        "                                                num_warmup_steps=0, # Default value\n",
        "                                                num_training_steps=total_steps)\n",
        "    return bert_classifier, optimizer, scheduler"
      ],
      "execution_count": null,
      "outputs": []
    },
    {
      "cell_type": "markdown",
      "metadata": {
        "id": "41DRNjv4B0Ow"
      },
      "source": [
        "### 3.3. Training Loop"
      ]
    },
    {
      "cell_type": "markdown",
      "metadata": {
        "id": "VYU-GQRZG0y8"
      },
      "source": [
        "We will train our Bert Classifier for 4 epochs. In each epoch, we will train our model and evaluate its performance on the validation set. In more details, we will:\n",
        "\n",
        "Training:\n",
        "- Unpack our data from the dataloader and load the data onto the GPU\n",
        "- Zero out gradients calculated in the previous pass\n",
        "- Perform a forward pass to compute logits and loss\n",
        "- Perform a backward pass to compute gradients (`loss.backward()`)\n",
        "- Clip the norm of the gradients to 1.0 to prevent \"exploding gradients\"\n",
        "- Update the model's parameters (`optimizer.step()`)\n",
        "- Update the learning rate (`scheduler.step()`)\n",
        "\n",
        "Evaluation:\n",
        "- Unpack our data and load onto the GPU\n",
        "- Forward pass\n",
        "- Compute loss and accuracy rate over the validation set\n",
        "\n",
        "The script below is commented with the details of our training and evaluation loop. "
      ]
    },
    {
      "cell_type": "code",
      "metadata": {
        "id": "Xy4HkhyECibW"
      },
      "source": [
        "import random\n",
        "import time\n",
        "\n",
        "# Specify loss function\n",
        "loss_fn = nn.CrossEntropyLoss()\n",
        "\n",
        "def set_seed(seed_value=42):\n",
        "    \"\"\"Set seed for reproducibility.\n",
        "    \"\"\"\n",
        "    random.seed(seed_value)\n",
        "    np.random.seed(seed_value)\n",
        "    torch.manual_seed(seed_value)\n",
        "    torch.cuda.manual_seed_all(seed_value)\n",
        "\n",
        "def train(model, train_dataloader, val_dataloader=None, epochs=2, evaluation=False):\n",
        "    \"\"\"Train the BertClassifier model.\n",
        "    \"\"\"\n",
        "    # Start training loop\n",
        "    print(\"Start training...\\n\")\n",
        "    for epoch_i in range(epochs):\n",
        "        # =======================================\n",
        "        #               Training\n",
        "        # =======================================\n",
        "        # Print the header of the result table\n",
        "        print(f\"{'Epoch':^7} | {'Batch':^7} | {'Train Loss':^12} | {'Val Loss':^10} | {'Val Acc':^9} | {'Elapsed':^9}\")\n",
        "        print(\"-\"*70)\n",
        "\n",
        "        # Measure the elapsed time of each epoch\n",
        "        t0_epoch, t0_batch = time.time(), time.time()\n",
        "\n",
        "        # Reset tracking variables at the beginning of each epoch\n",
        "        total_loss, batch_loss, batch_counts = 0, 0, 0\n",
        "\n",
        "        # Put the model into the training mode\n",
        "        model.train()\n",
        "\n",
        "        # For each batch of training data...\n",
        "        for step, batch in enumerate(train_dataloader):\n",
        "            batch_counts +=1\n",
        "            # Load batch to GPU\n",
        "            b_input_ids, b_attn_mask, b_labels = tuple(t.to(device) for t in batch)\n",
        "\n",
        "            # Zero out any previously calculated gradients\n",
        "            model.zero_grad()\n",
        "\n",
        "            # Perform a forward pass. This will return logits.\n",
        "            logits = model(b_input_ids, b_attn_mask)\n",
        "\n",
        "            # Compute loss and accumulate the loss values\n",
        "            loss = loss_fn(logits, b_labels)\n",
        "            batch_loss += loss.item()\n",
        "            total_loss += loss.item()\n",
        "\n",
        "            # Perform a backward pass to calculate gradients\n",
        "            loss.backward()\n",
        "\n",
        "            # Clip the norm of the gradients to 1.0 to prevent \"exploding gradients\"\n",
        "            torch.nn.utils.clip_grad_norm_(model.parameters(), 1.0)\n",
        "\n",
        "            # Update parameters and the learning rate\n",
        "            optimizer.step()\n",
        "            scheduler.step()\n",
        "\n",
        "            # Print the loss values and time elapsed for every 20 batches\n",
        "            if (step % 20 == 0 and step != 0) or (step == len(train_dataloader) - 1):\n",
        "                # Calculate time elapsed for 20 batches\n",
        "                time_elapsed = time.time() - t0_batch\n",
        "\n",
        "                # Print training results\n",
        "                print(f\"{epoch_i + 1:^7} | {step:^7} | {batch_loss / batch_counts:^12.6f} | {'-':^10} | {'-':^9} | {time_elapsed:^9.2f}\")\n",
        "\n",
        "                # Reset batch tracking variables\n",
        "                batch_loss, batch_counts = 0, 0\n",
        "                t0_batch = time.time()\n",
        "                torch.save(model.state_dict(), f'/content/drive/MyDrive/NLP_data/finetuned_BERT_epoch_{epoch_i}_seed22_new.model')\n",
        "\n",
        "        # Calculate the average loss over the entire training data\n",
        "        avg_train_loss = total_loss / len(train_dataloader)\n",
        "    \n",
        "        print(\"-\"*70)\n",
        "        \n",
        "        torch.save(model.state_dict(), f'/content/drive/MyDrive/NLP_data/finetuned_BERT_epoch_{epochs}_seed22_new.model')\n",
        "\n",
        "        # =======================================\n",
        "        #               Evaluation\n",
        "        # =======================================\n",
        "        if evaluation == True:\n",
        "            # After the completion of each training epoch, measure the model's performance\n",
        "            # on our validation set.\n",
        "            val_loss, val_accuracy = evaluate(model, val_dataloader)\n",
        "\n",
        "            # Print performance over the entire training data\n",
        "            time_elapsed = time.time() - t0_epoch\n",
        "            \n",
        "            print(f\"{epoch_i + 1:^7} | {'-':^7} | {avg_train_loss:^12.6f} | {val_loss:^10.6f} | {val_accuracy:^9.2f} | {time_elapsed:^9.2f}\")\n",
        "            print(\"-\"*70)\n",
        "        print(\"\\n\")\n",
        "    \n",
        "    print(\"Training complete!\")\n",
        "\n",
        "\n",
        "def evaluate(model, val_dataloader):\n",
        "    \"\"\"After the completion of each training epoch, measure the model's performance\n",
        "    on our validation set.\n",
        "    \"\"\"\n",
        "    # Put the model into the evaluation mode. The dropout layers are disabled during\n",
        "    # the test time.\n",
        "    model.eval()\n",
        "\n",
        "    # Tracking variables\n",
        "    val_accuracy = []\n",
        "    val_loss = []\n",
        "\n",
        "    # For each batch in our validation set...\n",
        "    for batch in val_dataloader:\n",
        "        # Load batch to GPU\n",
        "        b_input_ids, b_attn_mask, b_labels = tuple(t.to(device) for t in batch)\n",
        "\n",
        "        # Compute logits\n",
        "        with torch.no_grad():\n",
        "            logits = model(b_input_ids, b_attn_mask)\n",
        "\n",
        "        # Compute loss\n",
        "        loss = loss_fn(logits, b_labels)\n",
        "        val_loss.append(loss.item())\n",
        "\n",
        "        # Get the predictions\n",
        "        preds = torch.argmax(logits, dim=1).flatten()\n",
        "\n",
        "        # Calculate the accuracy rate\n",
        "        accuracy = (preds == b_labels).cpu().numpy().mean() * 100\n",
        "        val_accuracy.append(accuracy)\n",
        "\n",
        "    # Compute the average accuracy and loss over the validation set.\n",
        "    val_loss = np.mean(val_loss)\n",
        "    val_accuracy = np.mean(val_accuracy)\n",
        "\n",
        "    return val_loss, val_accuracy"
      ],
      "execution_count": null,
      "outputs": []
    },
    {
      "cell_type": "code",
      "metadata": {
        "id": "AT0aR2wSoI-i"
      },
      "source": [
        "  import torch,gc \n",
        "  gc.collect()\n",
        "  torch.cuda.empty_cache()"
      ],
      "execution_count": null,
      "outputs": []
    },
    {
      "cell_type": "code",
      "metadata": {
        "id": "blpDWittofZ0"
      },
      "source": [
        "torch.cuda.memory_summary(device=None, abbreviated=False)"
      ],
      "execution_count": null,
      "outputs": []
    },
    {
      "cell_type": "markdown",
      "metadata": {
        "id": "BSfTy9LqiFD-"
      },
      "source": [
        "Now, let's start training our BertClassifier!"
      ]
    },
    {
      "cell_type": "code",
      "metadata": {
        "id": "wfYw7dJ0U0v6"
      },
      "source": [
        "set_seed(42)    # Set seed for reproducibility\n",
        "bert_classifier, optimizer, scheduler = initialize_model(epochs=2)\n",
        "# train(bert_classifier, train_dataloader, val_dataloader, epochs=2, evaluation=True)"
      ],
      "execution_count": null,
      "outputs": []
    },
    {
      "cell_type": "markdown",
      "metadata": {
        "id": "iUzFTvVruciZ"
      },
      "source": [
        "# Step 4 - Load model for prediction and evaluation\n",
        "\n"
      ]
    },
    {
      "cell_type": "code",
      "metadata": {
        "id": "ST9heyXFqiI6"
      },
      "source": [
        "model1_seed42_path = \"finetuned_BERT_epoch_2_seed42_new.model\"\n",
        "model1_seed42  = BertClassifier()\n",
        "model1_seed42.load_state_dict(torch.load(model1_seed42_path, map_location=torch.device('cuda')))\n",
        "model1_seed42.to(device)\n",
        "model1_seed42.eval()\n",
        "\n",
        "model1_seed22_path = \"finetuned_BERT_epoch_2_seed22_new.model\"\n",
        "model1_seed22  = BertClassifier()\n",
        "model1_seed22.load_state_dict(torch.load(model1_seed22_path, map_location=torch.device('cuda')))\n",
        "model1_seed22.to(device)\n",
        "model1_seed22.eval()\n",
        "\n",
        "model1_seed82_path = \"finetuned_BERT_epoch_2_seed82_new.model\"\n",
        "model1_seed82  = BertClassifier()\n",
        "model1_seed82.load_state_dict(torch.load(model1_seed82_path, map_location=torch.device('cuda')))\n",
        "model1_seed82.to(device)\n",
        "model1_seed82.eval()\n",
        "\n",
        "device = torch.device(\"cuda\")\n",
        "model1_seed44_path = \"finetuned_BERT_epoch_2_seed44_new.model\"\n",
        "model1_seed44  = BertClassifier()\n",
        "model1_seed44.load_state_dict(torch.load(model1_seed44_path, map_location=torch.device('cuda')))\n",
        "model1_seed44.to(device)\n",
        "model1_seed44.eval()\n",
        "\n",
        "model1_seed46_path = \"finetuned_BERT_epoch_2_seed46_new.model\"\n",
        "model1_seed46  = BertClassifier()\n",
        "model1_seed46.load_state_dict(torch.load(model1_seed46_path, map_location=torch.device('cuda')))\n",
        "model1_seed46.to(device)\n",
        "model1_seed46.eval()\n",
        "\n",
        "model1_seed26_path = \"finetuned_BERT_epoch_2_seed26_new.model\"\n",
        "model1_seed26  = BertClassifier()\n",
        "model1_seed26.load_state_dict(torch.load(model1_seed26_path, map_location=torch.device('cuda')))\n",
        "model1_seed26.to(device)\n",
        "model1_seed26.eval()\n",
        "\n",
        "model1_seed52_path = \"finetuned_BERT_epoch_2_seed52_new.model\"\n",
        "model1_seed52  = BertClassifier()\n",
        "model1_seed52.load_state_dict(torch.load(model1_seed52_path, map_location=torch.device('cuda')))\n",
        "model1_seed52.to(device)\n",
        "model1_seed52.eval()\n",
        "\n",
        "model1_seed78_path = \"finetuned_BERT_epoch_2_seed78_new.model\"\n",
        "model1_seed78  = BertClassifier()\n",
        "model1_seed78.load_state_dict(torch.load(model1_seed78_path, map_location=torch.device('cuda')))\n",
        "model1_seed78.to(device)\n",
        "model1_seed78.eval()\n",
        "\n",
        "model1_seed86_path = \"finetuned_BERT_epoch_2_seed86_new.model\"\n",
        "model1_seed86  = BertClassifier()\n",
        "model1_seed86.load_state_dict(torch.load(model1_seed86_path, map_location=torch.device('cuda')))\n",
        "model1_seed86.to(device)\n",
        "model1_seed86.eval()"
      ],
      "execution_count": null,
      "outputs": []
    },
    {
      "cell_type": "code",
      "metadata": {
        "id": "V5_w4erqGzpe"
      },
      "source": [
        "import torch.nn.functional as F\n",
        "\n",
        "def bert_predict(model, test_dataloader):\n",
        "    \"\"\"Perform a forward pass on the trained BERT model to predict probabilities\n",
        "    on the test set.\n",
        "    \"\"\"\n",
        "    # Put the model into the evaluation mode. The dropout layers are disabled during\n",
        "    # the test time.\n",
        "\n",
        "    model.eval()\n",
        "\n",
        "    all_logits = []\n",
        "\n",
        "    # For each batch in our test set...\n",
        "    for batch in test_dataloader:\n",
        "        # Load batch to GPU\n",
        "        b_input_ids, b_attn_mask = tuple(t.to(device) for t in batch)[:2]\n",
        "\n",
        "        # Compute logits\n",
        "        with torch.no_grad():\n",
        "            logits = model(b_input_ids, b_attn_mask)\n",
        "        all_logits.append(logits)\n",
        "    \n",
        "    # Concatenate logits from each batch\n",
        "    all_logits = torch.cat(all_logits, dim=0)\n",
        "    # Apply softmax to calculate probabilities\n",
        "    probs = F.softmax(all_logits, dim=1).cpu().numpy()\n",
        "\n",
        "    return probs\n",
        "\n",
        "def get_avg_preds(ensemble_predds, Temp):\n",
        "    ensemble_list = []\n",
        "    for pred in ensemble_predds:\n",
        "        pred_0_list = []\n",
        "        pred_1_list = []\n",
        "\n",
        "        # new_confidences = new_conficence_vals(pred, Temp)\n",
        "        # softmax_preds = get_softmax_preds(new_confidences)\n",
        "        \n",
        "        for i in pred:\n",
        "            pred_0_list.append(i[0])\n",
        "            pred_1_list.append(i[1])\n",
        "            # print(i,i[0],i[1])\n",
        "        pred_0_avg = sum(pred_0_list) / len(pred_0_list)\n",
        "        pred_1_avg = sum(pred_1_list) / len(pred_1_list)\n",
        "        \n",
        "        ensemble_list.append([pred_0_avg, pred_1_avg])\n",
        "\n",
        "    return ensemble_list"
      ],
      "execution_count": null,
      "outputs": []
    },
    {
      "cell_type": "markdown",
      "metadata": {
        "id": "D5ostg9kPlra"
      },
      "source": [
        "### 4.1. Evaluation on Validation Set\n",
        "\n"
      ]
    },
    {
      "cell_type": "code",
      "metadata": {
        "id": "ua5iE7cChrD6"
      },
      "source": [
        "# Compute predicted probabilities on the val/test set\n",
        "probs1_val = bert_predict(model1_seed44, val_dataloader)\n",
        "probs2_val = bert_predict(model1_seed46, val_dataloader)\n",
        "probs3_val = bert_predict(model1_seed26, val_dataloader)\n",
        "probs4_val = bert_predict(model1_seed52, val_dataloader)\n",
        "probs5_val = bert_predict(model1_seed42, val_dataloader)\n",
        "probs6_val = bert_predict(model1_seed22, val_dataloader)\n",
        "probs7_val = bert_predict(model1_seed82, val_dataloader)\n",
        "probs8_val = bert_predict(model1_seed78, val_dataloader)\n",
        "\n",
        "# print(all_logits1, all_logits2, all_logits3) #tensor([[-1.5097,  2.0246] to [0.02835082 0.97164917]\n",
        "# print(probs1, probs2, probs3)\n"
      ],
      "execution_count": null,
      "outputs": []
    },
    {
      "cell_type": "code",
      "metadata": {
        "id": "3YsKqL50yEgK"
      },
      "source": [
        "probs9_val = bert_predict(model1_seed86, val_dataloader)\n"
      ],
      "execution_count": null,
      "outputs": []
    },
    {
      "cell_type": "code",
      "metadata": {
        "id": "7c6vDM0NISuX"
      },
      "source": [
        "# ensemble_predictions_zip = tuple(zip(probs1, probs2, probs3, probs4, probs5))\n",
        "# ensemble_predictions_zip_val = tuple(zip(probs1_val, probs2_val, probs3_val, probs4_val, probs5_val, probs6_val, probs7_val,probs8_val,probs9_val))\n",
        "ensemble_predictions_zip_val = tuple(zip(probs2_val,probs7_val))\n",
        "\n",
        "ensemble_predictions_val = get_avg_preds(ensemble_predictions_zip_val,1)\n",
        "\n",
        "probs_final_val = np.array(ensemble_predictions_val) #convert list of lists into numpy.ndarray\n",
        "evaluate_roc(probs_final_val, y_val)\n",
        "\n",
        "threshold_val = 0.45\n",
        "# Get predictions from the probabilities\n",
        "preds_val = np.where(probs_final_val[:, 1] > threshold_val, 1, 0)\n",
        "# print(preds)\n",
        "print(len(preds_val))\n",
        "print(\"Number of tweets predicted rumour: \", preds_val.sum())\n",
        "\n",
        "unique_val, counts_val = np.unique(preds_val, return_counts=True)\n",
        "print(dict(zip(unique_val, counts_val)))\n",
        "\n",
        "Corpus_pred_val = Corpus_dev\n",
        "# print(Corpus_pred_val.head())\n",
        "# y_predicted = nb_model.predict(X_test_tfidf)\n",
        "y_labels = [\"non-rumour\" if i==0 else \"rumour\" for i in preds_val]\n",
        "# print(y_predicted,y_predicted_labels)\n",
        "Corpus_pred_val['label'] = y_labels\n",
        "# print(Corpus_pred_val.head())\n",
        "# Corpus_pred_val.set_index('id',inplace=True)\n",
        "dictt_val = Corpus_pred_val.to_dict()['label']\n",
        "print(dictt_val)\n",
        "print(len(dictt_val))\n",
        "\n",
        "with open(\"dev.baseline_bertFen.json\", \"w\") as outfile: \n",
        "    json.dump(dictt_val, outfile)\n",
        "outfile.close()\n",
        "\n",
        "#using the eval.py code to print precision, recall and f1 score\n",
        "import argparse\n",
        "import sys\n",
        "import json\n",
        "from sklearn.metrics import precision_recall_fscore_support\n",
        "\n",
        "#parameters\n",
        "debug = False\n",
        "\n",
        "def convert_label(label):\n",
        "    if label == \"rumour\":\n",
        "        return 1\n",
        "    elif label == \"non-rumour\":\n",
        "        return 0\n",
        "    else:\n",
        "        raise Exception(\"label classes must be 'rumour' or 'non-rumour'\")\n",
        "\n",
        "# groundtruth = json.load(open(args.groundtruth))\n",
        "# predictions = json.load(open(args.predictions))\n",
        "with open(\"dev.label.json\") as infile1: \n",
        "    groundtruth = json.load(infile1)\n",
        "infile1.close()\n",
        "with open(\"dev.baseline_bertFen.json\") as infile2: \n",
        "    predictions = json.load(infile2)\n",
        "infile2.close()\n",
        "\n",
        "y_true, y_pred = [], []\n",
        "def perf_measure(y_actual, y_hat, validation_set_ids):\n",
        "    TP = 0\n",
        "    FP = 0\n",
        "    TN = 0\n",
        "    FN = 0\n",
        "    fp_ids = []\n",
        "    tp_ids = []\n",
        "    for i in range(len(y_hat)): \n",
        "        if y_actual[i]==y_hat[i]==1:\n",
        "           TP += 1\n",
        "           tp_ids.append(validation_set_ids[i])\n",
        "        if y_hat[i]==1 and y_actual[i]!=y_hat[i]:\n",
        "           FP += 1\n",
        "           fp_ids.append(validation_set_ids[i])\n",
        "        if y_actual[i]==y_hat[i]==0:\n",
        "           TN += 1\n",
        "        if y_hat[i]==0 and y_actual[i]!=y_hat[i]:\n",
        "           FN += 1\n",
        "\n",
        "    return TP, FP, TN, FN, tp_ids, fp_ids\n",
        "try:\n",
        "    for k, v in groundtruth.items():\n",
        "        if k in predictions:\n",
        "            y_pred.append(convert_label(predictions[k]))\n",
        "        #if ID isn't in predictions, assume incorrect predictions\n",
        "        else:\n",
        "            y_pred.append(int(not(bool(convert_label(v)))))\n",
        "        y_true.append(convert_label(v))\n",
        "    prediction_ids = list(predictions.keys())\n",
        "    TP, FP, TN, FN, tp_ids,fp_ids = perf_measure(y_true, y_pred, prediction_ids) #code for error analysis\n",
        "    p, r, f, _ = precision_recall_fscore_support(y_true, y_pred, pos_label=1, average=\"binary\")\n",
        "except Exception as error:\n",
        "    print(\"Error:\", error)\n",
        "    raise SystemExit\n",
        "print(\"TP, FP, TN, FN, fp_ids \\n\", TP, FP, TN, FN, tp_ids,fp_ids)\n",
        "print(\"Performance on the rumour class:\")\n",
        "print(\"Precision =\", p)\n",
        "print(\"Recall    =\", r)\n",
        "print(\"F1        =\", f)"
      ],
      "execution_count": null,
      "outputs": []
    },
    {
      "cell_type": "code",
      "metadata": {
        "id": "DrlwpsMU0Qr3"
      },
      "source": [
        "tp_filter_df = Corpus_dev[Corpus_dev.index.isin(tp_ids)]\n",
        "print(tp_filter_df.shape)\n",
        "tp_filter_df['tweet'].tolist()"
      ],
      "execution_count": null,
      "outputs": []
    },
    {
      "cell_type": "code",
      "metadata": {
        "id": "opIBy7vev5BD"
      },
      "source": [
        "#Get the false positive tweets from the ids \n",
        "fp_filter_df = Corpus_dev[Corpus_dev.index.isin(fp_ids)]\n",
        "print(fp_filter_df.shape)\n",
        "fp_filter_df['tweet'].tolist()"
      ],
      "execution_count": null,
      "outputs": []
    },
    {
      "cell_type": "markdown",
      "metadata": {
        "id": "q89oT0n3N0m6"
      },
      "source": [
        "## 4.2. Predictions on Test Set"
      ]
    },
    {
      "cell_type": "code",
      "metadata": {
        "id": "3QG7ebVW2SeI"
      },
      "source": [
        "# Compute predicted probabilities on the test set\n",
        "probs1 = bert_predict(model1_seed44, test_dataloader)\n",
        "probs2 = bert_predict(model1_seed46, test_dataloader)\n",
        "probs3 = bert_predict(model1_seed26, test_dataloader)\n",
        "probs4 = bert_predict(model1_seed52, test_dataloader)\n",
        "probs5 = bert_predict(model1_seed42, test_dataloader)\n",
        "probs6 = bert_predict(model1_seed22, test_dataloader)\n",
        "probs7 = bert_predict(model1_seed82, test_dataloader)\n",
        "probs8 = bert_predict(model1_seed78, test_dataloader)\n",
        "probs9 = bert_predict(model1_seed86, test_dataloader)\n",
        "\n",
        "# ensemble_predictions_zip = tuple(zip(probs1, probs2, probs3, probs4,probs5))\n"
      ],
      "execution_count": null,
      "outputs": []
    },
    {
      "cell_type": "code",
      "metadata": {
        "id": "w2OWd8h0xUc6"
      },
      "source": [
        "# ensemble_predictions_zip = tuple(zip(probs1, probs2, probs3, probs4, probs5, probs6, probs7))\n",
        "ensemble_predictions_zip = tuple(zip(probs2, probs7))\n",
        "# ensemble_predictions_zip_val = tuple(zip(probs1_val, probs2_val, probs3_val, probs4_val, probs5_val, probs6_val, probs7_val,probs8_val,probs9_val))\n",
        "\n",
        "ensemble_predictions = get_avg_preds(ensemble_predictions_zip,1)\n",
        "probs_final = np.array(ensemble_predictions) #convert list of lists into numpy.ndarray\n",
        "# print(probs_final)\n",
        "print(len(probs_final))\n",
        "# Get predictions from the probabilities\n",
        "threshold = 0.45\n",
        "preds = np.where(probs_final[:, 1] > threshold, 1, 0)\n",
        "# print(preds)\n",
        "print(len(preds))\n",
        "\n",
        "# Number of tweets predicted non-negative\n",
        "print(\"Number of tweets predicted rumour: \", preds.sum())\n",
        "# label\n",
        "# non-rumour    393\n",
        "# rumour        187"
      ],
      "execution_count": null,
      "outputs": []
    },
    {
      "cell_type": "code",
      "metadata": {
        "id": "-_KpA1mraMk7"
      },
      "source": [
        "unique, counts = np.unique(preds, return_counts=True)\n",
        "dict(zip(unique, counts))"
      ],
      "execution_count": null,
      "outputs": []
    },
    {
      "cell_type": "code",
      "metadata": {
        "id": "OPDg8bL42bSC"
      },
      "source": [
        "Corpus_pred_bert = Corpus_test\n",
        "print(Corpus_pred_bert.head())\n",
        "# y_predicted = nb_model.predict(X_test_tfidf)\n",
        "y_labels = [\"non-rumour\" if i==0 else \"rumour\" for i in preds]\n",
        "# print(y_predicted,y_predicted_labels)\n",
        "Corpus_pred_bert['label'] = y_labels\n",
        "print(Corpus_pred_bert.head())\n",
        "# Corpus_pred_bert.set_index('id',inplace=True)\n",
        "dictt_bert = Corpus_pred_bert.to_dict()['label']\n",
        "print(dictt_bert)\n",
        "print(len(dictt_bert))"
      ],
      "execution_count": null,
      "outputs": []
    },
    {
      "cell_type": "code",
      "metadata": {
        "id": "iUkUJ05wdhNz"
      },
      "source": [
        "with open(\"test.baseline_bertFen.json\", \"w\") as outfile: \n",
        "    json.dump(dictt_bert, outfile)"
      ],
      "execution_count": null,
      "outputs": []
    },
    {
      "cell_type": "markdown",
      "metadata": {
        "id": "jRJfx4xItdpo"
      },
      "source": [
        "## 4.3. Covid-19 Test set predictions"
      ]
    },
    {
      "cell_type": "code",
      "metadata": {
        "id": "yDXyCX60nYSJ"
      },
      "source": [
        "with open(\"covid.data.jsonl\", 'r', encoding='utf-8') as test_data_file:\n",
        "  list_of_rlists = []\n",
        "  chunks = []\n",
        "  num_replies = []\n",
        "  dict_replies= {}\n",
        "  list_replies = []\n",
        "  dict_replies_list = []\n",
        "\n",
        "  for line in test_data_file:\n",
        "    train_Data_list = json.loads(line)\n",
        "    df = pd.DataFrame.from_dict(train_Data_list)\n",
        "    # df = df[[\"id_str\",\"in_reply_to_status_id_str\",\"text\", \"user\",\"favorited\",\"in_reply_to_user_id_str\",\"created_at\"]]\n",
        "    # df.rename(columns={'id_str': 'id'}, inplace=True)\n",
        "    df.rename(columns={'text': 'tweet'}, inplace=True)\n",
        "    # replies_list,len_reply_list = get_replies(df)\n",
        "    \n",
        "    replies_list,len_reply_list,dict_replies = get_replies(df) #reply list for a single source tweet\n",
        "    replies_list_2d = list(dict_replies.values()) #get all the replies for a single source tweet\n",
        "    # print(len(replies_list_2d))\n",
        "    replies_list_1d = [j for sub in replies_list_2d for j in sub]\n",
        "    # print(len(replies_list_1d))\n",
        "    reply_length = len(replies_list_1d)\n",
        "    list_replies.append(reply_length) \n",
        "    dict_replies_list.append(dict_replies)\n",
        "\n",
        "    chunks.append(df)\n",
        "    num_replies.append(len_reply_list)\n",
        "    list_of_rlists.append(replies_list)\n",
        "  dfs1 = pd.concat(chunks)\n",
        "test_data_file.close()\n",
        "#print(dfs1)\n",
        "finalll = dfs1[dfs1['in_reply_to_status_id_str'].isna()] #source tweets\n",
        "# print(finalll)\n",
        "\n",
        "reply_dict_list = get_sorted_by_time(dict_replies_list) #list of dicts \n",
        "sorted_replies = []\n",
        "for i in range(len(reply_dict_list)):\n",
        "  values_2d = reply_dict_list[i].values()\n",
        "  values_list_1d = [j for sub in values_2d for j in sub ]\n",
        "  sorted_replies.append(values_list_1d)\n",
        "\n",
        "#only text - drop columns from old one and store in new one \n",
        "Corpus_test = finalll[[\"id_str\",\"tweet\"]]\n",
        "# Corpus_test = finalll\n",
        "Corpus_test.rename(columns={'id_str': 'id'}, inplace=True)\n",
        "Corpus_test[\"all_replies\"] = list_of_rlists #has a list of replies \n",
        "Corpus_test[\"num_replies\"] = num_replies\n",
        "Corpus_test[\"dict_replies\"] = list_replies\n",
        "Corpus_test[\"all_replies_by_time\"] = sorted_replies\n",
        "\n",
        "print(Corpus_test.head(10))\n",
        "print(Corpus_test.shape)\n",
        "print(Corpus_test.dtypes)\n",
        "\n",
        "source_test = pd.DataFrame()\n",
        "source_test = fill_df(source_test,finalll)\n",
        "source_test[\"all_replies\"] = list_of_rlists #has a list of replies \n",
        "source_test[\"num_replies\"] = num_replies\n",
        "source_test[\"dict_replies\"] = list_replies\n",
        "source_test[\"all_replies_by_time\"] = sorted_replies\n",
        "print(source_test.shape)\n",
        "print(source_test.columns)\n",
        "\n",
        "all_test = pd.DataFrame()\n",
        "all_test = fill_df(all_test,dfs1)\n",
        "print(all_test.shape)\n",
        "print(all_test.columns)"
      ],
      "execution_count": null,
      "outputs": []
    },
    {
      "cell_type": "code",
      "metadata": {
        "id": "6MENYLVD7C5x"
      },
      "source": [
        "replies_test = [' [SEP] '.join([str(tweet) for tweet in all_replies]) for all_replies in Corpus_test.all_replies_by_time.values]\n",
        "X_test = list(zip(Corpus_test.tweet.values, replies_test))\n",
        "\n",
        "# Load test data\n",
        "test_data = Corpus_test\n",
        "# Display 5 samples from the test data\n",
        "test_data.sample(5)\n",
        "\n",
        "test_inputs, test_masks = preprocessing_for_bert(X_test)\n",
        "\n",
        "test_data = TensorDataset(test_inputs, test_masks)\n",
        "test_sampler = SequentialSampler(test_data)\n",
        "test_dataloader = DataLoader(test_data, sampler=test_sampler, batch_size=batch_size)\n",
        "\n",
        "probs1 = bert_predict(model1_seed44, test_dataloader)\n",
        "probs2 = bert_predict(model1_seed46, test_dataloader)\n",
        "probs3 = bert_predict(model1_seed26, test_dataloader)\n",
        "probs4 = bert_predict(model1_seed52, test_dataloader)\n",
        "probs5 = bert_predict(model1_seed42, test_dataloader)\n",
        "probs6 = bert_predict(model1_seed22, test_dataloader)\n",
        "probs7 = bert_predict(model1_seed82, test_dataloader)\n",
        "probs8 = bert_predict(model1_seed78, test_dataloader)\n",
        "probs9 = bert_predict(model1_seed86, test_dataloader)\n",
        "\n",
        "ensemble_predictions_zip = tuple(zip(probs2, probs7))\n",
        "\n",
        "ensemble_predictions = get_avg_preds(ensemble_predictions_zip,1)\n",
        "probs_final = np.array(ensemble_predictions) #convert list of lists into numpy.ndarray\n",
        "print(len(probs_final))\n",
        "# Get predictions from the probabilities\n",
        "threshold = 0.45\n",
        "preds = np.where(probs_final[:, 1] > threshold, 1, 0)\n",
        "# print(preds)\n",
        "print(len(preds))\n",
        "\n",
        "# Number of tweets predicted non-negative\n",
        "print(\"Number of tweets predicted rumour: \", preds.sum())\n",
        "\n",
        "\n",
        "unique, counts = np.unique(preds, return_counts=True)\n",
        "dict(zip(unique, counts))\n",
        "\n",
        "Corpus_pred_bert = Corpus_test\n",
        "print(Corpus_pred_bert.head())\n",
        "# y_predicted = nb_model.predict(X_test_tfidf)\n",
        "y_labels = [\"non-rumour\" if i==0 else \"rumour\" for i in preds]\n",
        "# print(y_predicted,y_predicted_labels)\n",
        "Corpus_pred_bert['label'] = y_labels\n",
        "print(Corpus_pred_bert.head())\n",
        "# Corpus_pred_bert.set_index('id',inplace=True)\n",
        "dictt_bert = Corpus_pred_bert.to_dict()['label']\n",
        "print(dictt_bert)\n",
        "print(len(dictt_bert))\n",
        "\n",
        "with open(\"test.baseline_bertC.json\", \"w\") as outfile: \n",
        "    json.dump(dictt_bert, outfile)"
      ],
      "execution_count": null,
      "outputs": []
    },
    {
      "cell_type": "code",
      "metadata": {
        "id": "kIhSRHIw7Fog"
      },
      "source": [
        "source_dev[\"label\"] = y_labels\n",
        "df_rumour = source_dev[source_dev['label'] == 'rumour']\n",
        "df_non_rumour = source_dev[source_dev['label'] == 'non-rumour']\n",
        "print(df_rumour.shape, df_non_rumour.shape)"
      ],
      "execution_count": null,
      "outputs": []
    },
    {
      "cell_type": "code",
      "metadata": {
        "id": "Ey3Ji9OXnYNx"
      },
      "source": [
        "df_rumour.head()"
      ],
      "execution_count": null,
      "outputs": []
    },
    {
      "cell_type": "code",
      "metadata": {
        "id": "2DMNwcjgnYHQ"
      },
      "source": [
        "df_non_rumour.head()"
      ],
      "execution_count": null,
      "outputs": []
    },
    {
      "cell_type": "markdown",
      "metadata": {
        "id": "1PAFRoFWmgHL"
      },
      "source": [
        "Finding the min and max dates"
      ]
    },
    {
      "cell_type": "code",
      "metadata": {
        "id": "i2FDi68Eme-r"
      },
      "source": [
        "from datetime import datetime\n",
        "new_datetime_list =[]\n",
        "for index, row in source_test.iterrows():\n",
        "    new_datetime = datetime.strftime(datetime.strptime(row[\"created_at\"],'%a %b %d %H:%M:%S +0000 %Y'), '%Y-%m-%d %H:%M:%S')\n",
        "    new_datetime_list.append(new_datetime)"
      ],
      "execution_count": null,
      "outputs": []
    },
    {
      "cell_type": "code",
      "metadata": {
        "id": "_d4qco-OmfPv"
      },
      "source": [
        "new_dates= []\n",
        "for date_time_str in new_datetime_list:\n",
        "    date_time_obj = datetime.strptime(date_time_str, '%Y-%m-%d %H:%M:%S')\n",
        "    new_dates.append(date_time_obj.date())\n",
        "    \n",
        "oldest = min(new_dates)\n",
        "youngest = max(new_dates)\n",
        "print(\"The tweets started on: \",oldest, \"and are extracted until: \",youngest, \"which is a period of\", youngest-oldest)"
      ],
      "execution_count": null,
      "outputs": []
    },
    {
      "cell_type": "code",
      "metadata": {
        "id": "f6Iy3TwHmfXX"
      },
      "source": [
        "df_non_rumour.head()"
      ],
      "execution_count": null,
      "outputs": []
    },
    {
      "cell_type": "markdown",
      "metadata": {
        "id": "oUPehrJzZKqI"
      },
      "source": [
        "# **Question 0 - Figure 1 - number vs time of tweets plot - Basic analysis**"
      ]
    },
    {
      "cell_type": "markdown",
      "metadata": {
        "id": "hIFv9I5nZsCK"
      },
      "source": [
        "## Account Age Calculation\n",
        "*From time created until current time*"
      ]
    },
    {
      "cell_type": "code",
      "metadata": {
        "id": "YP_CVhX6Z5_W"
      },
      "source": [
        "def date_diff_in_Seconds(dt2, dt1):\n",
        "  timedelta = dt2 - dt1\n",
        "  return timedelta.days * 24 * 3600 + timedelta.seconds\n",
        "\n",
        "def setAge(df):\n",
        "    #convert the raw date time from twitter into a string\n",
        "    user_datetime_list =[]\n",
        "    for index, row in df.iterrows():\n",
        "        new_datetime = datetime.strftime(datetime.strptime(row[\"user_created_at\"],'%a %b %d %H:%M:%S +0000 %Y'), '%Y-%m-%d %H:%M:%S')\n",
        "        user_datetime_list.append(new_datetime)\n",
        "    account_age_days_list = []\n",
        "    account_age_seconds_list = []\n",
        "\n",
        "    for date_time_str in user_datetime_list:\n",
        "        date_time_obj = datetime.strptime(date_time_str, '%Y-%m-%d %H:%M:%S')\n",
        "        age = datetime.utcnow() - date_time_obj #3007 days 18:09:38.671760\n",
        "        age_seconds = date_diff_in_Seconds(datetime.utcnow(), date_time_obj)\n",
        "        account_age_days_list.append(age)\n",
        "        account_age_seconds_list.append(age_seconds)\n",
        "\n",
        "    df[\"account age (days)\"] = account_age_days_list\n",
        "    df[\"account age (seconds)\"] = account_age_seconds_list\n",
        "\n",
        "def setDate(df):\n",
        "    #convert the raw date time from twitter into a string\n",
        "    user_datetime_list =[]\n",
        "    for index, row in df.iterrows():\n",
        "        new_datetime = datetime.strftime(datetime.strptime(row[\"created_at\"],'%a %b %d %H:%M:%S +0000 %Y'), '%Y-%m-%d %H:%M:%S')\n",
        "        user_datetime_list.append(new_datetime)\n",
        "    user_datetimes= []\n",
        "    for date_time_str in user_datetime_list:\n",
        "        date_time_obj = datetime.strptime(date_time_str, '%Y-%m-%d %H:%M:%S')\n",
        "        user_datetimes.append(date_time_obj)\n",
        "    df[\"Date\"]=user_datetimes\n",
        "\n",
        "setAge(df_rumour)\n",
        "setAge(df_non_rumour)\n",
        "setDate(df_rumour)\n",
        "setDate(df_non_rumour)"
      ],
      "execution_count": null,
      "outputs": []
    },
    {
      "cell_type": "code",
      "metadata": {
        "id": "Oz32DWKmmfZ7"
      },
      "source": [
        "#https://stackoverflow.com/questions/63102989/calculate-tweets-per-day\n",
        "def tweets_per_day(df):\n",
        "    df['Date'] = pd.to_datetime(df['Date'], format='%Y%m%d')\n",
        "    return df[['tweet']].groupby(df['Date'].dt.date).count()"
      ],
      "execution_count": null,
      "outputs": []
    },
    {
      "cell_type": "code",
      "metadata": {
        "id": "Kdyz1wv4aeUb"
      },
      "source": [
        "tweets_per_day_rumour = tweets_per_day(df_non_rumour)\n",
        "tweets_per_day_non_rumour = tweets_per_day(df_rumour)\n",
        "df.sort_index(inplace=True)"
      ],
      "execution_count": null,
      "outputs": []
    },
    {
      "cell_type": "code",
      "metadata": {
        "id": "c28_RveY_T9n"
      },
      "source": [
        "import matplotlib.dates as mdates\n"
      ],
      "execution_count": null,
      "outputs": []
    },
    {
      "cell_type": "code",
      "metadata": {
        "id": "OIjm_z3LaeSl"
      },
      "source": [
        "fig, ax = plt.subplots(figsize=(12, 12))\n",
        "\n",
        "x_values = tweets_per_day_non_rumour.index\n",
        "y_values = tweets_per_day_non_rumour[\"tweet\"]\n",
        "ax = plt.gca()\n",
        "# get axes\n",
        "formatter = mdates.DateFormatter(\"%Y-%m-%d\")\n",
        "print(formatter)\n",
        "# format as dates\n",
        "ax.xaxis.set_major_formatter(formatter)\n",
        "locator = mdates.DayLocator()\n",
        "# set locator\n",
        "ax.xaxis.set_major_locator(locator)\n",
        "plt.plot(x_values, y_values)"
      ],
      "execution_count": null,
      "outputs": []
    },
    {
      "cell_type": "code",
      "metadata": {
        "id": "eT98BdkyaeQW"
      },
      "source": [
        "# Create figure and plot space\n",
        "fig, ax = plt.subplots(figsize=(12, 12))\n",
        "\n",
        "# Add x-axis and y-axis\n",
        "ax.bar(tweets_per_day_non_rumour.index.values,\n",
        "       tweets_per_day_non_rumour['tweet'],\n",
        "       color='purple')\n",
        "\n",
        "# Set title and labels for axes\n",
        "ax.set(xlabel=\"Date of NON_Rumours\",\n",
        "       ylabel=\"Number of NON-Rumour Tweets\",\n",
        "       title=\"Daily NON-Rumour Tweets\\nFeb - Aug 2020 for Covid-19\")\n",
        "\n",
        "plt.show()"
      ],
      "execution_count": null,
      "outputs": []
    },
    {
      "cell_type": "code",
      "metadata": {
        "id": "sPkJdfEnaeOO"
      },
      "source": [
        "fig, ax = plt.subplots(figsize=(12, 12))\n",
        "\n",
        "x_values = tweets_per_day_rumour.index\n",
        "y_values = tweets_per_day_rumour[\"tweet\"]\n",
        "ax = plt.gca()\n",
        "# get axes\n",
        "formatter = mdates.DateFormatter(\"%Y-%m-%d\")\n",
        "print(formatter)\n",
        "# format as dates\n",
        "ax.xaxis.set_major_formatter(formatter)\n",
        "locator = mdates.DayLocator()\n",
        "# set locator\n",
        "ax.xaxis.set_major_locator(locator)\n",
        "plt.plot(x_values, y_values)"
      ],
      "execution_count": null,
      "outputs": []
    },
    {
      "cell_type": "code",
      "metadata": {
        "id": "d3sTBR0zanS-"
      },
      "source": [
        "# Create figure and plot space\n",
        "fig, ax = plt.subplots(figsize=(12, 12))\n",
        "\n",
        "# Add x-axis and y-axis\n",
        "ax.bar(tweets_per_day_rumour.index.values,\n",
        "       tweets_per_day_rumour['tweet'],\n",
        "       color='purple')\n",
        "\n",
        "# Set title and labels for axes\n",
        "ax.set(xlabel=\"Date of rumour tweets\",\n",
        "       ylabel=\"Number of rumour tweets\",\n",
        "       title=\"Daily Rumour Tweets\\nFeb - Aug 2020 for Covid-19\")\n",
        "\n",
        "plt.show()"
      ],
      "execution_count": null,
      "outputs": []
    },
    {
      "cell_type": "markdown",
      "metadata": {
        "id": "cOhME1UJDtgb"
      },
      "source": [
        "# **Question 1 - Popular Hashtags**"
      ]
    },
    {
      "cell_type": "markdown",
      "metadata": {
        "id": "eisSlvBZIyQh"
      },
      "source": [
        "## Hashtags Method 1"
      ]
    },
    {
      "cell_type": "markdown",
      "metadata": {
        "id": "QHW1Ne0TDp6D"
      },
      "source": [
        "Question 1 - What are the characteristics of rumour-creating users, and how do they differ compared to normal users?"
      ]
    },
    {
      "cell_type": "code",
      "metadata": {
        "id": "FgAexf3SDphm"
      },
      "source": [
        "# Hashtags & mentions\n",
        "#What are the popular hashtags of COVID-19 rumours and non-rumours? How much overlap or difference do they share?\n",
        "def get_popular_hashtags(df,n):\n",
        "    tag_dict = {}\n",
        "    df_list = df['tweet'].values.tolist()\n",
        "#     print (df_list)\n",
        "    for tweet_text in df_list:\n",
        "#         tweet_text = df.loc[i]['text']\n",
        "#         print(tweet_text)\n",
        "        tweet_text_lowercase = tweet_text.lower()\n",
        "        tweet_tokens = tweet_text_lowercase.split()\n",
        "        for word in tweet_tokens:\n",
        "            # Hashtags - tokenize and build dict of tag counts\n",
        "            if (word[0:1] == '#' and len(word) > 1):\n",
        "                key = word.translate(str.maketrans(\"\",\"\", string.punctuation))\n",
        "                if key in tag_dict:\n",
        "                    tag_dict[key] += 1\n",
        "                else:\n",
        "                    tag_dict[key] = 1\n",
        "    # The 10 most popular tags and counts\n",
        "    top_tags = dict(sorted(tag_dict.items(), key=operator.itemgetter(1), reverse=True)[:n])\n",
        "    top_tags_sorted = sorted(top_tags.items(), key=lambda x: x[1])[::-1]\n",
        "    print (f'Top {n} hashtags:')\n",
        "    print ('----------------')\n",
        "    print(top_tags_sorted)\n",
        "#     for tag in top_tags_sorted:\n",
        "#         print (tag[0], '-', str(tag[1]))\n",
        "\n",
        "print(\"RUMOUR \")\n",
        "get_popular_hashtags(df_rumour, 40)\n",
        "print(\"\\nNON-RUMOUR \")\n",
        "get_popular_hashtags(df_non_rumour,40)\n"
      ],
      "execution_count": null,
      "outputs": []
    },
    {
      "cell_type": "markdown",
      "metadata": {
        "id": "solSPXZTEOkD"
      },
      "source": [
        "## Hashtags Method 2"
      ]
    },
    {
      "cell_type": "code",
      "metadata": {
        "id": "EgSjHV-XDpfN"
      },
      "source": [
        "def find_hashtags(tweet):\n",
        "      '''This function will extract hashtags'''\n",
        "      tweet_text_lowercase = tweet.lower()\n",
        "      return re.findall('(#[A-Za-z]+[A-Za-z0-9-_]+)', tweet_text_lowercase)\n",
        "\n",
        "def popular_hashtags(df_non_rumour, n):\n",
        "    df_non_rumour['hashtags'] = df_non_rumour.tweet.apply(find_hashtags)\n",
        "    # print(df_non_rumour.head())\n",
        "\n",
        "    # take the rows from the hashtag columns where there are actually hashtags\n",
        "    hashtags_list_df = df_non_rumour.loc[\n",
        "                          df_non_rumour.hashtags.apply(\n",
        "                              lambda hashtags_list: hashtags_list !=[]\n",
        "                          ),['hashtags']]\n",
        "    # print(hashtags_list_df.head())\n",
        "\n",
        "    #To see which hashtags were popular we will need to flatten out this dataframe.\n",
        "    # create dataframe where each use of hashtag gets its own row\n",
        "    flattened_hashtags_df = pd.DataFrame(\n",
        "        [hashtag for hashtags_list in hashtags_list_df.hashtags\n",
        "        for hashtag in hashtags_list],\n",
        "        columns=['hashtag'])\n",
        "    # print(flattened_hashtags_df.head(10))\n",
        "\n",
        "    # number of unique hashtags\n",
        "    flattened_hashtags_df['hashtag'].unique().size\n",
        "    # count of appearances of each hashtag\n",
        "    popular_hashtags = flattened_hashtags_df.groupby('hashtag').size()\\\n",
        "                                            .reset_index(name='counts')\\\n",
        "                                            .sort_values('counts', ascending=False)\\\n",
        "                                            .reset_index(drop=True)\n",
        "        # number of times each hashtag appears - not necessary\n",
        "    counts = flattened_hashtags_df.groupby(['hashtag']).size()\\\n",
        "                                  .reset_index(name='counts')\\\n",
        "                                  .counts\n",
        "\n",
        "    # define bins for histogram                              \n",
        "    my_bins = np.arange(0,counts.max()+2, 5)-0.5\n",
        "\n",
        "    # plot histogram of tweet counts\n",
        "    plt.figure()\n",
        "    plt.hist(counts, bins = my_bins)\n",
        "    plt.xlabels = np.arange(1,counts.max()+1, 1)\n",
        "    plt.xlabel('hashtag number of appearances')\n",
        "    plt.ylabel('frequency')\n",
        "    plt.yscale('log', nonposy='clip')\n",
        "    plt.show()\n",
        "    \n",
        "    return popular_hashtags[:n]\n",
        "n= 20\n",
        "print(f\"TOP {n} RUMOUR HASHTAGS \\n\",popular_hashtags(df_rumour,n))\n",
        "print(f\"\\nTOP {n} NON-RUMOUR HASHTAGS \\n\",popular_hashtags(df_non_rumour, n))"
      ],
      "execution_count": null,
      "outputs": []
    },
    {
      "cell_type": "code",
      "metadata": {
        "id": "EeHm0mmkDpcJ"
      },
      "source": [
        "# number of times each hashtag appears - not necessary\n",
        "counts = flattened_hashtags_df.groupby(['hashtag']).size()\\\n",
        "                              .reset_index(name='counts')\\\n",
        "                              .counts\n",
        "\n",
        "# define bins for histogram                              \n",
        "my_bins = np.arange(0,counts.max()+2, 5)-0.5\n",
        "\n",
        "# plot histogram of tweet counts\n",
        "plt.figure()\n",
        "plt.hist(counts, bins = my_bins)\n",
        "plt.xlabels = np.arange(1,counts.max()+1, 1)\n",
        "plt.xlabel('hashtag number of appearances')\n",
        "plt.ylabel('frequency')\n",
        "plt.yscale('log', nonposy='clip')\n",
        "plt.show()"
      ],
      "execution_count": null,
      "outputs": []
    },
    {
      "cell_type": "code",
      "metadata": {
        "id": "ZEriE6E8DpZi"
      },
      "source": [
        "# take hashtags which appear at least this amount of times\n",
        "min_appearance = 10\n",
        "# find popular hashtags - make into python set for efficiency\n",
        "popular_hashtags_set = set(popular_hashtags[popular_hashtags.counts>=min_appearance]['hashtag'])\n",
        "# make a new column with only the popular hashtags\n",
        "hashtags_list_df['popular_hashtags'] = hashtags_list_df.hashtags.apply(lambda hashtag_list: [hashtag for hashtag in hashtag_list if hashtag in popular_hashtags_set])\n",
        "# drop rows without popular hashtag\n",
        "popular_hashtags_list_df = hashtags_list_df.loc[hashtags_list_df.popular_hashtags.apply(lambda hashtag_list: hashtag_list !=[])]\n",
        "\n",
        "# make new dataframe\n",
        "hashtag_vector_df = popular_hashtags_list_df.loc[:, ['popular_hashtags']]\n",
        "for hashtag in popular_hashtags_set:\n",
        "    # make columns to encode presence of hashtags\n",
        "    hashtag_vector_df['{}'.format(hashtag)] = hashtag_vector_df.popular_hashtags.apply(lambda hashtag_list: int(hashtag in hashtag_list))\n",
        "    \n",
        "hashtag_matrix = hashtag_vector_df.drop('popular_hashtags', axis=1)"
      ],
      "execution_count": null,
      "outputs": []
    },
    {
      "cell_type": "code",
      "metadata": {
        "id": "91XU7zLpGqkg"
      },
      "source": [
        "# calculate the correlation matrix\n",
        "correlations = hashtag_matrix.corr(method ='pearson')\n",
        "\n",
        "# plot the correlation matrix\n",
        "plt.figure(figsize=(10,10))\n",
        "sns.heatmap(correlations,\n",
        "    cmap='RdBu',\n",
        "    vmin=-1,\n",
        "    vmax=1,\n",
        "    square = True,\n",
        "    cbar_kws={'label':'correlation'})\n",
        "plt.show()"
      ],
      "execution_count": null,
      "outputs": []
    },
    {
      "cell_type": "markdown",
      "metadata": {
        "id": "8Ium_DgEC2Aa"
      },
      "source": [
        "# **Question 2 - Sentiment Analysis**\n",
        "\n"
      ]
    },
    {
      "cell_type": "code",
      "metadata": {
        "id": "GZx1Z-rHC1lc"
      },
      "source": [
        "# Reference - https://www.earthdatascience.org/courses/use-data-open-source-python/intro-to-apis/analyze-tweet-sentiment-in-python/#:~:text=tweet%20in%20tweets%5D-,Analyze%20Sentiments%20in%20Tweets,polarity%20value%20using%20the%20attribute%20.\n",
        "def remove_url(txt):\n",
        "#     Replace URLs found in a text string with nothing (i.e. it will remove the URL from the string).\n",
        "#     Parameters txt : string A text string that you want to parse and remove urls.\n",
        "#     Returns The same txt string with url's removed.\n",
        "    return \" \".join(re.sub(\"([^0-9A-Za-z \\t])|(\\w+:\\/\\/\\S+)\", \"\", txt).split())\n",
        "tweets_no_urls = []\n",
        "for i in range(len(df_rumour)):\n",
        "    tweets_no_urls.append(remove_url(df_rumour.iloc[i]['tweet']))"
      ],
      "execution_count": null,
      "outputs": []
    },
    {
      "cell_type": "code",
      "metadata": {
        "id": "2jXbgZGEC1jJ"
      },
      "source": [
        "# Create textblob objects of the tweets\n",
        "sentiment_objects = [TextBlob(tweet) for tweet in tweets_no_urls]\n",
        "print(sentiment_objects[0].polarity, sentiment_objects[0])\n",
        "\n",
        "# Create list of polarity valuesx and tweet text\n",
        "sentiment_values = [[tweet.sentiment.polarity, str(tweet)] for tweet in sentiment_objects]\n",
        "print(sentiment_values[10])\n",
        "\n",
        "# Create dataframe containing the polarity value and tweet text\n",
        "sentiment_df = pd.DataFrame(sentiment_values, columns=[\"polarity\", \"tweet\"])\n",
        "print(sentiment_df.head())\n",
        "\n",
        "%matplotlib inline\n",
        "fig, ax = plt.subplots(figsize=(8, 6))\n",
        "\n",
        "# Plot histogram of the polarity values\n",
        "sentiment_df.hist(bins=[-1, -0.75, -0.5, -0.25, 0.25, 0.5, 0.75, 1],\n",
        "             ax=ax,\n",
        "             color=\"purple\")\n",
        "\n",
        "plt.title(\"Sentiments from Rumour Tweets on Covid-19\")\n",
        "plt.show()\n",
        "# Remove polarity values equal to zero\n",
        "sentiment_df = sentiment_df[sentiment_df.polarity != 0]\n",
        "fig, ax = plt.subplots(figsize=(8, 6))\n",
        "\n",
        "# Plot histogram with break at zero\n",
        "sentiment_df.hist(bins=[-1, -0.75, -0.5, -0.25, 0.0, 0.25, 0.5, 0.75, 1],\n",
        "             ax=ax,\n",
        "             color=\"purple\")\n",
        "\n",
        "plt.title(\"Sentiments from Rumour Tweets on Covid-19\")\n",
        "plt.show()"
      ],
      "execution_count": null,
      "outputs": []
    },
    {
      "cell_type": "code",
      "metadata": {
        "id": "Dh_bg2tbC1g3"
      },
      "source": [
        "all_tweets_no_urls = []\n",
        "for i in range(len(df_non_rumour)):\n",
        "    all_tweets_no_urls.append(remove_url(df_non_rumour.iloc[i]['tweet']))\n",
        "all_tweets_no_urls[:5]"
      ],
      "execution_count": null,
      "outputs": []
    },
    {
      "cell_type": "code",
      "metadata": {
        "id": "MxtcWiacC1dl"
      },
      "source": [
        "# Create textblob objects of the tweets\n",
        "sentiment_objects = [TextBlob(tweet) for tweet in all_tweets_no_urls]\n",
        "# Calculate polarity of tweets\n",
        "wild_sent_values = [[tweet.sentiment.polarity, str(tweet)] for tweet in sentiment_objects]\n",
        "# Create dataframe containing polarity values and tweet text\n",
        "wild_sent_df = pd.DataFrame(wild_sent_values, columns=[\"polarity\", \"tweet\"])\n",
        "wild_sent_df = wild_sent_df[wild_sent_df.polarity != 0]\n",
        "wild_sent_df.head()\n",
        "fig, ax = plt.subplots(figsize=(8, 6))\n",
        "\n",
        "wild_sent_df.hist(bins=[-1, -0.75, -0.5, -0.25, 0, 0.25, 0.5, 0.75, 1],\n",
        "        ax=ax, color=\"purple\")\n",
        "\n",
        "plt.title(\"Sentiments from Non Rumour Tweets on Covid-19\")\n",
        "plt.show()\n",
        "#What does the histogram of the polarity values tell you about sentiments in the tweets gathered from the search “#climate+change -filter:retweets”? Are they more positive or negative?"
      ],
      "execution_count": null,
      "outputs": []
    },
    {
      "cell_type": "code",
      "metadata": {
        "id": "DWANMAmLC1bK"
      },
      "source": [
        "def set_sentiment(df1):\n",
        "    sentiment_list = []\n",
        "    for index, row in df1.iterrows():\n",
        "        tweet_text = row['tweet'] #each row has one sentence and get that sentence \n",
        "        analysis = TextBlob(tweet_text)    \n",
        "    #     print(analysis.sentiment)    \n",
        "        if analysis.sentiment[0]>0:       \n",
        "            sentiment_list.append('Positive')    \n",
        "        elif analysis.sentiment[0]<0:       \n",
        "            sentiment_list.append('Negative')     \n",
        "        else:       \n",
        "            sentiment_list.append('Neutral')\n",
        "    df1['sentiment'] = sentiment_list\n",
        "    # print(df1.head())\n",
        "    print(df1.groupby('sentiment').size())\n",
        "set_sentiment(df_rumour)\n",
        "set_sentiment(df_non_rumour)"
      ],
      "execution_count": null,
      "outputs": []
    },
    {
      "cell_type": "markdown",
      "metadata": {
        "id": "uVxJRJ6kDiGZ"
      },
      "source": [
        "create a datadrame for reply tweets and do the same sentiment analysis as done for source tweets"
      ]
    },
    {
      "cell_type": "markdown",
      "metadata": {
        "id": "VtszAzPCDdXV"
      },
      "source": [
        "Calculate Sentiment ratio"
      ]
    },
    {
      "cell_type": "code",
      "metadata": {
        "id": "iHp57KzoC1Y2"
      },
      "source": [
        "rum_ratio = '259:164:518'\n",
        "non_rum_ratio = '3812:4814:7892'\n",
        "def solve(ratio):\n",
        "    numbers = [int(i) for i in ratio.split(':')]\n",
        "    denominater = reduce(gcd,numbers)\n",
        "    solved = [i/denominater for i in numbers]\n",
        "    return ':'.join(str(i) for i in solved)\n",
        "\n",
        "rumour_ratio =  solve(rum_ratio)\n",
        "print (rumour_ratio)\n",
        "non_rumour_ratio =  solve(non_rum_ratio)\n",
        "print (non_rumour_ratio)\n",
        "\n",
        "n1 = 260\n",
        "n2 = 164\n",
        "n3 = 518\n",
        "\n",
        "print(\"THE GCD OF GIVEN NUMBERS:\",math.gcd(math.gcd(n1,n2),n3))\n",
        "\n",
        "n1 = 3812\n",
        "n2 = 4814\n",
        "n3 = 7891\n",
        "\n",
        "print(\"THE GCD OF GIVEN NUMBERS:\",math.gcd(math.gcd(n1,n2),n3))"
      ],
      "execution_count": null,
      "outputs": []
    },
    {
      "cell_type": "markdown",
      "metadata": {
        "id": "5BMJcijDa63j"
      },
      "source": [
        "# **Question 3 - Topic analysis - Figure 4, Table 5**"
      ]
    },
    {
      "cell_type": "code",
      "metadata": {
        "id": "V0RTOUuVa7dB"
      },
      "source": [
        "# Reference https://towardsdatascience.com/topic-modelling-in-python-with-nltk-and-gensim-4ef03213cd21\n",
        "# https://www.machinelearningplus.com/nlp/topic-modeling-gensim-python/ https://www.youtube.com/watch?v=UEn3xHNBXJU\n",
        "#https://github.com/bhargavvader/personal/issues/5\n",
        "#https://towardsdatascience.com/evaluate-topic-model-in-python-latent-dirichlet-allocation-lda-7d57484bb5d0"
      ],
      "execution_count": null,
      "outputs": []
    },
    {
      "cell_type": "code",
      "metadata": {
        "id": "G1jhkLRFbNQL"
      },
      "source": [
        "parser = English()\n",
        "def tokenize(text):\n",
        "    lda_tokens = []\n",
        "    tokens = parser(text)\n",
        "    for token in tokens:\n",
        "        if token.orth_.isspace():\n",
        "            continue\n",
        "        elif token.like_url:\n",
        "            lda_tokens.append('URL')\n",
        "        elif token.orth_.startswith('@'):\n",
        "            lda_tokens.append('SCREEN_NAME')\n",
        "        else:\n",
        "            lda_tokens.append(token.lower_)\n",
        "    return lda_tokens\n",
        "    \n",
        "def get_lemma(word):\n",
        "    lemma = wn.morphy(word)\n",
        "    if lemma is None:\n",
        "        return word\n",
        "    else:\n",
        "        return lemma\n",
        "    \n",
        "def get_lemma2(word):\n",
        "    return WordNetLemmatizer().lemmatize(word)\n",
        "    \n",
        "def prepare_text_for_lda(text):\n",
        "    tokens = tokenize(text)\n",
        "    tokens = [token for token in tokens if len(token) > 4]\n",
        "    tokens = [token for token in tokens if token not in en_stop]\n",
        "    tokens = [get_lemma(token) for token in tokens]\n",
        "    return tokens"
      ],
      "execution_count": null,
      "outputs": []
    },
    {
      "cell_type": "code",
      "metadata": {
        "id": "R4mQQtmVbNJL"
      },
      "source": [
        "for w in ['dogs', 'ran', 'discouraged']:\n",
        "    print(w, get_lemma(w), get_lemma2(w))"
      ],
      "execution_count": null,
      "outputs": []
    },
    {
      "cell_type": "markdown",
      "metadata": {
        "id": "CfTkORPoa6kU"
      },
      "source": [
        "## Rumour Topics"
      ]
    },
    {
      "cell_type": "code",
      "metadata": {
        "id": "zkvk3oB2hJWM"
      },
      "source": [
        "import warnings\n",
        "warnings.filterwarnings('ignore')"
      ],
      "execution_count": null,
      "outputs": []
    },
    {
      "cell_type": "code",
      "metadata": {
        "id": "d7Zs_TBRa7VJ"
      },
      "source": [
        "sentence_list = list(df_rumour[\"tweet\"])\n",
        "text_data = []\n",
        "for line in sentence_list:\n",
        "    tokens = prepare_text_for_lda(line)\n",
        "    if random.random() > .99:\n",
        "        text_data.append(tokens)\n",
        "#First, we are creating a dictionary from the data, then convert to bag-of-words corpus and save the dictionary and corpus for future use.\n",
        "dictionary = corpora.Dictionary(text_data)\n",
        "corpus = [dictionary.doc2bow(text) for text in text_data]\n",
        "pickle.dump(corpus, open('corpus.pkl', 'wb'))\n",
        "dictionary.save('dictionary.gensim')\n",
        "\n",
        "#We are asking LDA to find 3/5/10 topics in the data:\n",
        "# NUM_TOPICS = 5\n",
        "# ldamodel = gensim.models.ldamodel.LdaModel(corpus, num_topics = NUM_TOPICS, id2word=dictionary, passes=15)\n",
        "# ldamodel.save('model5_rumour.gensim')\n",
        "# topics = ldamodel.print_topics(num_words=4)\n",
        "# for topic in topics:\n",
        "#     print(topic)\n",
        "\n",
        "# #Now we are asking LDA to find 3 topics in the data:\n",
        "# ldamodel = gensim.models.ldamodel.LdaModel(corpus, num_topics = 3, id2word=dictionary, passes=15)\n",
        "# ldamodel.save('model3_rumour.gensim')\n",
        "# topics = ldamodel.print_topics(num_words=4)\n",
        "# for topic in topics:\n",
        "#     print(topic)\n",
        "\n",
        "#We can also find 10 topics:\n",
        "ldamodel = gensim.models.ldamodel.LdaModel(corpus, num_topics = 10, id2word=dictionary, passes=15)\n",
        "ldamodel.save('model10_rumour.gensim')\n",
        "topics = ldamodel.print_topics(num_words=4)\n",
        "for topic in topics:\n",
        "    print(topic)\n",
        "\n",
        "dictionary = gensim.corpora.Dictionary.load('dictionary.gensim')\n",
        "corpus = pickle.load(open('corpus.pkl', 'rb'))\n",
        "# lda = gensim.models.ldamodel.LdaModel.load('model5_rumour.gensim')\n",
        "# # feed the LDA model into the pyLDAvis instance\n",
        "# # lda_viz = gensimvis.prepare(ldamodel, corpus, dictionary)\n",
        "# lda_display = gensimvis.prepare(lda, corpus, dictionary, sort_topics=False)\n",
        "# pyLDAvis.display(lda_display)\n",
        "\n",
        "# lda3 = gensim.models.ldamodel.LdaModel.load('model3_rumour.gensim')\n",
        "# lda_display3 = gensimvis.prepare(lda3, corpus, dictionary, sort_topics=False)\n",
        "# pyLDAvis.display(lda_display3)\n",
        "\n",
        "lda10 = gensim.models.ldamodel.LdaModel.load('model10_rumour.gensim')\n",
        "lda_display10 = gensimvis.prepare(lda10, corpus, dictionary, sort_topics=False)\n",
        "pyLDAvis.display(lda_display10)"
      ],
      "execution_count": null,
      "outputs": []
    },
    {
      "cell_type": "code",
      "metadata": {
        "id": "RE8QmyYBb6A0"
      },
      "source": [
        ""
      ],
      "execution_count": null,
      "outputs": []
    },
    {
      "cell_type": "markdown",
      "metadata": {
        "id": "RDf-a9SBb_j9"
      },
      "source": [
        "## Non-Rumour Topics"
      ]
    },
    {
      "cell_type": "code",
      "metadata": {
        "id": "RoTKxO0RcB81"
      },
      "source": [
        "sentence_list = list(df_non_rumour[\"tweet\"])\n",
        "text_data = []\n",
        "for line in sentence_list:\n",
        "    tokens = prepare_text_for_lda(line)\n",
        "    if random.random() > .99:\n",
        "        text_data.append(tokens)\n",
        "\n",
        "#First, we are creating a dictionary from the data, then convert to bag-of-words corpus and save the dictionary and corpus for future use.\n",
        "dictionary = corpora.Dictionary(text_data)\n",
        "corpus = [dictionary.doc2bow(text) for text in text_data]\n",
        "pickle.dump(corpus, open('corpus.pkl', 'wb'))\n",
        "dictionary.save('dictionary.gensim')\n",
        "\n",
        "# #We are asking LDA to find 5 topics in the data:\n",
        "# NUM_TOPICS = 5\n",
        "# ldamodel = gensim.models.ldamodel.LdaModel(corpus, num_topics = NUM_TOPICS, id2word=dictionary, passes=15)\n",
        "# ldamodel.save('model5_non_rumour.gensim')\n",
        "# topics = ldamodel.print_topics(num_words=4)\n",
        "# for topic in topics:\n",
        "#     print(topic)\n",
        "\n",
        "# #Now we are asking LDA to find 3 topics in the data:\n",
        "# ldamodel = gensim.models.ldamodel.LdaModel(corpus, num_topics = 3, id2word=dictionary, passes=15)\n",
        "# ldamodel.save('model3_non_rumour.gensim')\n",
        "# topics = ldamodel.print_topics(num_words=4)\n",
        "# for topic in topics:\n",
        "#     print(topic)\n",
        "\n",
        "#We can also find 10 topics:\n",
        "ldamodel = gensim.models.ldamodel.LdaModel(corpus, num_topics = 10, id2word=dictionary, passes=15)\n",
        "ldamodel.save('model10_non_rumour.gensim')\n",
        "topics = ldamodel.print_topics(num_words=4)\n",
        "for topic in topics:\n",
        "    print(topic)\n",
        "\n",
        "# dictionary = gensim.corpora.Dictionary.load('dictionary.gensim')\n",
        "# corpus = pickle.load(open('corpus.pkl', 'rb'))\n",
        "# lda = gensim.models.ldamodel.LdaModel.load('model5_non_rumour.gensim')\n",
        "# # feed the LDA model into the pyLDAvis instance\n",
        "# # lda_viz = gensimvis.prepare(ldamodel, corpus, dictionary)\n",
        "# lda_display = gensimvis.prepare(lda, corpus, dictionary, sort_topics=False)\n",
        "# pyLDAvis.display(lda_display)\n",
        "\n",
        "# lda3 = gensim.models.ldamodel.LdaModel.load('model3_non_rumour.gensim')\n",
        "# lda_display3 = gensimvis.prepare(lda3, corpus, dictionary, sort_topics=False)\n",
        "# pyLDAvis.display(lda_display3)\n",
        "\n",
        "lda10 = gensim.models.ldamodel.LdaModel.load('model10_non_rumour.gensim')\n",
        "lda_display10 = gensimvis.prepare(lda10, corpus, dictionary, sort_topics=False)\n",
        "pyLDAvis.display(lda_display10)"
      ],
      "execution_count": null,
      "outputs": []
    },
    {
      "cell_type": "markdown",
      "metadata": {
        "id": "6BXTe08fcqL3"
      },
      "source": [
        "## Word Cloud"
      ]
    },
    {
      "cell_type": "code",
      "metadata": {
        "id": "X3Qvq9U8cCXR"
      },
      "source": [
        "#https://stackoverflow.com/questions/62525780/how-to-create-wordcloud-showing-most-common-bigrams-in-a-text-using-python\n",
        "def remove_url(txt):\n",
        "    \"\"\"Replace URLs found in a text string with nothing (i.e. it will remove the URL from the string).\n",
        "    Parameters= txt : string A text string that you want to parse and remove urls.\n",
        "    Returns=The same txt string with url's removed.\n",
        "    \"\"\"\n",
        "    url_pattern = re.compile(r'https?://\\S+|www\\.\\S+')\n",
        "    no_url = url_pattern.sub(r'', txt)\n",
        "    return no_url\n",
        "def show_graph(number_of_ngrams):\n",
        "    bigram_df = pd.DataFrame(number_of_ngrams,columns=['ngram', 'count'])\n",
        "    d = bigram_df.set_index('ngram').T.to_dict('records')\n",
        "    # Create network plot \n",
        "    G = nx.Graph()\n",
        "    # Create connections between nodes\n",
        "    for k, v in d[0].items():\n",
        "        G.add_edge(k[0], k[1], weight=(v * 10))\n",
        "    fig, ax = plt.subplots(figsize=(10, 8))\n",
        "    pos = nx.spring_layout(G, k=2)\n",
        "    # Plot networks\n",
        "    nx.draw_networkx(G, pos,font_size=16,width=3,edge_color='grey',node_color='purple',with_labels = False,ax=ax)\n",
        "    # Create offset labels\n",
        "    for key, value in pos.items():\n",
        "        x, y = value[0]+.135, value[1]+.045\n",
        "        ax.text(x, y,s=key,bbox=dict(facecolor='red', alpha=0.25),horizontalalignment='center', fontsize=13) \n",
        "    plt.show()\n",
        "\n",
        "def show_ngrams(terms_ngram):\n",
        "    # terms_bigram = [list(bigrams(tweet)) for tweet in tweets_nsw_nc]\n",
        "    # View bigrams for the first tweet\n",
        "    # terms_bigram[0]\n",
        "    # Flatten list of bigrams in clean tweets\n",
        "    ngrams_list = list(itertools.chain(*terms_ngram))\n",
        "\n",
        "    # Create counter of words in clean bigrams\n",
        "    ngrams_counts = collections.Counter(ngrams_list)\n",
        "\n",
        "    tup = ngrams_counts.most_common(80)\n",
        "    tup_graph = ngrams_counts.most_common(40) #use this for the networkx graph\n",
        "    list1=[]\n",
        "    list2=[]\n",
        "    for item in tup:\n",
        "        list1.append(' '.join(item[0]))    \n",
        "        list2.append(item[1])\n",
        "    lst_tuple = list(zip(list1,list2))\n",
        "    print(lst_tuple)\n",
        "    ngrams_df2 = pd.DataFrame(lst_tuple,columns=['ngrams', 'count'])\n",
        "    df_to_dict  = ngrams_df2.set_index('ngrams')['count'].to_dict() #use this method\n",
        "    wordcloud = WordCloud(width = 1000, height = 500).generate_from_frequencies(df_to_dict)\n",
        "    plt.figure(figsize=(15,8))\n",
        "    plt.imshow(wordcloud)\n",
        "\n",
        "    show_graph(tup_graph)\n",
        "\n",
        "def word_cloud (df):\n",
        "    # Remove URLs\n",
        "    tweets_no_urls = []\n",
        "    for i in range(len(df)):\n",
        "        tweets_no_urls.append(remove_url(df.iloc[i]['tweet']))\n",
        "    # Create a sublist of lower case words for each tweet\n",
        "    words_in_tweet = [tweet.lower().split() for tweet in tweets_no_urls]\n",
        "\n",
        "    stop_words = set(stopwords.words('english'))\n",
        "\n",
        "    # Remove stop words from each tweet list of words\n",
        "    tweets_nsw = [[word for word in tweet_words if not word in stop_words] for tweet_words in words_in_tweet]\n",
        "\n",
        "    # Remove collection words\n",
        "    collection_words = ['coronavirus', 'covid-19', 'tested', 'positive']\n",
        "\n",
        "    tweets_nsw_nc = [[w for w in word if not w in collection_words] for word in tweets_nsw]\n",
        "    tweets_nsw_nc = [x for x in tweets_nsw_nc if x != []]\n",
        "    from nltk import bigrams, trigrams\n",
        "    #displaying bigram word cloud\n",
        "    terms_bigram = [list(bigrams(tweet)) for tweet in tweets_nsw_nc]\n",
        "    show_ngrams(terms_bigram)\n",
        "    # tweets_nsw_nc = [x for x in tweets_nsw_nc if x != []]\n",
        "    # displaying trigram word cloud\n",
        "    terms_trigram = [list(trigrams(tweet)) for tweet in tweets_nsw_nc if len(tweet) >2]\n",
        "    show_ngrams(terms_trigram)  "
      ],
      "execution_count": null,
      "outputs": []
    },
    {
      "cell_type": "markdown",
      "metadata": {
        "id": "TJpancQygpq3"
      },
      "source": [
        "### Rumour Word Cloud"
      ]
    },
    {
      "cell_type": "code",
      "metadata": {
        "id": "DpmYSPAngusT"
      },
      "source": [
        "word_cloud(df_rumour)"
      ],
      "execution_count": null,
      "outputs": []
    },
    {
      "cell_type": "markdown",
      "metadata": {
        "id": "9peIHZxVg2ks"
      },
      "source": [
        " ### Non-Rumour Word Cloud"
      ]
    },
    {
      "cell_type": "code",
      "metadata": {
        "id": "pgSfSGregyN6"
      },
      "source": [
        "word_cloud(df_non_rumour)"
      ],
      "execution_count": null,
      "outputs": []
    },
    {
      "cell_type": "markdown",
      "metadata": {
        "id": "Pu6jSDLPYczz"
      },
      "source": [
        "# **Question 4 - User Analysis - TABLE 4**"
      ]
    },
    {
      "cell_type": "markdown",
      "metadata": {
        "id": "pI7dATKhF4ET"
      },
      "source": [
        "## Numeric Columns"
      ]
    },
    {
      "cell_type": "markdown",
      "metadata": {
        "id": "d4mbI3fWYf1O"
      },
      "source": [
        "#### Followers count"
      ]
    },
    {
      "cell_type": "code",
      "metadata": {
        "id": "w7bQxHXhnQvp"
      },
      "source": [
        "total_nonRum_followers_count = df_non_rumour['followers_count'].sum()\n",
        "print (\"The sum of followers count is: \",total_nonRum_followers_count)\n",
        "mean_nonRum_followers_count = df_non_rumour['followers_count'].mean()\n",
        "print (\"The mean of non-rumours followers count is: \", mean_nonRum_followers_count)\n",
        "median_nonRum_followers_count = df_non_rumour['followers_count'].median()\n",
        "print (\"The median of non-rumours followers count is: \",median_nonRum_followers_count, \"\\n\")\n",
        "\n",
        "total_Rum_followers_count = df_rumour['followers_count'].sum()\n",
        "print (\"The sum of followers count is: \",total_Rum_followers_count)\n",
        "mean_Rum_followers_count = df_rumour['followers_count'].mean()\n",
        "print (\"The mean of rumours followers count is: \", mean_Rum_followers_count)\n",
        "median_Rum_followers_count = df_rumour['followers_count'].median()\n",
        "print (\"The median of rumours followers count is: \",median_Rum_followers_count, \"\\n\")"
      ],
      "execution_count": null,
      "outputs": []
    },
    {
      "cell_type": "markdown",
      "metadata": {
        "id": "JRzmWCe-ZMBE"
      },
      "source": [
        "#### Friends Count"
      ]
    },
    {
      "cell_type": "code",
      "metadata": {
        "id": "5HEOF-ronQtu"
      },
      "source": [
        "total_nonRum_followers_count = df_non_rumour['friends_count'].sum()\n",
        "print (\"The sum of followers count is: \",total_nonRum_followers_count)\n",
        "mean_nonRum_followers_count = df_non_rumour['friends_count'].mean()\n",
        "print (\"The mean of non-rumours followers count is: \", mean_nonRum_followers_count)\n",
        "median_nonRum_followers_count = df_non_rumour['friends_count'].median()\n",
        "print (\"The median of non-rumours followers count is: \",median_nonRum_followers_count, \"\\n\")\n",
        "\n",
        "total_Rum_followers_count = df_rumour['friends_count'].sum()\n",
        "print (\"The sum of followers count is: \",total_Rum_followers_count)\n",
        "mean_Rum_followers_count = df_rumour['friends_count'].mean()\n",
        "print (\"The mean of rumours followers count is: \", mean_Rum_followers_count)\n",
        "median_Rum_followers_count = df_rumour['friends_count'].median()\n",
        "print (\"The median of rumours followers count is: \",median_Rum_followers_count, \"\\n\")"
      ],
      "execution_count": null,
      "outputs": []
    },
    {
      "cell_type": "markdown",
      "metadata": {
        "id": "c8ETLtDAZST6"
      },
      "source": [
        "#### Statuses_Count"
      ]
    },
    {
      "cell_type": "code",
      "metadata": {
        "id": "mDvGjj6qZ3cI"
      },
      "source": [
        "total_nonRum_followers_count = df_non_rumour['statuses_count'].sum()\n",
        "print (\"The sum of statuses_count is: \",total_nonRum_followers_count)\n",
        "mean_nonRum_followers_count = df_non_rumour['statuses_count'].mean()\n",
        "print (\"The mean of non-rumours statuses_count is: \", mean_nonRum_followers_count)\n",
        "median_nonRum_followers_count = df_non_rumour['statuses_count'].median()\n",
        "print (\"The median of non-rumours statuses_count is: \",median_nonRum_followers_count, \"\\n\")\n",
        "\n",
        "total_Rum_followers_count = df_rumour['statuses_count'].sum()\n",
        "print (\"The sum of statuses_count is: \",total_Rum_followers_count)\n",
        "mean_Rum_followers_count = df_rumour['statuses_count'].mean()\n",
        "print (\"The mean of rumours statuses_count is: \", mean_Rum_followers_count)\n",
        "median_Rum_followers_count = df_rumour['statuses_count'].median()\n",
        "print (\"The median of rumours statuses_count is: \",median_Rum_followers_count, \"\\n\")"
      ],
      "execution_count": null,
      "outputs": []
    },
    {
      "cell_type": "markdown",
      "metadata": {
        "id": "yAMfdNIiZSRY"
      },
      "source": [
        "#### Listed_Count"
      ]
    },
    {
      "cell_type": "code",
      "metadata": {
        "id": "U5iIH-lJZ32K"
      },
      "source": [
        "total_nonRum_followers_count = df_non_rumour['listed_count'].sum()\n",
        "print (\"The sum of listed_count is: \",total_nonRum_followers_count)\n",
        "mean_nonRum_followers_count = df_non_rumour['listed_count'].mean()\n",
        "print (\"The mean of non-rumours listed_count is: \", mean_nonRum_followers_count)\n",
        "median_nonRum_followers_count = df_non_rumour['listed_count'].median()\n",
        "print (\"The median of non-rumours listed_count is: \",median_nonRum_followers_count, \"\\n\")\n",
        "\n",
        "total_Rum_followers_count = df_rumour['listed_count'].sum()\n",
        "print (\"The sum of listed_count is: \",total_Rum_followers_count)\n",
        "mean_Rum_followers_count = df_rumour['listed_count'].mean()\n",
        "print (\"The mean of rumours listed_count is: \", mean_Rum_followers_count)\n",
        "median_Rum_followers_count = df_rumour['listed_count'].median()\n",
        "print (\"The median of rumours listed_count is: \",median_Rum_followers_count, \"\\n\")"
      ],
      "execution_count": null,
      "outputs": []
    },
    {
      "cell_type": "markdown",
      "metadata": {
        "id": "TPSLphAZZSOt"
      },
      "source": [
        "#### Favourite_Count"
      ]
    },
    {
      "cell_type": "code",
      "metadata": {
        "id": "3i0KNCf2Z4cc"
      },
      "source": [
        "total_nonRum_followers_count = df_non_rumour['favorite_count'].sum()\n",
        "print (\"The sum of favorite_count is: \",total_nonRum_followers_count)\n",
        "mean_nonRum_followers_count = df_non_rumour['favorite_count'].mean()\n",
        "print (\"The mean of non-rumours favorite_count is: \", mean_nonRum_followers_count)\n",
        "median_nonRum_followers_count = df_non_rumour['favorite_count'].median()\n",
        "print (\"The median of non-rumours favorite_count is: \",median_nonRum_followers_count, \"\\n\")\n",
        "\n",
        "total_Rum_followers_count = df_rumour['favorite_count'].sum()\n",
        "print (\"The sum of favorite_count is: \",total_Rum_followers_count)\n",
        "mean_Rum_followers_count = df_rumour['favorite_count'].mean()\n",
        "print (\"The mean of rumours favorite_count is: \", mean_Rum_followers_count)\n",
        "median_Rum_followers_count = df_rumour['favorite_count'].median()\n",
        "print (\"The median of rumours favorite_count is: \",median_Rum_followers_count, \"\\n\")"
      ],
      "execution_count": null,
      "outputs": []
    },
    {
      "cell_type": "markdown",
      "metadata": {
        "id": "adMc646JZSMS"
      },
      "source": [
        "#### Favourites_Count"
      ]
    },
    {
      "cell_type": "code",
      "metadata": {
        "id": "b-mMUGbUZ4yw"
      },
      "source": [
        "total_nonRum_followers_count = df_non_rumour['favourites_count'].sum()\n",
        "print (\"The sum of favourites_count is: \",total_nonRum_followers_count)\n",
        "mean_nonRum_followers_count = df_non_rumour['favourites_count'].mean()\n",
        "print (\"The mean of non-rumoursfavourites_count is: \", mean_nonRum_followers_count)\n",
        "median_nonRum_followers_count = df_non_rumour['favourites_count'].median()\n",
        "print (\"The median of non-rumours favourites_count is: \",median_nonRum_followers_count, \"\\n\")\n",
        "\n",
        "total_Rum_followers_count = df_rumour['favourites_count'].sum()\n",
        "print (\"The sum of favourites_count is: \",total_Rum_followers_count)\n",
        "mean_Rum_followers_count = df_rumour['favourites_count'].mean()\n",
        "print (\"The mean of rumours favourites_count is: \", mean_Rum_followers_count)\n",
        "median_Rum_followers_count = df_rumour['favourites_count'].median()\n",
        "print (\"The median of rumours favourites_count is: \",median_Rum_followers_count, \"\\n\")"
      ],
      "execution_count": null,
      "outputs": []
    },
    {
      "cell_type": "markdown",
      "metadata": {
        "id": "mdYi9MkQZRmV"
      },
      "source": [
        "#### Retweet_Count "
      ]
    },
    {
      "cell_type": "code",
      "metadata": {
        "id": "Hds_CJLWZ5FS"
      },
      "source": [
        "total_nonRum_followers_count = df_non_rumour['retweet_count'].sum()\n",
        "print (\"The sum of retweet_count is: \",total_nonRum_followers_count)\n",
        "mean_nonRum_followers_count = df_non_rumour['retweet_count'].mean()\n",
        "print (\"The mean of non-rumours retweet_count is: \", mean_nonRum_followers_count)\n",
        "median_nonRum_followers_count = df_non_rumour['retweet_count'].median()\n",
        "print (\"The median of non-rumours retweet_count is: \",median_nonRum_followers_count, \"\\n\")\n",
        "\n",
        "total_Rum_followers_count = df_rumour['retweet_count'].sum()\n",
        "print (\"The sum of retweet_count is: \",total_Rum_followers_count)\n",
        "mean_Rum_followers_count = df_rumour['retweet_count'].mean()\n",
        "print (\"The mean of rumours retweet_count is: \", mean_Rum_followers_count)\n",
        "median_Rum_followers_count = df_rumour['retweet_count'].median()\n",
        "print (\"The median of rumours retweet_count is: \",median_Rum_followers_count, \"\\n\")"
      ],
      "execution_count": null,
      "outputs": []
    },
    {
      "cell_type": "markdown",
      "metadata": {
        "id": "34NU4LZxBp7e"
      },
      "source": [
        "#### User Account Age"
      ]
    },
    {
      "cell_type": "code",
      "metadata": {
        "id": "2fic6rmcZ54j"
      },
      "source": [
        "total_nonRum_followers_count = df_non_rumour['account age (seconds)'].sum()\n",
        "print (\"The sum of account age (seconds) is: \",total_nonRum_followers_count)\n",
        "mean_nonRum_followers_count = df_non_rumour['account age (seconds)'].mean()\n",
        "print (\"The mean of non-rumours account age (seconds) is: \", mean_nonRum_followers_count)\n",
        "median_nonRum_followers_count = df_non_rumour['account age (seconds)'].median()\n",
        "print (\"The median of non-rumours account age (seconds) is: \",median_nonRum_followers_count, \"\\n\")\n",
        "\n",
        "total_Rum_followers_count = df_rumour['account age (seconds)'].sum()\n",
        "print (\"The sum of account age (seconds) is: \",total_Rum_followers_count)\n",
        "mean_Rum_followers_count = df_rumour['account age (seconds)'].mean()\n",
        "print (\"The mean of rumours account age (seconds) is: \", mean_Rum_followers_count)\n",
        "median_Rum_followers_count = df_rumour['account age (seconds)'].median()\n",
        "print (\"The median of rumours account age (seconds) is: \",median_Rum_followers_count, \"\\n\")"
      ],
      "execution_count": null,
      "outputs": []
    },
    {
      "cell_type": "code",
      "metadata": {
        "id": "i6RhU0YfazJB"
      },
      "source": [
        "intervals = (\n",
        "    ('years',)\n",
        "    ('months',)\n",
        "    ('weeks', 604800),  # 60 * 60 * 24 * 7\n",
        "    ('days', 86400),    # 60 * 60 * 24\n",
        "    ('hours', 3600),    # 60 * 60\n",
        "    ('minutes', 60),\n",
        "    ('seconds', 1),\n",
        "    )\n",
        "\n",
        "def display_time(seconds, granularity=2):\n",
        "    result = []\n",
        "\n",
        "    for name, count in intervals:\n",
        "        value = seconds // count\n",
        "        if value:\n",
        "            seconds -= value * count\n",
        "            if value == 1:\n",
        "                name = name.rstrip('s')\n",
        "            result.append(\"{} {}\".format(value, name))\n",
        "    return ', '.join(result[:granularity])"
      ],
      "execution_count": null,
      "outputs": []
    },
    {
      "cell_type": "code",
      "metadata": {
        "id": "WLCrDh_ha2bP"
      },
      "source": [
        "display_time(361935622)"
      ],
      "execution_count": null,
      "outputs": []
    },
    {
      "cell_type": "code",
      "metadata": {
        "id": "Fy4-AdQScJYr"
      },
      "source": [
        "display_time(362529869)"
      ],
      "execution_count": null,
      "outputs": []
    },
    {
      "cell_type": "code",
      "metadata": {
        "id": "RmatmVZnbaSc"
      },
      "source": [
        "def display_age(secondss):\n",
        "  years = secondss/ 60/60/24/265.25\n",
        "  return years\n",
        "print(\"Rumour age\",display_age(362529869), \"years\")\n",
        "print(\"NON-Rumour age\",display_age(361935622), \"years\")"
      ],
      "execution_count": null,
      "outputs": []
    },
    {
      "cell_type": "markdown",
      "metadata": {
        "id": "h73aAN01F8c5"
      },
      "source": [
        "## Binary Columns"
      ]
    },
    {
      "cell_type": "markdown",
      "metadata": {
        "id": "e-Unq-lgZr_z"
      },
      "source": [
        "#### Binary Columns - geo-enabled"
      ]
    },
    {
      "cell_type": "code",
      "metadata": {
        "id": "UMkCa0zlaBqf"
      },
      "source": [
        "print(df_rumour[\"geo_enabled\"].value_counts(normalize=True).mul(100).astype(str)+'%')\n",
        "print(df_non_rumour[\"geo_enabled\"].value_counts(normalize=True).mul(100).astype(str)+'%')"
      ],
      "execution_count": null,
      "outputs": []
    },
    {
      "cell_type": "markdown",
      "metadata": {
        "id": "CQsFdCqIZr9g"
      },
      "source": [
        "#### Binary Columns - protected"
      ]
    },
    {
      "cell_type": "code",
      "metadata": {
        "id": "e8OHHKyHaCYG"
      },
      "source": [
        "print(df_rumour[\"protected\"].value_counts(normalize=True).mul(100).astype(str)+'%')\n",
        "print(df_non_rumour[\"protected\"].value_counts(normalize=True).mul(100).astype(str)+'%')"
      ],
      "execution_count": null,
      "outputs": []
    },
    {
      "cell_type": "markdown",
      "metadata": {
        "id": "yTywPm_PZr7K"
      },
      "source": [
        "#### Binary Columns -  default_profile"
      ]
    },
    {
      "cell_type": "code",
      "metadata": {
        "id": "bwogMtroaE8T"
      },
      "source": [
        "print(df_rumour[\"default_profile\"].value_counts(normalize=True).mul(100).astype(str)+'%')\n",
        "print(df_non_rumour[\"default_profile\"].value_counts(normalize=True).mul(100).astype(str)+'%')"
      ],
      "execution_count": null,
      "outputs": []
    },
    {
      "cell_type": "markdown",
      "metadata": {
        "id": "CVWoX_83Zr4V"
      },
      "source": [
        "#### Binary Columns - verified"
      ]
    },
    {
      "cell_type": "code",
      "metadata": {
        "id": "ACP8sr8LaGgF"
      },
      "source": [
        "print(df_rumour[\"verified\"].value_counts(normalize=True).mul(100).astype(str)+'%')\n",
        "print(df_non_rumour[\"verified\"].value_counts(normalize=True).mul(100).astype(str)+'%')"
      ],
      "execution_count": null,
      "outputs": []
    },
    {
      "cell_type": "markdown",
      "metadata": {
        "id": "xdJOoVtEZr0d"
      },
      "source": [
        "## END OF ANALYSIS"
      ]
    }
  ]
}