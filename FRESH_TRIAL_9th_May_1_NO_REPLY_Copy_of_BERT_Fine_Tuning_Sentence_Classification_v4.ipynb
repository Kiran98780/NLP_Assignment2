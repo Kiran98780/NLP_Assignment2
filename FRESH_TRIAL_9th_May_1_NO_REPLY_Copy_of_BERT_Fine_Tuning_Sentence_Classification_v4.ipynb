{
  "nbformat": 4,
  "nbformat_minor": 0,
  "metadata": {
    "colab": {
      "name": "FRESH TRIAL - 9th May - 1. NO REPLY- Copy of BERT_Fine_Tuning_Sentence_Classification_v4.ipynb",
      "provenance": [],
      "collapsed_sections": [],
      "include_colab_link": true
    },
    "kernelspec": {
      "name": "python3",
      "display_name": "Python 3"
    },
    "accelerator": "GPU",
    "widgets": {
      "application/vnd.jupyter.widget-state+json": {
        "d32ae2958aa346328bac006bb40227d7": {
          "model_module": "@jupyter-widgets/controls",
          "model_name": "HBoxModel",
          "state": {
            "_view_name": "HBoxView",
            "_dom_classes": [],
            "_model_name": "HBoxModel",
            "_view_module": "@jupyter-widgets/controls",
            "_model_module_version": "1.5.0",
            "_view_count": null,
            "_view_module_version": "1.5.0",
            "box_style": "",
            "layout": "IPY_MODEL_b4a32bae1626431c9013304ed200b1cd",
            "_model_module": "@jupyter-widgets/controls",
            "children": [
              "IPY_MODEL_a284df794f264e46a4b9484b0bd41c33",
              "IPY_MODEL_4f9ca90ca6264ddd90e3b73c75e25734"
            ]
          }
        },
        "b4a32bae1626431c9013304ed200b1cd": {
          "model_module": "@jupyter-widgets/base",
          "model_name": "LayoutModel",
          "state": {
            "_view_name": "LayoutView",
            "grid_template_rows": null,
            "right": null,
            "justify_content": null,
            "_view_module": "@jupyter-widgets/base",
            "overflow": null,
            "_model_module_version": "1.2.0",
            "_view_count": null,
            "flex_flow": null,
            "width": null,
            "min_width": null,
            "border": null,
            "align_items": null,
            "bottom": null,
            "_model_module": "@jupyter-widgets/base",
            "top": null,
            "grid_column": null,
            "overflow_y": null,
            "overflow_x": null,
            "grid_auto_flow": null,
            "grid_area": null,
            "grid_template_columns": null,
            "flex": null,
            "_model_name": "LayoutModel",
            "justify_items": null,
            "grid_row": null,
            "max_height": null,
            "align_content": null,
            "visibility": null,
            "align_self": null,
            "height": null,
            "min_height": null,
            "padding": null,
            "grid_auto_rows": null,
            "grid_gap": null,
            "max_width": null,
            "order": null,
            "_view_module_version": "1.2.0",
            "grid_template_areas": null,
            "object_position": null,
            "object_fit": null,
            "grid_auto_columns": null,
            "margin": null,
            "display": null,
            "left": null
          }
        },
        "a284df794f264e46a4b9484b0bd41c33": {
          "model_module": "@jupyter-widgets/controls",
          "model_name": "FloatProgressModel",
          "state": {
            "_view_name": "ProgressView",
            "style": "IPY_MODEL_beeefbfe0fa84856a1ed57f73eaaa8d8",
            "_dom_classes": [],
            "description": "Downloading: 100%",
            "_model_name": "FloatProgressModel",
            "bar_style": "success",
            "max": 231508,
            "_view_module": "@jupyter-widgets/controls",
            "_model_module_version": "1.5.0",
            "value": 231508,
            "_view_count": null,
            "_view_module_version": "1.5.0",
            "orientation": "horizontal",
            "min": 0,
            "description_tooltip": null,
            "_model_module": "@jupyter-widgets/controls",
            "layout": "IPY_MODEL_7f976ebb70234f569cabe5c5c398e965"
          }
        },
        "4f9ca90ca6264ddd90e3b73c75e25734": {
          "model_module": "@jupyter-widgets/controls",
          "model_name": "HTMLModel",
          "state": {
            "_view_name": "HTMLView",
            "style": "IPY_MODEL_31cdaa9e0f1047a091f392a09473f19b",
            "_dom_classes": [],
            "description": "",
            "_model_name": "HTMLModel",
            "placeholder": "​",
            "_view_module": "@jupyter-widgets/controls",
            "_model_module_version": "1.5.0",
            "value": " 232k/232k [00:01&lt;00:00, 161kB/s]",
            "_view_count": null,
            "_view_module_version": "1.5.0",
            "description_tooltip": null,
            "_model_module": "@jupyter-widgets/controls",
            "layout": "IPY_MODEL_7b35e55bb99545aa9ea1aa00f75799fc"
          }
        },
        "beeefbfe0fa84856a1ed57f73eaaa8d8": {
          "model_module": "@jupyter-widgets/controls",
          "model_name": "ProgressStyleModel",
          "state": {
            "_view_name": "StyleView",
            "_model_name": "ProgressStyleModel",
            "description_width": "initial",
            "_view_module": "@jupyter-widgets/base",
            "_model_module_version": "1.5.0",
            "_view_count": null,
            "_view_module_version": "1.2.0",
            "bar_color": null,
            "_model_module": "@jupyter-widgets/controls"
          }
        },
        "7f976ebb70234f569cabe5c5c398e965": {
          "model_module": "@jupyter-widgets/base",
          "model_name": "LayoutModel",
          "state": {
            "_view_name": "LayoutView",
            "grid_template_rows": null,
            "right": null,
            "justify_content": null,
            "_view_module": "@jupyter-widgets/base",
            "overflow": null,
            "_model_module_version": "1.2.0",
            "_view_count": null,
            "flex_flow": null,
            "width": null,
            "min_width": null,
            "border": null,
            "align_items": null,
            "bottom": null,
            "_model_module": "@jupyter-widgets/base",
            "top": null,
            "grid_column": null,
            "overflow_y": null,
            "overflow_x": null,
            "grid_auto_flow": null,
            "grid_area": null,
            "grid_template_columns": null,
            "flex": null,
            "_model_name": "LayoutModel",
            "justify_items": null,
            "grid_row": null,
            "max_height": null,
            "align_content": null,
            "visibility": null,
            "align_self": null,
            "height": null,
            "min_height": null,
            "padding": null,
            "grid_auto_rows": null,
            "grid_gap": null,
            "max_width": null,
            "order": null,
            "_view_module_version": "1.2.0",
            "grid_template_areas": null,
            "object_position": null,
            "object_fit": null,
            "grid_auto_columns": null,
            "margin": null,
            "display": null,
            "left": null
          }
        },
        "31cdaa9e0f1047a091f392a09473f19b": {
          "model_module": "@jupyter-widgets/controls",
          "model_name": "DescriptionStyleModel",
          "state": {
            "_view_name": "StyleView",
            "_model_name": "DescriptionStyleModel",
            "description_width": "",
            "_view_module": "@jupyter-widgets/base",
            "_model_module_version": "1.5.0",
            "_view_count": null,
            "_view_module_version": "1.2.0",
            "_model_module": "@jupyter-widgets/controls"
          }
        },
        "7b35e55bb99545aa9ea1aa00f75799fc": {
          "model_module": "@jupyter-widgets/base",
          "model_name": "LayoutModel",
          "state": {
            "_view_name": "LayoutView",
            "grid_template_rows": null,
            "right": null,
            "justify_content": null,
            "_view_module": "@jupyter-widgets/base",
            "overflow": null,
            "_model_module_version": "1.2.0",
            "_view_count": null,
            "flex_flow": null,
            "width": null,
            "min_width": null,
            "border": null,
            "align_items": null,
            "bottom": null,
            "_model_module": "@jupyter-widgets/base",
            "top": null,
            "grid_column": null,
            "overflow_y": null,
            "overflow_x": null,
            "grid_auto_flow": null,
            "grid_area": null,
            "grid_template_columns": null,
            "flex": null,
            "_model_name": "LayoutModel",
            "justify_items": null,
            "grid_row": null,
            "max_height": null,
            "align_content": null,
            "visibility": null,
            "align_self": null,
            "height": null,
            "min_height": null,
            "padding": null,
            "grid_auto_rows": null,
            "grid_gap": null,
            "max_width": null,
            "order": null,
            "_view_module_version": "1.2.0",
            "grid_template_areas": null,
            "object_position": null,
            "object_fit": null,
            "grid_auto_columns": null,
            "margin": null,
            "display": null,
            "left": null
          }
        },
        "aa3c1dc6a1f24247b4f6ace476365181": {
          "model_module": "@jupyter-widgets/controls",
          "model_name": "HBoxModel",
          "state": {
            "_view_name": "HBoxView",
            "_dom_classes": [],
            "_model_name": "HBoxModel",
            "_view_module": "@jupyter-widgets/controls",
            "_model_module_version": "1.5.0",
            "_view_count": null,
            "_view_module_version": "1.5.0",
            "box_style": "",
            "layout": "IPY_MODEL_ad5d441979c74a499547f258d9ddc705",
            "_model_module": "@jupyter-widgets/controls",
            "children": [
              "IPY_MODEL_ea6a552e5546495aa224d789d306a9cb",
              "IPY_MODEL_f28904d6442b4dbb9424ae2baa500249"
            ]
          }
        },
        "ad5d441979c74a499547f258d9ddc705": {
          "model_module": "@jupyter-widgets/base",
          "model_name": "LayoutModel",
          "state": {
            "_view_name": "LayoutView",
            "grid_template_rows": null,
            "right": null,
            "justify_content": null,
            "_view_module": "@jupyter-widgets/base",
            "overflow": null,
            "_model_module_version": "1.2.0",
            "_view_count": null,
            "flex_flow": null,
            "width": null,
            "min_width": null,
            "border": null,
            "align_items": null,
            "bottom": null,
            "_model_module": "@jupyter-widgets/base",
            "top": null,
            "grid_column": null,
            "overflow_y": null,
            "overflow_x": null,
            "grid_auto_flow": null,
            "grid_area": null,
            "grid_template_columns": null,
            "flex": null,
            "_model_name": "LayoutModel",
            "justify_items": null,
            "grid_row": null,
            "max_height": null,
            "align_content": null,
            "visibility": null,
            "align_self": null,
            "height": null,
            "min_height": null,
            "padding": null,
            "grid_auto_rows": null,
            "grid_gap": null,
            "max_width": null,
            "order": null,
            "_view_module_version": "1.2.0",
            "grid_template_areas": null,
            "object_position": null,
            "object_fit": null,
            "grid_auto_columns": null,
            "margin": null,
            "display": null,
            "left": null
          }
        },
        "ea6a552e5546495aa224d789d306a9cb": {
          "model_module": "@jupyter-widgets/controls",
          "model_name": "FloatProgressModel",
          "state": {
            "_view_name": "ProgressView",
            "style": "IPY_MODEL_c3e8a07be3a743ff85c18921174d2192",
            "_dom_classes": [],
            "description": "Downloading: 100%",
            "_model_name": "FloatProgressModel",
            "bar_style": "success",
            "max": 28,
            "_view_module": "@jupyter-widgets/controls",
            "_model_module_version": "1.5.0",
            "value": 28,
            "_view_count": null,
            "_view_module_version": "1.5.0",
            "orientation": "horizontal",
            "min": 0,
            "description_tooltip": null,
            "_model_module": "@jupyter-widgets/controls",
            "layout": "IPY_MODEL_550db66ae9c543e882ae531d13c134a5"
          }
        },
        "f28904d6442b4dbb9424ae2baa500249": {
          "model_module": "@jupyter-widgets/controls",
          "model_name": "HTMLModel",
          "state": {
            "_view_name": "HTMLView",
            "style": "IPY_MODEL_e171196beca54c68bf552eb0d9d6fc1c",
            "_dom_classes": [],
            "description": "",
            "_model_name": "HTMLModel",
            "placeholder": "​",
            "_view_module": "@jupyter-widgets/controls",
            "_model_module_version": "1.5.0",
            "value": " 28.0/28.0 [00:01&lt;00:00, 27.4B/s]",
            "_view_count": null,
            "_view_module_version": "1.5.0",
            "description_tooltip": null,
            "_model_module": "@jupyter-widgets/controls",
            "layout": "IPY_MODEL_c3e5fad7757c49b8a5fe9349b9be0de8"
          }
        },
        "c3e8a07be3a743ff85c18921174d2192": {
          "model_module": "@jupyter-widgets/controls",
          "model_name": "ProgressStyleModel",
          "state": {
            "_view_name": "StyleView",
            "_model_name": "ProgressStyleModel",
            "description_width": "initial",
            "_view_module": "@jupyter-widgets/base",
            "_model_module_version": "1.5.0",
            "_view_count": null,
            "_view_module_version": "1.2.0",
            "bar_color": null,
            "_model_module": "@jupyter-widgets/controls"
          }
        },
        "550db66ae9c543e882ae531d13c134a5": {
          "model_module": "@jupyter-widgets/base",
          "model_name": "LayoutModel",
          "state": {
            "_view_name": "LayoutView",
            "grid_template_rows": null,
            "right": null,
            "justify_content": null,
            "_view_module": "@jupyter-widgets/base",
            "overflow": null,
            "_model_module_version": "1.2.0",
            "_view_count": null,
            "flex_flow": null,
            "width": null,
            "min_width": null,
            "border": null,
            "align_items": null,
            "bottom": null,
            "_model_module": "@jupyter-widgets/base",
            "top": null,
            "grid_column": null,
            "overflow_y": null,
            "overflow_x": null,
            "grid_auto_flow": null,
            "grid_area": null,
            "grid_template_columns": null,
            "flex": null,
            "_model_name": "LayoutModel",
            "justify_items": null,
            "grid_row": null,
            "max_height": null,
            "align_content": null,
            "visibility": null,
            "align_self": null,
            "height": null,
            "min_height": null,
            "padding": null,
            "grid_auto_rows": null,
            "grid_gap": null,
            "max_width": null,
            "order": null,
            "_view_module_version": "1.2.0",
            "grid_template_areas": null,
            "object_position": null,
            "object_fit": null,
            "grid_auto_columns": null,
            "margin": null,
            "display": null,
            "left": null
          }
        },
        "e171196beca54c68bf552eb0d9d6fc1c": {
          "model_module": "@jupyter-widgets/controls",
          "model_name": "DescriptionStyleModel",
          "state": {
            "_view_name": "StyleView",
            "_model_name": "DescriptionStyleModel",
            "description_width": "",
            "_view_module": "@jupyter-widgets/base",
            "_model_module_version": "1.5.0",
            "_view_count": null,
            "_view_module_version": "1.2.0",
            "_model_module": "@jupyter-widgets/controls"
          }
        },
        "c3e5fad7757c49b8a5fe9349b9be0de8": {
          "model_module": "@jupyter-widgets/base",
          "model_name": "LayoutModel",
          "state": {
            "_view_name": "LayoutView",
            "grid_template_rows": null,
            "right": null,
            "justify_content": null,
            "_view_module": "@jupyter-widgets/base",
            "overflow": null,
            "_model_module_version": "1.2.0",
            "_view_count": null,
            "flex_flow": null,
            "width": null,
            "min_width": null,
            "border": null,
            "align_items": null,
            "bottom": null,
            "_model_module": "@jupyter-widgets/base",
            "top": null,
            "grid_column": null,
            "overflow_y": null,
            "overflow_x": null,
            "grid_auto_flow": null,
            "grid_area": null,
            "grid_template_columns": null,
            "flex": null,
            "_model_name": "LayoutModel",
            "justify_items": null,
            "grid_row": null,
            "max_height": null,
            "align_content": null,
            "visibility": null,
            "align_self": null,
            "height": null,
            "min_height": null,
            "padding": null,
            "grid_auto_rows": null,
            "grid_gap": null,
            "max_width": null,
            "order": null,
            "_view_module_version": "1.2.0",
            "grid_template_areas": null,
            "object_position": null,
            "object_fit": null,
            "grid_auto_columns": null,
            "margin": null,
            "display": null,
            "left": null
          }
        },
        "2edb6a96b54e42ab9660cfd0982fa885": {
          "model_module": "@jupyter-widgets/controls",
          "model_name": "HBoxModel",
          "state": {
            "_view_name": "HBoxView",
            "_dom_classes": [],
            "_model_name": "HBoxModel",
            "_view_module": "@jupyter-widgets/controls",
            "_model_module_version": "1.5.0",
            "_view_count": null,
            "_view_module_version": "1.5.0",
            "box_style": "",
            "layout": "IPY_MODEL_c08bd369b50f44bfb7d66a9755a60f49",
            "_model_module": "@jupyter-widgets/controls",
            "children": [
              "IPY_MODEL_63415208f68e462e946fbd11c3b23385",
              "IPY_MODEL_25e1ca1946774ce2b617205cabffbb41"
            ]
          }
        },
        "c08bd369b50f44bfb7d66a9755a60f49": {
          "model_module": "@jupyter-widgets/base",
          "model_name": "LayoutModel",
          "state": {
            "_view_name": "LayoutView",
            "grid_template_rows": null,
            "right": null,
            "justify_content": null,
            "_view_module": "@jupyter-widgets/base",
            "overflow": null,
            "_model_module_version": "1.2.0",
            "_view_count": null,
            "flex_flow": null,
            "width": null,
            "min_width": null,
            "border": null,
            "align_items": null,
            "bottom": null,
            "_model_module": "@jupyter-widgets/base",
            "top": null,
            "grid_column": null,
            "overflow_y": null,
            "overflow_x": null,
            "grid_auto_flow": null,
            "grid_area": null,
            "grid_template_columns": null,
            "flex": null,
            "_model_name": "LayoutModel",
            "justify_items": null,
            "grid_row": null,
            "max_height": null,
            "align_content": null,
            "visibility": null,
            "align_self": null,
            "height": null,
            "min_height": null,
            "padding": null,
            "grid_auto_rows": null,
            "grid_gap": null,
            "max_width": null,
            "order": null,
            "_view_module_version": "1.2.0",
            "grid_template_areas": null,
            "object_position": null,
            "object_fit": null,
            "grid_auto_columns": null,
            "margin": null,
            "display": null,
            "left": null
          }
        },
        "63415208f68e462e946fbd11c3b23385": {
          "model_module": "@jupyter-widgets/controls",
          "model_name": "FloatProgressModel",
          "state": {
            "_view_name": "ProgressView",
            "style": "IPY_MODEL_94646bf05db7423b994fa241d594330e",
            "_dom_classes": [],
            "description": "Downloading: 100%",
            "_model_name": "FloatProgressModel",
            "bar_style": "success",
            "max": 466062,
            "_view_module": "@jupyter-widgets/controls",
            "_model_module_version": "1.5.0",
            "value": 466062,
            "_view_count": null,
            "_view_module_version": "1.5.0",
            "orientation": "horizontal",
            "min": 0,
            "description_tooltip": null,
            "_model_module": "@jupyter-widgets/controls",
            "layout": "IPY_MODEL_7eda5122d50b4cc992c20d0928fa2261"
          }
        },
        "25e1ca1946774ce2b617205cabffbb41": {
          "model_module": "@jupyter-widgets/controls",
          "model_name": "HTMLModel",
          "state": {
            "_view_name": "HTMLView",
            "style": "IPY_MODEL_3744d9a47a7743c0938ded3f479a8ed7",
            "_dom_classes": [],
            "description": "",
            "_model_name": "HTMLModel",
            "placeholder": "​",
            "_view_module": "@jupyter-widgets/controls",
            "_model_module_version": "1.5.0",
            "value": " 466k/466k [00:00&lt;00:00, 1.04MB/s]",
            "_view_count": null,
            "_view_module_version": "1.5.0",
            "description_tooltip": null,
            "_model_module": "@jupyter-widgets/controls",
            "layout": "IPY_MODEL_231bd07b40734ac8986fbed5b49fe7ca"
          }
        },
        "94646bf05db7423b994fa241d594330e": {
          "model_module": "@jupyter-widgets/controls",
          "model_name": "ProgressStyleModel",
          "state": {
            "_view_name": "StyleView",
            "_model_name": "ProgressStyleModel",
            "description_width": "initial",
            "_view_module": "@jupyter-widgets/base",
            "_model_module_version": "1.5.0",
            "_view_count": null,
            "_view_module_version": "1.2.0",
            "bar_color": null,
            "_model_module": "@jupyter-widgets/controls"
          }
        },
        "7eda5122d50b4cc992c20d0928fa2261": {
          "model_module": "@jupyter-widgets/base",
          "model_name": "LayoutModel",
          "state": {
            "_view_name": "LayoutView",
            "grid_template_rows": null,
            "right": null,
            "justify_content": null,
            "_view_module": "@jupyter-widgets/base",
            "overflow": null,
            "_model_module_version": "1.2.0",
            "_view_count": null,
            "flex_flow": null,
            "width": null,
            "min_width": null,
            "border": null,
            "align_items": null,
            "bottom": null,
            "_model_module": "@jupyter-widgets/base",
            "top": null,
            "grid_column": null,
            "overflow_y": null,
            "overflow_x": null,
            "grid_auto_flow": null,
            "grid_area": null,
            "grid_template_columns": null,
            "flex": null,
            "_model_name": "LayoutModel",
            "justify_items": null,
            "grid_row": null,
            "max_height": null,
            "align_content": null,
            "visibility": null,
            "align_self": null,
            "height": null,
            "min_height": null,
            "padding": null,
            "grid_auto_rows": null,
            "grid_gap": null,
            "max_width": null,
            "order": null,
            "_view_module_version": "1.2.0",
            "grid_template_areas": null,
            "object_position": null,
            "object_fit": null,
            "grid_auto_columns": null,
            "margin": null,
            "display": null,
            "left": null
          }
        },
        "3744d9a47a7743c0938ded3f479a8ed7": {
          "model_module": "@jupyter-widgets/controls",
          "model_name": "DescriptionStyleModel",
          "state": {
            "_view_name": "StyleView",
            "_model_name": "DescriptionStyleModel",
            "description_width": "",
            "_view_module": "@jupyter-widgets/base",
            "_model_module_version": "1.5.0",
            "_view_count": null,
            "_view_module_version": "1.2.0",
            "_model_module": "@jupyter-widgets/controls"
          }
        },
        "231bd07b40734ac8986fbed5b49fe7ca": {
          "model_module": "@jupyter-widgets/base",
          "model_name": "LayoutModel",
          "state": {
            "_view_name": "LayoutView",
            "grid_template_rows": null,
            "right": null,
            "justify_content": null,
            "_view_module": "@jupyter-widgets/base",
            "overflow": null,
            "_model_module_version": "1.2.0",
            "_view_count": null,
            "flex_flow": null,
            "width": null,
            "min_width": null,
            "border": null,
            "align_items": null,
            "bottom": null,
            "_model_module": "@jupyter-widgets/base",
            "top": null,
            "grid_column": null,
            "overflow_y": null,
            "overflow_x": null,
            "grid_auto_flow": null,
            "grid_area": null,
            "grid_template_columns": null,
            "flex": null,
            "_model_name": "LayoutModel",
            "justify_items": null,
            "grid_row": null,
            "max_height": null,
            "align_content": null,
            "visibility": null,
            "align_self": null,
            "height": null,
            "min_height": null,
            "padding": null,
            "grid_auto_rows": null,
            "grid_gap": null,
            "max_width": null,
            "order": null,
            "_view_module_version": "1.2.0",
            "grid_template_areas": null,
            "object_position": null,
            "object_fit": null,
            "grid_auto_columns": null,
            "margin": null,
            "display": null,
            "left": null
          }
        },
        "d32692701f77462aac6b25ebaeb24be6": {
          "model_module": "@jupyter-widgets/controls",
          "model_name": "HBoxModel",
          "state": {
            "_view_name": "HBoxView",
            "_dom_classes": [],
            "_model_name": "HBoxModel",
            "_view_module": "@jupyter-widgets/controls",
            "_model_module_version": "1.5.0",
            "_view_count": null,
            "_view_module_version": "1.5.0",
            "box_style": "",
            "layout": "IPY_MODEL_4d1661451af846c2a316cc8ab34acd2d",
            "_model_module": "@jupyter-widgets/controls",
            "children": [
              "IPY_MODEL_1df4e461785e4723aa3c09f5c1c036e4",
              "IPY_MODEL_ac91fd1b10c14627974cac2fa97bf010"
            ]
          }
        },
        "4d1661451af846c2a316cc8ab34acd2d": {
          "model_module": "@jupyter-widgets/base",
          "model_name": "LayoutModel",
          "state": {
            "_view_name": "LayoutView",
            "grid_template_rows": null,
            "right": null,
            "justify_content": null,
            "_view_module": "@jupyter-widgets/base",
            "overflow": null,
            "_model_module_version": "1.2.0",
            "_view_count": null,
            "flex_flow": null,
            "width": null,
            "min_width": null,
            "border": null,
            "align_items": null,
            "bottom": null,
            "_model_module": "@jupyter-widgets/base",
            "top": null,
            "grid_column": null,
            "overflow_y": null,
            "overflow_x": null,
            "grid_auto_flow": null,
            "grid_area": null,
            "grid_template_columns": null,
            "flex": null,
            "_model_name": "LayoutModel",
            "justify_items": null,
            "grid_row": null,
            "max_height": null,
            "align_content": null,
            "visibility": null,
            "align_self": null,
            "height": null,
            "min_height": null,
            "padding": null,
            "grid_auto_rows": null,
            "grid_gap": null,
            "max_width": null,
            "order": null,
            "_view_module_version": "1.2.0",
            "grid_template_areas": null,
            "object_position": null,
            "object_fit": null,
            "grid_auto_columns": null,
            "margin": null,
            "display": null,
            "left": null
          }
        },
        "1df4e461785e4723aa3c09f5c1c036e4": {
          "model_module": "@jupyter-widgets/controls",
          "model_name": "FloatProgressModel",
          "state": {
            "_view_name": "ProgressView",
            "style": "IPY_MODEL_7dde1d71f90a433582aea5efbbe4c06a",
            "_dom_classes": [],
            "description": "Downloading: 100%",
            "_model_name": "FloatProgressModel",
            "bar_style": "success",
            "max": 570,
            "_view_module": "@jupyter-widgets/controls",
            "_model_module_version": "1.5.0",
            "value": 570,
            "_view_count": null,
            "_view_module_version": "1.5.0",
            "orientation": "horizontal",
            "min": 0,
            "description_tooltip": null,
            "_model_module": "@jupyter-widgets/controls",
            "layout": "IPY_MODEL_e9eea7d1bccc4ddbb5888c02aefef4b0"
          }
        },
        "ac91fd1b10c14627974cac2fa97bf010": {
          "model_module": "@jupyter-widgets/controls",
          "model_name": "HTMLModel",
          "state": {
            "_view_name": "HTMLView",
            "style": "IPY_MODEL_8a4f23e4b0614b57b62145dd55fc500e",
            "_dom_classes": [],
            "description": "",
            "_model_name": "HTMLModel",
            "placeholder": "​",
            "_view_module": "@jupyter-widgets/controls",
            "_model_module_version": "1.5.0",
            "value": " 570/570 [00:34&lt;00:00, 16.3B/s]",
            "_view_count": null,
            "_view_module_version": "1.5.0",
            "description_tooltip": null,
            "_model_module": "@jupyter-widgets/controls",
            "layout": "IPY_MODEL_104b29541a8d48be97540b0d9a57014f"
          }
        },
        "7dde1d71f90a433582aea5efbbe4c06a": {
          "model_module": "@jupyter-widgets/controls",
          "model_name": "ProgressStyleModel",
          "state": {
            "_view_name": "StyleView",
            "_model_name": "ProgressStyleModel",
            "description_width": "initial",
            "_view_module": "@jupyter-widgets/base",
            "_model_module_version": "1.5.0",
            "_view_count": null,
            "_view_module_version": "1.2.0",
            "bar_color": null,
            "_model_module": "@jupyter-widgets/controls"
          }
        },
        "e9eea7d1bccc4ddbb5888c02aefef4b0": {
          "model_module": "@jupyter-widgets/base",
          "model_name": "LayoutModel",
          "state": {
            "_view_name": "LayoutView",
            "grid_template_rows": null,
            "right": null,
            "justify_content": null,
            "_view_module": "@jupyter-widgets/base",
            "overflow": null,
            "_model_module_version": "1.2.0",
            "_view_count": null,
            "flex_flow": null,
            "width": null,
            "min_width": null,
            "border": null,
            "align_items": null,
            "bottom": null,
            "_model_module": "@jupyter-widgets/base",
            "top": null,
            "grid_column": null,
            "overflow_y": null,
            "overflow_x": null,
            "grid_auto_flow": null,
            "grid_area": null,
            "grid_template_columns": null,
            "flex": null,
            "_model_name": "LayoutModel",
            "justify_items": null,
            "grid_row": null,
            "max_height": null,
            "align_content": null,
            "visibility": null,
            "align_self": null,
            "height": null,
            "min_height": null,
            "padding": null,
            "grid_auto_rows": null,
            "grid_gap": null,
            "max_width": null,
            "order": null,
            "_view_module_version": "1.2.0",
            "grid_template_areas": null,
            "object_position": null,
            "object_fit": null,
            "grid_auto_columns": null,
            "margin": null,
            "display": null,
            "left": null
          }
        },
        "8a4f23e4b0614b57b62145dd55fc500e": {
          "model_module": "@jupyter-widgets/controls",
          "model_name": "DescriptionStyleModel",
          "state": {
            "_view_name": "StyleView",
            "_model_name": "DescriptionStyleModel",
            "description_width": "",
            "_view_module": "@jupyter-widgets/base",
            "_model_module_version": "1.5.0",
            "_view_count": null,
            "_view_module_version": "1.2.0",
            "_model_module": "@jupyter-widgets/controls"
          }
        },
        "104b29541a8d48be97540b0d9a57014f": {
          "model_module": "@jupyter-widgets/base",
          "model_name": "LayoutModel",
          "state": {
            "_view_name": "LayoutView",
            "grid_template_rows": null,
            "right": null,
            "justify_content": null,
            "_view_module": "@jupyter-widgets/base",
            "overflow": null,
            "_model_module_version": "1.2.0",
            "_view_count": null,
            "flex_flow": null,
            "width": null,
            "min_width": null,
            "border": null,
            "align_items": null,
            "bottom": null,
            "_model_module": "@jupyter-widgets/base",
            "top": null,
            "grid_column": null,
            "overflow_y": null,
            "overflow_x": null,
            "grid_auto_flow": null,
            "grid_area": null,
            "grid_template_columns": null,
            "flex": null,
            "_model_name": "LayoutModel",
            "justify_items": null,
            "grid_row": null,
            "max_height": null,
            "align_content": null,
            "visibility": null,
            "align_self": null,
            "height": null,
            "min_height": null,
            "padding": null,
            "grid_auto_rows": null,
            "grid_gap": null,
            "max_width": null,
            "order": null,
            "_view_module_version": "1.2.0",
            "grid_template_areas": null,
            "object_position": null,
            "object_fit": null,
            "grid_auto_columns": null,
            "margin": null,
            "display": null,
            "left": null
          }
        },
        "d4834543fedf4b6793cd75645e887220": {
          "model_module": "@jupyter-widgets/controls",
          "model_name": "HBoxModel",
          "state": {
            "_view_name": "HBoxView",
            "_dom_classes": [],
            "_model_name": "HBoxModel",
            "_view_module": "@jupyter-widgets/controls",
            "_model_module_version": "1.5.0",
            "_view_count": null,
            "_view_module_version": "1.5.0",
            "box_style": "",
            "layout": "IPY_MODEL_92a72ab40cc64ab08e31daea5348f6c6",
            "_model_module": "@jupyter-widgets/controls",
            "children": [
              "IPY_MODEL_84779d21e548493c8e24f3b3fbe10986",
              "IPY_MODEL_b52cb711299142c688261aca18ba42de"
            ]
          }
        },
        "92a72ab40cc64ab08e31daea5348f6c6": {
          "model_module": "@jupyter-widgets/base",
          "model_name": "LayoutModel",
          "state": {
            "_view_name": "LayoutView",
            "grid_template_rows": null,
            "right": null,
            "justify_content": null,
            "_view_module": "@jupyter-widgets/base",
            "overflow": null,
            "_model_module_version": "1.2.0",
            "_view_count": null,
            "flex_flow": null,
            "width": null,
            "min_width": null,
            "border": null,
            "align_items": null,
            "bottom": null,
            "_model_module": "@jupyter-widgets/base",
            "top": null,
            "grid_column": null,
            "overflow_y": null,
            "overflow_x": null,
            "grid_auto_flow": null,
            "grid_area": null,
            "grid_template_columns": null,
            "flex": null,
            "_model_name": "LayoutModel",
            "justify_items": null,
            "grid_row": null,
            "max_height": null,
            "align_content": null,
            "visibility": null,
            "align_self": null,
            "height": null,
            "min_height": null,
            "padding": null,
            "grid_auto_rows": null,
            "grid_gap": null,
            "max_width": null,
            "order": null,
            "_view_module_version": "1.2.0",
            "grid_template_areas": null,
            "object_position": null,
            "object_fit": null,
            "grid_auto_columns": null,
            "margin": null,
            "display": null,
            "left": null
          }
        },
        "84779d21e548493c8e24f3b3fbe10986": {
          "model_module": "@jupyter-widgets/controls",
          "model_name": "FloatProgressModel",
          "state": {
            "_view_name": "ProgressView",
            "style": "IPY_MODEL_c1ecbe6de3a94d6fb2bf8739e103c922",
            "_dom_classes": [],
            "description": "Downloading: 100%",
            "_model_name": "FloatProgressModel",
            "bar_style": "success",
            "max": 440473133,
            "_view_module": "@jupyter-widgets/controls",
            "_model_module_version": "1.5.0",
            "value": 440473133,
            "_view_count": null,
            "_view_module_version": "1.5.0",
            "orientation": "horizontal",
            "min": 0,
            "description_tooltip": null,
            "_model_module": "@jupyter-widgets/controls",
            "layout": "IPY_MODEL_118d8fdf3db44017823a0c0ab307eba8"
          }
        },
        "b52cb711299142c688261aca18ba42de": {
          "model_module": "@jupyter-widgets/controls",
          "model_name": "HTMLModel",
          "state": {
            "_view_name": "HTMLView",
            "style": "IPY_MODEL_66d20f023ca74d7a9f79b11f4cc8275a",
            "_dom_classes": [],
            "description": "",
            "_model_name": "HTMLModel",
            "placeholder": "​",
            "_view_module": "@jupyter-widgets/controls",
            "_model_module_version": "1.5.0",
            "value": " 440M/440M [00:17&lt;00:00, 25.4MB/s]",
            "_view_count": null,
            "_view_module_version": "1.5.0",
            "description_tooltip": null,
            "_model_module": "@jupyter-widgets/controls",
            "layout": "IPY_MODEL_f25a33e318054f129bca23a58bf7d8c2"
          }
        },
        "c1ecbe6de3a94d6fb2bf8739e103c922": {
          "model_module": "@jupyter-widgets/controls",
          "model_name": "ProgressStyleModel",
          "state": {
            "_view_name": "StyleView",
            "_model_name": "ProgressStyleModel",
            "description_width": "initial",
            "_view_module": "@jupyter-widgets/base",
            "_model_module_version": "1.5.0",
            "_view_count": null,
            "_view_module_version": "1.2.0",
            "bar_color": null,
            "_model_module": "@jupyter-widgets/controls"
          }
        },
        "118d8fdf3db44017823a0c0ab307eba8": {
          "model_module": "@jupyter-widgets/base",
          "model_name": "LayoutModel",
          "state": {
            "_view_name": "LayoutView",
            "grid_template_rows": null,
            "right": null,
            "justify_content": null,
            "_view_module": "@jupyter-widgets/base",
            "overflow": null,
            "_model_module_version": "1.2.0",
            "_view_count": null,
            "flex_flow": null,
            "width": null,
            "min_width": null,
            "border": null,
            "align_items": null,
            "bottom": null,
            "_model_module": "@jupyter-widgets/base",
            "top": null,
            "grid_column": null,
            "overflow_y": null,
            "overflow_x": null,
            "grid_auto_flow": null,
            "grid_area": null,
            "grid_template_columns": null,
            "flex": null,
            "_model_name": "LayoutModel",
            "justify_items": null,
            "grid_row": null,
            "max_height": null,
            "align_content": null,
            "visibility": null,
            "align_self": null,
            "height": null,
            "min_height": null,
            "padding": null,
            "grid_auto_rows": null,
            "grid_gap": null,
            "max_width": null,
            "order": null,
            "_view_module_version": "1.2.0",
            "grid_template_areas": null,
            "object_position": null,
            "object_fit": null,
            "grid_auto_columns": null,
            "margin": null,
            "display": null,
            "left": null
          }
        },
        "66d20f023ca74d7a9f79b11f4cc8275a": {
          "model_module": "@jupyter-widgets/controls",
          "model_name": "DescriptionStyleModel",
          "state": {
            "_view_name": "StyleView",
            "_model_name": "DescriptionStyleModel",
            "description_width": "",
            "_view_module": "@jupyter-widgets/base",
            "_model_module_version": "1.5.0",
            "_view_count": null,
            "_view_module_version": "1.2.0",
            "_model_module": "@jupyter-widgets/controls"
          }
        },
        "f25a33e318054f129bca23a58bf7d8c2": {
          "model_module": "@jupyter-widgets/base",
          "model_name": "LayoutModel",
          "state": {
            "_view_name": "LayoutView",
            "grid_template_rows": null,
            "right": null,
            "justify_content": null,
            "_view_module": "@jupyter-widgets/base",
            "overflow": null,
            "_model_module_version": "1.2.0",
            "_view_count": null,
            "flex_flow": null,
            "width": null,
            "min_width": null,
            "border": null,
            "align_items": null,
            "bottom": null,
            "_model_module": "@jupyter-widgets/base",
            "top": null,
            "grid_column": null,
            "overflow_y": null,
            "overflow_x": null,
            "grid_auto_flow": null,
            "grid_area": null,
            "grid_template_columns": null,
            "flex": null,
            "_model_name": "LayoutModel",
            "justify_items": null,
            "grid_row": null,
            "max_height": null,
            "align_content": null,
            "visibility": null,
            "align_self": null,
            "height": null,
            "min_height": null,
            "padding": null,
            "grid_auto_rows": null,
            "grid_gap": null,
            "max_width": null,
            "order": null,
            "_view_module_version": "1.2.0",
            "grid_template_areas": null,
            "object_position": null,
            "object_fit": null,
            "grid_auto_columns": null,
            "margin": null,
            "display": null,
            "left": null
          }
        }
      }
    }
  },
  "cells": [
    {
      "cell_type": "markdown",
      "metadata": {
        "id": "view-in-github",
        "colab_type": "text"
      },
      "source": [
        "<a href=\"https://colab.research.google.com/github/Kiran98780/NLP_Assignment2/blob/main/FRESH_TRIAL_9th_May_1_NO_REPLY_Copy_of_BERT_Fine_Tuning_Sentence_Classification_v4.ipynb\" target=\"_parent\"><img src=\"https://colab.research.google.com/assets/colab-badge.svg\" alt=\"Open In Colab\"/></a>"
      ]
    },
    {
      "cell_type": "code",
      "metadata": {
        "id": "DEfSbAA4QHas",
        "colab": {
          "base_uri": "https://localhost:8080/"
        },
        "outputId": "a3b4f6b8-4809-40f3-8ac3-3d833ab6c828"
      },
      "source": [
        "import tensorflow as tf\n",
        "\n",
        "# Get the GPU device name.\n",
        "device_name = tf.test.gpu_device_name()\n",
        "\n",
        "# The device name should look like the following:\n",
        "if device_name == '/device:GPU:0':\n",
        "    print('Found GPU at: {}'.format(device_name))\n",
        "else:\n",
        "    raise SystemError('GPU device not found')"
      ],
      "execution_count": 1,
      "outputs": [
        {
          "output_type": "stream",
          "text": [
            "Found GPU at: /device:GPU:0\n"
          ],
          "name": "stdout"
        }
      ]
    },
    {
      "cell_type": "markdown",
      "metadata": {
        "id": "cqG7FzRVFEIv"
      },
      "source": [
        "In order for torch to use the GPU, we need to identify and specify the GPU as the device. Later, in our training loop, we will load data onto the device. "
      ]
    },
    {
      "cell_type": "code",
      "metadata": {
        "id": "oYsV4H8fCpZ-",
        "colab": {
          "base_uri": "https://localhost:8080/"
        },
        "outputId": "b650bb36-82d6-4a02-898e-5516e0dd0394"
      },
      "source": [
        "import torch\n",
        "\n",
        "# If there's a GPU available...\n",
        "if torch.cuda.is_available():    \n",
        "\n",
        "    # Tell PyTorch to use the GPU.    \n",
        "    device = torch.device(\"cuda\")\n",
        "\n",
        "    print('There are %d GPU(s) available.' % torch.cuda.device_count())\n",
        "\n",
        "    print('We will use the GPU:', torch.cuda.get_device_name(0))\n",
        "\n",
        "# If not...\n",
        "else:\n",
        "    print('No GPU available, using the CPU instead.')\n",
        "    device = torch.device(\"cpu\")"
      ],
      "execution_count": 2,
      "outputs": [
        {
          "output_type": "stream",
          "text": [
            "There are 1 GPU(s) available.\n",
            "We will use the GPU: Tesla P100-PCIE-16GB\n"
          ],
          "name": "stdout"
        }
      ]
    },
    {
      "cell_type": "markdown",
      "metadata": {
        "id": "2ElsnSNUridI"
      },
      "source": [
        "## 1.2. Installing the Hugging Face Library\n"
      ]
    },
    {
      "cell_type": "code",
      "metadata": {
        "id": "0NmMdkZO8R6q",
        "colab": {
          "base_uri": "https://localhost:8080/"
        },
        "outputId": "3cc55bcf-03f8-456b-a169-e0b634e509ff"
      },
      "source": [
        "!pip install transformers"
      ],
      "execution_count": 3,
      "outputs": [
        {
          "output_type": "stream",
          "text": [
            "Collecting transformers\n",
            "\u001b[?25l  Downloading https://files.pythonhosted.org/packages/d8/b2/57495b5309f09fa501866e225c84532d1fd89536ea62406b2181933fb418/transformers-4.5.1-py3-none-any.whl (2.1MB)\n",
            "\u001b[K     |████████████████████████████████| 2.1MB 12.2MB/s \n",
            "\u001b[?25hCollecting sacremoses\n",
            "\u001b[?25l  Downloading https://files.pythonhosted.org/packages/75/ee/67241dc87f266093c533a2d4d3d69438e57d7a90abb216fa076e7d475d4a/sacremoses-0.0.45-py3-none-any.whl (895kB)\n",
            "\u001b[K     |████████████████████████████████| 901kB 56.2MB/s \n",
            "\u001b[?25hCollecting tokenizers<0.11,>=0.10.1\n",
            "\u001b[?25l  Downloading https://files.pythonhosted.org/packages/ae/04/5b870f26a858552025a62f1649c20d29d2672c02ff3c3fb4c688ca46467a/tokenizers-0.10.2-cp37-cp37m-manylinux2010_x86_64.whl (3.3MB)\n",
            "\u001b[K     |████████████████████████████████| 3.3MB 53.7MB/s \n",
            "\u001b[?25hRequirement already satisfied: filelock in /usr/local/lib/python3.7/dist-packages (from transformers) (3.0.12)\n",
            "Requirement already satisfied: regex!=2019.12.17 in /usr/local/lib/python3.7/dist-packages (from transformers) (2019.12.20)\n",
            "Requirement already satisfied: requests in /usr/local/lib/python3.7/dist-packages (from transformers) (2.23.0)\n",
            "Requirement already satisfied: numpy>=1.17 in /usr/local/lib/python3.7/dist-packages (from transformers) (1.19.5)\n",
            "Requirement already satisfied: tqdm>=4.27 in /usr/local/lib/python3.7/dist-packages (from transformers) (4.41.1)\n",
            "Requirement already satisfied: importlib-metadata; python_version < \"3.8\" in /usr/local/lib/python3.7/dist-packages (from transformers) (3.10.1)\n",
            "Requirement already satisfied: packaging in /usr/local/lib/python3.7/dist-packages (from transformers) (20.9)\n",
            "Requirement already satisfied: joblib in /usr/local/lib/python3.7/dist-packages (from sacremoses->transformers) (1.0.1)\n",
            "Requirement already satisfied: click in /usr/local/lib/python3.7/dist-packages (from sacremoses->transformers) (7.1.2)\n",
            "Requirement already satisfied: six in /usr/local/lib/python3.7/dist-packages (from sacremoses->transformers) (1.15.0)\n",
            "Requirement already satisfied: chardet<4,>=3.0.2 in /usr/local/lib/python3.7/dist-packages (from requests->transformers) (3.0.4)\n",
            "Requirement already satisfied: certifi>=2017.4.17 in /usr/local/lib/python3.7/dist-packages (from requests->transformers) (2020.12.5)\n",
            "Requirement already satisfied: urllib3!=1.25.0,!=1.25.1,<1.26,>=1.21.1 in /usr/local/lib/python3.7/dist-packages (from requests->transformers) (1.24.3)\n",
            "Requirement already satisfied: idna<3,>=2.5 in /usr/local/lib/python3.7/dist-packages (from requests->transformers) (2.10)\n",
            "Requirement already satisfied: zipp>=0.5 in /usr/local/lib/python3.7/dist-packages (from importlib-metadata; python_version < \"3.8\"->transformers) (3.4.1)\n",
            "Requirement already satisfied: typing-extensions>=3.6.4; python_version < \"3.8\" in /usr/local/lib/python3.7/dist-packages (from importlib-metadata; python_version < \"3.8\"->transformers) (3.7.4.3)\n",
            "Requirement already satisfied: pyparsing>=2.0.2 in /usr/local/lib/python3.7/dist-packages (from packaging->transformers) (2.4.7)\n",
            "Installing collected packages: sacremoses, tokenizers, transformers\n",
            "Successfully installed sacremoses-0.0.45 tokenizers-0.10.2 transformers-4.5.1\n"
          ],
          "name": "stdout"
        }
      ]
    },
    {
      "cell_type": "code",
      "metadata": {
        "id": "ZOaCsBTuhv3s",
        "colab": {
          "base_uri": "https://localhost:8080/"
        },
        "outputId": "40179f7d-2310-4f54-d74e-0c1fdd97aba4"
      },
      "source": [
        "from google.colab import drive\n",
        "drive.mount('/content/drive')"
      ],
      "execution_count": 4,
      "outputs": [
        {
          "output_type": "stream",
          "text": [
            "Mounted at /content/drive\n"
          ],
          "name": "stdout"
        }
      ]
    },
    {
      "cell_type": "code",
      "metadata": {
        "id": "SzuD32TQibwi",
        "colab": {
          "base_uri": "https://localhost:8080/"
        },
        "outputId": "abbbeac6-6224-4f15-fe3e-7f5eb2dd6660"
      },
      "source": [
        "%cd /content/drive/My Drive/NLP_data"
      ],
      "execution_count": 5,
      "outputs": [
        {
          "output_type": "stream",
          "text": [
            "/content/drive/My Drive/NLP_data\n"
          ],
          "name": "stdout"
        }
      ]
    },
    {
      "cell_type": "code",
      "metadata": {
        "id": "jAyPC0DXhvtt",
        "colab": {
          "base_uri": "https://localhost:8080/"
        },
        "outputId": "cd8000aa-9166-4e85-bb14-c6f9881676c7"
      },
      "source": [
        "import pandas as pd\n",
        "import json\n",
        "from sklearn import preprocessing\n",
        "import re\n",
        "def get_replies(df):\n",
        "    for index, row in df.iterrows():\n",
        "        x = re.search(r'\\d+', str(row['in_reply_to_status_id_str'])) #check if the string matches a number \n",
        "        if x:\n",
        "            big_list.append(row[\"sentence\"]) #append the reply tweets in a big_list and return the list\n",
        "        else:\n",
        "            big_list = []\n",
        "    return big_list,len(big_list)\n",
        "\n",
        "pd.set_option('display.width', 1000)\n",
        "pd.set_option('display.max_columns', 500)\n",
        "pd.set_option('display.min_rows', 100)\n",
        "pd.set_option('display.max_rows', 500)\n",
        "\n",
        "with open(\"train.data.jsonl\", 'r', encoding='utf-8') as train_data_file:\n",
        "  list_of_rlists = []\n",
        "  chunks = []\n",
        "  num_replies = []\n",
        "  for line in train_data_file:\n",
        "    train_Data_list = json.loads(line)\n",
        "    df = pd.DataFrame.from_dict(train_Data_list)\n",
        "    df = df[[\"id_str\",\"in_reply_to_status_id_str\",\"text\", \"user\",\"favorited\",\"in_reply_to_user_id_str\"]]\n",
        "    df.rename(columns={'id_str': 'id'}, inplace=True)\n",
        "    df.rename(columns={'text': 'sentence'}, inplace=True)\n",
        "    replies_list,len_reply_list = get_replies(df) #reply list for a single source tweet\n",
        "    chunks.append(df)\n",
        "    list_of_rlists.append(replies_list)\n",
        "    num_replies.append(len_reply_list)\n",
        "    # print(\"The output of list_of_rlists in every iteration=\",list_of_rlists,\"\\n\",len(list_of_rlists))\n",
        "  dfs1 = pd.concat(chunks)\n",
        "train_data_file.close()\n",
        "#print(dfs1)\n",
        "print(\"The len of list of list of replies=\", len(list_of_rlists))\n",
        "\n",
        "\n",
        "with open(\"train.label.json\") as train_label_file:\n",
        "    train_label_json_file = json.load(train_label_file)\n",
        "    df_train_label = pd.DataFrame(list(train_label_json_file.items()),columns = ['id', 'label'])\n",
        "train_label_file.close()\n",
        "\n",
        "#print(df_train_label)\n",
        "#print(df_train_label.groupby('label').size())\n",
        "# non - rumour\n",
        "# 3058\n",
        "# rumour\n",
        "# 1583a\n",
        "\n",
        "#check the id and if it is present in rumours/non-rumours labels, then add it to the row of that dataframe (check from the labels dataframe)\n",
        "df_final1 = pd.merge(dfs1, df_train_label, how='left', left_on='id', right_on='id')\n",
        "df_final2 = pd.merge(dfs1, df_train_label, how='inner', left_on='id', right_on='id')\n",
        "\n",
        "# print(df_final1)\n",
        "print(df_final1.shape) #(81120, 7)\n",
        "\n",
        "# print(df_final2)\n",
        "print(df_final2.shape) #(4641, 7)\n",
        "\n",
        "\n",
        "#only text and label - drop columns from old one and store in new one \n",
        "Corpus = df_final2.drop([\"in_reply_to_status_id_str\",\"user\",\"favorited\",\"in_reply_to_user_id_str\"], axis=1)\n",
        "le = preprocessing.LabelEncoder()\n",
        "Corpus['label'] = le.fit_transform(Corpus['label'])\n",
        "# Corpus[\"all_replies\"] = list_of_rlists #has a list of replies \n",
        "# Corpus[\"num_replies\"] = num_replies\n",
        "print(Corpus.head(10))\n",
        "print(Corpus.dtypes)\n",
        "print(Corpus.shape)\n"
      ],
      "execution_count": 6,
      "outputs": [
        {
          "output_type": "stream",
          "text": [
            "/usr/local/lib/python3.7/dist-packages/pandas/core/frame.py:4308: SettingWithCopyWarning: \n",
            "A value is trying to be set on a copy of a slice from a DataFrame\n",
            "\n",
            "See the caveats in the documentation: https://pandas.pydata.org/pandas-docs/stable/user_guide/indexing.html#returning-a-view-versus-a-copy\n",
            "  errors=errors,\n"
          ],
          "name": "stderr"
        },
        {
          "output_type": "stream",
          "text": [
            "The len of list of list of replies= 4641\n",
            "(81120, 7)\n",
            "(4641, 7)\n",
            "                   id                                           sentence  label\n",
            "0  552800070199148544  How to respond to the murderous attack on Char...      0\n",
            "1  544388259359387648  You can't condemn an entire race, nation or re...      0\n",
            "2  552805970536333314  Attempts to extend blame for this to all Musli...      0\n",
            "3  525071376084791297  Rest in Peace, Cpl. Nathan Cirillo. Killed tod...      1\n",
            "4  498355319979143168  People DEBATING whether #MikeBrown shoplifted ...      0\n",
            "5  553591259672379392  Update - PA: gunman holding hostages in #Paris...      1\n",
            "6  580342401392312321  Here's a recap of the key points so far in the...      0\n",
            "7  498609222020780033  #Ferguson protestors have shut down a major in...      0\n",
            "8  544518044643770368  #BREAKING: Police have confirmed Sydney hostag...      0\n",
            "9  553566877956734976  France faces 2 hostage-taking attacks; Paris k...      1\n",
            "id          object\n",
            "sentence    object\n",
            "label        int64\n",
            "dtype: object\n",
            "(4641, 3)\n"
          ],
          "name": "stdout"
        }
      ]
    },
    {
      "cell_type": "code",
      "metadata": {
        "id": "MenKMOOshvq5",
        "colab": {
          "base_uri": "https://localhost:8080/"
        },
        "outputId": "a4b101fc-d378-4f04-d74e-4dbd766ebe18"
      },
      "source": [
        "with open(\"dev.data.jsonl\", 'r', encoding='utf-8') as dev_data_file:\n",
        "  chunks = []\n",
        "  list_of_rlists = []\n",
        "  num_replies = []\n",
        "  for line in dev_data_file:\n",
        "    dev_Data_list = json.loads(line)\n",
        "    df = pd.DataFrame.from_dict(dev_Data_list)\n",
        "    df = df[[\"id_str\",\"in_reply_to_status_id_str\",\"text\", \"user\",\"favorited\",\"in_reply_to_user_id_str\"]]\n",
        "    df.rename(columns={'id_str': 'id'}, inplace=True)\n",
        "    df.rename(columns={'text': 'sentence'}, inplace=True)\n",
        "    replies_list,len_reply_list = get_replies(df)\n",
        "    chunks.append(df)\n",
        "    num_replies.append(len_reply_list)\n",
        "    list_of_rlists.append(replies_list)\n",
        "  dfs_dev = pd.concat(chunks)\n",
        "dev_data_file.close()\n",
        "#print(dfs_dev)\n",
        "\n",
        "with open(\"dev.label.json\") as dev_label_file:\n",
        "    dev_label_json_file = json.load(dev_label_file)\n",
        "    df_dev_label = pd.DataFrame(list(dev_label_json_file.items()),columns = ['id', 'label'])\n",
        "dev_label_file.close()\n",
        "\n",
        "#print(df_train_label)\n",
        "#print(df_train_label.groupby('label').size())\n",
        "# non - rumour\n",
        "# 3058\n",
        "# rumour\n",
        "# 1583\n",
        "\n",
        "#check the id and if it is present in rumours/non-rumours labels, then add it to the row of that dataframe (check from the labels dataframe)\n",
        "df_final1_dev = pd.merge(dfs_dev, df_dev_label, how='left', left_on='id', right_on='id')\n",
        "df_final2_dev = pd.merge(dfs_dev, df_dev_label, how='inner', left_on='id', right_on='id')\n",
        "\n",
        "# print(df_final1_dev)\n",
        "print(df_final1_dev.shape)\n",
        "# print(df_final2_dev)\n",
        "print(df_final2_dev.shape)\n",
        "\n",
        "#only text and label - drop columns from old one and store in new one \n",
        "Corpus_dev = df_final2_dev.drop([\"in_reply_to_status_id_str\",\"user\",\"favorited\",\"in_reply_to_user_id_str\"], axis=1)\n",
        "le = preprocessing.LabelEncoder()\n",
        "Corpus_dev['label'] = le.fit_transform(Corpus_dev['label'])\n",
        "# Corpus_dev[\"all_replies\"] = list_of_rlists #has a list of replies \n",
        "# Corpus_dev[\"num_replies\"] = num_replies\n",
        "print(Corpus_dev.head(10))\n",
        "print(Corpus_dev.shape)\n",
        "print(Corpus_dev.dtypes)\n"
      ],
      "execution_count": 7,
      "outputs": [
        {
          "output_type": "stream",
          "text": [
            "(10546, 7)\n",
            "(580, 7)\n",
            "                   id                                           sentence  label\n",
            "0  553588913747808256  #BREAKING Reports: 2 brothers suspected of Cha...      1\n",
            "1  524949003834634240  You are not alone today #Ottawa - we are here ...      0\n",
            "2  553221281181859841  Have said it before, but needs saying again: S...      0\n",
            "3  580322346508124160  Germanwings #A320 plane crashes in southern Fr...      1\n",
            "4  544307417677189121  HOSTAGE SITUATION IN SYDNEY\\nTo all our fans a...      1\n",
            "5  499363921661140993  Mound City Bar Association has agreed to donat...      0\n",
            "6  500177556768034816  Thousands of New Yorkers shut down Times Squar...      0\n",
            "7  553191800408911872  Mosques attacked in France following 'Charlie ...      0\n",
            "8  524927281048080385  Snipers set up on National Art Gallery as we r...      1\n",
            "9  544308793623207936  Remember, Sydney terrorists have nothing to do...      0\n",
            "(580, 3)\n",
            "id          object\n",
            "sentence    object\n",
            "label        int64\n",
            "dtype: object\n"
          ],
          "name": "stdout"
        }
      ]
    },
    {
      "cell_type": "code",
      "metadata": {
        "id": "qA9fzc6ohvoO",
        "colab": {
          "base_uri": "https://localhost:8080/"
        },
        "outputId": "8850806e-d80f-4565-eb78-77aa0437e471"
      },
      "source": [
        "with open(\"test.data.jsonl\", 'r', encoding='utf-8') as test_data_file:\n",
        "  count_of_all_dicts = 0\n",
        "  chunks = []\n",
        "  list_of_rlists = []\n",
        "  num_replies = []\n",
        "  for line in test_data_file:\n",
        "    train_Data_list = json.loads(line)\n",
        "    df = pd.DataFrame.from_dict(train_Data_list)\n",
        "    df = df[[\"id_str\",\"in_reply_to_status_id_str\",\"text\", \"user\",\"favorited\",\"in_reply_to_user_id_str\"]]\n",
        "    df.rename(columns={'id_str': 'id'}, inplace=True)\n",
        "    df.rename(columns={'text': 'sentence'}, inplace=True)\n",
        "    replies_list,len_reply_list = get_replies(df)\n",
        "    chunks.append(df)\n",
        "    num_replies.append(len_reply_list)\n",
        "    list_of_rlists.append(replies_list)\n",
        "  dfs1 = pd.concat(chunks)\n",
        "test_data_file.close()\n",
        "#print(dfs1)\n",
        "finalll = dfs1[dfs1['in_reply_to_status_id_str'].isna()] #source tweets\n",
        "# print(finalll)\n",
        "\n",
        "#only text - drop columns from old one and store in new one \n",
        "Corpus_test = finalll.drop([\"in_reply_to_status_id_str\",\"user\",\"favorited\",\"in_reply_to_user_id_str\"], axis=1)\n",
        "# Corpus_test[\"all_replies\"] = list_of_rlists #has a list of replies \n",
        "# Corpus_test[\"num_replies\"] = num_replies\n",
        "\n",
        "print(Corpus_test.head(10))\n",
        "print(Corpus_test.shape)\n",
        "print(Corpus_test.dtypes)"
      ],
      "execution_count": 8,
      "outputs": [
        {
          "output_type": "stream",
          "text": [
            "                   id                                           sentence\n",
            "0  544382249178001408  5 people have been able to get out of Sydney c...\n",
            "0  525027317551079424  NEW: Sources: Deceased gunman who killed soldi...\n",
            "0  544273220128739329  ISIS FLAG VISIBLE AS GUNMAN SEIZES SYDNEY CAFE...\n",
            "0  499571799764770816  People of #Ferguson: Stop #attacking our brave...\n",
            "0  552844104418091008  #CharlieHebdo editor, assassinated today, said...\n",
            "0  524977651476623360  Soldier shot at War Memorial in Ottawa has die...\n",
            "0  544514988078280704  Gunman in #Sydneysiege identified as Muslim cl...\n",
            "0  524928863714168832  BREAKING: Injury reported after shooting at Ca...\n",
            "0  544390718253699072  LIVE: Updates on #SydneySiege via BBC http://t...\n",
            "0  580322349569994752  Germanwings #A320 plane crashes in southern Fr...\n",
            "(581, 2)\n",
            "id          object\n",
            "sentence    object\n",
            "dtype: object\n"
          ],
          "name": "stdout"
        }
      ]
    },
    {
      "cell_type": "markdown",
      "metadata": {
        "id": "4SMZ5T5Imhlx"
      },
      "source": [
        "\n",
        "\n",
        "Let's extract the sentences and labels of our training set as numpy ndarrays."
      ]
    },
    {
      "cell_type": "code",
      "metadata": {
        "id": "GuE5BqICAne2"
      },
      "source": [
        "#INCLUDE TEST\n",
        "# Get the lists of sentences and their labels.\n",
        "sentences = Corpus.sentence.values\n",
        "labels = Corpus.label.values\n",
        "sentences1 = Corpus_dev.sentence.values\n",
        "labels1 = Corpus_dev.label.values\n",
        "sentences2 = Corpus_test.sentence.values\n"
      ],
      "execution_count": 9,
      "outputs": []
    },
    {
      "cell_type": "code",
      "metadata": {
        "id": "LQ_HKeYyjOG1",
        "colab": {
          "base_uri": "https://localhost:8080/"
        },
        "outputId": "89274b78-a512-49aa-d57b-d5ee7b739115"
      },
      "source": [
        "print(len(sentences1),len(sentences2))"
      ],
      "execution_count": 10,
      "outputs": [
        {
          "output_type": "stream",
          "text": [
            "580 581\n"
          ],
          "name": "stdout"
        }
      ]
    },
    {
      "cell_type": "markdown",
      "metadata": {
        "id": "ex5O1eV-Pfct"
      },
      "source": [
        "# 3. Tokenization & Input Formatting\n",
        "\n",
        "In this section, we'll transform our dataset into the format that BERT can be trained on."
      ]
    },
    {
      "cell_type": "markdown",
      "metadata": {
        "id": "-8kEDRvShcU5"
      },
      "source": [
        "## 3.1. BERT Tokenizer"
      ]
    },
    {
      "cell_type": "markdown",
      "metadata": {
        "id": "bWOPOyWghJp2"
      },
      "source": [
        "\n",
        "To feed our text to BERT, it must be split into tokens, and then these tokens must be mapped to their index in the tokenizer vocabulary.\n",
        "\n",
        "The tokenization must be performed by the tokenizer included with BERT--the below cell will download this for us. We'll be using the \"uncased\" version here.\n"
      ]
    },
    {
      "cell_type": "code",
      "metadata": {
        "id": "Z474sSC6oe7A",
        "colab": {
          "base_uri": "https://localhost:8080/",
          "height": 184,
          "referenced_widgets": [
            "d32ae2958aa346328bac006bb40227d7",
            "b4a32bae1626431c9013304ed200b1cd",
            "a284df794f264e46a4b9484b0bd41c33",
            "4f9ca90ca6264ddd90e3b73c75e25734",
            "beeefbfe0fa84856a1ed57f73eaaa8d8",
            "7f976ebb70234f569cabe5c5c398e965",
            "31cdaa9e0f1047a091f392a09473f19b",
            "7b35e55bb99545aa9ea1aa00f75799fc",
            "aa3c1dc6a1f24247b4f6ace476365181",
            "ad5d441979c74a499547f258d9ddc705",
            "ea6a552e5546495aa224d789d306a9cb",
            "f28904d6442b4dbb9424ae2baa500249",
            "c3e8a07be3a743ff85c18921174d2192",
            "550db66ae9c543e882ae531d13c134a5",
            "e171196beca54c68bf552eb0d9d6fc1c",
            "c3e5fad7757c49b8a5fe9349b9be0de8",
            "2edb6a96b54e42ab9660cfd0982fa885",
            "c08bd369b50f44bfb7d66a9755a60f49",
            "63415208f68e462e946fbd11c3b23385",
            "25e1ca1946774ce2b617205cabffbb41",
            "94646bf05db7423b994fa241d594330e",
            "7eda5122d50b4cc992c20d0928fa2261",
            "3744d9a47a7743c0938ded3f479a8ed7",
            "231bd07b40734ac8986fbed5b49fe7ca"
          ]
        },
        "outputId": "9364a577-4f5b-498c-f4ee-66e0acc3d2c8"
      },
      "source": [
        "from transformers import BertTokenizer\n",
        "\n",
        "# Load the BERT tokenizer.\n",
        "print('Loading BERT tokenizer...')\n",
        "tokenizer = BertTokenizer.from_pretrained('bert-base-uncased', do_lower_case=True)"
      ],
      "execution_count": 11,
      "outputs": [
        {
          "output_type": "stream",
          "text": [
            "Loading BERT tokenizer...\n"
          ],
          "name": "stdout"
        },
        {
          "output_type": "display_data",
          "data": {
            "application/vnd.jupyter.widget-view+json": {
              "model_id": "d32ae2958aa346328bac006bb40227d7",
              "version_minor": 0,
              "version_major": 2
            },
            "text/plain": [
              "HBox(children=(FloatProgress(value=0.0, description='Downloading', max=231508.0, style=ProgressStyle(descripti…"
            ]
          },
          "metadata": {
            "tags": []
          }
        },
        {
          "output_type": "stream",
          "text": [
            "\n"
          ],
          "name": "stdout"
        },
        {
          "output_type": "display_data",
          "data": {
            "application/vnd.jupyter.widget-view+json": {
              "model_id": "aa3c1dc6a1f24247b4f6ace476365181",
              "version_minor": 0,
              "version_major": 2
            },
            "text/plain": [
              "HBox(children=(FloatProgress(value=0.0, description='Downloading', max=28.0, style=ProgressStyle(description_w…"
            ]
          },
          "metadata": {
            "tags": []
          }
        },
        {
          "output_type": "stream",
          "text": [
            "\n"
          ],
          "name": "stdout"
        },
        {
          "output_type": "display_data",
          "data": {
            "application/vnd.jupyter.widget-view+json": {
              "model_id": "2edb6a96b54e42ab9660cfd0982fa885",
              "version_minor": 0,
              "version_major": 2
            },
            "text/plain": [
              "HBox(children=(FloatProgress(value=0.0, description='Downloading', max=466062.0, style=ProgressStyle(descripti…"
            ]
          },
          "metadata": {
            "tags": []
          }
        },
        {
          "output_type": "stream",
          "text": [
            "\n"
          ],
          "name": "stdout"
        }
      ]
    },
    {
      "cell_type": "markdown",
      "metadata": {
        "id": "dFzmtleW6KmJ"
      },
      "source": [
        "Let's apply the tokenizer to one sentence just to see the output.\n"
      ]
    },
    {
      "cell_type": "code",
      "metadata": {
        "id": "dLIbudgfh6F0",
        "colab": {
          "base_uri": "https://localhost:8080/"
        },
        "outputId": "32066652-8ab7-4c15-dc10-e286537d4fae"
      },
      "source": [
        "# Print the original sentence.\n",
        "print(' Original: ', sentences[0])\n",
        "\n",
        "# Print the sentence split into tokens.\n",
        "print('Tokenized: ', tokenizer.tokenize(sentences[0]))\n",
        "\n",
        "# Print the sentence mapped to token ids.\n",
        "print('Token IDs: ', tokenizer.convert_tokens_to_ids(tokenizer.tokenize(sentences[0])))"
      ],
      "execution_count": 12,
      "outputs": [
        {
          "output_type": "stream",
          "text": [
            " Original:  How to respond to the murderous attack on Charlie Hebdo? Every newspaper in the free world should print this. http://t.co/sC2ot63F6j\n",
            "Tokenized:  ['how', 'to', 'respond', 'to', 'the', 'murderous', 'attack', 'on', 'charlie', 'he', '##b', '##do', '?', 'every', 'newspaper', 'in', 'the', 'free', 'world', 'should', 'print', 'this', '.', 'http', ':', '/', '/', 't', '.', 'co', '/', 'sc', '##2', '##ot', '##6', '##3', '##f', '##6', '##j']\n",
            "Token IDs:  [2129, 2000, 6869, 2000, 1996, 25303, 2886, 2006, 4918, 2002, 2497, 3527, 1029, 2296, 3780, 1999, 1996, 2489, 2088, 2323, 6140, 2023, 1012, 8299, 1024, 1013, 1013, 1056, 1012, 2522, 1013, 8040, 2475, 4140, 2575, 2509, 2546, 2575, 3501]\n"
          ],
          "name": "stdout"
        }
      ]
    },
    {
      "cell_type": "markdown",
      "metadata": {
        "id": "-mtdLdlJktna"
      },
      "source": [
        "# FIND MAX LEN IN SOURCE TRAIN TWEETS\n"
      ]
    },
    {
      "cell_type": "code",
      "metadata": {
        "id": "cKsH2sU0OCQA",
        "colab": {
          "base_uri": "https://localhost:8080/"
        },
        "outputId": "5cd038a3-4b81-4979-a917-a414002dc833"
      },
      "source": [
        "max_len = 0\n",
        "countt = 0\n",
        "# For every sentence...\n",
        "for sent in sentences:\n",
        "    countt = countt +1 \n",
        "    # Tokenize the text and add `[CLS]` and `[SEP]` tokens.\n",
        "    input_ids = tokenizer.encode(sent, add_special_tokens=True)\n",
        "\n",
        "    # Update the maximum sentence length.\n",
        "    max_len = max(max_len, len(input_ids))\n",
        "print(countt)\n",
        "print('Max sentence length: ', max_len)"
      ],
      "execution_count": 13,
      "outputs": [
        {
          "output_type": "stream",
          "text": [
            "4641\n",
            "Max sentence length:  69\n"
          ],
          "name": "stdout"
        }
      ]
    },
    {
      "cell_type": "markdown",
      "metadata": {
        "id": "ZtswuQLCk2ao"
      },
      "source": [
        "# FIND MAX LEN IN SOURCE DEV TWEETS\n"
      ]
    },
    {
      "cell_type": "code",
      "metadata": {
        "id": "reeb3Bv7oI6H",
        "colab": {
          "base_uri": "https://localhost:8080/"
        },
        "outputId": "eb717bdb-498c-486b-819a-606cef7f52a5"
      },
      "source": [
        "max_len = 0\n",
        "countt = 0\n",
        "# For every sentence...\n",
        "for sent in sentences1:\n",
        "    countt = countt +1 \n",
        "    # Tokenize the text and add `[CLS]` and `[SEP]` tokens.\n",
        "    input_ids = tokenizer.encode(sent, add_special_tokens=True)\n",
        "\n",
        "    # Update the maximum sentence length.\n",
        "    max_len = max(max_len, len(input_ids))\n",
        "print(countt)\n",
        "print('Max sentence length: ', max_len)"
      ],
      "execution_count": 14,
      "outputs": [
        {
          "output_type": "stream",
          "text": [
            "580\n",
            "Max sentence length:  61\n"
          ],
          "name": "stdout"
        }
      ]
    },
    {
      "cell_type": "markdown",
      "metadata": {
        "id": "1M296yz577fV"
      },
      "source": [
        "Just in case there are some longer test sentences, I'll set the maximum length to 64.\n"
      ]
    },
    {
      "cell_type": "markdown",
      "metadata": {
        "id": "tIWAoWL2RK1p"
      },
      "source": [
        "Now we're ready to perform the real tokenization.\n",
        "\n",
        "The `tokenizer.encode_plus` function combines multiple steps for us:\n",
        "\n",
        "1. Split the sentence into tokens.\n",
        "2. Add the special `[CLS]` and `[SEP]` tokens.\n",
        "3. Map the tokens to their IDs.\n",
        "4. Pad or truncate all sentences to the same length.\n",
        "5. Create the attention masks which explicitly differentiate real tokens from `[PAD]` tokens.\n",
        "\n",
        "The first four features are in `tokenizer.encode`, but I'm using `tokenizer.encode_plus` to get the fifth item (attention masks). Documentation is [here](https://huggingface.co/transformers/main_classes/tokenizer.html?highlight=encode_plus#transformers.PreTrainedTokenizer.encode_plus).\n"
      ]
    },
    {
      "cell_type": "markdown",
      "metadata": {
        "id": "8sw-eBq4laRe"
      },
      "source": [
        "# TRAIN\n"
      ]
    },
    {
      "cell_type": "code",
      "metadata": {
        "id": "2bBdb3pt8LuQ",
        "colab": {
          "base_uri": "https://localhost:8080/"
        },
        "outputId": "4ed4201e-db70-42fc-921b-e80f5c7a40b3"
      },
      "source": [
        "# Tokenize all of the sentences and map the tokens to thier word IDs.\n",
        "input_ids = []\n",
        "attention_masks = []\n",
        "\n",
        "# For every sentence...\n",
        "for sent in sentences:\n",
        "    # `encode_plus` will:\n",
        "    #   (1) Tokenize the sentence.\n",
        "    #   (2) Prepend the `[CLS]` token to the start.\n",
        "    #   (3) Append the `[SEP]` token to the end.\n",
        "    #   (4) Map tokens to their IDs.\n",
        "    #   (5) Pad or truncate the sentence to `max_length`\n",
        "    #   (6) Create attention masks for [PAD] tokens.\n",
        "    encoded_dict = tokenizer.encode_plus(\n",
        "                        sent,                      # Sentence to encode.\n",
        "                        add_special_tokens = True, # Add '[CLS]' and '[SEP]'\n",
        "                        max_length = 64,           # Pad & truncate all sentences.\n",
        "                        pad_to_max_length = True,\n",
        "                        return_attention_mask = True,   # Construct attn. masks.\n",
        "                        return_tensors = 'pt',     # Return pytorch tensors.\n",
        "                   )\n",
        "    \n",
        "    # Add the encoded sentence to the list.    \n",
        "    input_ids.append(encoded_dict['input_ids'])\n",
        "    \n",
        "    # And its attention mask (simply differentiates padding from non-padding).\n",
        "    attention_masks.append(encoded_dict['attention_mask'])\n",
        "\n",
        "# Convert the lists into tensors.\n",
        "input_ids = torch.cat(input_ids, dim=0)\n",
        "attention_masks = torch.cat(attention_masks, dim=0)\n",
        "labels = torch.tensor(labels)\n",
        "\n",
        "# Print sentence 0, now as a list of IDs.\n",
        "print('Original: ', sentences[0])\n",
        "print('Token IDs:', input_ids[0])"
      ],
      "execution_count": 15,
      "outputs": [
        {
          "output_type": "stream",
          "text": [
            "Truncation was not explicitly activated but `max_length` is provided a specific value, please use `truncation=True` to explicitly truncate examples to max length. Defaulting to 'longest_first' truncation strategy. If you encode pairs of sequences (GLUE-style) with the tokenizer you can select this strategy more precisely by providing a specific strategy to `truncation`.\n",
            "/usr/local/lib/python3.7/dist-packages/transformers/tokenization_utils_base.py:2079: FutureWarning: The `pad_to_max_length` argument is deprecated and will be removed in a future version, use `padding=True` or `padding='longest'` to pad to the longest sequence in the batch, or use `padding='max_length'` to pad to a max length. In this case, you can give a specific length with `max_length` (e.g. `max_length=45`) or leave max_length to None to pad to the maximal input size of the model (e.g. 512 for Bert).\n",
            "  FutureWarning,\n"
          ],
          "name": "stderr"
        },
        {
          "output_type": "stream",
          "text": [
            "Original:  How to respond to the murderous attack on Charlie Hebdo? Every newspaper in the free world should print this. http://t.co/sC2ot63F6j\n",
            "Token IDs: tensor([  101,  2129,  2000,  6869,  2000,  1996, 25303,  2886,  2006,  4918,\n",
            "         2002,  2497,  3527,  1029,  2296,  3780,  1999,  1996,  2489,  2088,\n",
            "         2323,  6140,  2023,  1012,  8299,  1024,  1013,  1013,  1056,  1012,\n",
            "         2522,  1013,  8040,  2475,  4140,  2575,  2509,  2546,  2575,  3501,\n",
            "          102,     0,     0,     0,     0,     0,     0,     0,     0,     0,\n",
            "            0,     0,     0,     0,     0,     0,     0,     0,     0,     0,\n",
            "            0,     0,     0,     0])\n"
          ],
          "name": "stdout"
        }
      ]
    },
    {
      "cell_type": "markdown",
      "metadata": {
        "id": "tPk--C5nleTE"
      },
      "source": [
        "# VAL"
      ]
    },
    {
      "cell_type": "code",
      "metadata": {
        "id": "V51vUl9NmgMv",
        "colab": {
          "base_uri": "https://localhost:8080/"
        },
        "outputId": "6d96fea0-0582-42a8-e999-468723529a9c"
      },
      "source": [
        "# Tokenize all of the sentences and map the tokens to thier word IDs.\n",
        "input_ids1 = []\n",
        "attention_masks1 = []\n",
        "\n",
        "# For every sentence...\n",
        "for sent in sentences1:\n",
        "    # `encode_plus` will:\n",
        "    #   (1) Tokenize the sentence.\n",
        "    #   (2) Prepend the `[CLS]` token to the start.\n",
        "    #   (3) Append the `[SEP]` token to the end.\n",
        "    #   (4) Map tokens to their IDs.\n",
        "    #   (5) Pad or truncate the sentence to `max_length`\n",
        "    #   (6) Create attention masks for [PAD] tokens.\n",
        "    encoded_dict = tokenizer.encode_plus(\n",
        "                        sent,                      # Sentence to encode.\n",
        "                        add_special_tokens = True, # Add '[CLS]' and '[SEP]'\n",
        "                        max_length = 64,           # Pad & truncate all sentences.\n",
        "                        pad_to_max_length = True,\n",
        "                        return_attention_mask = True,   # Construct attn. masks.\n",
        "                        return_tensors = 'pt',     # Return pytorch tensors.\n",
        "                   )\n",
        "    \n",
        "    # Add the encoded sentence to the list.    \n",
        "    input_ids1.append(encoded_dict['input_ids'])\n",
        "    \n",
        "    # And its attention mask (simply differentiates padding from non-padding).\n",
        "    attention_masks1.append(encoded_dict['attention_mask'])\n",
        "\n",
        "# Convert the lists into tensors.\n",
        "input_ids1 = torch.cat(input_ids1, dim=0)\n",
        "attention_masks1 = torch.cat(attention_masks1, dim=0)\n",
        "labels1 = torch.tensor(labels1)\n",
        "\n",
        "# Print sentence 0, now as a list of IDs.\n",
        "print('Original: ', sentences1[0])\n",
        "print('Token IDs:', input_ids1[0])"
      ],
      "execution_count": 18,
      "outputs": [
        {
          "output_type": "stream",
          "text": [
            "/usr/local/lib/python3.7/dist-packages/transformers/tokenization_utils_base.py:2079: FutureWarning: The `pad_to_max_length` argument is deprecated and will be removed in a future version, use `padding=True` or `padding='longest'` to pad to the longest sequence in the batch, or use `padding='max_length'` to pad to a max length. In this case, you can give a specific length with `max_length` (e.g. `max_length=45`) or leave max_length to None to pad to the maximal input size of the model (e.g. 512 for Bert).\n",
            "  FutureWarning,\n"
          ],
          "name": "stderr"
        },
        {
          "output_type": "stream",
          "text": [
            "Original:  #BREAKING Reports: 2 brothers suspected of Charlie Hebdo attack are dead http://t.co/7tGdSv4fr8\n",
            "Token IDs: tensor([  101,  1001,  4911,  4311,  1024,  1016,  3428,  6878,  1997,  4918,\n",
            "         2002,  2497,  3527,  2886,  2024,  2757,  8299,  1024,  1013,  1013,\n",
            "         1056,  1012,  2522,  1013,  1021,  2102,  2290,  5104,  2615,  2549,\n",
            "        19699,  2620,   102,     0,     0,     0,     0,     0,     0,     0,\n",
            "            0,     0,     0,     0,     0,     0,     0,     0,     0,     0,\n",
            "            0,     0,     0,     0,     0,     0,     0,     0,     0,     0,\n",
            "            0,     0,     0,     0])\n"
          ],
          "name": "stdout"
        },
        {
          "output_type": "stream",
          "text": [
            "/usr/local/lib/python3.7/dist-packages/ipykernel_launcher.py:32: UserWarning: To copy construct from a tensor, it is recommended to use sourceTensor.clone().detach() or sourceTensor.clone().detach().requires_grad_(True), rather than torch.tensor(sourceTensor).\n"
          ],
          "name": "stderr"
        }
      ]
    },
    {
      "cell_type": "markdown",
      "metadata": {
        "id": "-pJ1PvgZlhAP"
      },
      "source": [
        "# TEST"
      ]
    },
    {
      "cell_type": "code",
      "metadata": {
        "colab": {
          "base_uri": "https://localhost:8080/"
        },
        "id": "oksjVjwklYkH",
        "outputId": "8573387c-e7be-4030-a544-7fb96f5b8d8e"
      },
      "source": [
        "# Tokenize all of the sentences and map the tokens to thier word IDs.\n",
        "input_ids2 = []\n",
        "attention_masks2 = []\n",
        "\n",
        "# For every sentence...\n",
        "for sent in sentences2:\n",
        "    # `encode_plus` will:\n",
        "    #   (1) Tokenize the sentence.\n",
        "    #   (2) Prepend the `[CLS]` token to the start.\n",
        "    #   (3) Append the `[SEP]` token to the end.\n",
        "    #   (4) Map tokens to their IDs.\n",
        "    #   (5) Pad or truncate the sentence to `max_length`\n",
        "    #   (6) Create attention masks for [PAD] tokens.\n",
        "    encoded_dict = tokenizer.encode_plus(\n",
        "                        sent,                      # Sentence to encode.\n",
        "                        add_special_tokens = True, # Add '[CLS]' and '[SEP]'\n",
        "                        max_length = 64,           # Pad & truncate all sentences.\n",
        "                        pad_to_max_length = True,\n",
        "                        return_attention_mask = True,   # Construct attn. masks.\n",
        "                        return_tensors = 'pt',     # Return pytorch tensors.\n",
        "                   )\n",
        "    \n",
        "    # Add the encoded sentence to the list.    \n",
        "    input_ids2.append(encoded_dict['input_ids'])\n",
        "    \n",
        "    # And its attention mask (simply differentiates padding from non-padding).\n",
        "    attention_masks2.append(encoded_dict['attention_mask'])\n",
        "\n",
        "# Convert the lists into tensors.\n",
        "input_ids2 = torch.cat(input_ids2, dim=0)\n",
        "attention_masks2 = torch.cat(attention_masks2, dim=0)\n",
        "# labels1 = torch.tensor(labels1)\n",
        "\n",
        "# Print sentence 0, now as a list of IDs.\n",
        "print('Original: ', sentences2[0])\n",
        "print('Token IDs:', input_ids2[0])"
      ],
      "execution_count": 19,
      "outputs": [
        {
          "output_type": "stream",
          "text": [
            "/usr/local/lib/python3.7/dist-packages/transformers/tokenization_utils_base.py:2079: FutureWarning: The `pad_to_max_length` argument is deprecated and will be removed in a future version, use `padding=True` or `padding='longest'` to pad to the longest sequence in the batch, or use `padding='max_length'` to pad to a max length. In this case, you can give a specific length with `max_length` (e.g. `max_length=45`) or leave max_length to None to pad to the maximal input size of the model (e.g. 512 for Bert).\n",
            "  FutureWarning,\n"
          ],
          "name": "stderr"
        },
        {
          "output_type": "stream",
          "text": [
            "Original:  5 people have been able to get out of Sydney cafe during hostage situation: http://t.co/DBgNP6sqFG http://t.co/Q3ECKnYfPV\n",
            "Token IDs: tensor([  101,  1019,  2111,  2031,  2042,  2583,  2000,  2131,  2041,  1997,\n",
            "         3994,  7668,  2076, 13446,  3663,  1024,  8299,  1024,  1013,  1013,\n",
            "         1056,  1012,  2522,  1013, 16962, 16206,  2361,  2575,  2015,  4160,\n",
            "         2546,  2290,  8299,  1024,  1013,  1013,  1056,  1012,  2522,  1013,\n",
            "         1053,  2509, 11012,  4890, 22540,  2615,   102,     0,     0,     0,\n",
            "            0,     0,     0,     0,     0,     0,     0,     0,     0,     0,\n",
            "            0,     0,     0,     0])\n"
          ],
          "name": "stdout"
        }
      ]
    },
    {
      "cell_type": "markdown",
      "metadata": {
        "id": "aRp4O7D295d_"
      },
      "source": [
        "## 3.4. Training & Validation & Test TENSOR DATASETS\n",
        "\n"
      ]
    },
    {
      "cell_type": "code",
      "metadata": {
        "id": "v4ixTuQ9mVUz",
        "colab": {
          "base_uri": "https://localhost:8080/"
        },
        "outputId": "cd678800-e77a-414c-95dc-d84a8aaafd55"
      },
      "source": [
        "#INCLUDE TEST\n",
        "from torch.utils.data import TensorDataset\n",
        "\n",
        "# Combine the training inputs into a TensorDataset.\n",
        "train_dataset = TensorDataset(input_ids, attention_masks, labels)\n",
        "val_dataset = TensorDataset(input_ids1, attention_masks1, labels1)\n",
        "test_dataset = TensorDataset(input_ids2, attention_masks2)\n",
        "\n",
        "# Calculate the number of samples to include in each set.\n",
        "train_size = int(len(train_dataset))\n",
        "val_size = int(len(val_dataset))\n",
        "test_size = int(len(test_dataset))\n",
        "# val_size = len(dataset) - train_size\n",
        "\n",
        "# Divide the dataset by randomly selecting samples.\n",
        "# train_dataset, val_dataset = random_split(dataset, [train_size, val_size])\n",
        "print('{:>5,} training samples'.format(train_size))\n",
        "print('{:>5,} validation samples'.format(val_size))\n",
        "print('{:>5,} test samples'.format(test_size))"
      ],
      "execution_count": 20,
      "outputs": [
        {
          "output_type": "stream",
          "text": [
            "4,641 training samples\n",
            "  580 validation samples\n",
            "  581 test samples\n"
          ],
          "name": "stdout"
        }
      ]
    },
    {
      "cell_type": "markdown",
      "metadata": {
        "id": "dD9i6Z2pG-sN"
      },
      "source": [
        "We'll also create an iterator for our dataset using the torch DataLoader class. This helps save on memory during training because, unlike a for loop, with an iterator the entire dataset does not need to be loaded into memory."
      ]
    },
    {
      "cell_type": "code",
      "metadata": {
        "id": "XGUqOCtgqGhP"
      },
      "source": [
        "#INCLUDE TEST\n",
        "\n",
        "from torch.utils.data import DataLoader, RandomSampler, SequentialSampler\n",
        "\n",
        "# The DataLoader needs to know our batch size for training, so we specify it \n",
        "# here. For fine-tuning BERT on a specific task, the authors recommend a batch \n",
        "# size of 16 or 32.\n",
        "batch_size = 32\n",
        "\n",
        "# Create the DataLoaders for our training and validation sets.\n",
        "# We'll take training samples in random order. \n",
        "train_dataloader = DataLoader(\n",
        "            train_dataset,  # The training samples.\n",
        "            sampler = RandomSampler(train_dataset), # Select batches randomly\n",
        "            batch_size = batch_size # Trains with this batch size.\n",
        "        )\n",
        "\n",
        "# For validation the order doesn't matter, so we'll just read them sequentially.\n",
        "validation_dataloader = DataLoader(\n",
        "            val_dataset, # The validation samples.\n",
        "            sampler = SequentialSampler(val_dataset), # Pull out batches sequentially.\n",
        "            batch_size = batch_size # Evaluate with this batch size.\n",
        "        )\n",
        "\n",
        "test_dataloader = DataLoader(\n",
        "            test_dataset, # The validation samples.\n",
        "            sampler = SequentialSampler(test_dataset), # Pull out batches sequentially.\n",
        "            batch_size = batch_size # Evaluate with this batch size.\n",
        "        )"
      ],
      "execution_count": 21,
      "outputs": []
    },
    {
      "cell_type": "markdown",
      "metadata": {
        "id": "8bwa6Rts-02-"
      },
      "source": [
        "# 4. Train Our Classification Model"
      ]
    },
    {
      "cell_type": "markdown",
      "metadata": {
        "id": "3xYQ3iLO08SX"
      },
      "source": [
        "Now that our input data is properly formatted, it's time to fine tune the BERT model. "
      ]
    },
    {
      "cell_type": "markdown",
      "metadata": {
        "id": "D6TKgyUzPIQc"
      },
      "source": [
        "## 4.1. BertForSequenceClassification"
      ]
    },
    {
      "cell_type": "markdown",
      "metadata": {
        "id": "1sjzRT1V0zwm"
      },
      "source": [
        "For this task, we first want to modify the pre-trained BERT model to give outputs for classification, and then we want to continue training the model on our dataset until that the entire model, end-to-end, is well-suited for our task. \n",
        "\n",
        "Thankfully, the huggingface pytorch implementation includes a set of interfaces designed for a variety of NLP tasks. Though these interfaces are all built on top of a trained BERT model, each has different top layers and output types designed to accomodate their specific NLP task.  \n",
        "\n",
        "Here is the current list of classes provided for fine-tuning:\n",
        "* BertModel\n",
        "* BertForPreTraining\n",
        "* BertForMaskedLM\n",
        "* BertForNextSentencePrediction\n",
        "* **BertForSequenceClassification** - The one we'll use.\n",
        "* BertForTokenClassification\n",
        "* BertForQuestionAnswering\n",
        "\n",
        "The documentation for these can be found under [here](https://huggingface.co/transformers/v2.2.0/model_doc/bert.html)."
      ]
    },
    {
      "cell_type": "markdown",
      "metadata": {
        "id": "BXYitPoE-cjH"
      },
      "source": [
        "\n",
        "\n",
        "We'll be using [BertForSequenceClassification](https://huggingface.co/transformers/v2.2.0/model_doc/bert.html#bertforsequenceclassification). This is the normal BERT model with an added single linear layer on top for classification that we will use as a sentence classifier. As we feed input data, the entire pre-trained BERT model and the additional untrained classification layer is trained on our specific task. \n"
      ]
    },
    {
      "cell_type": "markdown",
      "metadata": {
        "id": "WnQW9E-bBCRt"
      },
      "source": [
        "OK, let's load BERT! There are a few different pre-trained BERT models available. \"bert-base-uncased\" means the version that has only lowercase letters (\"uncased\") and is the smaller version of the two (\"base\" vs \"large\").\n",
        "\n",
        "The documentation for `from_pretrained` can be found [here](https://huggingface.co/transformers/v2.2.0/main_classes/model.html#transformers.PreTrainedModel.from_pretrained), with the additional parameters defined [here](https://huggingface.co/transformers/v2.2.0/main_classes/configuration.html#transformers.PretrainedConfig)."
      ]
    },
    {
      "cell_type": "code",
      "metadata": {
        "id": "gFsCTp_mporB",
        "colab": {
          "base_uri": "https://localhost:8080/",
          "height": 1000,
          "referenced_widgets": [
            "d32692701f77462aac6b25ebaeb24be6",
            "4d1661451af846c2a316cc8ab34acd2d",
            "1df4e461785e4723aa3c09f5c1c036e4",
            "ac91fd1b10c14627974cac2fa97bf010",
            "7dde1d71f90a433582aea5efbbe4c06a",
            "e9eea7d1bccc4ddbb5888c02aefef4b0",
            "8a4f23e4b0614b57b62145dd55fc500e",
            "104b29541a8d48be97540b0d9a57014f",
            "d4834543fedf4b6793cd75645e887220",
            "92a72ab40cc64ab08e31daea5348f6c6",
            "84779d21e548493c8e24f3b3fbe10986",
            "b52cb711299142c688261aca18ba42de",
            "c1ecbe6de3a94d6fb2bf8739e103c922",
            "118d8fdf3db44017823a0c0ab307eba8",
            "66d20f023ca74d7a9f79b11f4cc8275a",
            "f25a33e318054f129bca23a58bf7d8c2"
          ]
        },
        "outputId": "4242e903-8cf4-4b79-e766-9da529b32176"
      },
      "source": [
        "from transformers import BertForSequenceClassification, AdamW, BertConfig\n",
        "\n",
        "# Load BertForSequenceClassification, the pretrained BERT model with a single \n",
        "# linear classification layer on top. \n",
        "model = BertForSequenceClassification.from_pretrained(\n",
        "    \"bert-base-uncased\", # Use the 12-layer BERT model, with an uncased vocab.\n",
        "    num_labels = 2, # The number of output labels--2 for binary classification.\n",
        "                    # You can increase this for multi-class tasks.   \n",
        "    output_attentions = False, # Whether the model returns attentions weights.\n",
        "    output_hidden_states = False, # Whether the model returns all hidden-states.\n",
        ")\n",
        "\n",
        "# Tell pytorch to run this model on the GPU.\n",
        "model.cuda()"
      ],
      "execution_count": 22,
      "outputs": [
        {
          "output_type": "display_data",
          "data": {
            "application/vnd.jupyter.widget-view+json": {
              "model_id": "d32692701f77462aac6b25ebaeb24be6",
              "version_minor": 0,
              "version_major": 2
            },
            "text/plain": [
              "HBox(children=(FloatProgress(value=0.0, description='Downloading', max=570.0, style=ProgressStyle(description_…"
            ]
          },
          "metadata": {
            "tags": []
          }
        },
        {
          "output_type": "stream",
          "text": [
            "\n"
          ],
          "name": "stdout"
        },
        {
          "output_type": "display_data",
          "data": {
            "application/vnd.jupyter.widget-view+json": {
              "model_id": "d4834543fedf4b6793cd75645e887220",
              "version_minor": 0,
              "version_major": 2
            },
            "text/plain": [
              "HBox(children=(FloatProgress(value=0.0, description='Downloading', max=440473133.0, style=ProgressStyle(descri…"
            ]
          },
          "metadata": {
            "tags": []
          }
        },
        {
          "output_type": "stream",
          "text": [
            "\n"
          ],
          "name": "stdout"
        },
        {
          "output_type": "stream",
          "text": [
            "Some weights of the model checkpoint at bert-base-uncased were not used when initializing BertForSequenceClassification: ['cls.predictions.bias', 'cls.predictions.transform.dense.weight', 'cls.predictions.transform.dense.bias', 'cls.predictions.decoder.weight', 'cls.seq_relationship.weight', 'cls.seq_relationship.bias', 'cls.predictions.transform.LayerNorm.weight', 'cls.predictions.transform.LayerNorm.bias']\n",
            "- This IS expected if you are initializing BertForSequenceClassification from the checkpoint of a model trained on another task or with another architecture (e.g. initializing a BertForSequenceClassification model from a BertForPreTraining model).\n",
            "- This IS NOT expected if you are initializing BertForSequenceClassification from the checkpoint of a model that you expect to be exactly identical (initializing a BertForSequenceClassification model from a BertForSequenceClassification model).\n",
            "Some weights of BertForSequenceClassification were not initialized from the model checkpoint at bert-base-uncased and are newly initialized: ['classifier.weight', 'classifier.bias']\n",
            "You should probably TRAIN this model on a down-stream task to be able to use it for predictions and inference.\n"
          ],
          "name": "stderr"
        },
        {
          "output_type": "execute_result",
          "data": {
            "text/plain": [
              "BertForSequenceClassification(\n",
              "  (bert): BertModel(\n",
              "    (embeddings): BertEmbeddings(\n",
              "      (word_embeddings): Embedding(30522, 768, padding_idx=0)\n",
              "      (position_embeddings): Embedding(512, 768)\n",
              "      (token_type_embeddings): Embedding(2, 768)\n",
              "      (LayerNorm): LayerNorm((768,), eps=1e-12, elementwise_affine=True)\n",
              "      (dropout): Dropout(p=0.1, inplace=False)\n",
              "    )\n",
              "    (encoder): BertEncoder(\n",
              "      (layer): ModuleList(\n",
              "        (0): BertLayer(\n",
              "          (attention): BertAttention(\n",
              "            (self): BertSelfAttention(\n",
              "              (query): Linear(in_features=768, out_features=768, bias=True)\n",
              "              (key): Linear(in_features=768, out_features=768, bias=True)\n",
              "              (value): Linear(in_features=768, out_features=768, bias=True)\n",
              "              (dropout): Dropout(p=0.1, inplace=False)\n",
              "            )\n",
              "            (output): BertSelfOutput(\n",
              "              (dense): Linear(in_features=768, out_features=768, bias=True)\n",
              "              (LayerNorm): LayerNorm((768,), eps=1e-12, elementwise_affine=True)\n",
              "              (dropout): Dropout(p=0.1, inplace=False)\n",
              "            )\n",
              "          )\n",
              "          (intermediate): BertIntermediate(\n",
              "            (dense): Linear(in_features=768, out_features=3072, bias=True)\n",
              "          )\n",
              "          (output): BertOutput(\n",
              "            (dense): Linear(in_features=3072, out_features=768, bias=True)\n",
              "            (LayerNorm): LayerNorm((768,), eps=1e-12, elementwise_affine=True)\n",
              "            (dropout): Dropout(p=0.1, inplace=False)\n",
              "          )\n",
              "        )\n",
              "        (1): BertLayer(\n",
              "          (attention): BertAttention(\n",
              "            (self): BertSelfAttention(\n",
              "              (query): Linear(in_features=768, out_features=768, bias=True)\n",
              "              (key): Linear(in_features=768, out_features=768, bias=True)\n",
              "              (value): Linear(in_features=768, out_features=768, bias=True)\n",
              "              (dropout): Dropout(p=0.1, inplace=False)\n",
              "            )\n",
              "            (output): BertSelfOutput(\n",
              "              (dense): Linear(in_features=768, out_features=768, bias=True)\n",
              "              (LayerNorm): LayerNorm((768,), eps=1e-12, elementwise_affine=True)\n",
              "              (dropout): Dropout(p=0.1, inplace=False)\n",
              "            )\n",
              "          )\n",
              "          (intermediate): BertIntermediate(\n",
              "            (dense): Linear(in_features=768, out_features=3072, bias=True)\n",
              "          )\n",
              "          (output): BertOutput(\n",
              "            (dense): Linear(in_features=3072, out_features=768, bias=True)\n",
              "            (LayerNorm): LayerNorm((768,), eps=1e-12, elementwise_affine=True)\n",
              "            (dropout): Dropout(p=0.1, inplace=False)\n",
              "          )\n",
              "        )\n",
              "        (2): BertLayer(\n",
              "          (attention): BertAttention(\n",
              "            (self): BertSelfAttention(\n",
              "              (query): Linear(in_features=768, out_features=768, bias=True)\n",
              "              (key): Linear(in_features=768, out_features=768, bias=True)\n",
              "              (value): Linear(in_features=768, out_features=768, bias=True)\n",
              "              (dropout): Dropout(p=0.1, inplace=False)\n",
              "            )\n",
              "            (output): BertSelfOutput(\n",
              "              (dense): Linear(in_features=768, out_features=768, bias=True)\n",
              "              (LayerNorm): LayerNorm((768,), eps=1e-12, elementwise_affine=True)\n",
              "              (dropout): Dropout(p=0.1, inplace=False)\n",
              "            )\n",
              "          )\n",
              "          (intermediate): BertIntermediate(\n",
              "            (dense): Linear(in_features=768, out_features=3072, bias=True)\n",
              "          )\n",
              "          (output): BertOutput(\n",
              "            (dense): Linear(in_features=3072, out_features=768, bias=True)\n",
              "            (LayerNorm): LayerNorm((768,), eps=1e-12, elementwise_affine=True)\n",
              "            (dropout): Dropout(p=0.1, inplace=False)\n",
              "          )\n",
              "        )\n",
              "        (3): BertLayer(\n",
              "          (attention): BertAttention(\n",
              "            (self): BertSelfAttention(\n",
              "              (query): Linear(in_features=768, out_features=768, bias=True)\n",
              "              (key): Linear(in_features=768, out_features=768, bias=True)\n",
              "              (value): Linear(in_features=768, out_features=768, bias=True)\n",
              "              (dropout): Dropout(p=0.1, inplace=False)\n",
              "            )\n",
              "            (output): BertSelfOutput(\n",
              "              (dense): Linear(in_features=768, out_features=768, bias=True)\n",
              "              (LayerNorm): LayerNorm((768,), eps=1e-12, elementwise_affine=True)\n",
              "              (dropout): Dropout(p=0.1, inplace=False)\n",
              "            )\n",
              "          )\n",
              "          (intermediate): BertIntermediate(\n",
              "            (dense): Linear(in_features=768, out_features=3072, bias=True)\n",
              "          )\n",
              "          (output): BertOutput(\n",
              "            (dense): Linear(in_features=3072, out_features=768, bias=True)\n",
              "            (LayerNorm): LayerNorm((768,), eps=1e-12, elementwise_affine=True)\n",
              "            (dropout): Dropout(p=0.1, inplace=False)\n",
              "          )\n",
              "        )\n",
              "        (4): BertLayer(\n",
              "          (attention): BertAttention(\n",
              "            (self): BertSelfAttention(\n",
              "              (query): Linear(in_features=768, out_features=768, bias=True)\n",
              "              (key): Linear(in_features=768, out_features=768, bias=True)\n",
              "              (value): Linear(in_features=768, out_features=768, bias=True)\n",
              "              (dropout): Dropout(p=0.1, inplace=False)\n",
              "            )\n",
              "            (output): BertSelfOutput(\n",
              "              (dense): Linear(in_features=768, out_features=768, bias=True)\n",
              "              (LayerNorm): LayerNorm((768,), eps=1e-12, elementwise_affine=True)\n",
              "              (dropout): Dropout(p=0.1, inplace=False)\n",
              "            )\n",
              "          )\n",
              "          (intermediate): BertIntermediate(\n",
              "            (dense): Linear(in_features=768, out_features=3072, bias=True)\n",
              "          )\n",
              "          (output): BertOutput(\n",
              "            (dense): Linear(in_features=3072, out_features=768, bias=True)\n",
              "            (LayerNorm): LayerNorm((768,), eps=1e-12, elementwise_affine=True)\n",
              "            (dropout): Dropout(p=0.1, inplace=False)\n",
              "          )\n",
              "        )\n",
              "        (5): BertLayer(\n",
              "          (attention): BertAttention(\n",
              "            (self): BertSelfAttention(\n",
              "              (query): Linear(in_features=768, out_features=768, bias=True)\n",
              "              (key): Linear(in_features=768, out_features=768, bias=True)\n",
              "              (value): Linear(in_features=768, out_features=768, bias=True)\n",
              "              (dropout): Dropout(p=0.1, inplace=False)\n",
              "            )\n",
              "            (output): BertSelfOutput(\n",
              "              (dense): Linear(in_features=768, out_features=768, bias=True)\n",
              "              (LayerNorm): LayerNorm((768,), eps=1e-12, elementwise_affine=True)\n",
              "              (dropout): Dropout(p=0.1, inplace=False)\n",
              "            )\n",
              "          )\n",
              "          (intermediate): BertIntermediate(\n",
              "            (dense): Linear(in_features=768, out_features=3072, bias=True)\n",
              "          )\n",
              "          (output): BertOutput(\n",
              "            (dense): Linear(in_features=3072, out_features=768, bias=True)\n",
              "            (LayerNorm): LayerNorm((768,), eps=1e-12, elementwise_affine=True)\n",
              "            (dropout): Dropout(p=0.1, inplace=False)\n",
              "          )\n",
              "        )\n",
              "        (6): BertLayer(\n",
              "          (attention): BertAttention(\n",
              "            (self): BertSelfAttention(\n",
              "              (query): Linear(in_features=768, out_features=768, bias=True)\n",
              "              (key): Linear(in_features=768, out_features=768, bias=True)\n",
              "              (value): Linear(in_features=768, out_features=768, bias=True)\n",
              "              (dropout): Dropout(p=0.1, inplace=False)\n",
              "            )\n",
              "            (output): BertSelfOutput(\n",
              "              (dense): Linear(in_features=768, out_features=768, bias=True)\n",
              "              (LayerNorm): LayerNorm((768,), eps=1e-12, elementwise_affine=True)\n",
              "              (dropout): Dropout(p=0.1, inplace=False)\n",
              "            )\n",
              "          )\n",
              "          (intermediate): BertIntermediate(\n",
              "            (dense): Linear(in_features=768, out_features=3072, bias=True)\n",
              "          )\n",
              "          (output): BertOutput(\n",
              "            (dense): Linear(in_features=3072, out_features=768, bias=True)\n",
              "            (LayerNorm): LayerNorm((768,), eps=1e-12, elementwise_affine=True)\n",
              "            (dropout): Dropout(p=0.1, inplace=False)\n",
              "          )\n",
              "        )\n",
              "        (7): BertLayer(\n",
              "          (attention): BertAttention(\n",
              "            (self): BertSelfAttention(\n",
              "              (query): Linear(in_features=768, out_features=768, bias=True)\n",
              "              (key): Linear(in_features=768, out_features=768, bias=True)\n",
              "              (value): Linear(in_features=768, out_features=768, bias=True)\n",
              "              (dropout): Dropout(p=0.1, inplace=False)\n",
              "            )\n",
              "            (output): BertSelfOutput(\n",
              "              (dense): Linear(in_features=768, out_features=768, bias=True)\n",
              "              (LayerNorm): LayerNorm((768,), eps=1e-12, elementwise_affine=True)\n",
              "              (dropout): Dropout(p=0.1, inplace=False)\n",
              "            )\n",
              "          )\n",
              "          (intermediate): BertIntermediate(\n",
              "            (dense): Linear(in_features=768, out_features=3072, bias=True)\n",
              "          )\n",
              "          (output): BertOutput(\n",
              "            (dense): Linear(in_features=3072, out_features=768, bias=True)\n",
              "            (LayerNorm): LayerNorm((768,), eps=1e-12, elementwise_affine=True)\n",
              "            (dropout): Dropout(p=0.1, inplace=False)\n",
              "          )\n",
              "        )\n",
              "        (8): BertLayer(\n",
              "          (attention): BertAttention(\n",
              "            (self): BertSelfAttention(\n",
              "              (query): Linear(in_features=768, out_features=768, bias=True)\n",
              "              (key): Linear(in_features=768, out_features=768, bias=True)\n",
              "              (value): Linear(in_features=768, out_features=768, bias=True)\n",
              "              (dropout): Dropout(p=0.1, inplace=False)\n",
              "            )\n",
              "            (output): BertSelfOutput(\n",
              "              (dense): Linear(in_features=768, out_features=768, bias=True)\n",
              "              (LayerNorm): LayerNorm((768,), eps=1e-12, elementwise_affine=True)\n",
              "              (dropout): Dropout(p=0.1, inplace=False)\n",
              "            )\n",
              "          )\n",
              "          (intermediate): BertIntermediate(\n",
              "            (dense): Linear(in_features=768, out_features=3072, bias=True)\n",
              "          )\n",
              "          (output): BertOutput(\n",
              "            (dense): Linear(in_features=3072, out_features=768, bias=True)\n",
              "            (LayerNorm): LayerNorm((768,), eps=1e-12, elementwise_affine=True)\n",
              "            (dropout): Dropout(p=0.1, inplace=False)\n",
              "          )\n",
              "        )\n",
              "        (9): BertLayer(\n",
              "          (attention): BertAttention(\n",
              "            (self): BertSelfAttention(\n",
              "              (query): Linear(in_features=768, out_features=768, bias=True)\n",
              "              (key): Linear(in_features=768, out_features=768, bias=True)\n",
              "              (value): Linear(in_features=768, out_features=768, bias=True)\n",
              "              (dropout): Dropout(p=0.1, inplace=False)\n",
              "            )\n",
              "            (output): BertSelfOutput(\n",
              "              (dense): Linear(in_features=768, out_features=768, bias=True)\n",
              "              (LayerNorm): LayerNorm((768,), eps=1e-12, elementwise_affine=True)\n",
              "              (dropout): Dropout(p=0.1, inplace=False)\n",
              "            )\n",
              "          )\n",
              "          (intermediate): BertIntermediate(\n",
              "            (dense): Linear(in_features=768, out_features=3072, bias=True)\n",
              "          )\n",
              "          (output): BertOutput(\n",
              "            (dense): Linear(in_features=3072, out_features=768, bias=True)\n",
              "            (LayerNorm): LayerNorm((768,), eps=1e-12, elementwise_affine=True)\n",
              "            (dropout): Dropout(p=0.1, inplace=False)\n",
              "          )\n",
              "        )\n",
              "        (10): BertLayer(\n",
              "          (attention): BertAttention(\n",
              "            (self): BertSelfAttention(\n",
              "              (query): Linear(in_features=768, out_features=768, bias=True)\n",
              "              (key): Linear(in_features=768, out_features=768, bias=True)\n",
              "              (value): Linear(in_features=768, out_features=768, bias=True)\n",
              "              (dropout): Dropout(p=0.1, inplace=False)\n",
              "            )\n",
              "            (output): BertSelfOutput(\n",
              "              (dense): Linear(in_features=768, out_features=768, bias=True)\n",
              "              (LayerNorm): LayerNorm((768,), eps=1e-12, elementwise_affine=True)\n",
              "              (dropout): Dropout(p=0.1, inplace=False)\n",
              "            )\n",
              "          )\n",
              "          (intermediate): BertIntermediate(\n",
              "            (dense): Linear(in_features=768, out_features=3072, bias=True)\n",
              "          )\n",
              "          (output): BertOutput(\n",
              "            (dense): Linear(in_features=3072, out_features=768, bias=True)\n",
              "            (LayerNorm): LayerNorm((768,), eps=1e-12, elementwise_affine=True)\n",
              "            (dropout): Dropout(p=0.1, inplace=False)\n",
              "          )\n",
              "        )\n",
              "        (11): BertLayer(\n",
              "          (attention): BertAttention(\n",
              "            (self): BertSelfAttention(\n",
              "              (query): Linear(in_features=768, out_features=768, bias=True)\n",
              "              (key): Linear(in_features=768, out_features=768, bias=True)\n",
              "              (value): Linear(in_features=768, out_features=768, bias=True)\n",
              "              (dropout): Dropout(p=0.1, inplace=False)\n",
              "            )\n",
              "            (output): BertSelfOutput(\n",
              "              (dense): Linear(in_features=768, out_features=768, bias=True)\n",
              "              (LayerNorm): LayerNorm((768,), eps=1e-12, elementwise_affine=True)\n",
              "              (dropout): Dropout(p=0.1, inplace=False)\n",
              "            )\n",
              "          )\n",
              "          (intermediate): BertIntermediate(\n",
              "            (dense): Linear(in_features=768, out_features=3072, bias=True)\n",
              "          )\n",
              "          (output): BertOutput(\n",
              "            (dense): Linear(in_features=3072, out_features=768, bias=True)\n",
              "            (LayerNorm): LayerNorm((768,), eps=1e-12, elementwise_affine=True)\n",
              "            (dropout): Dropout(p=0.1, inplace=False)\n",
              "          )\n",
              "        )\n",
              "      )\n",
              "    )\n",
              "    (pooler): BertPooler(\n",
              "      (dense): Linear(in_features=768, out_features=768, bias=True)\n",
              "      (activation): Tanh()\n",
              "    )\n",
              "  )\n",
              "  (dropout): Dropout(p=0.1, inplace=False)\n",
              "  (classifier): Linear(in_features=768, out_features=2, bias=True)\n",
              ")"
            ]
          },
          "metadata": {
            "tags": []
          },
          "execution_count": 22
        }
      ]
    },
    {
      "cell_type": "markdown",
      "metadata": {
        "id": "e0Jv6c7-HHDW"
      },
      "source": [
        "Just for curiosity's sake, we can browse all of the model's parameters by name here.\n",
        "\n",
        "\n",
        "\n",
        "\n",
        "In the below cell, I've printed out the names and dimensions of the weights for:\n",
        "\n",
        "1. The embedding layer.\n",
        "2. The first of the twelve transformers.\n",
        "3. The output layer.\n",
        "\n",
        "\n"
      ]
    },
    {
      "cell_type": "code",
      "metadata": {
        "id": "8PIiVlDYCtSq"
      },
      "source": [
        "# # Get all of the model's parameters as a list of tuples.\n",
        "# params = list(model.named_parameters())\n",
        "\n",
        "# print('The BERT model has {:} different named parameters.\\n'.format(len(params)))\n",
        "\n",
        "# print('==== Embedding Layer ====\\n')\n",
        "\n",
        "# for p in params[0:5]:\n",
        "#     print(\"{:<55} {:>12}\".format(p[0], str(tuple(p[1].size()))))\n",
        "\n",
        "# print('\\n==== First Transformer ====\\n')\n",
        "\n",
        "# for p in params[5:21]:\n",
        "#     print(\"{:<55} {:>12}\".format(p[0], str(tuple(p[1].size()))))\n",
        "\n",
        "# print('\\n==== Output Layer ====\\n')\n",
        "\n",
        "# for p in params[-4:]:\n",
        "#     print(\"{:<55} {:>12}\".format(p[0], str(tuple(p[1].size()))))"
      ],
      "execution_count": 23,
      "outputs": []
    },
    {
      "cell_type": "markdown",
      "metadata": {
        "id": "qRWT-D4U_Pvx"
      },
      "source": [
        "## 4.2. Optimizer & Learning Rate Scheduler"
      ]
    },
    {
      "cell_type": "markdown",
      "metadata": {
        "id": "8o-VEBobKwHk"
      },
      "source": [
        "Now that we have our model loaded we need to grab the training hyperparameters from within the stored model.\n",
        "\n",
        "For the purposes of fine-tuning, the authors recommend choosing from the following values (from Appendix A.3 of the [BERT paper](https://arxiv.org/pdf/1810.04805.pdf)):\n",
        "\n",
        ">- **Batch size:** 16, 32  \n",
        "- **Learning rate (Adam):** 5e-5, 3e-5, 2e-5  \n",
        "- **Number of epochs:** 2, 3, 4 \n",
        "\n",
        "We chose:\n",
        "* Batch size: 32 (set when creating our DataLoaders)\n",
        "* Learning rate: 2e-5\n",
        "* Epochs: 4 (we'll see that this is probably too many...)\n",
        "\n",
        "The epsilon parameter `eps = 1e-8` is \"a very small number to prevent any division by zero in the implementation\" (from [here](https://machinelearningmastery.com/adam-optimization-algorithm-for-deep-learning/)).\n",
        "\n",
        "You can find the creation of the AdamW optimizer in `run_glue.py` [here](https://github.com/huggingface/transformers/blob/5bfcd0485ece086ebcbed2d008813037968a9e58/examples/run_glue.py#L109)."
      ]
    },
    {
      "cell_type": "code",
      "metadata": {
        "id": "GLs72DuMODJO"
      },
      "source": [
        "# Note: AdamW is a class from the huggingface library (as opposed to pytorch) \n",
        "# I believe the 'W' stands for 'Weight Decay fix\"\n",
        "optimizer = AdamW(model.parameters(),\n",
        "                  lr = 2e-5, # args.learning_rate - default is 5e-5, our notebook had 2e-5\n",
        "                  eps = 1e-8 # args.adam_epsilon  - default is 1e-8.\n",
        "                )\n"
      ],
      "execution_count": 24,
      "outputs": []
    },
    {
      "cell_type": "code",
      "metadata": {
        "id": "-p0upAhhRiIx"
      },
      "source": [
        "from transformers import get_linear_schedule_with_warmup\n",
        "\n",
        "# Number of training epochs. The BERT authors recommend between 2 and 4. \n",
        "# We chose to run for 4, but we'll see later that this may be over-fitting the\n",
        "# training data.\n",
        "epochs = 2\n",
        "\n",
        "# Total number of training steps is [number of batches] x [number of epochs]. \n",
        "# (Note that this is not the same as the number of training samples).\n",
        "total_steps = len(train_dataloader) * epochs\n",
        "\n",
        "# Create the learning rate scheduler.\n",
        "scheduler = get_linear_schedule_with_warmup(optimizer, \n",
        "                                            num_warmup_steps = 0, # Default value in run_glue.py\n",
        "                                            num_training_steps = total_steps)"
      ],
      "execution_count": 25,
      "outputs": []
    },
    {
      "cell_type": "markdown",
      "metadata": {
        "id": "RqfmWwUR_Sox"
      },
      "source": [
        "## 4.3. Training Loop"
      ]
    },
    {
      "cell_type": "markdown",
      "metadata": {
        "id": "_QXZhFb4LnV5"
      },
      "source": [
        "Below is our training loop. There's a lot going on, but fundamentally for each pass in our loop we have a trianing phase and a validation phase. \n",
        "\n",
        "> *Thank you to [Stas Bekman](https://ca.linkedin.com/in/stasbekman) for contributing the insights and code for using validation loss to detect over-fitting!*\n",
        "\n",
        "**Training:**\n",
        "- Unpack our data inputs and labels\n",
        "- Load data onto the GPU for acceleration\n",
        "- Clear out the gradients calculated in the previous pass. \n",
        "    - In pytorch the gradients accumulate by default (useful for things like RNNs) unless you explicitly clear them out.\n",
        "- Forward pass (feed input data through the network)\n",
        "- Backward pass (backpropagation)\n",
        "- Tell the network to update parameters with optimizer.step()\n",
        "- Track variables for monitoring progress\n",
        "\n",
        "**Evalution:**\n",
        "- Unpack our data inputs and labels\n",
        "- Load data onto the GPU for acceleration\n",
        "- Forward pass (feed input data through the network)\n",
        "- Compute loss on our validation data and track variables for monitoring progress\n",
        "\n",
        "Pytorch hides all of the detailed calculations from us, but we've commented the code to point out which of the above steps are happening on each line. \n",
        "\n",
        "> *PyTorch also has some [beginner tutorials](https://pytorch.org/tutorials/beginner/blitz/cifar10_tutorial.html#sphx-glr-beginner-blitz-cifar10-tutorial-py) which you may also find helpful.*"
      ]
    },
    {
      "cell_type": "markdown",
      "metadata": {
        "id": "pE5B99H5H2-W"
      },
      "source": [
        "Define a helper function for calculating accuracy."
      ]
    },
    {
      "cell_type": "code",
      "metadata": {
        "id": "9cQNvaZ9bnyy"
      },
      "source": [
        "import numpy as np\n",
        "\n",
        "# Function to calculate the accuracy of our predictions vs labels\n",
        "def flat_accuracy(preds, labels):\n",
        "    pred_flat = np.argmax(preds, axis=1).flatten()\n",
        "    labels_flat = labels.flatten()\n",
        "    return np.sum(pred_flat == labels_flat) / len(labels_flat)"
      ],
      "execution_count": 26,
      "outputs": []
    },
    {
      "cell_type": "markdown",
      "metadata": {
        "id": "KNhRtWPXH9C3"
      },
      "source": [
        "Helper function for formatting elapsed times as `hh:mm:ss`\n"
      ]
    },
    {
      "cell_type": "code",
      "metadata": {
        "id": "gpt6tR83keZD"
      },
      "source": [
        "import time\n",
        "import datetime\n",
        "\n",
        "def format_time(elapsed):\n",
        "    '''\n",
        "    Takes a time in seconds and returns a string hh:mm:ss\n",
        "    '''\n",
        "    # Round to the nearest second.\n",
        "    elapsed_rounded = int(round((elapsed)))\n",
        "    \n",
        "    # Format as hh:mm:ss\n",
        "    return str(datetime.timedelta(seconds=elapsed_rounded))\n"
      ],
      "execution_count": 27,
      "outputs": []
    },
    {
      "cell_type": "markdown",
      "metadata": {
        "id": "cfNIhN19te3N"
      },
      "source": [
        "We're ready to kick off the training!"
      ]
    },
    {
      "cell_type": "code",
      "metadata": {
        "id": "6J-FYdx6nFE_",
        "colab": {
          "base_uri": "https://localhost:8080/"
        },
        "outputId": "ea03fd10-bd04-424f-de4c-d7598d55573c"
      },
      "source": [
        "import random\n",
        "import numpy as np\n",
        "\n",
        "# This training code is based on the `run_glue.py` script here:\n",
        "# https://github.com/huggingface/transformers/blob/5bfcd0485ece086ebcbed2d008813037968a9e58/examples/run_glue.py#L128\n",
        "\n",
        "# Set the seed value all over the place to make this reproducible.\n",
        "seed_val = 42\n",
        "\n",
        "random.seed(seed_val)\n",
        "np.random.seed(seed_val)\n",
        "torch.manual_seed(seed_val)\n",
        "torch.cuda.manual_seed_all(seed_val)\n",
        "\n",
        "# We'll store a number of quantities such as training and validation loss, \n",
        "# validation accuracy, and timings.\n",
        "training_stats = []\n",
        "\n",
        "# Measure the total training time for the whole run.\n",
        "total_t0 = time.time()\n",
        "\n",
        "# For each epoch...\n",
        "for epoch_i in range(0, epochs):\n",
        "    \n",
        "    # ========================================\n",
        "    #               Training\n",
        "    # ========================================\n",
        "    \n",
        "    # Perform one full pass over the training set.\n",
        "\n",
        "    print(\"\")\n",
        "    print('======== Epoch {:} / {:} ========'.format(epoch_i + 1, epochs))\n",
        "    print('Training...')\n",
        "\n",
        "    # Measure how long the training epoch takes.\n",
        "    t0 = time.time()\n",
        "\n",
        "    # Reset the total loss for this epoch.\n",
        "    total_train_loss = 0\n",
        "\n",
        "    # Put the model into training mode. Don't be mislead--the call to \n",
        "    # `train` just changes the *mode*, it doesn't *perform* the training.\n",
        "    # `dropout` and `batchnorm` layers behave differently during training\n",
        "    # vs. test (source: https://stackoverflow.com/questions/51433378/what-does-model-train-do-in-pytorch)\n",
        "    model.train()\n",
        "\n",
        "    # For each batch of training data...\n",
        "    for step, batch in enumerate(train_dataloader):\n",
        "\n",
        "        # Progress update every 40 batches.\n",
        "        if step % 40 == 0 and not step == 0:\n",
        "            # Calculate elapsed time in minutes.\n",
        "            elapsed = format_time(time.time() - t0)\n",
        "            \n",
        "            # Report progress.\n",
        "            print('  Batch {:>5,}  of  {:>5,}.    Elapsed: {:}.'.format(step, len(train_dataloader), elapsed))\n",
        "\n",
        "        # Unpack this training batch from our dataloader. \n",
        "        #\n",
        "        # As we unpack the batch, we'll also copy each tensor to the GPU using the \n",
        "        # `to` method.\n",
        "        #\n",
        "        # `batch` contains three pytorch tensors:\n",
        "        #   [0]: input ids \n",
        "        #   [1]: attention masks\n",
        "        #   [2]: labels \n",
        "        b_input_ids = batch[0].to(device) #tells pytorch this to the GPU \n",
        "        b_input_mask = batch[1].to(device)\n",
        "        b_labels = batch[2].to(device)\n",
        "\n",
        "        # Always clear any previously calculated gradients before performing a\n",
        "        # backward pass. PyTorch doesn't do this automatically because \n",
        "        # accumulating the gradients is \"convenient while training RNNs\". \n",
        "        # (source: https://stackoverflow.com/questions/48001598/why-do-we-need-to-call-zero-grad-in-pytorch)\n",
        "        model.zero_grad()        \n",
        "\n",
        "        # Perform a forward pass (evaluate the model on this training batch).\n",
        "        # In PyTorch, calling `model` will in turn call the model's `forward` \n",
        "        # function and pass down the arguments. The `forward` function is \n",
        "        # documented here: \n",
        "        # https://huggingface.co/transformers/model_doc/bert.html#bertforsequenceclassification\n",
        "        # The results are returned in a results object, documented here:\n",
        "        # https://huggingface.co/transformers/main_classes/output.html#transformers.modeling_outputs.SequenceClassifierOutput\n",
        "        # Specifically, we'll get the loss (because we provided labels) and the\n",
        "        # \"logits\"--the model outputs prior to activation. \n",
        "        result = model(b_input_ids,   #\n",
        "                       token_type_ids=None, #segment IDS takes 2 sentences \n",
        "                       attention_mask=b_input_mask, \n",
        "                       labels=b_labels, #return the loss rather than actual labels \n",
        "                       return_dict=True)\n",
        "\n",
        "        loss = result.loss\n",
        "        logits = result.logits\n",
        "\n",
        "        # Accumulate the training loss over all of the batches so that we can\n",
        "        # calculate the average loss at the end. `loss` is a Tensor containing a\n",
        "        # single value; the `.item()` function just returns the Python value \n",
        "        # from the tensor.\n",
        "        total_train_loss += loss.item()\n",
        "\n",
        "        # Perform a backward pass to calculate the gradients.\n",
        "        loss.backward() #all of the parameters used while computing that loss- calculate the parameters for every gradient that was involved in calculating that value \n",
        "\n",
        "        # Clip the norm of the gradients to 1.0.\n",
        "        # This is to help prevent the \"exploding gradients\" problem.\n",
        "        torch.nn.utils.clip_grad_norm_(model.parameters(), 1.0) #\n",
        "\n",
        "        # Update parameters and take a step using the computed gradient.\n",
        "        # The optimizer dictates the \"update rule\"--how the parameters are\n",
        "        # modified based on their gradients, the learning rate, etc.\n",
        "        optimizer.step() #makes the adjustment to the weigths - based on gradients and LR \n",
        "\n",
        "        # Update the learning rate.\n",
        "        scheduler.step() # key in the LR \n",
        "\n",
        "    # Calculate the average loss over all of the batches.\n",
        "    avg_train_loss = total_train_loss / len(train_dataloader)    #avy training loss and how long it took is reported          \n",
        "    \n",
        "    # Measure how long this epoch took.\n",
        "    training_time = format_time(time.time() - t0)\n",
        "\n",
        "    print(\"\")\n",
        "    print(\"  Average training loss: {0:.2f}\".format(avg_train_loss))\n",
        "    print(\"  Training epcoh took: {:}\".format(training_time))\n",
        "        \n",
        "    # # ========================================\n",
        "    # #               Validation\n",
        "    # # ========================================\n",
        "    # # After the completion of each training epoch, measure our performance on\n",
        "    # # our validation set.\n",
        "\n",
        "    # print(\"\")\n",
        "    # print(\"Running Validation...\")\n",
        "\n",
        "    # t0 = time.time()\n",
        "\n",
        "    # # Put the model in evaluation mode--the dropout layers behave differently\n",
        "    # # during evaluation.\n",
        "    # model.eval() #tells dropout layer that we are doing evaluation \n",
        "\n",
        "    # # Tracking variables \n",
        "    # total_eval_accuracy = 0\n",
        "    # total_eval_loss = 0\n",
        "    # nb_eval_steps = 0\n",
        "\n",
        "    # # Evaluate data for one epoch\n",
        "    # for batch in validation_dataloader:\n",
        "        \n",
        "    #     # Unpack this training batch from our dataloader. \n",
        "    #     #\n",
        "    #     # As we unpack the batch, we'll also copy each tensor to the GPU using \n",
        "    #     # the `to` method.\n",
        "    #     #\n",
        "    #     # `batch` contains three pytorch tensors:\n",
        "    #     #   [0]: input ids \n",
        "    #     #   [1]: attention masks\n",
        "    #     #   [2]: labels \n",
        "    #     b_input_ids = batch[0].to(device)\n",
        "    #     b_input_mask = batch[1].to(device)\n",
        "    #     b_labels = batch[2].to(device)\n",
        "        \n",
        "    #     # Tell pytorch not to bother with constructing the compute graph during\n",
        "    #     # the forward pass, since this is only needed for backprop (training).\n",
        "    #     with torch.no_grad():        #if we run the model in eval mode - saves on compute and memory requirements - not sure why we need this \n",
        "\n",
        "    #         # Forward pass, calculate logit predictions.\n",
        "    #         # token_type_ids is the same as the \"segment ids\", which \n",
        "    #         # differentiates sentence 1 and 2 in 2-sentence tasks.\n",
        "    #         result = model(b_input_ids, \n",
        "    #                        token_type_ids=None, \n",
        "    #                        attention_mask=b_input_mask,\n",
        "    #                        labels=b_labels, #not supplying labels in the video so it returns the output rather than the loss in the  video\n",
        "    #                        return_dict=True)\n",
        "\n",
        "    #     # Get the loss and \"logits\" output by the model. The \"logits\" are the \n",
        "    #     # output values prior to applying an activation function like the \n",
        "    #     # softmax.\n",
        "    #     loss = result.loss\n",
        "    #     logits = result.logits #\n",
        "            \n",
        "    #     # Accumulate the validation loss.\n",
        "    #     total_eval_loss += loss.item()\n",
        "\n",
        "    #     # Move logits and labels to CPU\n",
        "    #     logits = logits.detach().cpu().numpy()\n",
        "    #     label_ids = b_labels.to('cpu').numpy()\n",
        "\n",
        "    #     # Calculate the accuracy for this batch of test sentences, and\n",
        "    #     # accumulate it over all batches.\n",
        "    #     total_eval_accuracy += flat_accuracy(logits, label_ids)\n",
        "        \n",
        "\n",
        "    # # Report the final accuracy for this validation run.\n",
        "    # avg_val_accuracy = total_eval_accuracy / len(validation_dataloader)\n",
        "    # print(\"  Accuracy: {0:.2f}\".format(avg_val_accuracy))\n",
        "\n",
        "    # # Calculate the average loss over all of the batches.\n",
        "    # avg_val_loss = total_eval_loss / len(validation_dataloader)\n",
        "    \n",
        "    # # Measure how long the validation run took.\n",
        "    # validation_time = format_time(time.time() - t0)\n",
        "    \n",
        "    # print(\"  Validation Loss: {0:.2f}\".format(avg_val_loss))\n",
        "    # print(\"  Validation took: {:}\".format(validation_time))\n",
        "\n",
        "    # Record all statistics from this epoch.\n",
        "    training_stats.append(\n",
        "        {\n",
        "            'epoch': epoch_i + 1,\n",
        "            'Training Loss': avg_train_loss,\n",
        "            # 'Valid. Loss': avg_val_loss,\n",
        "            # 'Valid. Accur.': avg_val_accuracy,\n",
        "            'Training Time': training_time,\n",
        "            # 'Validation Time': validation_time\n",
        "        }\n",
        "    )\n",
        "\n",
        "print(\"\")\n",
        "print(\"Training complete!\")\n",
        "\n",
        "print(\"Total training took {:} (h:mm:ss)\".format(format_time(time.time()-total_t0)))"
      ],
      "execution_count": 28,
      "outputs": [
        {
          "output_type": "stream",
          "text": [
            "\n",
            "======== Epoch 1 / 2 ========\n",
            "Training...\n",
            "  Batch    40  of    146.    Elapsed: 0:00:08.\n",
            "  Batch    80  of    146.    Elapsed: 0:00:17.\n",
            "  Batch   120  of    146.    Elapsed: 0:00:25.\n",
            "\n",
            "  Average training loss: 0.44\n",
            "  Training epcoh took: 0:00:30\n",
            "\n",
            "======== Epoch 2 / 2 ========\n",
            "Training...\n",
            "  Batch    40  of    146.    Elapsed: 0:00:08.\n",
            "  Batch    80  of    146.    Elapsed: 0:00:17.\n",
            "  Batch   120  of    146.    Elapsed: 0:00:25.\n",
            "\n",
            "  Average training loss: 0.27\n",
            "  Training epcoh took: 0:00:30\n",
            "\n",
            "Training complete!\n",
            "Total training took 0:01:00 (h:mm:ss)\n"
          ],
          "name": "stdout"
        }
      ]
    },
    {
      "cell_type": "markdown",
      "metadata": {
        "id": "VQTvJ1vRP7u4"
      },
      "source": [
        "Let's view the summary of the training process."
      ]
    },
    {
      "cell_type": "code",
      "metadata": {
        "id": "6O_NbXFGMukX",
        "colab": {
          "base_uri": "https://localhost:8080/",
          "height": 135
        },
        "outputId": "d207dbac-ffee-40c4-a2ce-267d2207009e"
      },
      "source": [
        "import pandas as pd\n",
        "\n",
        "# Display floats with two decimal places.\n",
        "pd.set_option('precision', 2)\n",
        "\n",
        "# Create a DataFrame from our training statistics.\n",
        "df_stats = pd.DataFrame(data=training_stats)\n",
        "\n",
        "# Use the 'epoch' as the row index.\n",
        "df_stats = df_stats.set_index('epoch')\n",
        "\n",
        "# A hack to force the column headers to wrap.\n",
        "# df = df.style.set_table_styles([dict(selector=\"th\",props=[('max-width', '70px')])])\n",
        "\n",
        "# Display the table.\n",
        "df_stats"
      ],
      "execution_count": 29,
      "outputs": [
        {
          "output_type": "execute_result",
          "data": {
            "text/html": [
              "<div>\n",
              "<style scoped>\n",
              "    .dataframe tbody tr th:only-of-type {\n",
              "        vertical-align: middle;\n",
              "    }\n",
              "\n",
              "    .dataframe tbody tr th {\n",
              "        vertical-align: top;\n",
              "    }\n",
              "\n",
              "    .dataframe thead th {\n",
              "        text-align: right;\n",
              "    }\n",
              "</style>\n",
              "<table border=\"1\" class=\"dataframe\">\n",
              "  <thead>\n",
              "    <tr style=\"text-align: right;\">\n",
              "      <th></th>\n",
              "      <th>Training Loss</th>\n",
              "      <th>Training Time</th>\n",
              "    </tr>\n",
              "    <tr>\n",
              "      <th>epoch</th>\n",
              "      <th></th>\n",
              "      <th></th>\n",
              "    </tr>\n",
              "  </thead>\n",
              "  <tbody>\n",
              "    <tr>\n",
              "      <th>1</th>\n",
              "      <td>0.44</td>\n",
              "      <td>0:00:30</td>\n",
              "    </tr>\n",
              "    <tr>\n",
              "      <th>2</th>\n",
              "      <td>0.27</td>\n",
              "      <td>0:00:30</td>\n",
              "    </tr>\n",
              "  </tbody>\n",
              "</table>\n",
              "</div>"
            ],
            "text/plain": [
              "       Training Loss Training Time\n",
              "epoch                             \n",
              "1               0.44       0:00:30\n",
              "2               0.27       0:00:30"
            ]
          },
          "metadata": {
            "tags": []
          },
          "execution_count": 29
        }
      ]
    },
    {
      "cell_type": "markdown",
      "metadata": {
        "id": "1-G03mmwH3aI"
      },
      "source": [
        "Notice that, while the the training loss is going down with each epoch, the validation loss is increasing! This suggests that we are training our model too long, and it's over-fitting on the training data. \n",
        "\n",
        "(For reference, we are using 7,695 training samples and 856 validation samples).\n",
        "\n",
        "Validation Loss is a more precise measure than accuracy, because with accuracy we don't care about the exact output value, but just which side of a threshold it falls on. \n",
        "\n",
        "If we are predicting the correct answer, but with less confidence, then validation loss will catch this, while accuracy will not."
      ]
    },
    {
      "cell_type": "code",
      "metadata": {
        "id": "68xreA9JAmG5",
        "colab": {
          "base_uri": "https://localhost:8080/",
          "height": 427
        },
        "outputId": "222065da-1b15-471e-ad04-e5eeaae50d1f"
      },
      "source": [
        "import matplotlib.pyplot as plt\n",
        "% matplotlib inline\n",
        "\n",
        "import seaborn as sns\n",
        "\n",
        "# Use plot styling from seaborn.\n",
        "sns.set(style='darkgrid')\n",
        "\n",
        "# Increase the plot size and font size.\n",
        "sns.set(font_scale=1.5)\n",
        "plt.rcParams[\"figure.figsize\"] = (12,6)\n",
        "\n",
        "# Plot the learning curve.\n",
        "plt.plot(df_stats['Training Loss'], 'b-o', label=\"Training\")\n",
        "plt.plot(df_stats['Valid. Loss'], 'g-o', label=\"Validation\")\n",
        "\n",
        "# Label the plot.\n",
        "plt.title(\"Training & Validation Loss\")\n",
        "plt.xlabel(\"Epoch\")\n",
        "plt.ylabel(\"Loss\")\n",
        "plt.legend()\n",
        "plt.xticks([1, 2, 3, 4])\n",
        "\n",
        "plt.show()"
      ],
      "execution_count": 30,
      "outputs": [
        {
          "output_type": "display_data",
          "data": {
            "image/png": "[encoded data removed]",
            "text/plain": [
              "<Figure size 864x432 with 1 Axes>"
            ]
          },
          "metadata": {
            "tags": []
          }
        }
      ]
    },
    {
      "cell_type": "markdown",
      "metadata": {
        "id": "mkyubuJSOzg3"
      },
      "source": [
        "# 5. Performance On Test Set"
      ]
    },
    {
      "cell_type": "markdown",
      "metadata": {
        "id": "DosV94BYIYxg"
      },
      "source": [
        "Now we'll load the holdout dataset and prepare inputs just as we did with the training set. Then we'll evaluate predictions using [Matthew's correlation coefficient](https://scikit-learn.org/stable/modules/generated/sklearn.metrics.matthews_corrcoef.html) because this is the metric used by the wider NLP community to evaluate performance on CoLA. With this metric, +1 is the best score, and -1 is the worst score. This way, we can see how well we perform against the state of the art models for this specific task."
      ]
    },
    {
      "cell_type": "markdown",
      "metadata": {
        "id": "Tg42jJqqM68F"
      },
      "source": [
        "### 5.1. Data Preparation\n"
      ]
    },
    {
      "cell_type": "markdown",
      "metadata": {
        "id": "xWe0_JW21MyV"
      },
      "source": [
        "\n",
        "We'll need to apply all of the same steps that we did for the training data to prepare our test data set."
      ]
    },
    {
      "cell_type": "code",
      "metadata": {
        "id": "mAN0LZBOOPVh"
      },
      "source": [
        "# import pandas as pd\n",
        "\n",
        "# # Load the dataset into a pandas dataframe.\n",
        "# # df = pd.read_csv(\"./cola_public/raw/out_of_domain_dev.tsv\", delimiter='\\t', header=None, names=['sentence_source', 'label', 'label_notes', 'sentence'])\n",
        "\n",
        "# # Report the number of sentences.\n",
        "# # print('Number of test sentences: {:,}\\n'.format(df.shape[0]))\n",
        "\n",
        "# # Create sentence and label lists\n",
        "# sentences1 = Corpus_dev.sentence.values\n",
        "# labels1 = Corpus_dev.label.values\n",
        "\n",
        "# # Tokenize all of the sentences and map the tokens to thier word IDs.\n",
        "# input_ids1 = []\n",
        "# attention_masks1 = []\n",
        "\n",
        "# # For every sentence...\n",
        "# for sent in sentences1:\n",
        "#     # `encode_plus` will:\n",
        "#     #   (1) Tokenize the sentence.\n",
        "#     #   (2) Prepend the `[CLS]` token to the start.\n",
        "#     #   (3) Append the `[SEP]` token to the end.\n",
        "#     #   (4) Map tokens to their IDs.\n",
        "#     #   (5) Pad or truncate the sentence to `max_length`\n",
        "#     #   (6) Create attention masks for [PAD] tokens.\n",
        "#     encoded_dict = tokenizer.encode_plus(\n",
        "#                         sent,                      # Sentence to encode.\n",
        "#                         add_special_tokens = True, # Add '[CLS]' and '[SEP]'\n",
        "#                         max_length = 128,           # Pad & truncate all sentences.\n",
        "#                         pad_to_max_length = True,\n",
        "#                         return_attention_mask = True,   # Construct attn. masks.\n",
        "#                         return_tensors = 'pt',     # Return pytorch tensors.\n",
        "#                    )\n",
        "    \n",
        "#     # Add the encoded sentence to the list.    \n",
        "#     input_ids1.append(encoded_dict['input_ids'])\n",
        "    \n",
        "#     # And its attention mask (simply differentiates padding from non-padding).\n",
        "#     attention_masks1.append(encoded_dict['attention_mask'])\n",
        "\n",
        "# # Convert the lists into tensors.\n",
        "# input_ids1 = torch.cat(input_ids1, dim=0)\n",
        "# attention_masks1 = torch.cat(attention_masks1, dim=0)\n",
        "# labels1 = torch.tensor(labels1)\n",
        "\n",
        "# # Set the batch size.  \n",
        "# batch_size = 32  \n",
        "\n",
        "# Create the DataLoader.\n",
        "prediction_data = TensorDataset(input_ids1, attention_masks1, labels1)\n",
        "# prediction_data = TensorDataset(input_ids2, attention_masks2)\n",
        "prediction_sampler = SequentialSampler(prediction_data)\n",
        "prediction_dataloader = DataLoader(prediction_data, sampler=prediction_sampler, batch_size=batch_size)"
      ],
      "execution_count": 70,
      "outputs": []
    },
    {
      "cell_type": "markdown",
      "metadata": {
        "id": "16lctEOyNFik"
      },
      "source": [
        "## 5.2. Evaluate on Test Set\n"
      ]
    },
    {
      "cell_type": "markdown",
      "metadata": {
        "id": "rhR99IISNMg9"
      },
      "source": [
        "\n",
        "With the test set prepared, we can apply our fine-tuned model to generate predictions on the test set."
      ]
    },
    {
      "cell_type": "code",
      "metadata": {
        "id": "Hba10sXR7Xi6",
        "colab": {
          "base_uri": "https://localhost:8080/"
        },
        "outputId": "3628ddf4-e895-4326-e6ad-6b0fcb0ad4c6"
      },
      "source": [
        "# Prediction on val set\n",
        "\n",
        "print('Predicting labels for {:,} test sentences...'.format(len(input_ids1)))\n",
        "\n",
        "# Put model in evaluation mode\n",
        "model.eval()\n",
        "all_logits = []\n",
        "# Tracking variables \n",
        "predictions , true_labels = [], []\n",
        "\n",
        "# Predict \n",
        "for batch in prediction_dataloader:\n",
        "  # Add batch to GPU\n",
        "  batch = tuple(t.to(device) for t in batch)\n",
        "  \n",
        "  # Unpack the inputs from our dataloader\n",
        "  b_input_ids, b_input_mask, b_labels = batch\n",
        "  \n",
        "  # Telling the model not to compute or store gradients, saving memory and \n",
        "  # speeding up prediction\n",
        "  with torch.no_grad():\n",
        "      # Forward pass, calculate logit predictions.\n",
        "      result = model(b_input_ids, \n",
        "                     token_type_ids=None, \n",
        "                     attention_mask=b_input_mask,\n",
        "                     return_dict=True)\n",
        "      # all_logits.append(result)\n",
        "\n",
        "  logits = result.logits\n",
        "  # all_logits = torch.cat(all_logits, dim=0)\n",
        "\n",
        "  # Move logits and labels to CPU\n",
        "  logits = logits.detach().cpu().numpy()\n",
        "  label_ids = b_labels.to('cpu').numpy()\n",
        "  \n",
        "  # Store predictions and true labels\n",
        "  predictions.append(logits)\n",
        "  true_labels.append(label_ids)\n",
        "# probs = F.softmax(predictions, dim=1).cpu().numpy()\n",
        "print('    DONE.')\n"
      ],
      "execution_count": 32,
      "outputs": [
        {
          "output_type": "stream",
          "text": [
            "Predicting labels for 580 test sentences...\n",
            "    DONE.\n"
          ],
          "name": "stdout"
        }
      ]
    },
    {
      "cell_type": "code",
      "metadata": {
        "id": "Aj_l7E9-746b",
        "colab": {
          "base_uri": "https://localhost:8080/"
        },
        "outputId": "a36d1228-5982-4c08-bd67-c6d5cfd0195a"
      },
      "source": [
        "print(type(predictions))\n",
        "# print(predictions)\n",
        "# flat_list1 = [sublist for sublist in c for item in predictions]\n",
        "\n",
        "# print(flat_list1)"
      ],
      "execution_count": 33,
      "outputs": [
        {
          "output_type": "stream",
          "text": [
            "<class 'list'>\n"
          ],
          "name": "stdout"
        }
      ]
    },
    {
      "cell_type": "code",
      "metadata": {
        "id": "mvISe3hA5hUP",
        "colab": {
          "base_uri": "https://localhost:8080/"
        },
        "outputId": "09aea2b4-b318-49f4-ad42-3821c883a878"
      },
      "source": [
        "# logits.argmax(0)\n",
        "import torch\n",
        "import torch.nn.functional as F \n",
        "# X_train = torch.from_numpy(logits)\n",
        "out = []\n",
        "for i in predictions:\n",
        "    X_train = torch.Tensor(i)\n",
        "    # print(X_train)\n",
        "    out.append(X_train)  \n",
        "print(len(out))\n",
        "results = torch.cat(out)  #shape (64, 32*in_channels, 224, 224)\n",
        "print(len(results), results)\n",
        "probs = F.softmax(results, dim=1)\n",
        "print(len(probs),probs)"
      ],
      "execution_count": 34,
      "outputs": [
        {
          "output_type": "stream",
          "text": [
            "19\n",
            "580 tensor([[-0.7183,  1.1749],\n",
            "        [ 1.2732, -2.5834],\n",
            "        [ 1.5311, -2.8405],\n",
            "        ...,\n",
            "        [-0.2368,  0.2000],\n",
            "        [ 0.4720, -1.3363],\n",
            "        [ 1.3472, -2.0819]])\n",
            "580 tensor([[0.1309, 0.8691],\n",
            "        [0.9793, 0.0207],\n",
            "        [0.9875, 0.0125],\n",
            "        ...,\n",
            "        [0.3925, 0.6075],\n",
            "        [0.8592, 0.1408],\n",
            "        [0.9686, 0.0314]])\n"
          ],
          "name": "stdout"
        }
      ]
    },
    {
      "cell_type": "code",
      "metadata": {
        "id": "ktHMoJyTxZBg",
        "colab": {
          "base_uri": "https://localhost:8080/"
        },
        "outputId": "6aca2382-cd2b-4d0d-f49c-b22282d07ec9"
      },
      "source": [
        "threshold = 0.55\n",
        "preds = np.where(probs[:, 1] > threshold, 1, 0)\n",
        "print(preds)\n",
        "print(len(preds))\n",
        "\n",
        "# Number of tweets predicted non-negative\n",
        "print(\"Number of tweets predicted rumour: \", preds.sum())"
      ],
      "execution_count": 65,
      "outputs": [
        {
          "output_type": "stream",
          "text": [
            "[1 0 0 0 0 0 0 0 0 0 0 0 1 0 0 0 0 0 1 0 1 1 0 1 0 0 0 0 1 0 0 1 1 0 1 1 1\n",
            " 0 0 0 1 1 1 0 1 0 1 0 0 0 0 0 0 0 0 1 0 0 1 0 0 0 1 0 0 1 0 1 1 0 1 0 1 0\n",
            " 0 1 0 1 0 1 0 0 1 0 1 1 1 1 0 0 0 1 1 0 1 0 0 0 1 1 1 0 1 0 1 0 1 0 0 1 1\n",
            " 0 0 0 0 1 1 0 0 0 1 0 0 1 0 0 0 0 0 0 1 0 0 0 0 0 1 1 0 1 0 0 0 1 1 0 0 1\n",
            " 0 0 1 0 0 0 0 1 0 0 0 1 0 1 1 0 0 0 0 0 1 1 0 0 1 0 0 0 1 1 0 0 0 1 1 0 1\n",
            " 0 0 0 0 0 0 1 0 1 0 0 0 0 0 1 0 1 0 1 0 0 1 0 0 0 0 0 0 0 0 0 1 1 0 0 0 0\n",
            " 0 0 0 0 0 0 0 0 1 1 0 1 0 0 0 0 1 0 1 0 1 1 0 0 0 0 1 0 1 0 0 0 1 1 1 0 0\n",
            " 0 0 0 0 0 0 0 0 0 1 1 1 0 1 1 1 0 0 0 1 1 1 0 1 1 0 0 0 0 1 1 0 0 0 1 0 1\n",
            " 0 1 1 0 0 0 0 0 0 0 0 1 0 0 0 1 0 0 0 0 1 1 1 0 1 1 0 0 1 0 1 1 0 1 0 0 0\n",
            " 0 1 0 1 1 0 1 0 0 0 0 0 0 1 1 0 0 0 1 0 0 1 0 0 0 1 0 0 1 0 0 1 0 0 0 0 0\n",
            " 0 1 0 0 0 0 0 0 1 1 1 0 1 0 0 0 1 1 1 0 0 1 1 0 0 0 1 0 0 1 1 1 1 1 0 0 0\n",
            " 1 1 0 1 0 0 0 0 0 1 0 0 0 0 0 0 0 0 0 0 0 0 0 1 0 0 0 1 1 0 0 0 0 0 0 0 0\n",
            " 0 1 0 1 1 0 0 0 0 0 1 0 1 0 1 0 1 0 0 0 1 0 0 1 0 0 0 0 0 0 1 1 0 1 0 0 1\n",
            " 0 0 0 0 1 0 1 0 1 0 0 0 1 0 0 0 0 0 0 0 1 0 1 1 1 0 0 0 0 0 1 0 0 1 0 0 1\n",
            " 1 0 0 1 0 0 0 0 1 1 0 1 1 1 1 1 0 0 0 0 1 0 0 1 1 1 0 1 0 1 0 0 0 0 0 0 0\n",
            " 0 0 1 0 1 0 0 0 0 0 0 0 0 1 0 0 0 0 0 0 1 0 1 0 0]\n",
            "580\n",
            "Number of tweets predicted rumour:  194\n"
          ],
          "name": "stdout"
        }
      ]
    },
    {
      "cell_type": "code",
      "metadata": {
        "id": "lO3-jN7w8VqQ"
      },
      "source": [
        "#predicting 1's and 0's as rumours and non-rumours manually \n",
        "final_list = [\"rumour\" if i == 1 else \"non-rumour\" for i in preds]\n",
        "# final_list"
      ],
      "execution_count": 66,
      "outputs": []
    },
    {
      "cell_type": "code",
      "metadata": {
        "colab": {
          "base_uri": "https://localhost:8080/"
        },
        "id": "iODy1kLssyNL",
        "outputId": "79438d64-a124-43d4-90b2-437184b6c49c"
      },
      "source": [
        "# Prediction on test set\n",
        "\n",
        "print('Predicting labels for {:,} test sentences...'.format(len(input_ids2)))\n",
        "\n",
        "# Put model in evaluation mode\n",
        "model.eval()\n",
        "all_logits = []\n",
        "# Tracking variables \n",
        "predictions = []\n",
        "\n",
        "# Predict \n",
        "for batch in prediction_dataloader:\n",
        "  # Add batch to GPU\n",
        "  batch = tuple(t.to(device) for t in batch)\n",
        "  \n",
        "  # Unpack the inputs from our dataloader\n",
        "  b_input_ids, b_input_mask = batch\n",
        "  \n",
        "  # Telling the model not to compute or store gradients, saving memory and \n",
        "  # speeding up prediction\n",
        "  with torch.no_grad():\n",
        "      # Forward pass, calculate logit predictions.\n",
        "      result = model(b_input_ids, \n",
        "                     token_type_ids=None, \n",
        "                     attention_mask=b_input_mask,\n",
        "                     return_dict=True)\n",
        "\n",
        "  logits = result.logits\n",
        "\n",
        "  # Move logits and labels to CPU\n",
        "  logits = logits.detach().cpu().numpy()\n",
        "  label_ids = b_labels.to('cpu').numpy()\n",
        "  \n",
        "  # Store predictions and true labels\n",
        "  predictions.append(logits)\n",
        "print('    DONE.')"
      ],
      "execution_count": 77,
      "outputs": [
        {
          "output_type": "stream",
          "text": [
            "Predicting labels for 581 test sentences...\n",
            "    DONE.\n"
          ],
          "name": "stdout"
        }
      ]
    },
    {
      "cell_type": "code",
      "metadata": {
        "colab": {
          "base_uri": "https://localhost:8080/"
        },
        "id": "hRJd3tXV1yqW",
        "outputId": "59794e53-f926-4b7f-a0b1-241b871fd768"
      },
      "source": [
        "# from sklearn import preprocessing\n",
        "# label_encoder = preprocessing.LabelEncoder()\n",
        "# label_encoder.fit_transform(Corpus_dev['label'])\n",
        "# y_predicted_labels = label_encoder.inverse_transform(preds) \n",
        "# print(len(y_predicted_labels))\n",
        "# print(y_predicted_labels)\n",
        "Corpus_pred = Corpus_dev\n",
        "Corpus_pred['label'] = final_list\n",
        "print(Corpus_pred.head())\n",
        "# Corpus_pred.set_index('id',inplace=True)\n",
        "dictt = Corpus_pred.to_dict()['label']\n",
        "print(dictt)\n",
        "print(len(dictt))\n",
        "\n"
      ],
      "execution_count": 67,
      "outputs": [
        {
          "output_type": "stream",
          "text": [
            "                                                             sentence       label\n",
            "id                                                                               \n",
            "553588913747808256  #BREAKING Reports: 2 brothers suspected of Cha...      rumour\n",
            "524949003834634240  You are not alone today #Ottawa - we are here ...  non-rumour\n",
            "553221281181859841  Have said it before, but needs saying again: S...  non-rumour\n",
            "580322346508124160  Germanwings #A320 plane crashes in southern Fr...  non-rumour\n",
            "544307417677189121  HOSTAGE SITUATION IN SYDNEY\\nTo all our fans a...  non-rumour\n",
            "{'553588913747808256': 'rumour', '524949003834634240': 'non-rumour', '553221281181859841': 'non-rumour', '580322346508124160': 'non-rumour', '544307417677189121': 'non-rumour', '499363921661140993': 'non-rumour', '500177556768034816': 'non-rumour', '553191800408911872': 'non-rumour', '524927281048080385': 'non-rumour', '544308793623207936': 'non-rumour', '553223882128490496': 'non-rumour', '553587546614427649': 'non-rumour', '544308749725626368': 'rumour', '553567716414484481': 'non-rumour', '544360851646709760': 'non-rumour', '553160652567498752': 'non-rumour', '552814627399012352': 'non-rumour', '552827979093385216': 'non-rumour', '524932792925569024': 'rumour', '552978642968780800': 'non-rumour', '552794942759010304': 'rumour', '544304298243653632': 'rumour', '544425492971941888': 'non-rumour', '580885624883904512': 'rumour', '498560433021026304': 'non-rumour', '524994747883323392': 'non-rumour', '544354840042680320': 'non-rumour', '580371776619839488': 'non-rumour', '581248346309922816': 'rumour', '552812682626465792': 'non-rumour', '544476533302505472': 'non-rumour', '580318717860532224': 'rumour', '552993818816299008': 'rumour', '553215362058440704': 'non-rumour', '544285508441231361': 'rumour', '544515546633355264': 'rumour', '553486529231089664': 'rumour', '525041399344168961': 'non-rumour', '544506628239028224': 'non-rumour', '544279603259248640': 'non-rumour', '544293694166536192': 'rumour', '580329875891974145': 'rumour', '581301262269829120': 'rumour', '580377378226049024': 'non-rumour', '544454229960974336': 'rumour', '553098796108750848': 'non-rumour', '544512664769396736': 'rumour', '553537322218553344': 'non-rumour', '552828504060874752': 'non-rumour', '552817345887207425': 'non-rumour', '498286281894682624': 'non-rumour', '500382073593405442': 'non-rumour', '544282393801007104': 'non-rumour', '552825783337897984': 'non-rumour', '500392971636719618': 'non-rumour', '580347464907153408': 'rumour', '544515665319976960': 'non-rumour', '552793409438904321': 'non-rumour', '525020620636307456': 'rumour', '553200085132009475': 'non-rumour', '552840155728736256': 'non-rumour', '500387959468982273': 'non-rumour', '580325714567806976': 'rumour', '498515980205948928': 'non-rumour', '544330174351679489': 'non-rumour', '544511434840113152': 'rumour', '552818368487911425': 'non-rumour', '524944544681705472': 'rumour', '552788947219533824': 'rumour', '553195852643442688': 'non-rumour', '553588080964558849': 'rumour', '552844893148938240': 'non-rumour', '524932574909857792': 'rumour', '553162589744926720': 'non-rumour', '500384777514799104': 'non-rumour', '552795585095671808': 'rumour', '498300832648273920': 'non-rumour', '524934673760530432': 'rumour', '544444021066563584': 'non-rumour', '524990163446140928': 'rumour', '525045203648790528': 'non-rumour', '524953569762766848': 'non-rumour', '524999488067633152': 'rumour', '552827164677373952': 'non-rumour', '544518841020473345': 'rumour', '524937542131793920': 'rumour', '500376891623079937': 'rumour', '580366761398239232': 'rumour', '553127086706397185': 'non-rumour', '552835794646212608': 'non-rumour', '552837016350912512': 'non-rumour', '500280477920796672': 'rumour', '544363391641341952': 'rumour', '499388398529175552': 'non-rumour', '500294693356175360': 'rumour', '544405761925738496': 'non-rumour', '552822450824962048': 'non-rumour', '544346361101963265': 'non-rumour', '524967620588896256': 'rumour', '544315864397258752': 'rumour', '524976486902951936': 'rumour', '500160181184249856': 'non-rumour', '500280249629036544': 'rumour', '544279950929321984': 'non-rumour', '524955062486196224': 'rumour', '553480333954678784': 'non-rumour', '553589860892942337': 'rumour', '524925600318754816': 'non-rumour', '553540131756732416': 'non-rumour', '552787544837197824': 'rumour', '544393766287970304': 'rumour', '552827553493565441': 'non-rumour', '524969415318982657': 'non-rumour', '580330104846475264': 'non-rumour', '500353227951718401': 'non-rumour', '544373694068686848': 'rumour', '581287562947395584': 'rumour', '544417650680823808': 'non-rumour', '500279951275606017': 'non-rumour', '552833658017824768': 'non-rumour', '500293392060780546': 'rumour', '553161401733496832': 'non-rumour', '525044678765187072': 'non-rumour', '544297696308518912': 'rumour', '553113944219320320': 'non-rumour', '544296373466562560': 'non-rumour', '525007810871164929': 'non-rumour', '553537380209401856': 'non-rumour', '553166766977740801': 'non-rumour', '499366152049803264': 'non-rumour', '500404132394459136': 'rumour', '499610913112989696': 'non-rumour', '552814845016694786': 'non-rumour', '552851710880653312': 'non-rumour', '500176354185187328': 'non-rumour', '544273256174198785': 'non-rumour', '525051365195014144': 'rumour', '552830684021424128': 'rumour', '498272080564334592': 'non-rumour', '553229808260632578': 'rumour', '498286918011224065': 'non-rumour', '544400775775289344': 'non-rumour', '553137476135432194': 'non-rumour', '544351015936331777': 'rumour', '500242061279637504': 'rumour', '499439571520991232': 'non-rumour', '580336772128870400': 'non-rumour', '544411313779126272': 'rumour', '553152675014246400': 'non-rumour', '544308188909027328': 'non-rumour', '552792802309181440': 'rumour', '553480287045554176': 'non-rumour', '580330660537192448': 'non-rumour', '544513035118075904': 'non-rumour', '524981427260366848': 'non-rumour', '544520434767503361': 'rumour', '580336782782382081': 'non-rumour', '544443154964152320': 'non-rumour', '499527157023277056': 'non-rumour', '524964564018790400': 'rumour', '552815332931665921': 'non-rumour', '580326012749221890': 'rumour', '552792271243210754': 'rumour', '552846353416867841': 'non-rumour', '553591736598269952': 'non-rumour', '552847505763737600': 'non-rumour', '544443959662358528': 'non-rumour', '553590750701551616': 'non-rumour', '553561452318322688': 'rumour', '544356724871036928': 'rumour', '499361662743220224': 'non-rumour', '499699270883110913': 'non-rumour', '544496262629036032': 'rumour', '552827825603219456': 'non-rumour', '553503184174710784': 'non-rumour', '524934142958788608': 'non-rumour', '544359578612559872': 'rumour', '544328324601114625': 'rumour', '500256984768475136': 'non-rumour', '552811533303296001': 'non-rumour', '499363323335680000': 'non-rumour', '500309193526882306': 'rumour', '525017500061536258': 'rumour', '500413956230365185': 'non-rumour', '500291013521334272': 'rumour', '500426667446513666': 'non-rumour', '499699107615997952': 'non-rumour', '580330454869512192': 'non-rumour', '500286170035523585': 'non-rumour', '498289596463980544': 'non-rumour', '544334477011349505': 'non-rumour', '525038517844709376': 'rumour', '553125384246804480': 'non-rumour', '544508995361202176': 'rumour', '500366171716067328': 'non-rumour', '499655249398075392': 'non-rumour', '553144964168036352': 'non-rumour', '553585530504749057': 'non-rumour', '553570203678683136': 'non-rumour', '500287224957898752': 'rumour', '524930851747164160': 'non-rumour', '552834445301256192': 'rumour', '553582011324329984': 'non-rumour', '580368417556992000': 'rumour', '499553426133753857': 'non-rumour', '552812399997489152': 'non-rumour', '525025463648137216': 'rumour', '553499806883381249': 'non-rumour', '544499381731622912': 'non-rumour', '500303864495882240': 'non-rumour', '499694783691239424': 'non-rumour', '498457205801488385': 'non-rumour', '553231607449276416': 'non-rumour', '580327418084364288': 'non-rumour', '553492417023057920': 'non-rumour', '500306837103968257': 'non-rumour', '553502180666531840': 'rumour', '500324836355608576': 'rumour', '500331134040162304': 'non-rumour', '544345939054710785': 'non-rumour', '553168646051475456': 'non-rumour', '553199664720543744': 'non-rumour', '553590811355795456': 'non-rumour', '499524024012386304': 'non-rumour', '553117623568068608': 'non-rumour', '553196263064498176': 'non-rumour', '499571347375136768': 'non-rumour', '499478732315566080': 'non-rumour', '553112060788473856': 'non-rumour', '580320267777511425': 'non-rumour', '544514538797035520': 'rumour', '580363156721131521': 'rumour', '524966946467749888': 'non-rumour', '552792913910833152': 'rumour', '581325197661376512': 'non-rumour', '500402804910206976': 'non-rumour', '499696948296028160': 'non-rumour', '498283586425200640': 'non-rumour', '524953508978909185': 'rumour', '552813223360352256': 'non-rumour', '552848620375261184': 'rumour', '524959630158725120': 'non-rumour', '525024181218725888': 'rumour', '553541676229472256': 'rumour', '553135991083769856': 'non-rumour', '525030331775463424': 'non-rumour', '544461661055098881': 'non-rumour', '553480257747963905': 'non-rumour', '524998110268096513': 'rumour', '544462911729455104': 'non-rumour', '524926643325132800': 'rumour', '499567797064957952': 'non-rumour', '553566829273423872': 'non-rumour', '524957872296583168': 'non-rumour', '581303989406314496': 'rumour', '553587511839444994': 'rumour', '525027116287811584': 'rumour', '553527807771308034': 'non-rumour', '499439550029381632': 'non-rumour', '553483707122995201': 'non-rumour', '553135106609922049': 'non-rumour', '553137557601812480': 'non-rumour', '552792518870708224': 'non-rumour', '499657337985323009': 'non-rumour', '544317474498703360': 'non-rumour', '552822604206460928': 'non-rumour', '499576743967993856': 'non-rumour', '552851838928953344': 'non-rumour', '544519245087121408': 'rumour', '552827123963281408': 'rumour', '525027539845410816': 'rumour', '500296090671796224': 'non-rumour', '544270745744846848': 'rumour', '581256908251758592': 'rumour', '500285938824908801': 'rumour', '499377813758443520': 'non-rumour', '544457324211879937': 'non-rumour', '553236009081921536': 'non-rumour', '553470977972375553': 'rumour', '552805638024077312': 'rumour', '524958743000125440': 'rumour', '499588291335692288': 'non-rumour', '524922078638903296': 'rumour', '524943658748219392': 'rumour', '552808669646036992': 'non-rumour', '580346835295997952': 'non-rumour', '552837268160135169': 'non-rumour', '500290098647547904': 'non-rumour', '544494408515608576': 'rumour', '524956383318650880': 'rumour', '552837599304622080': 'non-rumour', '553145759961714688': 'non-rumour', '553115926531674112': 'non-rumour', '552789521646247936': 'rumour', '500288971197263873': 'non-rumour', '544301624814870530': 'rumour', '500382265076379649': 'non-rumour', '525005886272843776': 'rumour', '544372465078505472': 'rumour', '580339510883561472': 'non-rumour', '524984505376182272': 'non-rumour', '544472595140063232': 'non-rumour', '500308546815131648': 'non-rumour', '498280074941313024': 'non-rumour', '498269289812856832': 'non-rumour', '544287991959539713': 'non-rumour', '553175714128990208': 'non-rumour', '544377463581581314': 'rumour', '553542245966958592': 'non-rumour', '524936931059056640': 'non-rumour', '552979275776032768': 'non-rumour', '498254929942028288': 'rumour', '524926528342487041': 'non-rumour', '544295960449265664': 'non-rumour', '553101858013581313': 'non-rumour', '498316826988642304': 'non-rumour', '524943504192311296': 'rumour', '544458558432350208': 'rumour', '524949526487265280': 'rumour', '552821730100924417': 'non-rumour', '544508543152304128': 'rumour', '500362083221786625': 'rumour', '553124985900785666': 'non-rumour', '552812416485294080': 'non-rumour', '544351967829839873': 'rumour', '525055967076290560': 'non-rumour', '500287479015292928': 'rumour', '553572740125712385': 'rumour', '544505129810944001': 'non-rumour', '524972443308683264': 'rumour', '499689438092726273': 'non-rumour', '580327611760545792': 'non-rumour', '524974135030874114': 'non-rumour', '544337816298070017': 'non-rumour', '544320992361721856': 'rumour', '553544694765215745': 'non-rumour', '553576849943826432': 'rumour', '524968337747767298': 'rumour', '553583847850663936': 'non-rumour', '544325779199258626': 'rumour', '553501469388058626': 'non-rumour', '552846287314640897': 'non-rumour', '500307863894786048': 'non-rumour', '553584683892871168': 'non-rumour', '552839190921351168': 'non-rumour', '552831107985858560': 'non-rumour', '580331561398108160': 'rumour', '500280422295937024': 'rumour', '500274132756738048': 'non-rumour', '500197999205965824': 'non-rumour', '499411596255719424': 'non-rumour', '552802128688078848': 'rumour', '544512465099587584': 'non-rumour', '498280126254428160': 'non-rumour', '544516240572940289': 'rumour', '544475892685099008': 'non-rumour', '552841157785694208': 'non-rumour', '552839167575883776': 'non-rumour', '544515446100090881': 'rumour', '553215305917665280': 'non-rumour', '553177465883873280': 'non-rumour', '544294794139533313': 'rumour', '499665889198088192': 'non-rumour', '544286724831318017': 'non-rumour', '544280077778055168': 'rumour', '498482619232055296': 'non-rumour', '580323152103911424': 'non-rumour', '524957105296404480': 'non-rumour', '580320563891019776': 'non-rumour', '552836167029514240': 'non-rumour', '553234578086055937': 'non-rumour', '524936365427806208': 'rumour', '552845840247971842': 'non-rumour', '553186515359379457': 'non-rumour', '500376174095511552': 'non-rumour', '524948520605069312': 'non-rumour', '544449632131375104': 'non-rumour', '553162459885096962': 'non-rumour', '580327626419482624': 'rumour', '525025552634494976': 'rumour', '553136565296582657': 'rumour', '553566279953842176': 'non-rumour', '544393889113600000': 'rumour', '552845255796461569': 'non-rumour', '499402643869929474': 'non-rumour', '553186739326812161': 'non-rumour', '544513339544838147': 'rumour', '524979925343014912': 'rumour', '500281094239817728': 'rumour', '580322005280493568': 'non-rumour', '499635247311781889': 'non-rumour', '544277113683980288': 'rumour', '500295393301647360': 'rumour', '544334623023452160': 'non-rumour', '544381029537312769': 'non-rumour', '524947071770435585': 'non-rumour', '553587672137334785': 'rumour', '499602370917978112': 'non-rumour', '524979279701241856': 'non-rumour', '524988712367955970': 'rumour', '553107939926736896': 'rumour', '525044725926330368': 'rumour', '580324027715063808': 'rumour', '553480082996879360': 'rumour', '544468178961592321': 'non-rumour', '552800222553079809': 'non-rumour', '524959715957424128': 'non-rumour', '544516164333080577': 'rumour', '500283877567770624': 'rumour', '500276114011742208': 'non-rumour', '499431474731683841': 'rumour', '552838479844216833': 'non-rumour', '499412007573942272': 'non-rumour', '580335510280892416': 'non-rumour', '553151804046082048': 'non-rumour', '499607500187250689': 'non-rumour', '525028734991343617': 'rumour', '525019992337551360': 'non-rumour', '553533193899368448': 'non-rumour', '499511714438971392': 'non-rumour', '500293511632388097': 'non-rumour', '544436279442546688': 'non-rumour', '553196035133440000': 'non-rumour', '500361647144574976': 'non-rumour', '544309096351268864': 'non-rumour', '498248415223246848': 'non-rumour', '552845017208061953': 'non-rumour', '524981945131102211': 'non-rumour', '525034687245582337': 'non-rumour', '499701423135678464': 'non-rumour', '580370275121938432': 'rumour', '499673760484433921': 'non-rumour', '499690032601772032': 'non-rumour', '552985297307598848': 'non-rumour', '544287796719288321': 'rumour', '524925223226081282': 'rumour', '552797114863198208': 'non-rumour', '553170912129056770': 'non-rumour', '552798640679702528': 'non-rumour', '524936008870400000': 'non-rumour', '552846938677059586': 'non-rumour', '500263561298710528': 'non-rumour', '552846893588709376': 'non-rumour', '553481963864993792': 'non-rumour', '524943226948820992': 'non-rumour', '544320939245043712': 'rumour', '544476492281827328': 'non-rumour', '525072912957452289': 'rumour', '500359377585704961': 'rumour', '553219770053443585': 'non-rumour', '552821069036670976': 'non-rumour', '553198853487611907': 'non-rumour', '544484918567239681': 'non-rumour', '524968466559033345': 'non-rumour', '544517991086710784': 'rumour', '552833393734721537': 'non-rumour', '580320856561209344': 'rumour', '499345023721537536': 'non-rumour', '544509140911919104': 'rumour', '553183420499894272': 'non-rumour', '553588946039746560': 'rumour', '498278882244853760': 'non-rumour', '498292200955195392': 'non-rumour', '552813549291315200': 'non-rumour', '544319832486064128': 'rumour', '580330161725255681': 'non-rumour', '498292628455034882': 'non-rumour', '499361679197884416': 'rumour', '552823198484819969': 'non-rumour', '552820025409941506': 'non-rumour', '581325025569030145': 'non-rumour', '552827117663436801': 'non-rumour', '553104539898089472': 'non-rumour', '552818685526933505': 'non-rumour', '544292670336925696': 'rumour', '544373593841623040': 'rumour', '499706065769201666': 'non-rumour', '544307161589772290': 'rumour', '553578250186665984': 'non-rumour', '552834808121163776': 'non-rumour', '544291829290508289': 'rumour', '524943804051496961': 'non-rumour', '553159290987364352': 'non-rumour', '499345604297121792': 'non-rumour', '553186026811039745': 'non-rumour', '524950428598153216': 'rumour', '552834558706847745': 'non-rumour', '524945879455653889': 'rumour', '500429525558505473': 'non-rumour', '525023057526947840': 'rumour', '553493300242432000': 'non-rumour', '544288968624578560': 'non-rumour', '544336585052160001': 'non-rumour', '580328617713897472': 'rumour', '524923148576518144': 'non-rumour', '552810249263259649': 'non-rumour', '552819064301961216': 'non-rumour', '552851421155299328': 'non-rumour', '553128548526227456': 'non-rumour', '499602989133594624': 'non-rumour', '552832738542514176': 'non-rumour', '544511558173601792': 'rumour', '544401029211496449': 'non-rumour', '553543395017510912': 'rumour', '499412821671968769': 'rumour', '544326782334558208': 'rumour', '552817785949396992': 'non-rumour', '524979756371288064': 'non-rumour', '544413195884974080': 'non-rumour', '498308585227431936': 'non-rumour', '553219651594125312': 'non-rumour', '552789127792717826': 'rumour', '524953604717686784': 'non-rumour', '553588053348843520': 'non-rumour', '500362679039840257': 'rumour', '580327625626927104': 'non-rumour', '544445364322197504': 'non-rumour', '544280923923959808': 'rumour', '500364290545958912': 'rumour', '524928960615186432': 'non-rumour', '552810166744547328': 'non-rumour', '500381163866062848': 'rumour', '552807054268956673': 'non-rumour', '580329937573302272': 'non-rumour', '553225809444749313': 'non-rumour', '552844023996907520': 'non-rumour', '524940716733370374': 'rumour', '498313143530303488': 'rumour', '552824742097719296': 'non-rumour', '544500527720325120': 'rumour', '553571432475951105': 'rumour', '544497405237161984': 'rumour', '553477943616634880': 'rumour', '524929769469538305': 'rumour', '544502782267752449': 'non-rumour', '524997921042071553': 'non-rumour', '544294618758520832': 'non-rumour', '580337831253581824': 'non-rumour', '553220369721483266': 'rumour', '552828573896413185': 'non-rumour', '552840805678084096': 'non-rumour', '552982443511144448': 'rumour', '500324234821124096': 'rumour', '580352273001410560': 'rumour', '552786299875520512': 'non-rumour', '553536358950916096': 'rumour', '524951439417044992': 'non-rumour', '500318980007948288': 'rumour', '544337689676636161': 'non-rumour', '544312732443348995': 'non-rumour', '552815993165467649': 'non-rumour', '552823186966855680': 'non-rumour', '552805267990413312': 'non-rumour', '499386181310619649': 'non-rumour', '552850611524599808': 'non-rumour', '498345343629541376': 'non-rumour', '553143017922912256': 'non-rumour', '544366036498542592': 'rumour', '552818868604129280': 'non-rumour', '544511865729323009': 'rumour', '544504889746149377': 'non-rumour', '552822434639126528': 'non-rumour', '552828811344359425': 'non-rumour', '553219195056693249': 'non-rumour', '553584868685520897': 'non-rumour', '499526002469797888': 'non-rumour', '553143987377561600': 'non-rumour', '552808776492130304': 'non-rumour', '544298346345947136': 'rumour', '499402006146977792': 'non-rumour', '544458445764968448': 'non-rumour', '580338194731962368': 'non-rumour', '552825844755083265': 'non-rumour', '552807904597008385': 'non-rumour', '552804592988479488': 'non-rumour', '525025279803424768': 'rumour', '552784600502915072': 'non-rumour', '499696525808001024': 'rumour', '580320612155060224': 'non-rumour', '553218279557582849': 'non-rumour'}\n",
            "580\n"
          ],
          "name": "stdout"
        }
      ]
    },
    {
      "cell_type": "code",
      "metadata": {
        "id": "4MTG_Tls1ymg"
      },
      "source": [
        "with open(\"dev.baseline_03_BERT_FT.json\", \"w\") as outfile: \n",
        "    json.dump(dictt, outfile)"
      ],
      "execution_count": 68,
      "outputs": []
    },
    {
      "cell_type": "code",
      "metadata": {
        "id": "6HVLfJMVtHom"
      },
      "source": [
        "# import pandas as pd\n",
        "\n",
        "# # Load the dataset into a pandas dataframe.\n",
        "# # df = pd.read_csv(\"./cola_public/raw/out_of_domain_dev.tsv\", delimiter='\\t', header=None, names=['sentence_source', 'label', 'label_notes', 'sentence'])\n",
        "\n",
        "# # Report the number of sentences.\n",
        "# # print('Number of test sentences: {:,}\\n'.format(df.shape[0]))\n",
        "\n",
        "# # Create sentence and label lists\n",
        "# sentences1 = Corpus_dev.sentence.values\n",
        "# labels1 = Corpus_dev.label.values\n",
        "\n",
        "# # Tokenize all of the sentences and map the tokens to thier word IDs.\n",
        "# input_ids1 = []\n",
        "# attention_masks1 = []\n",
        "\n",
        "# # For every sentence...\n",
        "# for sent in sentences1:\n",
        "#     # `encode_plus` will:\n",
        "#     #   (1) Tokenize the sentence.\n",
        "#     #   (2) Prepend the `[CLS]` token to the start.\n",
        "#     #   (3) Append the `[SEP]` token to the end.\n",
        "#     #   (4) Map tokens to their IDs.\n",
        "#     #   (5) Pad or truncate the sentence to `max_length`\n",
        "#     #   (6) Create attention masks for [PAD] tokens.\n",
        "#     encoded_dict = tokenizer.encode_plus(\n",
        "#                         sent,                      # Sentence to encode.\n",
        "#                         add_special_tokens = True, # Add '[CLS]' and '[SEP]'\n",
        "#                         max_length = 128,           # Pad & truncate all sentences.\n",
        "#                         pad_to_max_length = True,\n",
        "#                         return_attention_mask = True,   # Construct attn. masks.\n",
        "#                         return_tensors = 'pt',     # Return pytorch tensors.\n",
        "#                    )\n",
        "    \n",
        "#     # Add the encoded sentence to the list.    \n",
        "#     input_ids1.append(encoded_dict['input_ids'])\n",
        "    \n",
        "#     # And its attention mask (simply differentiates padding from non-padding).\n",
        "#     attention_masks1.append(encoded_dict['attention_mask'])\n",
        "\n",
        "# # Convert the lists into tensors.\n",
        "# input_ids1 = torch.cat(input_ids1, dim=0)\n",
        "# attention_masks1 = torch.cat(attention_masks1, dim=0)\n",
        "# labels1 = torch.tensor(labels1)\n",
        "\n",
        "# Set the batch size.  \n",
        "batch_size = 32  \n",
        "\n",
        "# Create the DataLoader.\n",
        "# prediction_data = TensorDataset(input_ids1, attention_masks1, labels1)\n",
        "prediction_data = TensorDataset(input_ids2, attention_masks2)\n",
        "prediction_sampler = SequentialSampler(prediction_data)\n",
        "prediction_dataloader = DataLoader(prediction_data, sampler=prediction_sampler, batch_size=batch_size)"
      ],
      "execution_count": 76,
      "outputs": []
    },
    {
      "cell_type": "code",
      "metadata": {
        "id": "coEI5T2s1x3I",
        "colab": {
          "base_uri": "https://localhost:8080/"
        },
        "outputId": "c24f3f42-ba6d-41b3-e9aa-aac2b27e39e4"
      },
      "source": [
        "# logits.argmax(0)\n",
        "import torch\n",
        "import torch.nn.functional as F \n",
        "# X_train = torch.from_numpy(logits)\n",
        "out = []\n",
        "for i in predictions:\n",
        "    X_train = torch.Tensor(i)\n",
        "    # print(X_train)\n",
        "    out.append(X_train)  \n",
        "print(len(out))\n",
        "results = torch.cat(out)  #shape (64, 32*in_channels, 224, 224)\n",
        "print(len(results), results)\n",
        "probs = F.softmax(results, dim=1)\n",
        "print(len(probs),probs)\n",
        "\n",
        "threshold = 0.55\n",
        "preds = np.where(probs[:, 1] > threshold, 1, 0)\n",
        "print(preds)\n",
        "print(len(preds))\n",
        "# Number of tweets predicted non-negative\n",
        "print(\"Number of tweets predicted rumour: \", preds.sum())\n",
        "\n",
        "final_list = [\"rumour\" if i == 1 else \"non-rumour\" for i in preds]\n",
        "\n",
        "Corpus_pred = Corpus_test\n",
        "Corpus_pred['label'] = final_list\n",
        "print(Corpus_pred.head())\n",
        "Corpus_pred.set_index('id',inplace=True)\n",
        "dictt = Corpus_pred.to_dict()['label']\n",
        "print(dictt)\n",
        "print(len(dictt))\n",
        "\n",
        "\n",
        "\n"
      ],
      "execution_count": 78,
      "outputs": [
        {
          "output_type": "stream",
          "text": [
            "19\n",
            "581 tensor([[-0.8618,  1.4527],\n",
            "        [-1.4758,  2.1241],\n",
            "        [-0.9063,  1.3650],\n",
            "        ...,\n",
            "        [-0.0937,  0.7326],\n",
            "        [ 1.2584, -2.4921],\n",
            "        [ 1.0571, -2.0318]])\n",
            "581 tensor([[0.0899, 0.9101],\n",
            "        [0.0266, 0.9734],\n",
            "        [0.0935, 0.9065],\n",
            "        ...,\n",
            "        [0.3044, 0.6956],\n",
            "        [0.9770, 0.0230],\n",
            "        [0.9564, 0.0436]])\n",
            "[1 1 1 0 0 1 1 1 0 0 0 1 0 0 0 0 0 0 1 1 0 1 0 0 1 1 1 0 0 0 0 0 0 0 0 0 0\n",
            " 0 0 0 0 0 0 1 0 0 0 0 0 1 0 1 1 0 1 1 1 0 0 1 0 1 0 0 0 0 0 0 0 0 0 1 0 0\n",
            " 1 0 1 0 0 0 1 0 0 1 0 1 0 0 0 1 0 0 1 0 1 0 0 0 1 1 1 1 0 1 1 0 0 0 0 0 0\n",
            " 1 1 1 1 0 0 0 0 0 1 1 0 0 0 0 0 0 1 0 1 1 1 1 0 1 0 0 0 0 0 0 1 1 0 0 1 0\n",
            " 1 1 1 0 0 0 1 0 0 1 0 1 0 1 0 0 0 0 1 0 1 0 0 1 0 0 0 0 0 0 0 0 0 0 1 0 1\n",
            " 1 1 0 0 0 0 0 0 1 0 0 1 0 0 1 0 0 1 0 0 0 1 0 0 0 0 1 0 1 0 0 0 1 1 1 1 0\n",
            " 0 1 0 0 0 0 0 0 1 0 1 1 0 1 0 0 0 1 1 0 1 0 1 0 0 1 0 0 1 1 0 0 0 1 0 0 0\n",
            " 0 1 1 0 0 1 0 0 0 1 0 0 0 1 0 1 0 0 0 1 0 0 1 1 1 1 0 1 1 0 0 0 0 0 0 0 1\n",
            " 0 1 0 0 0 0 1 1 1 0 1 0 0 0 1 1 0 1 1 0 1 0 0 0 1 0 0 0 0 0 0 0 0 1 1 0 0\n",
            " 1 0 0 1 1 0 1 1 1 0 0 0 1 1 1 0 1 1 0 1 0 0 0 1 0 0 0 1 1 0 1 1 0 0 0 1 0\n",
            " 0 1 0 0 0 0 0 0 1 0 0 0 0 0 0 0 0 1 1 0 0 0 1 0 1 0 1 0 0 0 1 0 0 0 1 1 1\n",
            " 0 0 1 0 0 0 1 1 1 0 0 0 0 0 0 1 0 1 0 1 0 0 1 0 0 0 0 0 0 0 1 0 1 0 1 0 1\n",
            " 1 0 0 1 0 0 0 0 1 0 0 1 1 0 1 0 0 0 0 0 0 1 1 1 0 0 0 0 0 0 0 0 0 1 0 1 0\n",
            " 1 1 1 0 0 0 1 1 1 1 0 1 1 0 0 1 0 1 0 0 0 0 1 0 0 0 1 0 0 0 0 1 1 0 1 0 1\n",
            " 0 0 1 1 1 1 0 1 0 1 0 1 0 0 0 0 0 1 1 1 0 0 0 0 1 0 0 1 0 1 0 0 0 1 0 0 0\n",
            " 1 1 1 0 1 0 1 1 1 1 0 1 1 0 0 0 0 0 1 0 1 0 0 1 0 0]\n",
            "581\n",
            "Number of tweets predicted rumour:  213\n",
            "                   id                                           sentence       label\n",
            "0  544382249178001408  5 people have been able to get out of Sydney c...      rumour\n",
            "0  525027317551079424  NEW: Sources: Deceased gunman who killed soldi...      rumour\n",
            "0  544273220128739329  ISIS FLAG VISIBLE AS GUNMAN SEIZES SYDNEY CAFE...      rumour\n",
            "0  499571799764770816  People of #Ferguson: Stop #attacking our brave...  non-rumour\n",
            "0  552844104418091008  #CharlieHebdo editor, assassinated today, said...  non-rumour\n",
            "{'544382249178001408': 'rumour', '525027317551079424': 'rumour', '544273220128739329': 'rumour', '499571799764770816': 'non-rumour', '552844104418091008': 'non-rumour', '524977651476623360': 'rumour', '544514988078280704': 'rumour', '524928863714168832': 'rumour', '544390718253699072': 'non-rumour', '580322349569994752': 'non-rumour', '544475905926524928': 'non-rumour', '544389986809036800': 'rumour', '498530293116968960': 'non-rumour', '498293625420148736': 'non-rumour', '552831230735962113': 'non-rumour', '553589469849583616': 'non-rumour', '544415816851021824': 'non-rumour', '552850116324130816': 'non-rumour', '544318036715782144': 'rumour', '524974318087061504': 'rumour', '553592195786506240': 'non-rumour', '524959778125385728': 'rumour', '553502311872733184': 'non-rumour', '499698366402789376': 'non-rumour', '525032872647065600': 'rumour', '553110609513177088': 'rumour', '544267656597995521': 'rumour', '552845393541988352': 'non-rumour', '500422971320963072': 'non-rumour', '553197197618339841': 'non-rumour', '500351760402493440': 'non-rumour', '553147341470203906': 'non-rumour', '524939821815721984': 'non-rumour', '544376469279875072': 'non-rumour', '544438309267578880': 'non-rumour', '544453205682556928': 'non-rumour', '552821573946982401': 'non-rumour', '552817675408523264': 'non-rumour', '544336432609775618': 'non-rumour', '552825473160736768': 'non-rumour', '544429350376861696': 'non-rumour', '552846544320618496': 'non-rumour', '524950203476869120': 'non-rumour', '500371231183745025': 'rumour', '500234390723915776': 'non-rumour', '544515971637968898': 'non-rumour', '544382795099799553': 'non-rumour', '553194557316542465': 'non-rumour', '552837644959621120': 'non-rumour', '553535829529100288': 'rumour', '544465862942797825': 'non-rumour', '581183387848859648': 'rumour', '544487579048222721': 'rumour', '499531968229683200': 'non-rumour', '498294764718915586': 'rumour', '500298315368390657': 'rumour', '544513510450155520': 'rumour', '580329219646988289': 'non-rumour', '500382853147164672': 'non-rumour', '544353502689251329': 'rumour', '552814137857036289': 'non-rumour', '524956415589621760': 'rumour', '553485654030446592': 'non-rumour', '552840606074953728': 'non-rumour', '552833527444566016': 'non-rumour', '499541439962185729': 'non-rumour', '552824885484224513': 'non-rumour', '499586890837016579': 'non-rumour', '552821810572439553': 'non-rumour', '544310222547087361': 'non-rumour', '552790565642067968': 'non-rumour', '553103772852191233': 'rumour', '500072455931588611': 'non-rumour', '580323877429112832': 'non-rumour', '524969501704855552': 'rumour', '524979702940045313': 'non-rumour', '499427218171248641': 'rumour', '524958409381384192': 'non-rumour', '552848590373392384': 'non-rumour', '524967510563889152': 'non-rumour', '580333904126742528': 'rumour', '544293021995393024': 'non-rumour', '553502446769942528': 'non-rumour', '544326461952241664': 'rumour', '553226143307161600': 'non-rumour', '524936793633083394': 'rumour', '552848704819183616': 'non-rumour', '499691593985957888': 'non-rumour', '499432169836531712': 'non-rumour', '580347360959717376': 'rumour', '544426421331169280': 'non-rumour', '553227441712668672': 'non-rumour', '544388658334146561': 'rumour', '552831761957523456': 'non-rumour', '544374018661687296': 'rumour', '500297243371798528': 'non-rumour', '553208762291339265': 'non-rumour', '500320286341099523': 'non-rumour', '552784526955806720': 'rumour', '552978099357237248': 'rumour', '500284494201757696': 'rumour', '525021083892994049': 'rumour', '499637476315910146': 'non-rumour', '524962199543230464': 'rumour', '499606771246567424': 'rumour', '552833795142209536': 'non-rumour', '552824126659104771': 'non-rumour', '544278985249550337': 'non-rumour', '553475269873643520': 'non-rumour', '525032458417610752': 'non-rumour', '499357077429817344': 'non-rumour', '498497371899449344': 'rumour', '525023858831523841': 'rumour', '544285245600989184': 'rumour', '500364250461003777': 'rumour', '553491517462315008': 'non-rumour', '552837499937378305': 'non-rumour', '553215658784456705': 'non-rumour', '553145236268916736': 'non-rumour', '499596695705894912': 'non-rumour', '544466920880492544': 'rumour', '500277382461530112': 'rumour', '553216874130206721': 'non-rumour', '552810032765497345': 'non-rumour', '544313370892324864': 'non-rumour', '500422447623966721': 'non-rumour', '544341194822520832': 'non-rumour', '552806056154644480': 'non-rumour', '500300813835988992': 'rumour', '544462918465503233': 'non-rumour', '552996335319007233': 'rumour', '500377192841609217': 'rumour', '553536603998945280': 'rumour', '544284455909998592': 'rumour', '524978196589334529': 'non-rumour', '544427938372792321': 'rumour', '552799640488517632': 'non-rumour', '552826150141960192': 'non-rumour', '500296369224310784': 'non-rumour', '553124783043649537': 'non-rumour', '499464258183114754': 'non-rumour', '553588704913416192': 'non-rumour', '581317224096387072': 'rumour', '580364973664309248': 'rumour', '499692788993511424': 'non-rumour', '544478625383608320': 'non-rumour', '553472225798795264': 'rumour', '553591049541914624': 'non-rumour', '524943012602716160': 'rumour', '544282355989753857': 'rumour', '525020733622464512': 'rumour', '553157857215262721': 'non-rumour', '544410050572582912': 'non-rumour', '544329393737170944': 'non-rumour', '525026715123601408': 'rumour', '552834732325879809': 'non-rumour', '552822314157768704': 'non-rumour', '552804839886184448': 'rumour', '544274544174071809': 'non-rumour', '553576010898497536': 'rumour', '544410900854091776': 'non-rumour', '580326762673901568': 'rumour', '552803792618799106': 'non-rumour', '552823427862908928': 'non-rumour', '553506985413713920': 'non-rumour', '500311883669585920': 'non-rumour', '544351885298130945': 'rumour', '544469609433563136': 'non-rumour', '500307001629745152': 'rumour', '524927288077746176': 'non-rumour', '552825211654246401': 'non-rumour', '544319905076903936': 'rumour', '524964630221705216': 'non-rumour', '553218599390040065': 'non-rumour', '544391412075069440': 'non-rumour', '499364002318020608': 'non-rumour', '500343812863311872': 'non-rumour', '553511279235964928': 'non-rumour', '552847959864274944': 'non-rumour', '553165824979386368': 'non-rumour', '499437429690888192': 'non-rumour', '500413012822745090': 'non-rumour', '580377478184755201': 'rumour', '500315536937324544': 'non-rumour', '525038096086499328': 'rumour', '580364656608428032': 'rumour', '580321156508577792': 'rumour', '524961055211286528': 'non-rumour', '580354367796166656': 'non-rumour', '544427255439425536': 'non-rumour', '553175336926449664': 'non-rumour', '553099479381848064': 'non-rumour', '524958498770395137': 'non-rumour', '544519635916169218': 'rumour', '499440386767859712': 'non-rumour', '553542282100871168': 'non-rumour', '553584782987497474': 'rumour', '552815122897727488': 'non-rumour', '553099050409807872': 'non-rumour', '553167429665587200': 'rumour', '525050193360613376': 'non-rumour', '500234112054341632': 'non-rumour', '500332042648055808': 'rumour', '500313811195158528': 'non-rumour', '553556643456507904': 'non-rumour', '553192366098898945': 'non-rumour', '524962748237889536': 'rumour', '524959090125320193': 'non-rumour', '498300256678076417': 'non-rumour', '553512076304728064': 'non-rumour', '544414686935285760': 'non-rumour', '500287538578587648': 'rumour', '498276354434277376': 'non-rumour', '524949073154301952': 'rumour', '525021050627973120': 'non-rumour', '524977830124617728': 'non-rumour', '544401106617786370': 'non-rumour', '552824705703763969': 'rumour', '524944006577668096': 'rumour', '581153923987206146': 'rumour', '500359125310922753': 'rumour', '544512078518968320': 'non-rumour', '553535765997969408': 'non-rumour', '580364138020507649': 'rumour', '553491005971132416': 'non-rumour', '553205115830951936': 'non-rumour', '552844643097120768': 'non-rumour', '544416937178976256': 'non-rumour', '500371149713178625': 'non-rumour', '500278978557804544': 'non-rumour', '553539631149756416': 'rumour', '552841049467400192': 'non-rumour', '553474514496278528': 'rumour', '553536887349325825': 'rumour', '552835339325558785': 'non-rumour', '544328894812549121': 'rumour', '553583867664535552': 'non-rumour', '544328059482939392': 'non-rumour', '524965242213007360': 'non-rumour', '524930671220105216': 'rumour', '544379366474403840': 'rumour', '553528503573184514': 'non-rumour', '524942952733220865': 'rumour', '499360762167848960': 'non-rumour', '544362279006113792': 'rumour', '499611069565112320': 'non-rumour', '553546292748898304': 'non-rumour', '553588106587545600': 'rumour', '499706791396392960': 'non-rumour', '553534934447824896': 'non-rumour', '544277516773380097': 'rumour', '500407038800056321': 'rumour', '552795953301045248': 'non-rumour', '552828400843620353': 'non-rumour', '498272364560257025': 'non-rumour', '544285712653500419': 'rumour', '553107688591089664': 'non-rumour', '552813160110252032': 'non-rumour', '499659628645720064': 'non-rumour', '544390550497947649': 'non-rumour', '524971492820647936': 'rumour', '580326222107951104': 'rumour', '553185404657352704': 'non-rumour', '553129811850559488': 'non-rumour', '544309177859203073': 'rumour', '524950455743291392': 'non-rumour', '524955388190662657': 'non-rumour', '500367267901632512': 'non-rumour', '500363126294863876': 'rumour', '552788555584765952': 'non-rumour', '553143519536500738': 'non-rumour', '552807328287064065': 'non-rumour', '498341675476217856': 'rumour', '552825257707335680': 'non-rumour', '524935633463037953': 'rumour', '544341406094213121': 'non-rumour', '544435176479027200': 'non-rumour', '552824320389435392': 'non-rumour', '580320745974288384': 'rumour', '498251940997136384': 'non-rumour', '553582206019723264': 'non-rumour', '553589372084162560': 'rumour', '580332189155459072': 'rumour', '544268637134393344': 'rumour', '544338731210399744': 'rumour', '553226059836297216': 'non-rumour', '553529796601585664': 'rumour', '524974975623892992': 'rumour', '553222727700865025': 'non-rumour', '499435341259223040': 'non-rumour', '553478677359775744': 'non-rumour', '498356729634390016': 'non-rumour', '553531783992868864': 'non-rumour', '499691638424608768': 'non-rumour', '552826580741795840': 'non-rumour', '544434192478519297': 'rumour', '553548404102414337': 'non-rumour', '524943886553468929': 'rumour', '580322026029654018': 'non-rumour', '499438052688023552': 'non-rumour', '499394946416529409': 'non-rumour', '499583349267382273': 'non-rumour', '524961721744900097': 'rumour', '581293685041557504': 'rumour', '553589657695715328': 'rumour', '524955083297931264': 'non-rumour', '552981833189969921': 'rumour', '553174338380517376': 'non-rumour', '552830966411321344': 'non-rumour', '553549680538578944': 'non-rumour', '524952094986350592': 'rumour', '500359356589019136': 'rumour', '498489114384420865': 'non-rumour', '552818988468944897': 'rumour', '544361776020586496': 'rumour', '553233130275221504': 'non-rumour', '580882417117958144': 'rumour', '544453251068743681': 'non-rumour', '499376069485821952': 'non-rumour', '524947036228317184': 'non-rumour', '525039002307424256': 'rumour', '499696137708658688': 'non-rumour', '544408991649251329': 'non-rumour', '553176929411825664': 'non-rumour', '544494652418949120': 'non-rumour', '524979881525137409': 'non-rumour', '553503546382249984': 'non-rumour', '553582801833185280': 'non-rumour', '553550030553243650': 'non-rumour', '524964457936863232': 'rumour', '580335545265627136': 'rumour', '500329800725442562': 'non-rumour', '553153190859141120': 'non-rumour', '544520042810200064': 'rumour', '499556227874304000': 'non-rumour', '552831978522021890': 'non-rumour', '553587329626292224': 'rumour', '544300674448887809': 'rumour', '552981008518500353': 'non-rumour', '580322927679279105': 'rumour', '544269749405097984': 'rumour', '500295333486657536': 'rumour', '499349294034743297': 'non-rumour', '553587352086384640': 'non-rumour', '544516478821613569': 'non-rumour', '544500883963518976': 'rumour', '544518803225604096': 'rumour', '524941504796962816': 'rumour', '552832584045330432': 'non-rumour', '500298847550472194': 'rumour', '544494058287423489': 'rumour', '525070811439579138': 'non-rumour', '544519140552507392': 'rumour', '525001708318240768': 'non-rumour', '552982124274647042': 'non-rumour', '544291966536523776': 'non-rumour', '544414430025371649': 'rumour', '500364914796802048': 'non-rumour', '544301961638457344': 'non-rumour', '500385585807499266': 'non-rumour', '499394221984714752': 'rumour', '580319651399385088': 'rumour', '544432661419155456': 'non-rumour', '580324721381740544': 'rumour', '544318880001560576': 'rumour', '553567184002502656': 'non-rumour', '553580499395174400': 'non-rumour', '500388703114895360': 'non-rumour', '498294367405477888': 'rumour', '525000220371734528': 'non-rumour', '553540824768991233': 'non-rumour', '580320995266936832': 'rumour', '553153740925304832': 'non-rumour', '498267196833808384': 'non-rumour', '544391790615605249': 'non-rumour', '552985855854661633': 'non-rumour', '552806890498191361': 'non-rumour', '552808242276229120': 'non-rumour', '524931830173421568': 'rumour', '524979179235069952': 'non-rumour', '500360632093646848': 'non-rumour', '500070699768496128': 'non-rumour', '544466903364673536': 'non-rumour', '500369097360953345': 'non-rumour', '500072334578159616': 'non-rumour', '525053517531062272': 'non-rumour', '553149163181838336': 'non-rumour', '544353552177455104': 'rumour', '544510827433558016': 'rumour', '499643185581142016': 'non-rumour', '552828658747187201': 'non-rumour', '544397240601563137': 'non-rumour', '524951585231994880': 'rumour', '499703651079045121': 'non-rumour', '544352727971954690': 'rumour', '552843136238899200': 'non-rumour', '580320242020290560': 'rumour', '500274697485824000': 'non-rumour', '500364003734867970': 'non-rumour', '552821030117711872': 'non-rumour', '580334563932549120': 'rumour', '553555848794877952': 'non-rumour', '500266967102914560': 'non-rumour', '552837027616804864': 'non-rumour', '500309381930844160': 'rumour', '500359983301939200': 'rumour', '544492984880754688': 'rumour', '499409455814287360': 'non-rumour', '499642374428307457': 'non-rumour', '524933380929245184': 'rumour', '553187959835725824': 'non-rumour', '552816883012239360': 'non-rumour', '499667557247614977': 'non-rumour', '524941124893700096': 'rumour', '544292129972170752': 'rumour', '544495359800930304': 'rumour', '552844436460560384': 'non-rumour', '499706705354448897': 'non-rumour', '499365436816105473': 'non-rumour', '552978586559188992': 'non-rumour', '544369574842347520': 'non-rumour', '553192641328734208': 'non-rumour', '524947149134774272': 'rumour', '552794995942772736': 'non-rumour', '553587511864598529': 'rumour', '552815443959091200': 'non-rumour', '580347361039413248': 'rumour', '524957974226550784': 'non-rumour', '544487291465392128': 'non-rumour', '524965775036387329': 'rumour', '500296080710705152': 'non-rumour', '553159773555023872': 'non-rumour', '553487579077550082': 'non-rumour', '498294775649665024': 'non-rumour', '524944610985263104': 'non-rumour', '553555389611274240': 'non-rumour', '544289941996326912': 'non-rumour', '524955243185176576': 'rumour', '544403765575839744': 'non-rumour', '544336537870434304': 'rumour', '524978999534317568': 'non-rumour', '544315472075042818': 'rumour', '500315532382707712': 'non-rumour', '525027651908800512': 'rumour', '544446828654366720': 'rumour', '552851772658561028': 'non-rumour', '524928195011698688': 'non-rumour', '553589285342175232': 'rumour', '544335202923737089': 'non-rumour', '552815293349650433': 'non-rumour', '553581958455123968': 'non-rumour', '525012689568161792': 'non-rumour', '553121732387946496': 'rumour', '552812623658762240': 'non-rumour', '544437798426509312': 'non-rumour', '553484760233017344': 'rumour', '553554585634496512': 'rumour', '552846565950627840': 'non-rumour', '525025329916948481': 'rumour', '553148339160907776': 'non-rumour', '499655603405725696': 'non-rumour', '500316260081889282': 'non-rumour', '553139058827096064': 'non-rumour', '553152208691539968': 'non-rumour', '525034332474601472': 'non-rumour', '498349598197702656': 'rumour', '525047104239333377': 'rumour', '553110339236409346': 'rumour', '552814410763603968': 'non-rumour', '552792253601947648': 'non-rumour', '552814770542628865': 'non-rumour', '580330362070540288': 'non-rumour', '580340423044018176': 'non-rumour', '500385877684539393': 'non-rumour', '499665704300191745': 'non-rumour', '499651830951841794': 'non-rumour', '544369653015801856': 'non-rumour', '581307361857392642': 'rumour', '499601956491374594': 'non-rumour', '524924034124107776': 'rumour', '580327960638521344': 'non-rumour', '525002243100401664': 'rumour', '525028171549523971': 'rumour', '499530130487017472': 'rumour', '498271531386953728': 'non-rumour', '580337440738713600': 'non-rumour', '544477048048082945': 'non-rumour', '524938162900967424': 'rumour', '524983366261936130': 'rumour', '544387669766451200': 'rumour', '524945676443340800': 'rumour', '580350403734310912': 'non-rumour', '553531343834202112': 'rumour', '500277477986828288': 'rumour', '552807101442322432': 'non-rumour', '499705915227271168': 'non-rumour', '544299439087550464': 'rumour', '553589860880375808': 'non-rumour', '524983146266505216': 'rumour', '552805175874686977': 'non-rumour', '553464709899616257': 'non-rumour', '553144712920834048': 'non-rumour', '500364921607974913': 'non-rumour', '525052223030845440': 'rumour', '544499449645768706': 'non-rumour', '500396427378298880': 'non-rumour', '544309283048144897': 'non-rumour', '500378522788315137': 'rumour', '500366417674268673': 'non-rumour', '553214358948683776': 'non-rumour', '552806937470201856': 'non-rumour', '553231516290269184': 'non-rumour', '499581876668227584': 'rumour', '544518337498058753': 'rumour', '552805069956329472': 'non-rumour', '524937330923417600': 'rumour', '525038296921960449': 'non-rumour', '553466230989144064': 'rumour', '544419162001383424': 'non-rumour', '524966596897685504': 'non-rumour', '580328708675887104': 'rumour', '524969878823137280': 'rumour', '553548567420628992': 'rumour', '524935769614331904': 'rumour', '499592320900431872': 'non-rumour', '544274934835707905': 'rumour', '552790598823186432': 'non-rumour', '553590835850514433': 'rumour', '552811438994378754': 'non-rumour', '544272134764122112': 'rumour', '552791332935434242': 'non-rumour', '499703127193305088': 'non-rumour', '553588494661337089': 'non-rumour', '499660656769921025': 'non-rumour', '553118384540643328': 'non-rumour', '500288349924782080': 'rumour', '544296985910861824': 'rumour', '544487535418687488': 'rumour', '544409400941625344': 'non-rumour', '553203041705664513': 'non-rumour', '499658267493019651': 'non-rumour', '499397804620386304': 'non-rumour', '524935246647926784': 'rumour', '553172769819852800': 'non-rumour', '498300128088694786': 'non-rumour', '544516940367413248': 'rumour', '525034457086959616': 'non-rumour', '524935085863481344': 'rumour', '553519997956669440': 'non-rumour', '580336069192843264': 'non-rumour', '553553331671408641': 'non-rumour', '544380899639689216': 'rumour', '524944788525973505': 'non-rumour', '581247335998431232': 'non-rumour', '544470398881259520': 'non-rumour', '580325043705667586': 'rumour', '500316380063748096': 'rumour', '525067386849091584': 'rumour', '580346858846822400': 'non-rumour', '553589606307090432': 'rumour', '553581669710831617': 'non-rumour', '525006356731166720': 'rumour', '553124268196642816': 'rumour', '552839416620658688': 'rumour', '553552825431883776': 'rumour', '553229948153262081': 'non-rumour', '544518415952539649': 'rumour', '544384394337611776': 'rumour', '524973811092193280': 'non-rumour', '544323450270392322': 'non-rumour', '544426670095368192': 'non-rumour', '553171877464920064': 'non-rumour', '552843285468020736': 'non-rumour', '553541988490825728': 'rumour', '553561169923829760': 'non-rumour', '525035552643751936': 'rumour', '553581227165642752': 'non-rumour', '552816302780579840': 'non-rumour', '580350000074457088': 'rumour', '498584409055174656': 'non-rumour', '524961070465945600': 'non-rumour'}\n",
            "581\n"
          ],
          "name": "stdout"
        }
      ]
    },
    {
      "cell_type": "code",
      "metadata": {
        "id": "lQEKHFpD1xlZ"
      },
      "source": [
        "with open(\"test.baseline_03_BERT_FT.json\", \"w\") as outfile: \n",
        "    json.dump(dictt, outfile)"
      ],
      "execution_count": 79,
      "outputs": []
    },
    {
      "cell_type": "markdown",
      "metadata": {
        "id": "-5jscIM8R4Gv"
      },
      "source": [
        "Accuracy on the CoLA benchmark is measured using the \"[Matthews correlation coefficient](https://scikit-learn.org/stable/modules/generated/sklearn.metrics.matthews_corrcoef.html)\" (MCC).\n",
        "\n",
        "We use MCC here because the classes are imbalanced:\n"
      ]
    },
    {
      "cell_type": "code",
      "metadata": {
        "id": "hWcy0X1hirdx",
        "colab": {
          "base_uri": "https://localhost:8080/",
          "height": 168
        },
        "outputId": "3a0eb9c2-1187-4d03-a740-08663df5edb8"
      },
      "source": [
        "# print('Positive samples: %d of %d (%.2f%%)' % (Corpus_dev.label.sum(), len(Corpus_dev.label), (Corpus_dev.label.sum() / len(Corpus_dev.label) * 100.0)))"
      ],
      "execution_count": 39,
      "outputs": [
        {
          "output_type": "error",
          "ename": "TypeError",
          "evalue": "ignored",
          "traceback": [
            "\u001b[0;31m---------------------------------------------------------------------------\u001b[0m",
            "\u001b[0;31mTypeError\u001b[0m                                 Traceback (most recent call last)",
            "\u001b[0;32m<ipython-input-39-391a5198cd30>\u001b[0m in \u001b[0;36m<module>\u001b[0;34m()\u001b[0m\n\u001b[0;32m----> 1\u001b[0;31m \u001b[0mprint\u001b[0m\u001b[0;34m(\u001b[0m\u001b[0;34m'Positive samples: %d of %d (%.2f%%)'\u001b[0m \u001b[0;34m%\u001b[0m \u001b[0;34m(\u001b[0m\u001b[0mCorpus_dev\u001b[0m\u001b[0;34m.\u001b[0m\u001b[0mlabel\u001b[0m\u001b[0;34m.\u001b[0m\u001b[0msum\u001b[0m\u001b[0;34m(\u001b[0m\u001b[0;34m)\u001b[0m\u001b[0;34m,\u001b[0m \u001b[0mlen\u001b[0m\u001b[0;34m(\u001b[0m\u001b[0mCorpus_dev\u001b[0m\u001b[0;34m.\u001b[0m\u001b[0mlabel\u001b[0m\u001b[0;34m)\u001b[0m\u001b[0;34m,\u001b[0m \u001b[0;34m(\u001b[0m\u001b[0mCorpus_dev\u001b[0m\u001b[0;34m.\u001b[0m\u001b[0mlabel\u001b[0m\u001b[0;34m.\u001b[0m\u001b[0msum\u001b[0m\u001b[0;34m(\u001b[0m\u001b[0;34m)\u001b[0m \u001b[0;34m/\u001b[0m \u001b[0mlen\u001b[0m\u001b[0;34m(\u001b[0m\u001b[0mCorpus_dev\u001b[0m\u001b[0;34m.\u001b[0m\u001b[0mlabel\u001b[0m\u001b[0;34m)\u001b[0m \u001b[0;34m*\u001b[0m \u001b[0;36m100.0\u001b[0m\u001b[0;34m)\u001b[0m\u001b[0;34m)\u001b[0m\u001b[0;34m)\u001b[0m\u001b[0;34m\u001b[0m\u001b[0;34m\u001b[0m\u001b[0m\n\u001b[0m",
            "\u001b[0;31mTypeError\u001b[0m: unsupported operand type(s) for /: 'str' and 'int'"
          ]
        }
      ]
    },
    {
      "cell_type": "code",
      "metadata": {
        "id": "cRaZQ4XC7kLs",
        "colab": {
          "base_uri": "https://localhost:8080/"
        },
        "outputId": "b5ebd1b4-c2c1-4656-8bf2-bb3e7ca7843f"
      },
      "source": [
        "from sklearn.metrics import matthews_corrcoef\n",
        "\n",
        "matthews_set = []\n",
        "\n",
        "# Evaluate each test batch using Matthew's correlation coefficient\n",
        "print('Calculating Matthews Corr. Coef. for each batch...')\n",
        "\n",
        "# For each input batch...\n",
        "for i in range(len(true_labels)):\n",
        "  \n",
        "  # The predictions for this batch are a 2-column ndarray (one column for \"0\" \n",
        "  # and one column for \"1\"). Pick the label with the highest value and turn this\n",
        "  # in to a list of 0s and 1s.\n",
        "  pred_labels_i = np.argmax(predictions[i], axis=1).flatten()\n",
        "  \n",
        "  # Calculate and store the coef for this batch.  \n",
        "  matthews = matthews_corrcoef(true_labels[i], pred_labels_i)                \n",
        "  matthews_set.append(matthews)"
      ],
      "execution_count": 40,
      "outputs": [
        {
          "output_type": "stream",
          "text": [
            "Calculating Matthews Corr. Coef. for each batch...\n"
          ],
          "name": "stdout"
        }
      ]
    },
    {
      "cell_type": "markdown",
      "metadata": {
        "id": "IUM0UA1qJaVB"
      },
      "source": [
        "The final score will be based on the entire test set, but let's take a look at the scores on the individual batches to get a sense of the variability in the metric between batches. \n",
        "\n",
        "Each batch has 32 sentences in it, except the last batch which has only (516 % 32) = 4 test sentences in it.\n"
      ]
    },
    {
      "cell_type": "code",
      "metadata": {
        "id": "pyfY1tqxU0t9",
        "colab": {
          "base_uri": "https://localhost:8080/",
          "height": 427
        },
        "outputId": "cd109b5e-152b-464a-83d8-9d160d68abc9"
      },
      "source": [
        "# Create a barplot showing the MCC score for each batch of test samples.\n",
        "ax = sns.barplot(x=list(range(len(matthews_set))), y=matthews_set, ci=None)\n",
        "\n",
        "plt.title('MCC Score per Batch')\n",
        "plt.ylabel('MCC Score (-1 to +1)')\n",
        "plt.xlabel('Batch #')\n",
        "\n",
        "plt.show()"
      ],
      "execution_count": 41,
      "outputs": [
        {
          "output_type": "display_data",
          "data": {
            "image/png": "[encoded data removed]",
            "text/plain": [
              "<Figure size 864x432 with 1 Axes>"
            ]
          },
          "metadata": {
            "tags": []
          }
        }
      ]
    },
    {
      "cell_type": "markdown",
      "metadata": {
        "id": "1YrjAPX2V-l4"
      },
      "source": [
        "Now we'll combine the results for all of the batches and calculate our final MCC score."
      ]
    },
    {
      "cell_type": "code",
      "metadata": {
        "id": "oCYZa1lQ8Jn8",
        "colab": {
          "base_uri": "https://localhost:8080/"
        },
        "outputId": "4623b131-1cac-4802-ad7d-ff0bd580a16e"
      },
      "source": [
        "# Combine the results across all batches. \n",
        "flat_predictions = np.concatenate(predictions, axis=0)\n",
        "\n",
        "# For each sample, pick the label (0 or 1) with the higher score.\n",
        "flat_predictions = np.argmax(flat_predictions, axis=1).flatten()\n",
        "\n",
        "# Combine the correct labels for each batch into a single list.\n",
        "flat_true_labels = np.concatenate(true_labels, axis=0)\n",
        "\n",
        "# Calculate the MCC\n",
        "mcc = matthews_corrcoef(flat_true_labels, flat_predictions)\n",
        "\n",
        "print('Total MCC: %.3f' % mcc)"
      ],
      "execution_count": 42,
      "outputs": [
        {
          "output_type": "stream",
          "text": [
            "Total MCC: 0.717\n"
          ],
          "name": "stdout"
        }
      ]
    },
    {
      "cell_type": "markdown",
      "metadata": {
        "id": "jXx0jPc4HUfZ"
      },
      "source": [
        "Cool! In about half an hour and without doing any hyperparameter tuning (adjusting the learning rate, epochs, batch size, ADAM properties, etc.) we are able to get a good score. \n",
        "\n",
        "> *Note: To maximize the score, we should remove the \"validation set\" (which we used to help determine how many epochs to train for) and train on the entire training set.*\n",
        "\n",
        "The library documents the expected accuracy for this benchmark [here](https://huggingface.co/transformers/examples.html#glue) as `49.23`.\n",
        "\n",
        "You can also look at the official leaderboard [here](https://gluebenchmark.com/leaderboard/submission/zlssuBTm5XRs0aSKbFYGVIVdvbj1/-LhijX9VVmvJcvzKymxy). \n",
        "\n",
        "Note that (due to the small dataset size?) the accuracy can vary significantly between runs.\n"
      ]
    },
    {
      "cell_type": "markdown",
      "metadata": {
        "id": "GfjYoa6WmkN6"
      },
      "source": [
        "# Conclusion"
      ]
    },
    {
      "cell_type": "markdown",
      "metadata": {
        "id": "xlQG7qgkmf4n"
      },
      "source": [
        "This post demonstrates that with a pre-trained BERT model you can quickly and effectively create a high quality model with minimal effort and training time using the pytorch interface, regardless of the specific NLP task you are interested in."
      ]
    },
    {
      "cell_type": "markdown",
      "metadata": {
        "id": "YUmsUOIv8EUO"
      },
      "source": [
        "# Appendix\n"
      ]
    },
    {
      "cell_type": "markdown",
      "metadata": {
        "id": "q2079Qyn8Mt8"
      },
      "source": [
        "## A1. Saving & Loading Fine-Tuned Model\n",
        "\n",
        "This first cell (taken from `run_glue.py` [here](https://github.com/huggingface/transformers/blob/35ff345fc9df9e777b27903f11fa213e4052595b/examples/run_glue.py#L495)) writes the model and tokenizer out to disk."
      ]
    },
    {
      "cell_type": "code",
      "metadata": {
        "id": "6ulTWaOr8QNY",
        "colab": {
          "base_uri": "https://localhost:8080/"
        },
        "outputId": "936f84bd-1054-4254-c572-fef04ab4ccb6"
      },
      "source": [
        "import os\n",
        "\n",
        "# Saving best-practices: if you use defaults names for the model, you can reload it using from_pretrained()\n",
        "\n",
        "output_dir = './model_save/'\n",
        "\n",
        "# Create output directory if needed\n",
        "if not os.path.exists(output_dir):\n",
        "    os.makedirs(output_dir)\n",
        "\n",
        "print(\"Saving model to %s\" % output_dir)\n",
        "\n",
        "# Save a trained model, configuration and tokenizer using `save_pretrained()`.\n",
        "# They can then be reloaded using `from_pretrained()`\n",
        "model_to_save = model.module if hasattr(model, 'module') else model  # Take care of distributed/parallel training\n",
        "model_to_save.save_pretrained(output_dir)\n",
        "tokenizer.save_pretrained(output_dir)\n",
        "\n",
        "# Good practice: save your training arguments together with the trained model\n",
        "# torch.save(args, os.path.join(output_dir, 'training_args.bin'))\n"
      ],
      "execution_count": 43,
      "outputs": [
        {
          "output_type": "stream",
          "text": [
            "Saving model to ./model_save/\n"
          ],
          "name": "stdout"
        },
        {
          "output_type": "execute_result",
          "data": {
            "text/plain": [
              "('./model_save/tokenizer_config.json',\n",
              " './model_save/special_tokens_map.json',\n",
              " './model_save/vocab.txt',\n",
              " './model_save/added_tokens.json')"
            ]
          },
          "metadata": {
            "tags": []
          },
          "execution_count": 43
        }
      ]
    },
    {
      "cell_type": "markdown",
      "metadata": {
        "id": "Z-tjHkR7lc1I"
      },
      "source": [
        "Let's check out the file sizes, out of curiosity."
      ]
    },
    {
      "cell_type": "code",
      "metadata": {
        "id": "mqMzI3VTCZo5",
        "colab": {
          "base_uri": "https://localhost:8080/"
        },
        "outputId": "307fc507-509f-414e-bfee-184962d536df"
      },
      "source": [
        "!ls -l --block-size=K ./model_save/"
      ],
      "execution_count": 44,
      "outputs": [
        {
          "output_type": "stream",
          "text": [
            "total 427988K\n",
            "-rw------- 1 root root      1K May  8 15:43 config.json\n",
            "-rw------- 1 root root 427759K May  8 15:43 pytorch_model.bin\n",
            "-rw------- 1 root root      1K May  8 15:43 special_tokens_map.json\n",
            "-rw------- 1 root root      1K May  8 15:43 tokenizer_config.json\n",
            "-rw------- 1 root root    227K May  8 15:43 vocab.txt\n"
          ],
          "name": "stdout"
        }
      ]
    },
    {
      "cell_type": "markdown",
      "metadata": {
        "id": "fr_bt2rFlgDn"
      },
      "source": [
        "The largest file is the model weights, at around 418 megabytes."
      ]
    },
    {
      "cell_type": "code",
      "metadata": {
        "id": "-WUFUIQ8Cu8D",
        "colab": {
          "base_uri": "https://localhost:8080/"
        },
        "outputId": "a67f96f1-c1a2-4cd1-9481-e51e9bcfc579"
      },
      "source": [
        "!ls -l --block-size=M ./model_save/pytorch_model.bin"
      ],
      "execution_count": 45,
      "outputs": [
        {
          "output_type": "stream",
          "text": [
            "-rw------- 1 root root 418M May  8 15:43 ./model_save/pytorch_model.bin\n"
          ],
          "name": "stdout"
        }
      ]
    },
    {
      "cell_type": "markdown",
      "metadata": {
        "id": "dzGKvOFAll_e"
      },
      "source": [
        "To save your model across Colab Notebook sessions, download it to your local machine, or ideally copy it to your Google Drive."
      ]
    },
    {
      "cell_type": "code",
      "metadata": {
        "id": "Trr-A-POC18_",
        "colab": {
          "base_uri": "https://localhost:8080/",
          "height": 132
        },
        "outputId": "a25ef3d0-57da-4cc7-ce4c-55d2f0a652ee"
      },
      "source": [
        "# Mount Google Drive to this Notebook instance.\n",
        "from google.colab import drive\n",
        "drive.mount('/content/drive')"
      ],
      "execution_count": 46,
      "outputs": [
        {
          "output_type": "error",
          "ename": "IndentationError",
          "evalue": "ignored",
          "traceback": [
            "\u001b[0;36m  File \u001b[0;32m\"<ipython-input-46-54350db54bed>\"\u001b[0;36m, line \u001b[0;32m3\u001b[0m\n\u001b[0;31m    drive.mount('/content/drive')\u001b[0m\n\u001b[0m    ^\u001b[0m\n\u001b[0;31mIndentationError\u001b[0m\u001b[0;31m:\u001b[0m unexpected indent\n"
          ]
        }
      ]
    },
    {
      "cell_type": "code",
      "metadata": {
        "id": "NxlZsafTC-V5"
      },
      "source": [
        "# Copy the model files to a directory in your Google Drive.\n",
        "!cp -r ./model_save/ \"./drive/Shared drives/ChrisMcCormick.AI/Blog Posts/BERT Fine-Tuning/\""
      ],
      "execution_count": null,
      "outputs": []
    },
    {
      "cell_type": "markdown",
      "metadata": {
        "id": "W0vstijw85SZ"
      },
      "source": [
        "The following functions will load the model back from disk."
      ]
    },
    {
      "cell_type": "code",
      "metadata": {
        "id": "nskPzUM084zL"
      },
      "source": [
        "# Load a trained model and vocabulary that you have fine-tuned\n",
        "model = model_class.from_pretrained(output_dir)\n",
        "tokenizer = tokenizer_class.from_pretrained(output_dir)\n",
        "\n",
        "# Copy the model to the GPU.\n",
        "model.to(device)"
      ],
      "execution_count": null,
      "outputs": []
    },
    {
      "cell_type": "markdown",
      "metadata": {
        "id": "NIWouvDrGVAi"
      },
      "source": [
        "## A.2. Weight Decay\n",
        "\n"
      ]
    },
    {
      "cell_type": "markdown",
      "metadata": {
        "id": "f123ZAlF1OyW"
      },
      "source": [
        "The huggingface example includes the following code block for enabling weight decay, but the default decay rate is \"0.0\", so I moved this to the appendix.\n",
        "\n",
        "This block essentially tells the optimizer to not apply weight decay to the bias terms (e.g., $ b $ in the equation $ y = Wx + b $ ). Weight decay is a form of regularization--after calculating the gradients, we multiply them by, e.g., 0.99."
      ]
    },
    {
      "cell_type": "code",
      "metadata": {
        "id": "QxSMw0FrptiL"
      },
      "source": [
        "# This code is taken from:\n",
        "# https://github.com/huggingface/transformers/blob/5bfcd0485ece086ebcbed2d008813037968a9e58/examples/run_glue.py#L102\n",
        "\n",
        "# Don't apply weight decay to any parameters whose names include these tokens.\n",
        "# (Here, the BERT doesn't have `gamma` or `beta` parameters, only `bias` terms)\n",
        "no_decay = ['bias', 'LayerNorm.weight']\n",
        "\n",
        "# Separate the `weight` parameters from the `bias` parameters. \n",
        "# - For the `weight` parameters, this specifies a 'weight_decay_rate' of 0.01. \n",
        "# - For the `bias` parameters, the 'weight_decay_rate' is 0.0. \n",
        "optimizer_grouped_parameters = [\n",
        "    # Filter for all parameters which *don't* include 'bias', 'gamma', 'beta'.\n",
        "    {'params': [p for n, p in param_optimizer if not any(nd in n for nd in no_decay)],\n",
        "     'weight_decay_rate': 0.1},\n",
        "    \n",
        "    # Filter for parameters which *do* include those.\n",
        "    {'params': [p for n, p in param_optimizer if any(nd in n for nd in no_decay)],\n",
        "     'weight_decay_rate': 0.0}\n",
        "]\n",
        "\n",
        "# Note - `optimizer_grouped_parameters` only includes the parameter values, not \n",
        "# the names."
      ],
      "execution_count": null,
      "outputs": []
    },
    {
      "cell_type": "markdown",
      "metadata": {
        "id": "IKzLS9ohzGVu"
      },
      "source": [
        "# Revision History"
      ]
    },
    {
      "cell_type": "markdown",
      "metadata": {
        "id": "SZqpiHEnGqYR"
      },
      "source": [
        "**Version 4** - *Feb 2nd, 2020* - (current)\n",
        "* Updated all calls to `model` (fine-tuning and evaluation) to use the [`SequenceClassifierOutput`](https://huggingface.co/transformers/main_classes/output.html#transformers.modeling_outputs.SequenceClassifierOutput) class.\n",
        "* Moved illustration images to Google Drive--Colab appears to no longer support images at external URLs.\n",
        "\n",
        "**Version 3** - *Mar 18th, 2020*\n",
        "* Simplified the tokenization and input formatting (for both training and test) by leveraging the `tokenizer.encode_plus` function. \n",
        "`encode_plus` handles padding *and* creates the attention masks for us.\n",
        "* Improved explanation of attention masks.\n",
        "* Switched to using `torch.utils.data.random_split` for creating the training-validation split.\n",
        "* Added a summary table of the training statistics (validation loss, time per epoch, etc.).\n",
        "* Added validation loss to the learning curve plot, so we can see if we're overfitting. \n",
        "    * Thank you to [Stas Bekman](https://ca.linkedin.com/in/stasbekman) for contributing this!\n",
        "* Displayed the per-batch MCC as a bar plot.\n",
        "\n",
        "**Version 2** - *Dec 20th, 2019* - [link](https://colab.research.google.com/drive/1Y4o3jh3ZH70tl6mCd76vz_IxX23biCPP)\n",
        "* huggingface renamed their library to `transformers`. \n",
        "* Updated the notebook to use the `transformers` library.\n",
        "\n",
        "**Version 1** - *July 22nd, 2019*\n",
        "* Initial version."
      ]
    },
    {
      "cell_type": "markdown",
      "metadata": {
        "id": "FL_NnDGxRpEI"
      },
      "source": [
        "## Further Work\n",
        "\n",
        "* It might make more sense to use the MCC score for “validation accuracy”, but I’ve left it out so as not to have to explain it earlier in the Notebook.\n",
        "* Seeding -- I’m not convinced that setting the seed values at the beginning of the training loop is actually creating reproducible results…\n",
        "* The MCC score seems to vary substantially across different runs. It would be interesting to run this example a number of times and show the variance.\n"
      ]
    }
  ]
}